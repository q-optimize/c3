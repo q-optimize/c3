{
 "cells": [
  {
   "cell_type": "markdown",
   "id": "5bea3050",
   "metadata": {},
   "source": [
    "# Model Learning on Dataset from a Simulated Experiment"
   ]
  },
  {
   "cell_type": "markdown",
   "id": "019b2f19",
   "metadata": {},
   "source": [
    "In this notebook, we will use a dataset from a simulated experiment, more specifically, the `Simulated_calibration.ipynb` example notebook and perform Model Learning on a simple 1 qubit model."
   ]
  },
  {
   "cell_type": "markdown",
   "id": "17cfa324",
   "metadata": {},
   "source": [
    "### Imports"
   ]
  },
  {
   "cell_type": "code",
   "execution_count": 1,
   "id": "213a962b",
   "metadata": {
    "execution": {
     "iopub.execute_input": "2021-06-30T06:29:16.689570Z",
     "iopub.status.busy": "2021-06-30T06:29:16.684069Z",
     "iopub.status.idle": "2021-06-30T06:29:24.343696Z",
     "shell.execute_reply": "2021-06-30T06:29:24.343985Z"
    }
   },
   "outputs": [],
   "source": [
    "import pickle\n",
    "from pprint import pprint\n",
    "import copy\n",
    "import numpy as np\n",
    "import os\n",
    "import ast\n",
    "import pandas as pd\n",
    "\n",
    "from c3.model import Model as Mdl\n",
    "from c3.c3objs import Quantity as Qty\n",
    "from c3.parametermap import ParameterMap as PMap\n",
    "from c3.experiment import Experiment as Exp\n",
    "from c3.generator.generator import Generator as Gnr\n",
    "import c3.signal.gates as gates\n",
    "import c3.libraries.chip as chip\n",
    "import c3.generator.devices as devices\n",
    "import c3.libraries.hamiltonians as hamiltonians\n",
    "import c3.signal.pulse as pulse\n",
    "import c3.libraries.envelopes as envelopes\n",
    "import c3.libraries.tasks as tasks\n",
    "from c3.optimizers.modellearning import ModelLearning\n",
    "from c3.optimizers.sensitivity import Sensitivity"
   ]
  },
  {
   "cell_type": "markdown",
   "id": "f9a0b13e",
   "metadata": {},
   "source": [
    "## The Dataset"
   ]
  },
  {
   "cell_type": "markdown",
   "id": "9cf9b477",
   "metadata": {},
   "source": [
    "We first take a look below at the dataset and its properties. To explore more details about how the dataset is generated, please refer to the `Simulated_calibration.ipynb` example notebook."
   ]
  },
  {
   "cell_type": "code",
   "execution_count": 2,
   "id": "82466603",
   "metadata": {
    "execution": {
     "iopub.execute_input": "2021-06-30T06:29:24.346337Z",
     "iopub.status.busy": "2021-06-30T06:29:24.346012Z",
     "iopub.status.idle": "2021-06-30T06:29:24.347420Z",
     "shell.execute_reply": "2021-06-30T06:29:24.347670Z"
    }
   },
   "outputs": [],
   "source": [
    "DATAFILE_PATH = \"data/small_dataset.pkl\""
   ]
  },
  {
   "cell_type": "code",
   "execution_count": 3,
   "id": "91d77816",
   "metadata": {
    "execution": {
     "iopub.execute_input": "2021-06-30T06:29:24.349797Z",
     "iopub.status.busy": "2021-06-30T06:29:24.349451Z",
     "iopub.status.idle": "2021-06-30T06:29:24.403393Z",
     "shell.execute_reply": "2021-06-30T06:29:24.403893Z"
    }
   },
   "outputs": [],
   "source": [
    "with open(DATAFILE_PATH, \"rb+\") as file:\n",
    "    data = pickle.load(file)"
   ]
  },
  {
   "cell_type": "code",
   "execution_count": 4,
   "id": "510af3db",
   "metadata": {
    "execution": {
     "iopub.execute_input": "2021-06-30T06:29:24.414664Z",
     "iopub.status.busy": "2021-06-30T06:29:24.414128Z",
     "iopub.status.idle": "2021-06-30T06:29:24.416895Z",
     "shell.execute_reply": "2021-06-30T06:29:24.417303Z"
    }
   },
   "outputs": [
    {
     "data": {
      "text/plain": [
       "dict_keys(['seqs_grouped_by_param_set', 'opt_map'])"
      ]
     },
     "execution_count": 4,
     "metadata": {},
     "output_type": "execute_result"
    }
   ],
   "source": [
    "data.keys()"
   ]
  },
  {
   "cell_type": "markdown",
   "id": "d023f8bc",
   "metadata": {},
   "source": [
    "Since this dataset was obtained from an ORBIT ([arXiv:1403.0035](https://arxiv.org/abs/1403.0035)) calibration experiment, we have the `opt_map` which will tell us about the gateset parameters being optimized."
   ]
  },
  {
   "cell_type": "code",
   "execution_count": 5,
   "id": "99b5a68c",
   "metadata": {
    "execution": {
     "iopub.execute_input": "2021-06-30T06:29:24.421146Z",
     "iopub.status.busy": "2021-06-30T06:29:24.420618Z",
     "iopub.status.idle": "2021-06-30T06:29:24.423293Z",
     "shell.execute_reply": "2021-06-30T06:29:24.423687Z"
    }
   },
   "outputs": [
    {
     "data": {
      "text/plain": [
       "[['rx90p[0]-d1-gauss-amp',\n",
       "  'ry90p[0]-d1-gauss-amp',\n",
       "  'rx90m[0]-d1-gauss-amp',\n",
       "  'ry90m[0]-d1-gauss-amp'],\n",
       " ['rx90p[0]-d1-gauss-delta',\n",
       "  'ry90p[0]-d1-gauss-delta',\n",
       "  'rx90m[0]-d1-gauss-delta',\n",
       "  'ry90m[0]-d1-gauss-delta'],\n",
       " ['rx90p[0]-d1-gauss-freq_offset',\n",
       "  'ry90p[0]-d1-gauss-freq_offset',\n",
       "  'rx90m[0]-d1-gauss-freq_offset',\n",
       "  'ry90m[0]-d1-gauss-freq_offset'],\n",
       " ['id[0]-d1-carrier-framechange']]"
      ]
     },
     "execution_count": 5,
     "metadata": {},
     "output_type": "execute_result"
    }
   ],
   "source": [
    "data[\"opt_map\"]"
   ]
  },
  {
   "cell_type": "markdown",
   "id": "dd6923c6",
   "metadata": {},
   "source": [
    "This `opt_map` implies the calibration experiment focussed on optimizing \n",
    "the amplitude, delta and frequency offset of the gaussian pulse, along \n",
    "with the framechange angle"
   ]
  },
  {
   "cell_type": "markdown",
   "id": "4421b86d",
   "metadata": {},
   "source": [
    "Now onto the actual measurement data from the experiment runs"
   ]
  },
  {
   "cell_type": "code",
   "execution_count": 6,
   "id": "0e007bbe",
   "metadata": {
    "execution": {
     "iopub.execute_input": "2021-06-30T06:29:24.426544Z",
     "iopub.status.busy": "2021-06-30T06:29:24.426091Z",
     "iopub.status.idle": "2021-06-30T06:29:24.428263Z",
     "shell.execute_reply": "2021-06-30T06:29:24.427861Z"
    }
   },
   "outputs": [],
   "source": [
    "seqs_data = data[\"seqs_grouped_by_param_set\"]"
   ]
  },
  {
   "cell_type": "markdown",
   "id": "86849ace",
   "metadata": {},
   "source": [
    "**How many experiment runs do we have?**"
   ]
  },
  {
   "cell_type": "code",
   "execution_count": 7,
   "id": "6fe6715c",
   "metadata": {
    "execution": {
     "iopub.execute_input": "2021-06-30T06:29:24.431169Z",
     "iopub.status.busy": "2021-06-30T06:29:24.430725Z",
     "iopub.status.idle": "2021-06-30T06:29:24.433094Z",
     "shell.execute_reply": "2021-06-30T06:29:24.433444Z"
    }
   },
   "outputs": [
    {
     "data": {
      "text/plain": [
       "41"
      ]
     },
     "execution_count": 7,
     "metadata": {},
     "output_type": "execute_result"
    }
   ],
   "source": [
    "len(seqs_data)"
   ]
  },
  {
   "cell_type": "markdown",
   "id": "2acdf376",
   "metadata": {},
   "source": [
    "**What does the data from each experiment look like?**\n",
    "\n",
    "We take a look at the first data point"
   ]
  },
  {
   "cell_type": "code",
   "execution_count": 8,
   "id": "45a3b9b0",
   "metadata": {
    "execution": {
     "iopub.execute_input": "2021-06-30T06:29:24.436247Z",
     "iopub.status.busy": "2021-06-30T06:29:24.435800Z",
     "iopub.status.idle": "2021-06-30T06:29:24.437588Z",
     "shell.execute_reply": "2021-06-30T06:29:24.437939Z"
    }
   },
   "outputs": [],
   "source": [
    "example_data_point = seqs_data[0]"
   ]
  },
  {
   "cell_type": "code",
   "execution_count": 9,
   "id": "8ee97785",
   "metadata": {
    "execution": {
     "iopub.execute_input": "2021-06-30T06:29:24.440859Z",
     "iopub.status.busy": "2021-06-30T06:29:24.440410Z",
     "iopub.status.idle": "2021-06-30T06:29:24.443139Z",
     "shell.execute_reply": "2021-06-30T06:29:24.442720Z"
    }
   },
   "outputs": [
    {
     "data": {
      "text/plain": [
       "dict_keys(['params', 'seqs', 'results', 'results_std', 'shots'])"
      ]
     },
     "execution_count": 9,
     "metadata": {},
     "output_type": "execute_result"
    }
   ],
   "source": [
    "example_data_point.keys()"
   ]
  },
  {
   "cell_type": "markdown",
   "id": "af899d42",
   "metadata": {},
   "source": [
    "These `keys` are useful in understanding the structure of the dataset. We look at them one by one."
   ]
  },
  {
   "cell_type": "code",
   "execution_count": 10,
   "id": "229e8dab",
   "metadata": {
    "execution": {
     "iopub.execute_input": "2021-06-30T06:29:24.447311Z",
     "iopub.status.busy": "2021-06-30T06:29:24.446850Z",
     "iopub.status.idle": "2021-06-30T06:29:24.450577Z",
     "shell.execute_reply": "2021-06-30T06:29:24.450890Z"
    }
   },
   "outputs": [
    {
     "data": {
      "text/plain": [
       "[450.000 mV, -1.000 , -50.500 MHz 2pi, 4.084 rad]"
      ]
     },
     "execution_count": 10,
     "metadata": {},
     "output_type": "execute_result"
    }
   ],
   "source": [
    "example_data_point[\"params\"]"
   ]
  },
  {
   "cell_type": "markdown",
   "id": "b9731367",
   "metadata": {},
   "source": [
    "These are the parameters for our parameterised gateset, for the first experiment run. They correspond to the optimization parameters we previously discussed. "
   ]
  },
  {
   "cell_type": "markdown",
   "id": "d2c8a453",
   "metadata": {},
   "source": [
    "The `seqs` key stores the sequence of gates that make up this ORBIT calibration experiment. Each ORBIT sequence consists of a set of gates, followed by a measurement operation. This is then repeated for some `n` number of shots (eg, `1000` in this case) and we only store the averaged result along with the standard deviation of these readout shots. Each experiment in turn consists of a number of these ORBIT sequences. The terms *sequence*, *set* and *experiment* are used somewhat loosely here, so we show below what these look like."
   ]
  },
  {
   "cell_type": "markdown",
   "id": "bdb8ea1e",
   "metadata": {},
   "source": [
    "**A single ORBIT sequence**"
   ]
  },
  {
   "cell_type": "code",
   "execution_count": 11,
   "id": "2d3a7265",
   "metadata": {
    "execution": {
     "iopub.execute_input": "2021-06-30T06:29:24.454002Z",
     "iopub.status.busy": "2021-06-30T06:29:24.453650Z",
     "iopub.status.idle": "2021-06-30T06:29:24.455626Z",
     "shell.execute_reply": "2021-06-30T06:29:24.455901Z"
    }
   },
   "outputs": [
    {
     "data": {
      "text/plain": [
       "['ry90p[0]',\n",
       " 'rx90p[0]',\n",
       " 'rx90p[0]',\n",
       " 'rx90m[0]',\n",
       " 'ry90p[0]',\n",
       " 'ry90p[0]',\n",
       " 'rx90p[0]',\n",
       " 'ry90p[0]',\n",
       " 'rx90p[0]',\n",
       " 'rx90p[0]',\n",
       " 'ry90p[0]',\n",
       " 'rx90m[0]',\n",
       " 'rx90p[0]',\n",
       " 'rx90p[0]',\n",
       " 'ry90p[0]',\n",
       " 'ry90p[0]',\n",
       " 'rx90p[0]',\n",
       " 'ry90p[0]',\n",
       " 'ry90m[0]',\n",
       " 'rx90p[0]',\n",
       " 'rx90p[0]',\n",
       " 'ry90m[0]',\n",
       " 'rx90p[0]',\n",
       " 'rx90p[0]',\n",
       " 'rx90p[0]',\n",
       " 'rx90p[0]']"
      ]
     },
     "execution_count": 11,
     "metadata": {},
     "output_type": "execute_result"
    }
   ],
   "source": [
    "example_data_point[\"seqs\"][0]"
   ]
  },
  {
   "cell_type": "markdown",
   "id": "194df3e9",
   "metadata": {},
   "source": [
    "**Total number of ORBIT sequences in an experiment**"
   ]
  },
  {
   "cell_type": "code",
   "execution_count": 12,
   "id": "d5cfef36",
   "metadata": {
    "execution": {
     "iopub.execute_input": "2021-06-30T06:29:24.458262Z",
     "iopub.status.busy": "2021-06-30T06:29:24.457903Z",
     "iopub.status.idle": "2021-06-30T06:29:24.459781Z",
     "shell.execute_reply": "2021-06-30T06:29:24.460029Z"
    }
   },
   "outputs": [
    {
     "data": {
      "text/plain": [
       "20"
      ]
     },
     "execution_count": 12,
     "metadata": {},
     "output_type": "execute_result"
    }
   ],
   "source": [
    "len(example_data_point[\"seqs\"])"
   ]
  },
  {
   "cell_type": "markdown",
   "id": "6b78defe",
   "metadata": {},
   "source": [
    "**Total number of Measurement results**"
   ]
  },
  {
   "cell_type": "code",
   "execution_count": 13,
   "id": "9f5081a8",
   "metadata": {
    "execution": {
     "iopub.execute_input": "2021-06-30T06:29:24.462194Z",
     "iopub.status.busy": "2021-06-30T06:29:24.461850Z",
     "iopub.status.idle": "2021-06-30T06:29:24.463711Z",
     "shell.execute_reply": "2021-06-30T06:29:24.463958Z"
    }
   },
   "outputs": [
    {
     "data": {
      "text/plain": [
       "20"
      ]
     },
     "execution_count": 13,
     "metadata": {},
     "output_type": "execute_result"
    }
   ],
   "source": [
    "len(example_data_point[\"results\"])"
   ]
  },
  {
   "cell_type": "markdown",
   "id": "95a50901",
   "metadata": {},
   "source": [
    "**The measurement results and the standard deviation look like this**"
   ]
  },
  {
   "cell_type": "code",
   "execution_count": 14,
   "id": "757e091a",
   "metadata": {
    "execution": {
     "iopub.execute_input": "2021-06-30T06:29:24.466251Z",
     "iopub.status.busy": "2021-06-30T06:29:24.465932Z",
     "iopub.status.idle": "2021-06-30T06:29:24.467336Z",
     "shell.execute_reply": "2021-06-30T06:29:24.467583Z"
    }
   },
   "outputs": [],
   "source": [
    "example_results = [\n",
    "    (example_data_point[\"results\"][i], example_data_point[\"results_std\"][i])\n",
    "    for i in range(len(example_data_point[\"results\"]))\n",
    "]"
   ]
  },
  {
   "cell_type": "code",
   "execution_count": 15,
   "id": "28f4717b",
   "metadata": {
    "execution": {
     "iopub.execute_input": "2021-06-30T06:29:24.470224Z",
     "iopub.status.busy": "2021-06-30T06:29:24.469909Z",
     "iopub.status.idle": "2021-06-30T06:29:24.473051Z",
     "shell.execute_reply": "2021-06-30T06:29:24.472782Z"
    }
   },
   "outputs": [
    {
     "name": "stdout",
     "output_type": "stream",
     "text": [
      "[([0.745], [0.013783141876945182]),\n",
      " ([0.213], [0.012947239087929134]),\n",
      " ([0.137], [0.0108734079294396]),\n",
      " ([0.224], [0.013184233007649706]),\n",
      " ([0.434], [0.015673034167001616]),\n",
      " ([0.105], [0.009694070352540258]),\n",
      " ([0.214], [0.012969348480166613]),\n",
      " ([0.112], [0.009972762907038352]),\n",
      " ([0.318], [0.014726710426975877]),\n",
      " ([0.122], [0.010349685985574633]),\n",
      " ([0.348], [0.015063067416698366]),\n",
      " ([0.122], [0.010349685985574633]),\n",
      " ([0.558], [0.01570464899321217]),\n",
      " ([0.186], [0.01230463327369004]),\n",
      " ([0.096], [0.009315793041926168]),\n",
      " ([0.368], [0.015250442616527561]),\n",
      " ([0.146], [0.011166198995181842]),\n",
      " ([0.121], [0.010313049985334118]),\n",
      " ([0.748], [0.013729384545565035]),\n",
      " ([0.692], [0.01459917805905524])]\n"
     ]
    }
   ],
   "source": [
    "pprint(example_results)"
   ]
  },
  {
   "cell_type": "markdown",
   "id": "6fd05bec",
   "metadata": {},
   "source": [
    "## The Model for Model Learning"
   ]
  },
  {
   "cell_type": "markdown",
   "id": "c5e301c6",
   "metadata": {},
   "source": [
    "An initial model needs to be provided, which we refine by fitting to our calibration data. We do this below. If you want to learn more about what the various components of the model mean, please refer back to the `two_qubits.ipynb` notebook or the documentation."
   ]
  },
  {
   "cell_type": "markdown",
   "id": "71010459",
   "metadata": {},
   "source": [
    "### Define Constants"
   ]
  },
  {
   "cell_type": "code",
   "execution_count": 16,
   "id": "21424f7d",
   "metadata": {
    "execution": {
     "iopub.execute_input": "2021-06-30T06:29:24.475726Z",
     "iopub.status.busy": "2021-06-30T06:29:24.475401Z",
     "iopub.status.idle": "2021-06-30T06:29:24.476822Z",
     "shell.execute_reply": "2021-06-30T06:29:24.477068Z"
    }
   },
   "outputs": [],
   "source": [
    "lindblad = False\n",
    "dressed = True\n",
    "qubit_lvls = 3\n",
    "freq = 5.001e9\n",
    "anhar = -210.001e6\n",
    "init_temp = 0\n",
    "qubit_temp = 0\n",
    "t_final = 7e-9  # Time for single qubit gates\n",
    "sim_res = 100e9\n",
    "awg_res = 2e9\n",
    "sideband = 50e6\n",
    "lo_freq = 5e9 + sideband"
   ]
  },
  {
   "cell_type": "markdown",
   "id": "6c6d17dc",
   "metadata": {},
   "source": [
    "### Model"
   ]
  },
  {
   "cell_type": "code",
   "execution_count": 17,
   "id": "dc7d57d0",
   "metadata": {
    "execution": {
     "iopub.execute_input": "2021-06-30T06:29:24.480926Z",
     "iopub.status.busy": "2021-06-30T06:29:24.480595Z",
     "iopub.status.idle": "2021-06-30T06:29:24.488368Z",
     "shell.execute_reply": "2021-06-30T06:29:24.488635Z"
    }
   },
   "outputs": [],
   "source": [
    "q1 = chip.Qubit(\n",
    "    name=\"Q1\",\n",
    "    desc=\"Qubit 1\",\n",
    "    freq=Qty(\n",
    "        value=freq,\n",
    "        min_val=4.995e9,\n",
    "        max_val=5.005e9,\n",
    "        unit=\"Hz 2pi\",\n",
    "    ),\n",
    "    anhar=Qty(\n",
    "        value=anhar,\n",
    "        min_val=-250e6,\n",
    "        max_val=-150e6,\n",
    "        unit=\"Hz 2pi\",\n",
    "    ),\n",
    "    hilbert_dim=qubit_lvls,\n",
    "    temp=Qty(value=qubit_temp, min_val=0.0, max_val=0.12, unit=\"K\"),\n",
    ")\n",
    "\n",
    "drive = chip.Drive(\n",
    "    name=\"d1\",\n",
    "    desc=\"Drive 1\",\n",
    "    comment=\"Drive line 1 on qubit 1\",\n",
    "    connected=[\"Q1\"],\n",
    "    hamiltonian_func=hamiltonians.x_drive,\n",
    ")\n",
    "phys_components = [q1]\n",
    "line_components = [drive]\n",
    "\n",
    "init_ground = tasks.InitialiseGround(\n",
    "    init_temp=Qty(value=init_temp, min_val=-0.001, max_val=0.22, unit=\"K\")\n",
    ")\n",
    "task_list = [init_ground]\n",
    "model = Mdl(phys_components, line_components, task_list)\n",
    "model.set_lindbladian(lindblad)\n",
    "model.set_dressed(dressed)"
   ]
  },
  {
   "cell_type": "markdown",
   "id": "ff98ba0b",
   "metadata": {},
   "source": [
    "### Generator"
   ]
  },
  {
   "cell_type": "code",
   "execution_count": 18,
   "id": "f336afd4",
   "metadata": {
    "execution": {
     "iopub.execute_input": "2021-06-30T06:29:24.492657Z",
     "iopub.status.busy": "2021-06-30T06:29:24.492317Z",
     "iopub.status.idle": "2021-06-30T06:29:24.494580Z",
     "shell.execute_reply": "2021-06-30T06:29:24.494836Z"
    }
   },
   "outputs": [],
   "source": [
    "generator = Gnr(\n",
    "    devices={\n",
    "        \"LO\": devices.LO(name=\"lo\", resolution=sim_res, outputs=1),\n",
    "        \"AWG\": devices.AWG(name=\"awg\", resolution=awg_res, outputs=1),\n",
    "        \"DigitalToAnalog\": devices.DigitalToAnalog(\n",
    "            name=\"dac\", resolution=sim_res, inputs=1, outputs=1\n",
    "        ),\n",
    "        \"Response\": devices.Response(\n",
    "            name=\"resp\",\n",
    "            rise_time=Qty(value=0.3e-9, min_val=0.05e-9, max_val=0.6e-9, unit=\"s\"),\n",
    "            resolution=sim_res,\n",
    "            inputs=1,\n",
    "            outputs=1,\n",
    "        ),\n",
    "        \"Mixer\": devices.Mixer(name=\"mixer\", inputs=2, outputs=1),\n",
    "        \"VoltsToHertz\": devices.VoltsToHertz(\n",
    "            name=\"v_to_hz\",\n",
    "            V_to_Hz=Qty(value=1e9, min_val=0.9e9, max_val=1.1e9, unit=\"Hz/V\"),\n",
    "            inputs=1,\n",
    "            outputs=1,\n",
    "        ),\n",
    "    },\n",
    "    chains={\n",
    "        \"d1\": [\"LO\", \"AWG\", \"DigitalToAnalog\", \"Response\", \"Mixer\", \"VoltsToHertz\"]\n",
    "    },\n",
    ")\n",
    "generator.devices[\"AWG\"].enable_drag_2()"
   ]
  },
  {
   "cell_type": "markdown",
   "id": "97c70b13",
   "metadata": {},
   "source": [
    "### Gateset"
   ]
  },
  {
   "cell_type": "code",
   "execution_count": 19,
   "id": "4443c05a",
   "metadata": {
    "execution": {
     "iopub.execute_input": "2021-06-30T06:29:24.501528Z",
     "iopub.status.busy": "2021-06-30T06:29:24.501168Z",
     "iopub.status.idle": "2021-06-30T06:29:24.511660Z",
     "shell.execute_reply": "2021-06-30T06:29:24.511908Z"
    }
   },
   "outputs": [],
   "source": [
    "gauss_params_single = {\n",
    "    \"amp\": Qty(value=0.45, min_val=0.4, max_val=0.6, unit=\"V\"),\n",
    "    \"t_final\": Qty(\n",
    "        value=t_final, min_val=0.5 * t_final, max_val=1.5 * t_final, unit=\"s\"\n",
    "    ),\n",
    "    \"sigma\": Qty(value=t_final / 4, min_val=t_final / 8, max_val=t_final / 2, unit=\"s\"),\n",
    "    \"xy_angle\": Qty(value=0.0, min_val=-0.5 * np.pi, max_val=2.5 * np.pi, unit=\"rad\"),\n",
    "    \"freq_offset\": Qty(\n",
    "        value=-sideband - 0.5e6,\n",
    "        min_val=-60 * 1e6,\n",
    "        max_val=-40 * 1e6,\n",
    "        unit=\"Hz 2pi\",\n",
    "    ),\n",
    "    \"delta\": Qty(value=-1, min_val=-5, max_val=3, unit=\"\"),\n",
    "}\n",
    "\n",
    "gauss_env_single = pulse.Envelope(\n",
    "    name=\"gauss\",\n",
    "    desc=\"Gaussian comp for single-qubit gates\",\n",
    "    params=gauss_params_single,\n",
    "    shape=envelopes.gaussian_nonorm,\n",
    ")\n",
    "nodrive_env = pulse.Envelope(\n",
    "    name=\"no_drive\",\n",
    "    params={\n",
    "        \"t_final\": Qty(\n",
    "            value=t_final, min_val=0.5 * t_final, max_val=1.5 * t_final, unit=\"s\"\n",
    "        )\n",
    "    },\n",
    "    shape=envelopes.no_drive,\n",
    ")\n",
    "carrier_parameters = {\n",
    "    \"freq\": Qty(\n",
    "        value=lo_freq,\n",
    "        min_val=4.5e9,\n",
    "        max_val=6e9,\n",
    "        unit=\"Hz 2pi\",\n",
    "    ),\n",
    "    \"framechange\": Qty(value=0.0, min_val=-np.pi, max_val=3 * np.pi, unit=\"rad\"),\n",
    "}\n",
    "carr = pulse.Carrier(\n",
    "    name=\"carrier\",\n",
    "    desc=\"Frequency of the local oscillator\",\n",
    "    params=carrier_parameters,\n",
    ")\n",
    "\n",
    "rx90p = gates.Instruction(\n",
    "    name=\"rx90p\", t_start=0.0, t_end=t_final, channels=[\"d1\"], targets=[0]\n",
    ")\n",
    "QId = gates.Instruction(\n",
    "    name=\"id\", t_start=0.0, t_end=t_final, channels=[\"d1\"], targets=[0]\n",
    ")\n",
    "\n",
    "rx90p.add_component(gauss_env_single, \"d1\")\n",
    "rx90p.add_component(carr, \"d1\")\n",
    "QId.add_component(nodrive_env, \"d1\")\n",
    "QId.add_component(copy.deepcopy(carr), \"d1\")\n",
    "QId.comps[\"d1\"][\"carrier\"].params[\"framechange\"].set_value(\n",
    "    (-sideband * t_final) % (2 * np.pi)\n",
    ")\n",
    "ry90p = copy.deepcopy(rx90p)\n",
    "ry90p.name = \"ry90p\"\n",
    "rx90m = copy.deepcopy(rx90p)\n",
    "rx90m.name = \"rx90m\"\n",
    "ry90m = copy.deepcopy(rx90p)\n",
    "ry90m.name = \"ry90m\"\n",
    "ry90p.comps[\"d1\"][\"gauss\"].params[\"xy_angle\"].set_value(0.5 * np.pi)\n",
    "rx90m.comps[\"d1\"][\"gauss\"].params[\"xy_angle\"].set_value(np.pi)\n",
    "ry90m.comps[\"d1\"][\"gauss\"].params[\"xy_angle\"].set_value(1.5 * np.pi)"
   ]
  },
  {
   "cell_type": "markdown",
   "id": "69e342d1",
   "metadata": {},
   "source": [
    "### Experiment"
   ]
  },
  {
   "cell_type": "code",
   "execution_count": 20,
   "id": "8d1770b4",
   "metadata": {
    "execution": {
     "iopub.execute_input": "2021-06-30T06:29:24.514280Z",
     "iopub.status.busy": "2021-06-30T06:29:24.513964Z",
     "iopub.status.idle": "2021-06-30T06:29:24.515429Z",
     "shell.execute_reply": "2021-06-30T06:29:24.515676Z"
    }
   },
   "outputs": [],
   "source": [
    "parameter_map = PMap(\n",
    "    instructions=[QId, rx90p, ry90p, rx90m, ry90m], model=model, generator=generator\n",
    ")\n",
    "\n",
    "exp = Exp(pmap=parameter_map)"
   ]
  },
  {
   "cell_type": "code",
   "execution_count": 21,
   "id": "0f1f677c",
   "metadata": {
    "execution": {
     "iopub.execute_input": "2021-06-30T06:29:24.517795Z",
     "iopub.status.busy": "2021-06-30T06:29:24.517477Z",
     "iopub.status.idle": "2021-06-30T06:29:24.518939Z",
     "shell.execute_reply": "2021-06-30T06:29:24.519217Z"
    }
   },
   "outputs": [],
   "source": [
    "exp_opt_map = [[('Q1', 'anhar')], [('Q1', 'freq')]]\n",
    "exp.pmap.set_opt_map(exp_opt_map)"
   ]
  },
  {
   "cell_type": "markdown",
   "id": "11e27c4c",
   "metadata": {},
   "source": [
    "## Optimizer "
   ]
  },
  {
   "cell_type": "code",
   "execution_count": 22,
   "id": "a04fd2c7",
   "metadata": {
    "execution": {
     "iopub.execute_input": "2021-06-30T06:29:24.522171Z",
     "iopub.status.busy": "2021-06-30T06:29:24.521841Z",
     "iopub.status.idle": "2021-06-30T06:29:24.523305Z",
     "shell.execute_reply": "2021-06-30T06:29:24.523566Z"
    }
   },
   "outputs": [],
   "source": [
    "datafiles = {\"orbit\": DATAFILE_PATH} # path to the dataset\n",
    "run_name = \"simple_model_learning\" # name of the optimization run\n",
    "dir_path = \"ml_logs\" # path to save the learning logs\n",
    "algorithm = \"cma_pre_lbfgs\" # algorithm for learning\n",
    "# this first does a grad-free CMA-ES and then a gradient based LBFGS\n",
    "options = {\n",
    "    \"cmaes\": {\n",
    "        \"popsize\": 12,\n",
    "        \"init_point\": \"True\",\n",
    "        \"stop_at_convergence\": 10,\n",
    "        \"ftarget\": 4,\n",
    "        \"spread\": 0.05,\n",
    "        \"stop_at_sigma\": 0.01,\n",
    "    },\n",
    "    \"lbfgs\": {\"maxfun\": 50, \"disp\": 0},\n",
    "} # options for the algorithms\n",
    "sampling = \"high_std\" # how data points are chosen from the total dataset\n",
    "batch_sizes = {\"orbit\": 2} # how many data points are chosen for learning\n",
    "state_labels = {\n",
    "    \"orbit\": [\n",
    "        [\n",
    "            1,\n",
    "        ],\n",
    "        [\n",
    "            2,\n",
    "        ],\n",
    "    ]\n",
    "} # the excited states of the qubit model, in this case it is 3-level"
   ]
  },
  {
   "cell_type": "code",
   "execution_count": 23,
   "id": "cd302375",
   "metadata": {
    "execution": {
     "iopub.execute_input": "2021-06-30T06:29:24.525945Z",
     "iopub.status.busy": "2021-06-30T06:29:24.525624Z",
     "iopub.status.idle": "2021-06-30T06:29:24.531653Z",
     "shell.execute_reply": "2021-06-30T06:29:24.531905Z"
    }
   },
   "outputs": [],
   "source": [
    "opt = ModelLearning(\n",
    "    datafiles=datafiles,\n",
    "    run_name=run_name,\n",
    "    dir_path=dir_path,\n",
    "    algorithm=algorithm,\n",
    "    options=options,\n",
    "    sampling=sampling,\n",
    "    batch_sizes=batch_sizes,\n",
    "    state_labels=state_labels,\n",
    "    pmap=exp.pmap,\n",
    ")\n",
    "\n",
    "opt.set_exp(exp)"
   ]
  },
  {
   "cell_type": "markdown",
   "id": "7ccfa138",
   "metadata": {},
   "source": [
    "## Model Learning"
   ]
  },
  {
   "cell_type": "markdown",
   "id": "e7aee5cd",
   "metadata": {},
   "source": [
    "We are now ready to learn from the data and improve our model"
   ]
  },
  {
   "cell_type": "code",
   "execution_count": 24,
   "id": "84128d1c",
   "metadata": {
    "execution": {
     "iopub.execute_input": "2021-06-30T06:29:24.534091Z",
     "iopub.status.busy": "2021-06-30T06:29:24.533766Z",
     "iopub.status.idle": "2021-06-30T06:33:52.900803Z",
     "shell.execute_reply": "2021-06-30T06:33:52.900453Z"
    }
   },
   "outputs": [
    {
     "name": "stdout",
     "output_type": "stream",
     "text": [
      "C3:STATUS:Saving as: /home/users/anurag/c3/examples/ml_logs/simple_model_learning/2021_07_05_T_20_54_20/model_learn.log\n",
      "(6_w,12)-aCMA-ES (mu_w=3.7,w_1=40%) in dimension 2 (seed=612179, Mon Jul  5 20:54:20 2021)\n",
      "C3:STATUS:Adding initial point to CMA sample.\n",
      "Iterat #Fevals   function value  axis ratio  sigma  min&max std  t[m:s]\n",
      "    1     12 4.164004887164173e+00 1.0e+00 3.58e-02  3e-02  3e-02 0:31.4\n",
      "    2     24 7.755614875548440e-01 1.2e+00 8.23e-02  6e-02  1e-01 0:59.9\n",
      "termination on ftarget=4\n",
      "final/bestever f-value = 7.755615e-01 7.755615e-01\n",
      "incumbent solution: [-0.21239501239356967, 0.13194018480232075]\n",
      "std deviation: [0.055629157071507125, 0.10351368602127436]\n",
      "C3:STATUS:Saving as: /home/users/anurag/c3/examples/ml_logs/simple_model_learning/2021_07_05_T_20_54_20/confirm.log\n"
     ]
    }
   ],
   "source": [
    "opt.run()"
   ]
  },
  {
   "cell_type": "markdown",
   "id": "515c7954",
   "metadata": {},
   "source": [
    "### Result of Model Learning"
   ]
  },
  {
   "cell_type": "code",
   "execution_count": 25,
   "id": "490cffd1",
   "metadata": {
    "execution": {
     "iopub.execute_input": "2021-06-30T06:33:52.903299Z",
     "iopub.status.busy": "2021-06-30T06:33:52.902952Z",
     "iopub.status.idle": "2021-06-30T06:33:52.904734Z",
     "shell.execute_reply": "2021-06-30T06:33:52.904981Z"
    }
   },
   "outputs": [
    {
     "data": {
      "text/plain": [
       "-0.031570491979296046"
      ]
     },
     "execution_count": 25,
     "metadata": {},
     "output_type": "execute_result"
    }
   ],
   "source": [
    "opt.current_best_goal"
   ]
  },
  {
   "cell_type": "code",
   "execution_count": 26,
   "id": "7ba610c1",
   "metadata": {
    "execution": {
     "iopub.execute_input": "2021-06-30T06:33:52.907388Z",
     "iopub.status.busy": "2021-06-30T06:33:52.907044Z",
     "iopub.status.idle": "2021-06-30T06:33:52.908879Z",
     "shell.execute_reply": "2021-06-30T06:33:52.909149Z"
    }
   },
   "outputs": [
    {
     "name": "stdout",
     "output_type": "stream",
     "text": [
      "Q1-anhar                              : -210.057 MHz 2pi \n",
      "Q1-freq                               : 5.000 GHz 2pi \n",
      "\n"
     ]
    }
   ],
   "source": [
    "print(opt.pmap.str_parameters(opt.pmap.opt_map))"
   ]
  },
  {
   "cell_type": "markdown",
   "id": "738d2429",
   "metadata": {},
   "source": [
    "## Visualisation & Analysis of Results"
   ]
  },
  {
   "cell_type": "markdown",
   "id": "0c7fad79",
   "metadata": {},
   "source": [
    "The Model Learning logs provide a useful way to visualise the learning process and also understand what's going wrong (or right). We now process these logs to read some data points and also plot some visualisations of the Model Learning process"
   ]
  },
  {
   "cell_type": "markdown",
   "id": "2c13ef43",
   "metadata": {},
   "source": [
    "### Open, Clean-up and Convert Logfiles"
   ]
  },
  {
   "cell_type": "code",
   "execution_count": 27,
   "id": "046c4a0e",
   "metadata": {},
   "outputs": [],
   "source": [
    "LOGDIR = opt.logdir"
   ]
  },
  {
   "cell_type": "code",
   "execution_count": 28,
   "id": "f2a2e284",
   "metadata": {},
   "outputs": [],
   "source": [
    "logfile = os.path.join(LOGDIR, \"model_learn.log\")\n",
    "with open(logfile, \"r\") as f:\n",
    "    log = f.readlines()"
   ]
  },
  {
   "cell_type": "code",
   "execution_count": 29,
   "id": "c68370b1",
   "metadata": {},
   "outputs": [
    {
     "name": "stdout",
     "output_type": "stream",
     "text": [
      "['Q1-anhar', 'Q1-freq']\n"
     ]
    }
   ],
   "source": [
    "params_names = [\n",
    "    item for sublist in (ast.literal_eval(log[3].strip(\"\\n\"))) for item in sublist\n",
    "]\n",
    "print(params_names)"
   ]
  },
  {
   "cell_type": "code",
   "execution_count": 30,
   "id": "15f7f01f",
   "metadata": {},
   "outputs": [],
   "source": [
    "data_list_dict = list()\n",
    "for line in log[9:]:\n",
    "    if line[0] == \"{\":\n",
    "        temp_dict = ast.literal_eval(line.strip(\"\\n\"))\n",
    "        for index, param_name in enumerate(params_names):\n",
    "            temp_dict[param_name] = temp_dict[\"params\"][index]\n",
    "        temp_dict.pop(\"params\")\n",
    "        data_list_dict.append(temp_dict)"
   ]
  },
  {
   "cell_type": "code",
   "execution_count": 31,
   "id": "652908e8",
   "metadata": {},
   "outputs": [],
   "source": [
    "data_df = pd.DataFrame(data_list_dict)"
   ]
  },
  {
   "cell_type": "markdown",
   "id": "14cd4fbc",
   "metadata": {},
   "source": [
    "### Summary of Logs"
   ]
  },
  {
   "cell_type": "code",
   "execution_count": 32,
   "id": "813a61d7",
   "metadata": {},
   "outputs": [
    {
     "data": {
      "text/html": [
       "<div>\n",
       "<style scoped>\n",
       "    .dataframe tbody tr th:only-of-type {\n",
       "        vertical-align: middle;\n",
       "    }\n",
       "\n",
       "    .dataframe tbody tr th {\n",
       "        vertical-align: top;\n",
       "    }\n",
       "\n",
       "    .dataframe thead th {\n",
       "        text-align: right;\n",
       "    }\n",
       "</style>\n",
       "<table border=\"1\" class=\"dataframe\">\n",
       "  <thead>\n",
       "    <tr style=\"text-align: right;\">\n",
       "      <th></th>\n",
       "      <th>goal</th>\n",
       "      <th>Q1-anhar</th>\n",
       "      <th>Q1-freq</th>\n",
       "    </tr>\n",
       "  </thead>\n",
       "  <tbody>\n",
       "    <tr>\n",
       "      <th>count</th>\n",
       "      <td>36.000000</td>\n",
       "      <td>3.600000e+01</td>\n",
       "      <td>3.600000e+01</td>\n",
       "    </tr>\n",
       "    <tr>\n",
       "      <th>mean</th>\n",
       "      <td>8.026921</td>\n",
       "      <td>-2.111530e+08</td>\n",
       "      <td>5.000682e+09</td>\n",
       "    </tr>\n",
       "    <tr>\n",
       "      <th>std</th>\n",
       "      <td>10.554515</td>\n",
       "      <td>6.527855e+06</td>\n",
       "      <td>7.446562e+05</td>\n",
       "    </tr>\n",
       "    <tr>\n",
       "      <th>min</th>\n",
       "      <td>-0.031570</td>\n",
       "      <td>-2.474351e+08</td>\n",
       "      <td>4.997129e+09</td>\n",
       "    </tr>\n",
       "    <tr>\n",
       "      <th>25%</th>\n",
       "      <td>0.775561</td>\n",
       "      <td>-2.106498e+08</td>\n",
       "      <td>5.000455e+09</td>\n",
       "    </tr>\n",
       "    <tr>\n",
       "      <th>50%</th>\n",
       "      <td>6.304322</td>\n",
       "      <td>-2.100716e+08</td>\n",
       "      <td>5.000908e+09</td>\n",
       "    </tr>\n",
       "    <tr>\n",
       "      <th>75%</th>\n",
       "      <td>10.716694</td>\n",
       "      <td>-2.095325e+08</td>\n",
       "      <td>5.001106e+09</td>\n",
       "    </tr>\n",
       "    <tr>\n",
       "      <th>max</th>\n",
       "      <td>61.088377</td>\n",
       "      <td>-2.040499e+08</td>\n",
       "      <td>5.001544e+09</td>\n",
       "    </tr>\n",
       "  </tbody>\n",
       "</table>\n",
       "</div>"
      ],
      "text/plain": [
       "            goal      Q1-anhar       Q1-freq\n",
       "count  36.000000  3.600000e+01  3.600000e+01\n",
       "mean    8.026921 -2.111530e+08  5.000682e+09\n",
       "std    10.554515  6.527855e+06  7.446562e+05\n",
       "min    -0.031570 -2.474351e+08  4.997129e+09\n",
       "25%     0.775561 -2.106498e+08  5.000455e+09\n",
       "50%     6.304322 -2.100716e+08  5.000908e+09\n",
       "75%    10.716694 -2.095325e+08  5.001106e+09\n",
       "max    61.088377 -2.040499e+08  5.001544e+09"
      ]
     },
     "execution_count": 32,
     "metadata": {},
     "output_type": "execute_result"
    }
   ],
   "source": [
    "data_df.describe()"
   ]
  },
  {
   "cell_type": "markdown",
   "id": "11ce7936",
   "metadata": {},
   "source": [
    "**Best Point**"
   ]
  },
  {
   "cell_type": "code",
   "execution_count": 33,
   "id": "9538b6a2",
   "metadata": {},
   "outputs": [],
   "source": [
    "best_point_file = os.path.join(LOGDIR, 'best_point_model_learn.log')"
   ]
  },
  {
   "cell_type": "code",
   "execution_count": 34,
   "id": "b1ece0ba",
   "metadata": {},
   "outputs": [
    {
     "name": "stdout",
     "output_type": "stream",
     "text": [
      "{'Q1-anhar': -210057285.86145476, 'Q1-freq': 5000081146.521889, 'goal': -0.031570491979296046}\n"
     ]
    }
   ],
   "source": [
    "with open(best_point_file, \"r\") as f:\n",
    "    best_point = f.read()\n",
    "    best_point_log_dict = ast.literal_eval(best_point)\n",
    "\n",
    "best_point_dict = dict(zip(params_names, best_point_log_dict[\"optim_status\"][\"params\"]))\n",
    "best_point_dict[\"goal\"] = best_point_log_dict[\"optim_status\"][\"goal\"]\n",
    "print(best_point_dict)"
   ]
  },
  {
   "cell_type": "markdown",
   "id": "0891a75d",
   "metadata": {},
   "source": [
    "### Plotting"
   ]
  },
  {
   "cell_type": "markdown",
   "id": "c4f0e7b2",
   "metadata": {},
   "source": [
    "We use `matplotlib` to produce the plots below. Please make sure you have the same installed in your python environment."
   ]
  },
  {
   "cell_type": "code",
   "execution_count": 35,
   "id": "d830b2b5",
   "metadata": {},
   "outputs": [],
   "source": [
    "!pip install -q matplotlib"
   ]
  },
  {
   "cell_type": "code",
   "execution_count": 36,
   "id": "dd160661",
   "metadata": {},
   "outputs": [],
   "source": [
    "from matplotlib.ticker import MaxNLocator\n",
    "from  matplotlib import rcParams\n",
    "from matplotlib import cycler\n",
    "import matplotlib as mpl\n",
    "import matplotlib.pyplot as plt "
   ]
  },
  {
   "cell_type": "code",
   "execution_count": 37,
   "id": "3f570687",
   "metadata": {},
   "outputs": [],
   "source": [
    "rcParams[\"axes.grid\"] = True\n",
    "rcParams[\"grid.linestyle\"] = \"--\"\n",
    "\n",
    "# enable usetex by setting it to True if LaTeX is installed\n",
    "rcParams[\"text.usetex\"] = False\n",
    "rcParams[\"font.size\"] = 16\n",
    "rcParams[\"font.family\"] = \"serif\""
   ]
  },
  {
   "cell_type": "markdown",
   "id": "120c1a64",
   "metadata": {},
   "source": [
    "**In the plots below, the blue line shows the progress of the parameter optimization while the black and the red lines indicate the converged and true value respectively**"
   ]
  },
  {
   "cell_type": "markdown",
   "id": "4edbd3c5",
   "metadata": {},
   "source": [
    "### Qubit Anharmonicity"
   ]
  },
  {
   "cell_type": "code",
   "execution_count": 38,
   "id": "2880e76e",
   "metadata": {},
   "outputs": [
    {
     "data": {
      "text/plain": [
       "[<matplotlib.lines.Line2D at 0x7f91ef9a4100>]"
      ]
     },
     "execution_count": 38,
     "metadata": {},
     "output_type": "execute_result"
    },
    {
     "data": {
      "image/png": "[encoded data removed]",
      "text/plain": [
       "<Figure size 864x576 with 1 Axes>"
      ]
     },
     "metadata": {
      "needs_background": "light"
     },
     "output_type": "display_data"
    }
   ],
   "source": [
    "plot_item = \"Q1-anhar\"\n",
    "true_value = -210e6\n",
    "\n",
    "fig = plt.figure(figsize=(12, 8))\n",
    "ax = fig.add_subplot(111)\n",
    "ax.set_xlabel(\"Iteration\")\n",
    "ax.set_ylabel(plot_item)\n",
    "ax.axhline(y=true_value, color=\"red\", linestyle=\"--\")\n",
    "ax.axhline(y=best_point_dict[plot_item], color=\"black\", linestyle=\"-.\")\n",
    "ax.plot(data_df[plot_item])"
   ]
  },
  {
   "cell_type": "markdown",
   "id": "99488cee",
   "metadata": {},
   "source": [
    "### Qubit Frequency"
   ]
  },
  {
   "cell_type": "code",
   "execution_count": 39,
   "id": "c8c50971",
   "metadata": {},
   "outputs": [
    {
     "data": {
      "text/plain": [
       "[<matplotlib.lines.Line2D at 0x7f91ef88b340>]"
      ]
     },
     "execution_count": 39,
     "metadata": {},
     "output_type": "execute_result"
    },
    {
     "data": {
      "image/png": "[encoded data removed]",
      "text/plain": [
       "<Figure size 864x576 with 1 Axes>"
      ]
     },
     "metadata": {
      "needs_background": "light"
     },
     "output_type": "display_data"
    }
   ],
   "source": [
    "plot_item = \"Q1-freq\"\n",
    "true_value = 5e9\n",
    "\n",
    "fig = plt.figure(figsize=(12, 8))\n",
    "ax = fig.add_subplot(111)\n",
    "ax.set_xlabel(\"Iteration\")\n",
    "ax.set_ylabel(plot_item)\n",
    "ax.axhline(y=true_value, color=\"red\", linestyle=\"--\")\n",
    "ax.axhline(y=best_point_dict[plot_item], color=\"black\", linestyle=\"-.\")\n",
    "ax.plot(data_df[plot_item])"
   ]
  },
  {
   "cell_type": "markdown",
   "id": "8de2b391",
   "metadata": {},
   "source": [
    "### Goal Function"
   ]
  },
  {
   "cell_type": "code",
   "execution_count": 40,
   "id": "0241a9f3",
   "metadata": {},
   "outputs": [
    {
     "data": {
      "text/plain": [
       "[<matplotlib.lines.Line2D at 0x7f91ef882250>]"
      ]
     },
     "execution_count": 40,
     "metadata": {},
     "output_type": "execute_result"
    },
    {
     "data": {
      "image/png": "[encoded data removed]",
      "text/plain": [
       "<Figure size 864x576 with 1 Axes>"
      ]
     },
     "metadata": {
      "needs_background": "light"
     },
     "output_type": "display_data"
    }
   ],
   "source": [
    "plot_item = \"goal\"\n",
    "\n",
    "fig = plt.figure(figsize=(12, 8))\n",
    "ax = fig.add_subplot(111)\n",
    "ax.set_xlabel(\"Iteration\")\n",
    "ax.axhline(y=best_point_dict[plot_item], color=\"black\", linestyle=\"-.\")\n",
    "ax.set_ylabel(plot_item)\n",
    "\n",
    "ax.plot(data_df[plot_item])"
   ]
  },
  {
   "cell_type": "markdown",
   "id": "14bcd662",
   "metadata": {},
   "source": [
    "# Sensitivity Analysis"
   ]
  },
  {
   "cell_type": "markdown",
   "id": "bede11aa",
   "metadata": {},
   "source": [
    "Another interesting study to understand if our dataset is indeed helpful in improving certain model parameters is to perform a Sensitivity Analysis. The purpose of this exercise is to scan the Model Parameters of interest (eg, qubit frequency or anharmonicity) across a range of values and notice a prominent dip in the Model Learning Goal Function around the best-fit values"
   ]
  },
  {
   "cell_type": "code",
   "execution_count": 41,
   "id": "772c0a9b",
   "metadata": {},
   "outputs": [],
   "source": [
    "run_name = \"Sensitivity\"\n",
    "dir_path = \"sensi_logs\"\n",
    "algorithm = \"sweep\"\n",
    "options = {\"points\": 20, \"init_point\": [-210e6, 5e9]}\n",
    "sweep_bounds = [\n",
    "    [-215e6, -205e6],\n",
    "    [4.9985e9, 5.0015e9],\n",
    "]"
   ]
  },
  {
   "cell_type": "code",
   "execution_count": 42,
   "id": "b6fda647",
   "metadata": {},
   "outputs": [],
   "source": [
    "sense_opt = Sensitivity(\n",
    "    datafiles=datafiles,\n",
    "    run_name=run_name,\n",
    "    dir_path=dir_path,\n",
    "    algorithm=algorithm,\n",
    "    options=options,\n",
    "    sampling=sampling,\n",
    "    batch_sizes=batch_sizes,\n",
    "    state_labels=state_labels,\n",
    "    pmap=exp.pmap,\n",
    "    sweep_bounds=sweep_bounds,\n",
    "    sweep_map=exp_opt_map,\n",
    ")\n",
    "\n",
    "sense_opt.set_exp(exp)"
   ]
  },
  {
   "cell_type": "code",
   "execution_count": 43,
   "id": "dd41e6df",
   "metadata": {},
   "outputs": [
    {
     "name": "stdout",
     "output_type": "stream",
     "text": [
      "C3:STATUS:Sweeping [['Q1-anhar']]: [-215000000.0, -205000000.0]\n",
      "C3:STATUS:Saving as: /home/users/anurag/c3/examples/sensi_logs/Sensitivity/2021_07_05_T_20_56_46/sensitivity.log\n",
      "C3:STATUS:Sweeping [['Q1-freq']]: [4998500000.0, 5001500000.0]\n",
      "C3:STATUS:Saving as: /home/users/anurag/c3/examples/sensi_logs/Sensitivity/2021_07_05_T_20_57_38/sensitivity.log\n"
     ]
    }
   ],
   "source": [
    "sense_opt.run()"
   ]
  },
  {
   "cell_type": "markdown",
   "id": "bc381eb3",
   "metadata": {},
   "source": [
    "## Anharmonicity"
   ]
  },
  {
   "cell_type": "code",
   "execution_count": 44,
   "id": "ba556d1a",
   "metadata": {},
   "outputs": [],
   "source": [
    "LOGDIR = sense_opt.logdir_list[0]"
   ]
  },
  {
   "cell_type": "code",
   "execution_count": 45,
   "id": "65a92f5a",
   "metadata": {},
   "outputs": [],
   "source": [
    "logfile = os.path.join(LOGDIR, \"sensitivity.log\")\n",
    "with open(logfile, \"r\") as f:\n",
    "    log = f.readlines()"
   ]
  },
  {
   "cell_type": "code",
   "execution_count": 46,
   "id": "c40e969a",
   "metadata": {},
   "outputs": [],
   "source": [
    "data_list_dict = list()\n",
    "for line in log[9:]:\n",
    "    if line[0] == \"{\":\n",
    "        temp_dict = ast.literal_eval(line.strip(\"\\n\"))\n",
    "        param = temp_dict[\"params\"][0]\n",
    "        data_list_dict.append({\"param\": param, \"goal\": temp_dict[\"goal\"]})"
   ]
  },
  {
   "cell_type": "code",
   "execution_count": 47,
   "id": "dea53bc5",
   "metadata": {},
   "outputs": [],
   "source": [
    "data_df = pd.DataFrame(data_list_dict)"
   ]
  },
  {
   "cell_type": "code",
   "execution_count": 48,
   "id": "42e4f5eb",
   "metadata": {
    "scrolled": true
   },
   "outputs": [
    {
     "data": {
      "text/plain": [
       "<matplotlib.collections.PathCollection at 0x7f917a341d30>"
      ]
     },
     "execution_count": 48,
     "metadata": {},
     "output_type": "execute_result"
    },
    {
     "data": {
      "image/png": "[encoded data removed]",
      "text/plain": [
       "<Figure size 864x576 with 1 Axes>"
      ]
     },
     "metadata": {
      "needs_background": "light"
     },
     "output_type": "display_data"
    }
   ],
   "source": [
    "fig = plt.figure(figsize=(12, 8))\n",
    "ax = fig.add_subplot(111)\n",
    "ax.set_xlabel(\"Q1-Anharmonicity [Hz]\")\n",
    "ax.set_ylabel(\"Goal Function\")\n",
    "ax.axvline(x=best_point_dict[\"Q1-anhar\"], color=\"black\", linestyle=\"-.\")\n",
    "ax.scatter(data_df[\"param\"], data_df[\"goal\"])"
   ]
  },
  {
   "cell_type": "markdown",
   "id": "a1517074",
   "metadata": {},
   "source": [
    "## Frequency"
   ]
  },
  {
   "cell_type": "code",
   "execution_count": 49,
   "id": "d067e561",
   "metadata": {},
   "outputs": [],
   "source": [
    "LOGDIR = sense_opt.logdir_list[1]"
   ]
  },
  {
   "cell_type": "code",
   "execution_count": 50,
   "id": "a32f36f9",
   "metadata": {},
   "outputs": [],
   "source": [
    "logfile = os.path.join(LOGDIR, \"sensitivity.log\")\n",
    "with open(logfile, \"r\") as f:\n",
    "    log = f.readlines()"
   ]
  },
  {
   "cell_type": "code",
   "execution_count": 51,
   "id": "0461adb3",
   "metadata": {},
   "outputs": [],
   "source": [
    "data_list_dict = list()\n",
    "for line in log[9:]:\n",
    "    if line[0] == \"{\":\n",
    "        temp_dict = ast.literal_eval(line.strip(\"\\n\"))\n",
    "        param = temp_dict[\"params\"][0]\n",
    "        data_list_dict.append({\"param\": param, \"goal\": temp_dict[\"goal\"]})"
   ]
  },
  {
   "cell_type": "code",
   "execution_count": 52,
   "id": "9d1eb7fb",
   "metadata": {},
   "outputs": [],
   "source": [
    "data_df = pd.DataFrame(data_list_dict)"
   ]
  },
  {
   "cell_type": "code",
   "execution_count": 53,
   "id": "d470a4f1",
   "metadata": {},
   "outputs": [
    {
     "data": {
      "text/plain": [
       "<matplotlib.collections.PathCollection at 0x7f917a203370>"
      ]
     },
     "execution_count": 53,
     "metadata": {},
     "output_type": "execute_result"
    },
    {
     "data": {
      "image/png": "[encoded data removed]",
      "text/plain": [
       "<Figure size 864x576 with 1 Axes>"
      ]
     },
     "metadata": {
      "needs_background": "light"
     },
     "output_type": "display_data"
    }
   ],
   "source": [
    "fig = plt.figure(figsize=(12, 8))\n",
    "ax = fig.add_subplot(111)\n",
    "ax.set_xlabel(\"Q1-Frequency [Hz]\")\n",
    "ax.set_ylabel(\"Goal Function\")\n",
    "ax.axvline(x=best_point_dict[\"Q1-freq\"], color=\"black\", linestyle=\"-.\")\n",
    "ax.scatter(data_df[\"param\"], data_df[\"goal\"])"
   ]
  }
 ],
 "metadata": {
  "interpreter": {
   "hash": "d5cf14e4d9ab1ea025aa471aed46f344d1515a88cee97f484fbdd896922a10bf"
  },
  "kernelspec": {
   "display_name": "Python 3",
   "language": "python",
   "name": "python3"
  },
  "language_info": {
   "codemirror_mode": {
    "name": "ipython",
    "version": 3
   },
   "file_extension": ".py",
   "mimetype": "text/x-python",
   "name": "python",
   "nbconvert_exporter": "python",
   "pygments_lexer": "ipython3",
   "version": "3.8.8"
  }
 },
 "nbformat": 4,
 "nbformat_minor": 5
}
