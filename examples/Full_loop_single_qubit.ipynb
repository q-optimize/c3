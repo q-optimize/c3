{
 "cells": [
  {
   "cell_type": "markdown",
   "metadata": {},
   "source": [
    "# Complete $C^3$ Loop for a Single Superconducting Qubit"
   ]
  },
  {
   "cell_type": "markdown",
   "metadata": {},
   "source": [
    "This notebook demonstrates the key functionalities of the `c3-toolset` package as a 3-step closed loop device bring up process, outlined below:\n",
    "\n",
    "- [Model-based Open Loop Optimal Control](#Optimal-Control)\n",
    "- [Model-free Closed Loop Hardware Calibration](#Simulated-calibration)\n",
    "- [ML-based Characterization & System Identification](#Model-Learning-on-Dataset-from-a-Simulated-Experiment)"
   ]
  },
  {
   "cell_type": "code",
   "execution_count": 1,
   "metadata": {},
   "outputs": [],
   "source": [
    "import copy\n",
    "from pprint import pprint\n",
    "import numpy as np\n",
    "import tensorflow as tf\n",
    "from c3.model import Model\n",
    "from c3.c3objs import Quantity\n",
    "from c3.parametermap import ParameterMap\n",
    "from c3.experiment import Experiment\n",
    "from c3.generator.generator import Generator\n",
    "from c3.signal import gates, pulse\n",
    "from c3.generator import devices\n",
    "from c3.libraries import chip, hamiltonians, envelopes"
   ]
  },
  {
   "cell_type": "code",
   "execution_count": 2,
   "metadata": {},
   "outputs": [],
   "source": [
    "tf.random.set_seed(2441139)\n",
    "np.random.seed(2441139)"
   ]
  },
  {
   "cell_type": "markdown",
   "metadata": {},
   "source": [
    "# Optimal Control\n",
    "First, we setup some general parameters for the simulation. We'll simulate a single, three-level Transmon with frequency 5 GHz and anharmonicity -210 MHz. For signal generation, we employ an arbitrary waveform generator with 2 Gigasamples/s (or one pixel per 0.5 ns) which generates an envelope signal that is mixed with a local oscillator shifted 50 Mhz from the qubit resonance. The dynamics simultion will run at 100 Gigasamples/s. The gate time will be 7 ns. "
   ]
  },
  {
   "cell_type": "code",
   "execution_count": 3,
   "metadata": {},
   "outputs": [],
   "source": [
    "dressed = True\n",
    "qubit_lvls = 3\n",
    "freq = 5e9\n",
    "anhar = -210e6\n",
    "qubit_temp = 0\n",
    "init_temp = 0\n",
    "t_final = 7e-9  # Time for single qubit gates\n",
    "sim_res = 100e9\n",
    "awg_res = 2e9\n",
    "sideband = 50e6\n",
    "lo_freq = 5e9 + sideband"
   ]
  },
  {
   "cell_type": "markdown",
   "metadata": {},
   "source": [
    "We create the Qubit and Drive objects, indicating the drive to act on the qubit and collect them in the Model."
   ]
  },
  {
   "cell_type": "code",
   "execution_count": 4,
   "metadata": {},
   "outputs": [],
   "source": [
    "# ### MAKE MODEL\n",
    "q1 = chip.Qubit(\n",
    "    name=\"Q1\",\n",
    "    desc=\"Qubit 1\",\n",
    "    freq=Quantity(\n",
    "        value=freq,\n",
    "        min_val=4.995e9,\n",
    "        max_val=5.005e9,\n",
    "        unit=\"Hz 2pi\",\n",
    "    ),\n",
    "    anhar=Quantity(\n",
    "        value=anhar,\n",
    "        min_val=-380e6,\n",
    "        max_val=-120e6,\n",
    "        unit=\"Hz 2pi\",\n",
    "    ),\n",
    "    hilbert_dim=qubit_lvls,\n",
    "    temp=Quantity(value=qubit_temp, min_val=0.0, max_val=0.12, unit=\"K\"),\n",
    ")\n",
    "\n",
    "drive = chip.Drive(\n",
    "    name=\"d1\",\n",
    "    desc=\"Drive 1\",\n",
    "    comment=\"Drive line 1 on qubit 1\",\n",
    "    connected=[\"Q1\"],\n",
    "    hamiltonian_func=hamiltonians.x_drive,\n",
    ")\n",
    "phys_components = [q1]\n",
    "line_components = [drive]\n",
    "\n",
    "model = Model(phys_components, line_components)\n",
    "model.set_dressed(dressed)"
   ]
  },
  {
   "cell_type": "markdown",
   "metadata": {},
   "source": [
    "Signal processing is emulated by specifying the classical electronics devices and arranging them in a signal chain."
   ]
  },
  {
   "cell_type": "code",
   "execution_count": 5,
   "metadata": {},
   "outputs": [],
   "source": [
    "generator = Generator(\n",
    "    devices={\n",
    "        \"LO\": devices.LO(name=\"lo\", resolution=sim_res, outputs=1),\n",
    "        \"AWG\": devices.AWG(name=\"awg\", resolution=awg_res, outputs=1),\n",
    "        \"DigitalToAnalog\": devices.DigitalToAnalog(\n",
    "            name=\"dac\", resolution=sim_res, inputs=1, outputs=1\n",
    "        ),\n",
    "        \"Mixer\": devices.Mixer(name=\"mixer\", inputs=2, outputs=1),\n",
    "        \"VoltsToHertz\": devices.VoltsToHertz(\n",
    "            name=\"v_to_hz\",\n",
    "            V_to_Hz=Quantity(value=1e9, min_val=0.9e9, max_val=1.1e9, unit=\"Hz/V\"),\n",
    "            inputs=1,\n",
    "            outputs=1,\n",
    "        ),\n",
    "    },\n",
    "    chains={\n",
    "        \"d1\": {\n",
    "            \"LO\": [],\n",
    "            \"AWG\": [],\n",
    "            \"DigitalToAnalog\": [\"AWG\"],\n",
    "            \"Mixer\": [\"LO\", \"DigitalToAnalog\"],\n",
    "            \"VoltsToHertz\": [\"Mixer\"],\n",
    "        }\n",
    "    },\n",
    ")"
   ]
  },
  {
   "cell_type": "markdown",
   "metadata": {},
   "source": [
    "Lastly, we specify the pulse parametrization and construct the gate-set, consisting of four rotations around the x and y axis of the Bloch sphere by 90 degrees in positive and negative directions."
   ]
  },
  {
   "cell_type": "code",
   "execution_count": 6,
   "metadata": {},
   "outputs": [],
   "source": [
    "gauss_params_single = {\n",
    "    \"amp\": Quantity(value=0.45, min_val=0.35, max_val=0.5, unit=\"V\"),\n",
    "    \"t_final\": Quantity(\n",
    "        value=t_final, min_val=0.5 * t_final, max_val=1.5 * t_final, unit=\"s\"\n",
    "    ),\n",
    "    \"sigma\": Quantity(\n",
    "        value=t_final / 4, min_val=t_final / 8, max_val=t_final / 2, unit=\"s\"\n",
    "    ),\n",
    "    \"xy_angle\": Quantity(\n",
    "        value=0.0, min_val=-0.5 * np.pi, max_val=2.5 * np.pi, unit=\"rad\"\n",
    "    ),\n",
    "    \"freq_offset\": Quantity(\n",
    "        value=-sideband - 0.5e6,\n",
    "        min_val=-60 * 1e6,\n",
    "        max_val=-40 * 1e6,\n",
    "        unit=\"Hz 2pi\",\n",
    "    ),\n",
    "    \"delta\": Quantity(value=-1, min_val=-5, max_val=3, unit=\"\"),\n",
    "}\n",
    "\n",
    "gauss_env_single = pulse.EnvelopeDrag(\n",
    "    name=\"gauss\",\n",
    "    desc=\"Gaussian comp for single-qubit gates\",\n",
    "    params=gauss_params_single,\n",
    "    shape=envelopes.gaussian_nonorm,\n",
    ")\n",
    "nodrive_env = pulse.Envelope(\n",
    "    name=\"no_drive\",\n",
    "    params={\n",
    "        \"t_final\": Quantity(\n",
    "            value=t_final, min_val=0.5 * t_final, max_val=1.5 * t_final, unit=\"s\"\n",
    "        )\n",
    "    },\n",
    "    shape=envelopes.no_drive,\n",
    ")\n",
    "carrier_parameters = {\n",
    "    \"freq\": Quantity(\n",
    "        value=lo_freq,\n",
    "        min_val=4.5e9,\n",
    "        max_val=6e9,\n",
    "        unit=\"Hz 2pi\",\n",
    "    ),\n",
    "    \"framechange\": Quantity(value=0.0, min_val=-np.pi, max_val=3 * np.pi, unit=\"rad\"),\n",
    "}\n",
    "carr = pulse.Carrier(\n",
    "    name=\"carrier\",\n",
    "    desc=\"Frequency of the local oscillator\",\n",
    "    params=carrier_parameters,\n",
    ")\n",
    "\n",
    "rx90p = gates.Instruction(\n",
    "    name=\"rx90p\", t_start=0.0, t_end=t_final, channels=[\"d1\"], targets=[0]\n",
    ")\n",
    "QId = gates.Instruction(\n",
    "    name=\"id\", t_start=0.0, t_end=t_final, channels=[\"d1\"], targets=[0]\n",
    ")\n",
    "\n",
    "rx90p.add_component(gauss_env_single, \"d1\")\n",
    "rx90p.add_component(carr, \"d1\")\n",
    "QId.add_component(nodrive_env, \"d1\")\n",
    "QId.add_component(copy.deepcopy(carr), \"d1\")\n",
    "QId.comps[\"d1\"][\"carrier\"].params[\"framechange\"].set_value(\n",
    "    (-sideband * t_final) % (2 * np.pi)\n",
    ")\n",
    "ry90p = copy.deepcopy(rx90p)\n",
    "ry90p.name = \"ry90p\"\n",
    "rx90m = copy.deepcopy(rx90p)\n",
    "rx90m.name = \"rx90m\"\n",
    "ry90m = copy.deepcopy(rx90p)\n",
    "ry90m.name = \"ry90m\"\n",
    "ry90p.comps[\"d1\"][\"gauss\"].params[\"xy_angle\"].set_value(0.5 * np.pi)\n",
    "rx90m.comps[\"d1\"][\"gauss\"].params[\"xy_angle\"].set_value(np.pi)\n",
    "ry90m.comps[\"d1\"][\"gauss\"].params[\"xy_angle\"].set_value(1.5 * np.pi)\n",
    "\n",
    "parameter_map = ParameterMap(\n",
    "    instructions=[QId, rx90p, ry90p, rx90m, ry90m], model=model, generator=generator\n",
    ")\n",
    "\n",
    "# ### MAKE EXPERIMENT\n",
    "simulation = Experiment(pmap=parameter_map)"
   ]
  },
  {
   "cell_type": "markdown",
   "metadata": {},
   "source": [
    "To specify the optimization task, we collect the pulse parameters we wish to optimize in the `opt_map`, a nested list that groups parameters that share the same value. "
   ]
  },
  {
   "cell_type": "code",
   "execution_count": 7,
   "metadata": {},
   "outputs": [],
   "source": [
    "gateset_opt_map =   [\n",
    "    [\n",
    "      (\"rx90p[0]\", \"d1\", \"gauss\", \"amp\"),\n",
    "      (\"ry90p[0]\", \"d1\", \"gauss\", \"amp\"),\n",
    "      (\"rx90m[0]\", \"d1\", \"gauss\", \"amp\"),\n",
    "      (\"ry90m[0]\", \"d1\", \"gauss\", \"amp\")\n",
    "    ],\n",
    "    [\n",
    "      (\"rx90p[0]\", \"d1\", \"gauss\", \"delta\"),\n",
    "      (\"ry90p[0]\", \"d1\", \"gauss\", \"delta\"),\n",
    "      (\"rx90m[0]\", \"d1\", \"gauss\", \"delta\"),\n",
    "      (\"ry90m[0]\", \"d1\", \"gauss\", \"delta\")\n",
    "    ],\n",
    "    [\n",
    "      (\"rx90p[0]\", \"d1\", \"gauss\", \"freq_offset\"),\n",
    "      (\"ry90p[0]\", \"d1\", \"gauss\", \"freq_offset\"),\n",
    "      (\"rx90m[0]\", \"d1\", \"gauss\", \"freq_offset\"),\n",
    "      (\"ry90m[0]\", \"d1\", \"gauss\", \"freq_offset\")\n",
    "    ],\n",
    "    [\n",
    "      (\"rx90p[0]\", \"d1\", \"carrier\", \"framechange\"),\n",
    "      (\"ry90p[0]\", \"d1\", \"carrier\", \"framechange\"),\n",
    "      (\"rx90m[0]\", \"d1\", \"carrier\", \"framechange\"),\n",
    "      (\"ry90m[0]\", \"d1\", \"carrier\", \"framechange\")\n",
    "    ]\n",
    "  ]\n",
    "\n",
    "parameter_map.set_opt_map(gateset_opt_map)"
   ]
  },
  {
   "cell_type": "markdown",
   "metadata": {},
   "source": [
    "In this example, we optimize 16 parameters in total, where each group of 4 share the same value."
   ]
  },
  {
   "cell_type": "code",
   "execution_count": 8,
   "metadata": {},
   "outputs": [
    {
     "name": "stdout",
     "output_type": "stream",
     "text": [
      "rx90p[0]-d1-gauss-amp                 : 450.000 mV \n",
      "ry90p[0]-d1-gauss-amp\n",
      "rx90m[0]-d1-gauss-amp\n",
      "ry90m[0]-d1-gauss-amp\n",
      "\n",
      "rx90p[0]-d1-gauss-delta               : -1.000  \n",
      "ry90p[0]-d1-gauss-delta\n",
      "rx90m[0]-d1-gauss-delta\n",
      "ry90m[0]-d1-gauss-delta\n",
      "\n",
      "rx90p[0]-d1-gauss-freq_offset         : -50.500 MHz 2pi \n",
      "ry90p[0]-d1-gauss-freq_offset\n",
      "rx90m[0]-d1-gauss-freq_offset\n",
      "ry90m[0]-d1-gauss-freq_offset\n",
      "\n",
      "rx90p[0]-d1-carrier-framechange       : 0.000 rad \n",
      "ry90p[0]-d1-carrier-framechange\n",
      "rx90m[0]-d1-carrier-framechange\n",
      "ry90m[0]-d1-carrier-framechange\n",
      "\n",
      "\n"
     ]
    }
   ],
   "source": [
    "parameter_map.print_parameters()"
   ]
  },
  {
   "cell_type": "markdown",
   "metadata": {},
   "source": [
    "### Dynamics\n",
    "\n",
    "To investigate dynamics, we define the ground state as an initial state."
   ]
  },
  {
   "cell_type": "code",
   "execution_count": 9,
   "metadata": {},
   "outputs": [],
   "source": [
    "import tensorflow as tf"
   ]
  },
  {
   "cell_type": "code",
   "execution_count": 10,
   "metadata": {},
   "outputs": [],
   "source": [
    "psi_init = [[0] * 3]\n",
    "psi_init[0][0] = 1\n",
    "init_state = tf.transpose(tf.constant(psi_init, tf.complex128))"
   ]
  },
  {
   "cell_type": "code",
   "execution_count": 11,
   "metadata": {},
   "outputs": [
    {
     "data": {
      "text/plain": [
       "<tf.Tensor: shape=(3, 1), dtype=complex128, numpy=\n",
       "array([[1.+0.j],\n",
       "       [0.+0.j],\n",
       "       [0.+0.j]])>"
      ]
     },
     "execution_count": 11,
     "metadata": {},
     "output_type": "execute_result"
    }
   ],
   "source": [
    "init_state"
   ]
  },
  {
   "cell_type": "code",
   "execution_count": 12,
   "metadata": {},
   "outputs": [],
   "source": [
    "barely_a_seq = ['rx90p[0]']"
   ]
  },
  {
   "cell_type": "code",
   "execution_count": 13,
   "metadata": {},
   "outputs": [
    {
     "name": "stdout",
     "output_type": "stream",
     "text": [
      "\u001b[33mWARNING: You are using pip version 22.0.4; however, version 22.1.1 is available.\r\n",
      "You should consider upgrading via the '/home/users/anurag/miniconda3/envs/c3-py39/bin/python -m pip install --upgrade pip' command.\u001b[0m\u001b[33m\r\n",
      "\u001b[0m"
     ]
    }
   ],
   "source": [
    "!pip install -q matplotlib\n",
    "\n",
    "import matplotlib.pyplot as plt\n",
    "\n",
    "def plot_dynamics(exp, psi_init, seq, goal=-1):\n",
    "        \"\"\"\n",
    "        Plotting code for time-resolved populations.\n",
    "\n",
    "        Parameters\n",
    "        ----------\n",
    "        psi_init: tf.Tensor\n",
    "            Initial state or density matrix.\n",
    "        seq: list\n",
    "            List of operations to apply to the initial state.\n",
    "        goal: tf.float64\n",
    "            Value of the goal function, if used.\n",
    "        debug: boolean\n",
    "            If true, return a matplotlib figure instead of saving.\n",
    "        \"\"\"\n",
    "        model = exp.pmap.model\n",
    "        dUs = exp.partial_propagators\n",
    "        psi_t = psi_init.numpy()\n",
    "        pop_t = exp.populations(psi_t, "lindbladian" in model.frame)\n",
    "        for gate in seq:\n",
    "            for du in dUs[gate]:\n",
    "                psi_t = np.matmul(du.numpy(), psi_t)\n",
    "                pops = exp.populations(psi_t, "lindbladian" in model.frame)\n",
    "                pop_t = np.append(pop_t, pops, axis=1)\n",
    "\n",
    "        fig, axs = plt.subplots(1, 1)\n",
    "        ts = exp.ts\n",
    "        dt = ts[1] - ts[0]\n",
    "        ts = np.linspace(0.0, dt*pop_t.shape[1], pop_t.shape[1])\n",
    "        axs.plot(ts / 1e-9, pop_t.T)\n",
    "        axs.grid(linestyle=\"--\")\n",
    "        axs.tick_params(\n",
    "            direction=\"in\", left=True, right=True, top=True, bottom=True\n",
    "        )\n",
    "        axs.set_xlabel('Time [ns]')\n",
    "        axs.set_ylabel('Population')\n",
    "        plt.legend(model.state_labels)\n",
    "        pass"
   ]
  },
  {
   "cell_type": "markdown",
   "metadata": {},
   "source": [
    "We set the simulation up to only run the `rx90p[0]` gate and simulate the dynamics."
   ]
  },
  {
   "cell_type": "code",
   "execution_count": 14,
   "metadata": {},
   "outputs": [
    {
     "data": {
      "text/plain": [
       "{'rx90p[0]': <tf.Tensor: shape=(3, 3), dtype=complex128, numpy=\n",
       " array([[ 0.58787842-0.08273557j, -0.10158596-0.79751265j,\n",
       "          0.0315141 -0.01464672j],\n",
       "        [-0.1017262 -0.79749737j,  0.5902584 -0.06618626j,\n",
       "          0.02346579-0.01770536j],\n",
       "        [ 0.03147998-0.01457847j,  0.02349759-0.01778005j,\n",
       "         -0.99896223+0.00163568j]])>}"
      ]
     },
     "execution_count": 14,
     "metadata": {},
     "output_type": "execute_result"
    }
   ],
   "source": [
    "simulation.set_opt_gates(\"rx90p[0]\")\n",
    "simulation.compute_propagators()"
   ]
  },
  {
   "cell_type": "code",
   "execution_count": 15,
   "metadata": {},
   "outputs": [
    {
     "data": {
      "image/png": "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\n",
      "text/plain": [
       "<Figure size 432x288 with 1 Axes>"
      ]
     },
     "metadata": {
      "needs_background": "light"
     },
     "output_type": "display_data"
    }
   ],
   "source": [
    "plot_dynamics(simulation, init_state, barely_a_seq)"
   ]
  },
  {
   "cell_type": "markdown",
   "metadata": {},
   "source": [
    "As is, the initial guess for this gate does not provide a high fidelity."
   ]
  },
  {
   "cell_type": "markdown",
   "metadata": {},
   "source": [
    "### Qiskit circuit with unoptimized gates\n",
    "We can also use the simulation as a backend for a qiskit interface and perform the measurement that way."
   ]
  },
  {
   "cell_type": "code",
   "execution_count": 16,
   "metadata": {},
   "outputs": [],
   "source": [
    "# Qiskit related modules\n",
    "from c3.qiskit import C3Provider\n",
    "from c3.qiskit.c3_gates import RX90pGate\n",
    "from qiskit import QuantumCircuit\n",
    "from qiskit.tools.visualization import plot_histogram"
   ]
  },
  {
   "cell_type": "code",
   "execution_count": 17,
   "metadata": {},
   "outputs": [
    {
     "name": "stdout",
     "output_type": "stream",
     "text": [
      "Result from unoptimized gates:\n",
      "{'(0,)': 0.3524462056124214,\n",
      " '(1,)': 0.6463502734117657,\n",
      " '(2,)': 0.001203520975806669}\n"
     ]
    }
   ],
   "source": [
    "qc = QuantumCircuit(1)\n",
    "qc.append(RX90pGate(), [0])\n",
    "c3_provider = C3Provider()\n",
    "c3_backend = c3_provider.get_backend(\"c3_qasm_physics_simulator\")\n",
    "qiskit_exp = copy.deepcopy(simulation)\n",
    "c3_backend.set_c3_experiment(qiskit_exp)\n",
    "c3_job_unopt = c3_backend.run(qc)\n",
    "result_unopt = c3_job_unopt.result()\n",
    "res_pops_unopt = result_unopt.data()[\"state_pops\"]\n",
    "print(\"Result from unoptimized gates:\") \n",
    "pprint(res_pops_unopt)"
   ]
  },
  {
   "cell_type": "code",
   "execution_count": 18,
   "metadata": {},
   "outputs": [
    {
     "data": {
      "image/png": "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\n",
      "text/plain": [
       "<Figure size 504x360 with 1 Axes>"
      ]
     },
     "execution_count": 18,
     "metadata": {},
     "output_type": "execute_result"
    }
   ],
   "source": [
    "plot_histogram(res_pops_unopt, title='Simulation of Qiskit circuit with Unoptimized Gates')"
   ]
  },
  {
   "cell_type": "markdown",
   "metadata": {},
   "source": [
    "We select the `OptimalControl` module and set it up to run an `L-BFGS` optimization, using the overlap between ideal and actual unitary as a goal function."
   ]
  },
  {
   "cell_type": "code",
   "execution_count": 19,
   "metadata": {},
   "outputs": [],
   "source": [
    "import os\n",
    "import tempfile\n",
    "from c3.optimizers.optimalcontrol import OptimalControl\n",
    "from c3.libraries.fidelities import unitary_infid_set\n",
    "from c3.libraries.algorithms import lbfgs\n",
    "\n",
    "# Create a temporary directory to store logfiles, modify as needed\n",
    "log_dir = os.path.join(tempfile.TemporaryDirectory().name, \"c3logs\")\n",
    "\n",
    "opt = OptimalControl(\n",
    "    dir_path=log_dir,\n",
    "    fid_func=unitary_infid_set,\n",
    "    fid_subspace=[\"Q1\"],\n",
    "    pmap=parameter_map,\n",
    "    algorithm=lbfgs,\n",
    "    options={\"maxfun\" : 150},\n",
    "    run_name=\"better_X90\"\n",
    ")\n",
    "opt.set_exp(simulation)"
   ]
  },
  {
   "cell_type": "code",
   "execution_count": 20,
   "metadata": {},
   "outputs": [
    {
     "name": "stdout",
     "output_type": "stream",
     "text": [
      "C3:STATUS:Saving as: /tmp/tmpt0y5nff8/c3logs/better_X90/2022_05_22_T_18_45_03/open_loop.c3log\n"
     ]
    }
   ],
   "source": [
    "opt.optimize_controls()"
   ]
  },
  {
   "cell_type": "code",
   "execution_count": 21,
   "metadata": {},
   "outputs": [
    {
     "data": {
      "image/png": "iVBORw0KGgoAAAANSUhEUgAAAX4AAAEDCAYAAAAyZm/jAAAAOXRFWHRTb2Z0d2FyZQBNYXRwbG90bGliIHZlcnNpb24zLjUuMSwgaHR0cHM6Ly9tYXRwbG90bGliLm9yZy/YYfK9AAAACXBIWXMAAAsTAAALEwEAmpwYAABMi0lEQVR4nO2deVxc1dmAnzMLw7AvCZAACaAJShYMwSCKSdy1+tW1VetSo7W7tba11X62tXvt19Zuaq3WumuNS2vVmtaaRTSJIgYNiVkkJEAIJEDCPsPMnO+PO0xIJDCBucyc4TzKL3PnLvPMuTPvvfPec98jpJRoNBqNZvJgCbeARqPRaCYWHfg1Go1mkqEDv0aj0UwydODXaDSaSYYO/BqNRjPJ0IFfo9FoJhm2cAsEw5QpU2ReXt6Y1m1ubmbatGmhFTIJlVxBLV/tah4q+arkCuPzfffdd/dJKacON0+JwJ+Xl0dVVdWY1l2wYMGY151oVHIFtXy1q3mo5KuSK4zPVwix80jzoj7V4/V6w60QNCq5glq+2tU8VPJVyRXM8436wO9yucKtEDQquYJavtrVPFTyVckVzPON+sB/wQUXhFshaFRyBbV8tat5qOSrkiuY5ytUqNVTWloqx5rnqq+vZ6wXhicalVxBLV/tah4q+dbX15OdnU1jYyP9/f3h1hkVj8eDzTbypdjY2FhycnKw2+2HPC+EeFdKWTrcOqZd3BVCPARcALRKKecOM18AvwM+AfQC10kpq0PtkZaWFupNmoZKrqCWr3Y1D5V809LSaGxsJDExkby8PIwwFLl4vV6sVusR50spaWtro7Gxkfz8/KC3a2aq52Hg3BHmnwfM8v99HrjPDInq6pAfS0xDJVdQy1e7modKvtXV1fT395Oenh7xQR+gt7d3xPlCCNLT04/614tpgV9KuQZoH2GRC4FHpcE6IEUIEdIOtj6fRIVUlkajmVhUCPrBMpb3Es5+/NlAw5DpRv9zzaF6gaIfvEr/gA9WvAyAECAwGkoEpoXx79DHQ5ZhyLRFHLou/uUtAmwWCzE2C3arwGaxYLdZiLEK7FYLNuvBx8a0IGaYx237rGxatR2HzYrTbiUh1kaiw0as3YozxkqCw0qCw06S04bTbg37hzc1NTWsr380aFfzUMlXJVdgxDTPeFDiBq7m5mYKCwsBcDgcLFu2jAULFgCQnp7OnDlzWLNmDQA2m42Kigqqq6s5P8+Kx2dl2vTpdHd3c6CzEySkpqVhtVppbd2LBOLi4khJTaWxsRGJ0dhZWdNpaWnBPeBGSsjMzKSru4vu7h4kkJycghCC9o4OJBDjsBMbF8+e1n14PCC9FuyJSbTvP4Db48PjA4fTSW+/m363B68ELFYGvD7cHh9eCT4JfNAZVJtYBDiskBBrJ9Fhxe5z47QJ0pLimZaWiOtAK3E2QXKCk4VzZtNe/yHJdi9Wi2Dx4sXU1tbS1tYGQHFxMV1dXdTV1QHGDXNpaWmBn/CpqakUFxezevVqpJQIIViyZAkAq1atAqCkpIT29nbq6+sBKCgoIDExkZqamlH3U2en8Z5LS0tpaWmhocE4H5g1axYOh4ONGzcCkJGRwezZs6msrAx8FsrLy6mqqqK7uxuAsrIyGhsbaWpqAqCwsBCr1UpHRwerVq0iKyuL/Px81q5dC4DT6aSsrIz169fT19cHQHl5OTt27GDPnj0AFBUV4fV62bJlCwDZ2dnk5OSwfv16ABISEigtLWXt2rWB7ncVFRVs3bqV1tZWAObOnYvL5WLbtm0A5ObmkpmZGbg5JykpiZKSEiorK/F4PKxatSpk+6mmpoaOjg5T99O+fftCsp82bdoEYOp+2rBhA11dXYHn+vv78Xg8gHGhVEoZ2I92ux273R5IuVgsFuLj4wPrD26jr68v0Ofe6XTi9Xpxu90AxMTEYLPZAtuwWq3ExcXR2trKJZdcwksvvcQ//vEPfvzjHyOl5NZbb+XGG2/E4/Hg9Xrp6uoiJiaGa6+9lttuu41jjz0Wq9WK0+kMtOdgqueOO+5g+fLlg2pTOAKm9uoRQuQBLx3h4u79wCop5VP+6S3AUinlx874x9OrZ/Xq1YEgFemsXLWK8lNOxTXgo3fAQ3e/hy6Xh/4BL/0DXrpdXrr6B+jq99DVP0Cf20ePy8P+PjcdvQN093vocXto73bT5fIM+xp2q2BKgoOZ6XHkpceTkeggJS6G/KnxHDs1gekpTqyW4H5JqNS22tU8VPJdvXo1GRkZHH/88eFW4Z577sHj8XDNNddQWlpKVVUVQggWLlzIu+++S2pqKl1dXSQmJgKG++OPP84DDzzwsW1t3rz5Y+8pLL16guBF4KtCiKeBMuDAcEF/vKiU4xdArN1KrN1KMnZIHvu2+tzGQaLX7aWls5/6th72HHDR7/HS2uliZ1sPr21uoa3H+EUziNUiSHbaOWZqPHOmJ3NsRgJJTjvZKU7mTE8i1n7wp6dKbatdzUMl38Ndf/jPWjbtDu5XdrAUTU/iB/8zZ9TlnnjiCZ588klWrFjBWWedFegdddZZZ/Hqq69y5ZVXHrL8qaeeynXXXRdUF8/RMLM751PAUmCKEKIR+AFgB5BS/gl4BaMr53aM7pzLTPIwY7OmEEpXZ4xxXQAgb0o8ZQXpwy7n80nae93s2NdD3d5uGtr7aOtxs7Wli7+900DfwMFbxm0WwazMRDISHWQmOcj0elnk9hAXE/kZw8n6OZgIVPKNFFe3201dXR15eXk8++yz5ObmBubl5OQEUmBDsVgsHHvssdTU1LBw4cJxvb5p31gp5ZWjzJfAV8x6/UFU+QkK4XG1WIzUz5QEByfmHdof2+uT7O1y0dU/QN2+Ht5v3M+m3Z209w5Q07if/b0D3Ffzb9LiY5iS4KA0L5WzijIpy08nxhZZN4Xrz4F5qOS7ZMkSNm/eHJgO5szcDPbt20dKSsqoyw2meQbJyMhg9+7dkRv4I4WamhqKi4vDrREUkeZqtQiykmPJSo5lVmYi58zJCszzeH089d93aJEp7O1y0dzZzzNVDTy6didWiyAx1sZJ+elcddIMygvSsVnDeyCItLYdCZVcQS3fmpoaYmJiwq2B0+kMXJDNzs4OdJIAaGxsZOnSpYDRjz8uLi4wr7+/H6fTOe7Xj/rAP9ibQQVUcrVZLeTG9HHN0rLAc31uL29s20tN437aut28trmFV2v3YPMfCI7LSuKKRbmcP2/ahB8IVGpblVxBLd+Ojg4yMzPDrUFqaiper5f+/n7OOeccvvvd7wba8d///jc///nPAbjhhhu45ZZbWLRoEQBbt25l7tyP9ZU5aqI+8GsmDmeMlbPnZHG2/5eBy+PlP5ta2NzcSUfvAG9u38fNT2/gf1/YSFZyLNOSY7m0JIcL5k/8gUCjCTdnn302lZWVnHnmmXzve9/jxBNPBOD73/9+4EJvbW0t06dPB6ClpQWn00lWVtYRtxksUV+krbOzk6SkpBAbmYNKrnD0vj6f5L8ftvLGtr3s63axubmLHft6mJ4cS9H0ZNLjYzirKJMzjs8I+UU4ldpWJVdQy7ezs5OmpqaI6M5ZXV3N3XffzWOPPTbs/M7OTq6//nqeffZZAO6++26SkpK44YYbPrasSt05J4T29nZlPpQqucLR+1osgrOKMjmryPipLaXkv5tb+VtVAw3tvVTtbOdvVQ0sykvjulPymJ7i5NiMBBIc4/+YqtS2KrmCWr7t7SNVkZlYSkpKOO20045YiC0pKYknnngiMJ2SksI111wTkteO+sCvWslYVVxh/L5CCM4syuRM/4HA4/Wx/N1G7nr1Q778hHE3alKsja+dMYtlp+QHfWOZGa4TiUquoJZvfX19ROT4B7n++utHnO92u3E4HAAsWxa6Hu9RH/g16mCzWrhy0QwuXpDNtpZumg/08eTbu/jJy5t5dO1Ojs1IoDArkWtOmsn0lPH3bNBoJitRH/gLCgrCrRA0KrmCeb6xdivzcpKZl5PMWUWZvPxBM89XN7HnQD9rtu7l8bU7+e75x3POnCySYm1BXRhWqW1VcgW1fAsKCujp6Qm3RtCY1fU06gP/4TdARDIqucLE+AohuGD+dC6Yb/RsaGjv5dZna7j9+Q+4/fkPiI+x8qnSXG49p5D4Ea4FqNS2KrmCWr6JiYlKBX6zqnNGfR+6waqDKqCSK4THNzctjic/dxKP3bCI711QxLlzp/HI2nrO//0bPPNOAyu3tHKgbyAiXMeKSq6glq9KrkCgEmmoifrAr4k+LBbBqbOmckNFPr/+dDFP3XgSA17Jt597n2V/fYcl/7eSf30Q8np/Gk1I6evrY8mSJXi9Xs4991xSUlJGHFz9W9/6Fq+//npIXjvqUz3p6cMXJ4tEVHKFyPE9qSCdNd8+jV3tvTTv7+OuFVv40hPVnD9/GiUzUjk2I0GpcWEjpV2DRSXfSHJ96KGHuOSSS7Bardx666309vZy//33H7LM0FTPTTfdxI033sjpp58+7teO+sA/Z054ijCNBZVcIbJ8rRZB/pR48qfE80xeKnf/ZxtPrt/Jy+8bZ/5nHJfB7ws9I14HiBQiqV2DQSXfOXPmBAZqAeBft8GeD0L7Ilnz4LxfjLrYYFlmgDPOOOOQej2DDK3LM3PmTNra2tizZ8+4796N+lTP4EhCKqCSK0Sur8Nm5bbzjqPmB2fz3vfO4nsXFPH6h61cfO+bPPzmDlZuaaV/SLnpSCNS2/VIqOQbKa5DyzKPxOAIW4OUlJTw5ptvjvv1I//0R6MZI0IIUuNjuKEin+7mj3i+3sed/zSG9iualsSDny3V9wNMdoI4MzeDYMsyH85gWebxEvWBf7wj1UwkKrmCWr4Lp8XytctOYW+Xi/U72vnu8x/w6fvX8p1zj2NGWhzHT0uKmDEEVGpXUMs3UlyHlmU+GkJVljkyPukmUlFREW6FoFHJFdTyraioQAhBRlIs/1M8nSduLMPjldz01HtceM+bnPvbNdTt7R59QxOASu0KavlGiuvQsswj8bOf/YwXXnghMB2qssxRH/irq6vDrRA0KrmCWr6Hu87PSWHNt0/jxa+ewt2XF7O/b4BP37+Omob9YR9DVqV2BbV8I8l1sCwzGOPpfupTn+K///0vOTk5rFixAoANGzYELuQODAywfft2SkuHLbh5VETG7x4T6ewM7UDKZqKSK6jlO5xrjM3C/JwU5uekMC87hc88sI4L73mTWLuFednJ/OpTxcxMj48I10hGJd/Ozs6QpEpCwVe+8hXuvvtuzjzzTN54441hl3G73ZSXlwPw0ksvcdlll4UkXRX1Z/waTTAcm5HAv24+lR9fOIfPLJrJttZuLr3vLba3doVbTROlDC3LfCT+/ve/Bx57PB6++c1vhuS1o34glu7ubhISEkJsZA4quYJavkfrur21myv+vI4Br4/TCqcyIy2Oa0/OY0qCw0RLA5XaFdTy7e7upqGhISIGYgmGI9XqP5yjHYgl6s/4W1pawq0QNCq5glq+R+t6bEYCz3zhJMry03invoM/rtzOJfe+RUN7r0mGB1GpXUEtX5Vcwcjrm0HUB/6GhoZwKwSNSq6glu9YXAumJvDna0t587bTee5LJ7O/183Vf1nPG9v20tDea9pFYJXaFdTyVckVdODXaMLKghmpPHz9Ig70DXDNX97m1F+u5MoH1tHZb84XU6Mxk6gP/LNmzQq3QtCo5Apq+YbCtWRGKqtvPY1Hr1/Ed849jqr6Dpb99R363KEt/6BSu4Javiq5AoFhF0NN1Ad+sxrODFRyBbV8Q+Wa7LSzePZUvrT0GP5w5QKqd3Vw2Z/e4kf/3MQ/NjSFJP2jUruCWr6R5DpYlvndd9+lvLycOXPmMH/+fP72t78FlhHi4DjToSzLHPWBf+PGjeFWCBqVXEEtXzNcz5s3jT9eWYLb4+Opt3dx89Mb+OE/N407+KvUrqCWbyS5DpZlTkxM5NFHH6W2tpZXX32Vr3/96+zfvx/gkDt7b7rpJn7xi9DUFor6G7g0GjM5f/40zp8/DZ9P8pOXN/PQmztIibNz8xmzDjlb00Qmd719Fx+2fxjSbR6XdhzfWfSdUZcbLMs8tELn9OnTycjIYO/evR8r4qbLMh8FGRkZ4VYIGpVcQS1fs10tFsH3LjieSxZk89vXtjH3Bys45+41vLFt71FvS6V2BbV8I8X1SGWZ3377bdxuN8cccwzw8aJyuixzkMyePTvcCkGjkiuo5TsRrkIIfvWpYk6dPYX3Gw+weutePvdIFY9ev4iyguBHflKpXUEt39mzZ7Nt27bAdDBn5mYwXFnm5uZmrrnmGh555BEsFuOcPDY29pBlQlWWOerP+AeLIKmASq6glu9EuVosgosX5PCD/5nDs188mZxUJ59/7F3+9UEzm5s78fpGz/+r1K6glm+kuB5elrmzs5Pzzz+fn/70p5x00kmB5w8fiEWJssxCiHOFEFuEENuFELcNM3+GEGKlEOI9IcT7QohPmOmj0UwkafEx/PW6RSQ5bXzpiWrO+90bXHrfW7rvv+aQssxut5uLL76Ya6+9lssuu+yQ5e688061yjILIazAPcB5QBFwpRCi6LDF7gCekVIuAK4A7g21RyR13xoNlVxBLd9wuc5Ij+M/tyxh+RfL+eEn57Cx6QBffOxdBry+I66jUruCWr6R5DpYlvmZZ55hzZo1PPzww5xwwgmccMIJbNiwAYDa2lrlyjIvArZLKesAhBBPAxcCm4YsI4Ek/+NkYPzJq8MYLGmqAiq5glq+4XSNtVs5MS+NE/PSSHDY+ObyGj73SBVLZk/lhBkplMxIPWR5ldoV1PItLy9n8+bN4dYADpZlfuyxx7j66quHXUZKaUpZZjMDfzYwtDBGI1B22DJ3Av8WQtwExANnDreh5uZmCgsLAeOIvWzZMhYsWABAeno6c+bMCQyibLPZqKiooLq6ms7OTnp7e1m8eDEtLS2BOh2zZs3C4XAE+vRmZGQwe/bsQP7P4XBQXl5OVVVVIMdWVlZGY2MjTU1NABQWFmK1Wtm0yTiOZWVlkZ+fz9q1awEjh1dWVsb69evp6+sDjA/djh072LNnDwBFRUV4vV62bNkCGDv5pJNOYv369QAkJCRQWlrK2rVrcblcgDGC0NatW2ltbQVg7ty5uFyuwAWr3NxcMjMzGaxmmpSURElJCZWVlXg8HgAWL15MbW0tbW1tABQXF9PV1UVdXR0AeXl5pKWlBQatSE1Npbi4mNWrVyOlRAjBkiVLeO211wIfwpKSEtrb26mvrwegoKCAxMREampqgtpPAKWlpabtp6qqKuLi4kKyn7Kzs8nJyRnTfkrv2s5Vx8fw9+1trN5q9Pi5fm4MFxSlB/ZTZ2cncXFxIdtPNTU1dHR0mLafLBYLRUVFEfd9Gm4/Db6nrq6uwHP9/f2B70ZsbCxSysB+tNvt2O12ent7A+81Pj4+sP7gNvr6+gLllZ1OJ16vF7fbDUBMTAw2my2wDavVSlxcHLNmzaK8vJz9+/eTkpJCb29vYBtxcXF4PB6eeeYZurq6iImJweVy8fnPf56uri6sVitOpzPQnoPXC+644w6WL18+qDaFIyGlNOUPuAx4cMj0NcAfD1vmG8A3/Y/LMX4NWA7f1sKFC+VYWbly5ZjXnWhUcpVSLd9Ic/V6fbK1s19e/eA6WXD7y7Jy297AvEhzHQ2VfFeuXCk3bdoUbo2g6ezsDGq54d4TUCWPEJ/NPONvAnKHTOf4nxvKDcC5AFLKtUKIWIyjVKuJXhpN2LFYBFMTHdx7VQmX3vcWNz5axdLCqczKSGSWAmNkqI70/yKKBuQYPi9m9up5B5glhMgXQsRgXLx98bBldgFnAAghjgdigaO/42UEysoOzy5FLiq5glq+keqaGGvnkesXccbxmWxu7uL3r2/jvs1Wet2ecKsFTaS27XCUlZURGxtLW1tb2MdWDob4+JGH/pRS0tbW9rH+/qNh2hm/lNIjhPgqsAKwAg9JKWuFED/C+AnyIvBN4AEhxC0YF3qvkyHeG42NjcpU5FPJFdTyjWTXaclO/nClcc3qtU0t3PhoFV9/egP3Xb0QqyXyz0ojuW0Pp7Gxkby8PBobG9m7N6TnmKYwMDCA3W4fcZnY2FhycnKOarum3rkrpXwFeOWw574/5PEm4BQzHZqampT5UKrkCmr5quJ6ZlEmVx4Xw5ObWlj8y5XMzkzgsoW5nD9/WrjVjogqbQsHXfPz88OtEhSrVq1i6dKlId9u1N+5q9Goxtl5dn57+QnMz0nmo709fOXJal54rzHcWpooIupr9Qx2A1UBlVxBLV/VXKdNm8ZFC7Jxebxc99A7fPvZ90l22lk6OwNLhKV/VGtblTDLN+rP+IMZoT5SUMkV1PJV1dVhs/KnaxaSlx7P9Q9Xcdz3XuXKP69jz4H+EbYwsajatipglm/UB/7BG0JUQCVXUMtXZddkp53nv3wyv7x0PteWz+T9xv1c//A7dLsio+ePym0b6ZjlG/WpHo0mGkiMtfPpE43bYk6dPZXrH36HLz9RzS1nzqJgagLJzpF7fmg0Q4n6M/7xjlQzkajkCmr5RpPrktlT+clFc6nctpeL732Lkh//h79U7pggu48TTW0baZjlK1S4iaG0tFQO1p45WlwuV0RV5BsJlVxBLd9odG1o72Vzcyd/e6eB/37Yyr1XlfCJeRPf7TMa2zZSGI+vEOJdKeWwpTyj/ox/sMiTCqjkCmr5RqNrblocZ8/J4p6rSiiZkcItf9vAg2/U8fqHLfQPeE22PEg0tm2kYJZv1Ad+jSbaibVbeeDaUo7NSOAnL2/m+oer+OQfK9nf6w63miZCifrAH4phyiYKlVxBLd9od01PcPDPr1bw1m2nc+9VJdTv6+UrT1aPOOBLqIj2tg0nZvlGfY5fo5mMLK9q4NZn32dp4VROOWYK5cekMzc7OdxamglkUuf4BwdhUAGVXEEt38nm+qnSXL77ieN4e0c7P31lM5/8YyV/f+/wquihYbK17URilm/U9+MfHK1HBVRyBbV8J6Pr5xcfw42nFtDW4+arT1Zz67M1ZCbFUn5Meki2P8hkbNuJwizfqD/j12gmM0IIpiQ4uP/qUmamx/O5R97hK09U8+t/b2FvlyvcepowEfU5fpX67arkCmr5alfYvb+Pn7y8iU27O9nV3ktuWhzLv1hORuLRDeJxOLptzUP34x8jO3aE747Go0UlV1DLV7vC9BQn9161kFW3nsZzXzqZvV0urnnwbba3do2r949uW/MwyzfqA/+ePXvCrRA0KrmCWr7a9VAWzEjlwWtLqW/r4czfrOH4773KLX/bMKYbv3TbmodZvlF/cVej0QzPycdO4T+3LOGtj/axqbmTx9btpKWznwc/W0pcjA4N0UzU792ioqJwKwSNSq6glq92HZ4Z6XHMSJ8BwAm5KXxreQ2feWA9ZxVlsig/jRPz0kbdhm5b8zDLN+oDv9c7cTVLxotKrqCWr3YdnUtKcnDYrPzv3z/g/1ZsAeCWM2fztTOORYgjj/ql29Y8zPKN+hz/li1bwq0QNCq5glq+2jU4zp8/jQ3fP5sP7jybS0qyufu1rfxyxRZG6v2n29Y8zPKN+jN+jUZz9CTG2vnVZcXE2q3ct+ojnnu3kbz0eG7/xHEsmJEabj3NOIn6M/7s7OxwKwSNSq6glq92PXosFsFPL5rLjy6cw9LCqTR29HL1g+t5v3H/IctFim8wqOQK5vlG/Q1cfX19ylTkU8kV1PLVruOnpbOfS+97ix6Xhx9eOJecVCfzs5MZcLsi0nc4IrVtj8R4fCf1DVwqFWVSyRXU8tWu4yczKZbHbygj1m7la0+9xyX3vsVF977Jf9asC7da0ERq2x4JXaRNo9GEnbwp8az81lK27OliS0sX3//HRn5xQHLyKS6mJKhTCmGyE/WBPyEhIdwKQaOSK6jlq11DR6zdSnFuCsW5KeSmxvHZh9Zx5m9WU5iZSNH0JL5+5mySnfZwaw5LpLft4ZjlG/U5fo1GYy4bGvbzyFv1NLT38l7DfrJTnDxy/SLyp8SHW21SM6lz/CoNrqySK6jlq13No69xM3dffgLPfulknvnCSXS7PFx0z5vc/PR7/N+KD2k+EDk18FVrWz3Y+hhxudSpOa6SK6jlq13NY6jvwplpPPelkzkxL5XqXR3cv7qO8373Buvq2sJoeBCV2zaUBJXjF0I4gEuBvKHrSCl/NMp65wK/A6zAg1LKXwyzzKeBOwEJ1EgpPxOku0ajiUDyp8Tz4GdPBGDHvh5ufLSKa//yNp8pm8GMtDgWz57KsRlq5dqjjaBy/EKIV4EDwLtAoHiElPLXI6xjBbYCZwGNwDvAlVLKTUOWmQU8A5wupewQQmRIKVsP39Z4cvwejwebTY1r2Cq5glq+2tU8RvPd3+vm28++z6ote3F7fcTYLPzfZfO58ISJv5kq2tp2JEKR48+RUl4upfyllPLXg3+jrLMI2C6lrJNSuoGngQsPW+ZG4B4pZQfAcEF/vGzdujXUmzQNlVxBLV/tah6j+abExfDna0vZ8pNzqfzOaZTMSOHrf9vAz1/ZzMvvN7OtpWuCTKOvbcdKsIH/LSHEvKPcdjbQMGS60f/cUGYDs4UQbwoh1vlTQyGltTXkxxLTUMkV1PLVruYRrK8QgpzUOB5etogLi6fz5zfq+MqT1Zz92zX89rWtIxaCCxXR2rZHS7C/ISqA64QQOwAXIAAppZwfgtefBSwFcoA1Qoh5Usr9Qxdqbm6msLAQAIfDwbJly1iwYAEA6enpzJkzhzVr1hgbtNmoqKigurqazs5Ouru76e7upqWlhYYG4zg0a9YsHA4HGzduBCAjI4PZs2dTWVkZeI3y8nKqqqro7u4GoKysjMbGRpqamgAoLCzEarWyaZORucrKyiI/Pz9wFd7pdFJWVsb69evp6zN6NZSXl7Njx47AqDpFRUV4vd5ABT6Xy0VfX1/gbr2EhARKS0tZu3Zt4CJPRUUFW7duDXwg5s6di8vlYtu2bQDk5uaSmZnJYGosKSmJkpISKisr8Xg8ACxevJja2lra2owLbsXFxXR1dVFXVwdAXl4eaWlpVFdXA5CamkpxcTGrV69GSokQgiVLltDX18eqVasAKCkpob29nfr6egAKCgpITEykpqYmqP0EUFpaatp+6u7uZtWqVSHZT9nZ2eTk5Ji2nwZdQ7Wfampq6OjoMG0/ud1u9u3bd1T76ecXlvHZuU4+qGtiRb2H3762jW272znO2U1qrIXSWdNN2U9AxH6fhttPg5+FYPfTHXfcwfLly/EzhSMQbI5/5nDPSyl3jrBOOXCnlPIc//Tt/nV+PmSZPwHrpZR/9U//F7hNSvnO0G2NJ8e/b98+pkw54vuPKFRyBbV8tat5jNdXSsmv/r2Fe1d9xGA4unhBNj+7eB7OGGuILA0mU9uOlOMP6oxfSrlTCFEMnOp/6g0pZc0oq70DzBJC5ANNwBXA4T12/g5cCfxVCDEFI/VTF4xTsKjUfUslV1DLV7uax3h9hRDces5xXH9KPnX7elizdS9/XLmdba1d3HhqAVlJsRyXlURy3PjvBp5sbXskgsrxCyFuBp4AMvx/jwshbhppHSmlB/gqsALYDDwjpawVQvxICPFJ/2IrgDYhxCZgJXCrlDKkHX4Hf7KpgEquoJavdjWPUPmmJzg4MS+Nb55dyP1XL6Sl08XNT2/g8j+vo+Ku1/nrmzvw+sZ3HWCytu3hBJvjvwEok1L2AAgh7gLWAn8YaSUp5SvAK4c99/0hjyXwDf+fRqPRAHD2nCxOOy6D7a3dtHT289Cb9fzwn5t4bO1O8qbEMzszkc+ePJNpyeqUWI4kgg38giH99/2PjzwIZwSRm5sbboWgUckV1PLVruZhlq/dauH4aUkcPy2JJbOn8o8Nu3nhvSb2HOhn9da9PL5uJ98+t5Als6eSGh9DUuzoqSDdtgbBBv6/AuuFEC/4py8C/mKKUYjJzMwMt0LQqOQKavlqV/OYCF8hBBctyOaiBUaP8Ib2Xm57/n2+/49aAKwWwblzsvjeBUVkJceG1TWUmOUbVI5fSvkbYBnQ7v9bJqX8rSlGIUalqp4quYJavtrVPMLhm5sWx+M3lLH8i+X86lPFfK4in9c2t3DWb1bz3Rc+4Jevfsj6uraP3Rug29ZgxDN+IUSSlLJTCJEG1Pv/BuelSSnbTbHSaDSaURBCcGJeGifmpQFw5aIZ/PilTfzrg2a6+j3cu+ojzirK5Af/U0ROalyYbSOL0VI9TwIXYNToGXroFP7pApO8QkZSUlK4FYJGJVdQy1e7mkek+OZNiecv1xnF4frcXh5dW8/dr22l4q6VWC2C2ZmJnDfTzhL/TVMqYFbb6oFYNBpN1LKrrZcVtXto63GzaksrH+7pomRGCvNzUkiKtXHKsVNYlJ+mzIHgaBh3kTb/HbWjPheJDN42rgIquYJavtrVPCLZd0Z6HDcuLuC2847j5a+dyrVzYnF5fDxX3cgfVm7n8j+v47zfvcFdr37In9d8xMotreO+VyCUmNW2o+X4Y4E4YIoQIpWDXTiT+HjBtYhksJ6GCqjkCmr5alfzUMXXahGcnmvlR9cYBQj63F5erGni0bU7eWBNHR5/wM9OcXJJSTZTEhxMT3FyyrHpxMWEp5SzWW072rv5AvB1YDpGnn8w8HcCfzTFSKPRaCYAZ4yVy0+cweUnzkBKSZfLQ+W2fTzyVj1/eH17YLmkWBufLs2lMCuRJKedRXlppMbHhNF8/ARbpO0mKeWId+mayXhy/D6fD4tFjREmVXIFtXy1q3mo5Busa/+Al26Xhy17unhy/S5erd0TSAHFWC1cMH8aS4/LwGm3UjQ9iewUc+4gHk/bhqJI2x+EEHOBIiB2yPOPjsloAqmtrWXevKMdSiA8qOQKavlqV/NQyTdY11i7lVi7lSnHOjjl2Cl0uzy0d7vZ293Pixt28+y7jTz/XlNg+ZOPSeeM4zNJdtpJcNg4floiM9Lixn3R2Ky2DXbM3R9g1Mwvwqi9cx5QCUR84B+ska0CKrmCWr7a1TxU8h2ra4LDRoLDxoz0OBbOTOM75x1HU0cfPW4vb27fx5Prd/HjlzYdsk5SrI2i6UmkOGOYmR7H3Oxk5mUnk5Uci8NmCeqgYFbbBnvF4jKgGHhPSrlMCJEJPG6KkUaj0UQ4cTE2ZmUmAnBCbgpfXnoM+3sH6Or3sL/PzabdnbzfdIAPmzvZvreb1z9sxe31BdZPdBgHhbnZyRwzNYEkp41ZGYkcMzUem9X8tFmwgb9PSukTQniEEElAK6BEtaPi4uJwKwSNSq6glq92NQ+VfM1yFUKQGh9DanwMM4hjfk4KVwyZ7/b42NrSRe3uA+zrdtN8oI/a3Z08sX4n/QMHDwgOm4XZmYmkxNkpzExk4bQZeH0SqyW09xkEG/irhBApwAMYvXu6McoyRzxdXV2kpqaGWyMoVHIFtXy1q3mo5Bsu1xibhbnZyczNTj7keY/XR2uXi/29A2xv2kPntrW4974FbT3k7HyfqZZOxIL1IfcJ9uLul/0P/ySEeBVIklK+H3IbE6irq2PGjBnh1ggKlVxBLV/tah4q+UaEq8cN7XWwsxLbrvVM793H9N42ilpqwXew374veTrbYudjkV6CP0cPjtFu4CoZaZ6UsjqkNhqNRhMt9LbDng+grx1aN0NjFeyuhr6Og8skZEFKLjjT4JSbYcbJkFkE9jgssck0r15NoTX0N4+NtsVfjzBPAqeH0MUU8vLywq0QNCq5glq+2tU8VPI1xdXnhe2vQVM19O+H3jbjcftHB5cRFsgoguP/B1JmQuI0mFkOqfkwQu8es9p2xMAvpTzNlFedQNLS0sKtEDQquYJavtrVPFTyDYmrzwtbX4WWWujbD1v/ZaRuEOBIgtgkyJoPC66G6Qsgfiqk5oEjITy+wxBsP/5rh3tehRu4qqurWbp0abg1gkIlV1DLV7uah0q+Y3L1DsDOt6C7FfbvhPceh44dxjxrDOSWwenfg+POB5sj/L5BEGzy6MQhj2OBM4BqFLiBS6PRaI4Kn88I7F3NsPs9eOuP0L3n4PzcMjjzTij8BNjUrNkTbK+em4ZO+7t2Pm2GUKhRpZsZqOUKavlqV/NQyfeIrt4BIze/+Z9Q+VvobDw4L38xXPAbmDLbuAgbnz4hrmBe245pIBYhhB3YKKUsDL3Sx9EDsWg0mpDjcUHNU/D2A0a+fnCQwdwyIz+fMgOSsmHKrLBqjpVQDMTyTyHEi/6/l4EtwAuhlDSL1atXh1shaFRyBbV8tat5KOMrJbXLfwqPXQK/XwB35cM/bwarHRbfCuf/Gq5fYfyVXAsFS8Me9M1q22Bz/L8a8tgD7JRSNh5p4UhChaElB1HJFdTy1a7mEdG+Pi/s3gDdLbDhCeZ8+BKkFRi9beKmwOxz4JjTR+xSGU7Mattgc/yrhRBZwCKM30MfjbJKxKDSWJoquYJavtrVPCLWd9c6eO5GOLDLmI5JpK7gWgquuhtMuCnKDMxq22AHYvkc8H3gdYxRuJYAP5JSPmSK1WHoHL9GoxkVKeHDl6HxHaNXzuaXjDz96XcYN0pNmWX0sZ8kjDvHD9wKLJBSXiel/CywEPhOqATNpKamJtwKQaOSK6jlq13NIyJ8DzTBU1fC366CdfdCwztQ9kX4whqYdxnkLITYpMhwPQrM8g32904b0DVkusv/XMTT0dEx+kIRgkquoJavdjWPsPk2vA2r74KOeujYCRYrnPMzI+BbrMOuotvWINjAvx1YL4T4B0aO/0LgfSHENwCklL8xxU6j0WiG0rPPuFD73hOw/j6jyNmMMjjuAihdZpRG0IxKsDn+H4w0X0r5w5AZDcN4cvydnZ0kJamR11PJFdTy1a7mMSG+bR8ZXS/r3/A/IYwul2f/5Kjy9pOpbUMx2PoP/RtK8E93B/nC5wK/A6zAg1LKXxxhuUuBZ4ETpZQhvYrb3t6uzI5WyRXU8tWu5mGa754PYMcaaN8BG54w6uIMXqjNLjG6ZUaKq0mY5RvsDVxzhRDvAbVArRDiXSHEnFHWsQL3YAzMXgRcKYQoGma5ROBmIPTDzAD19fVmbNYUVHIFtXy1q3mE3NfnhVduhT9VwIrvGkG/4DT40pvGjVbzLhtT0DfF1WTM8g02x/9n4BtSypUAQoilGMMwnjzCOouA7VLKOv86T2NcG9h02HI/Bu7C6Dmk0WgmI1IaZRP2bTXKKGz7N5z0Zai4xShrHKn3CihKsIE/fjDoA0gpVwkh4kdZJxtoGDLdCJQNXcA/wleulPJlIcQRA39zczOFhUZZIIfDwbJly1iwYAEA6enpzJkzhzVr1hhvyGajoqKC6upqOjs7cbvddHd309LSQkODoTNr1iwcDgcbN24EICMjg9mzZ1NZWRl4jfLycqqqqujuNrJaZWVlNDY20tTUBEBhYSFWq5VNm4zjWFZWFvn5+axdawxF7HQ6KSsrY/369fT19QFQXl7Ojh072LPHqPRXVFSE1+tly5YtRiPHx9PX18f69caPn4SEBEpLS1m7di0ulwuAiooKtm7dSmtrKwBz587F5XKxbds2AHJzc8nMzGTwmkhSUhIlJSVUVlbi8RjDui1evJja2lra2oyOWcXFxXR1dVFXVwcYgz+kpaVRXW0MsJaamkpxcTGrV69GSokQgiVLlmC321m1ahUAJSUltLe3B85QCgoKSExMDHRHG20/AZSWlpq2n9xuN6tWrQrJfsrOziYnJ8e0/TToGqr9VFNTE+gdYsZ+Sk1NZd++fWPeT8I3wKKmh3B+9AoAPmGjdeG3SD3t2yHfTwUFBRH7fRpuPw1+FoLdT3fccQfLly/HzxSOQLAXd1/AKMP8mP+pq4GFUsqLR1jnMuBcKeXn/NPXAGVSyq/6py0YN4RdJ6WsF0KsAr41XI5/PBd3Ozo6lKkeqJIrqOWrXc1jzL7eATjQCC9/Ez76Lyy5zT9CVS7EJo++/hiYNG1LaG7guh6YCjwPPIdxJLl+lHWagNwh0zn+5wZJBOYCq4QQ9cBJwItCiGFFx4pKN2yo5Apq+WpX8zhqX3cPPPc5+Ok0+P0JsGM1fPKPcNrtkDXXtKAPk6Btg2S0wdZjgS8CxwIfAN+UUg4Eue13gFlCiHyMgH8F8JnBmVLKAwz5KTLSGb9Go4kSetvh6augYR2c+DnIOB5mngJTJ6TCu8bPaDn+R4AB4A2M3jnHA18PZsNSSo8Q4qvACozunA9JKWuFED8CqqSUL47Z+ihIT5+4QRPGi0quoJavdjWPUX37OmDlz2DXWmivB68LLn0Q5l46IX5Dibq2HSMj5viFEB9IKef5H9uAt6WUJaaYjMB4cvw+nw+LJdiMVnhRyRXU8tWu5jGib1cLPH4p7N0M+UuM/H3JZ41++GEgqtp2FMaT4w+kdaSUnjG9epgZvOqtAiq5glq+2tU8Pubb0wZv/Aae/wLcfyq0fwSfeQaueR7+53dhC/oQBW0bIkZL9RQLITr9jwXg9E8LQEop1bkFTqPRmE97HTxyoVEDPykHph5nlFWYNj/cZpohjBj4pZTDl7hTCJtNjQEXQC1XUMtXu5pHrK8H3n/GqJK57l5AwI2vQ/bCcKt9DNXa1izfMQ22PtHogVg0mgil+X149ELoazemp5cYF27TjwmvlyYk/fiVZfBuORVQyRXU8tWuJtC6GR6/BDc2uOE1+O5u+PzKiA76yrStH7N81frdMwYGbzNXAZVcQS1f7Roi+vbDiv81qmZ27Ya4dN6b933Kck8Mt1lQRHTbDoNZvlEf+DUaTYjwuODpz0DDejj+k8Z4tqXX01ezI9xmmqMk6nP83d3dJCQkhNjIHFRyBbV8tes4ONAEu9+DqoeMmjqX/sUojewn4nxHQCVXGJ/vpM7xt7S0hFshaFRyBbV8tesYWXUX3D3HGMR8x2q44LeHBH2IMN9RUMkVzPON+sA/WDpWBVRyBbV8tesYWHcfrPoZzPsUfO6/8J16Y1zbw4gY3yBQyRXM89U5fo1Gc5CWWnj3EWjdZIxve9wFcPGfwKL8LT2aIUR94J81a1a4FYJGJVdQy1e7BkF9pVFXR1iMqpkVt8Bp/ztq0Ndtax5m+UZ94Hc4HOFWCBqVXEEtX+06Aq4u2PkWPHcjpMyEZa9A/BEHb/oYum3NwyzfqM/xDw4HpwIquYJavtp1GLpb4aHz4Oc58OSnIWEqXP3cUQV90G1rJmb5Rv0Zv0ajGYaeNqPUQkc9LP2ukdopWAqxuu7iZCDqA39GRka4FYJGJVdQy1e7Yoxx+8GzsOd92PIv6Go2yiUXLBnXZnXbmodZvlF/A5fH41GmIp9KrqCW76R39Xlh+XWw+UWwxxlDHZ79E8irGPemJ33bmsh4fCf1DVyVlZXhVggalVxBLd9J7SolvHKrEfTP+rG/mNqqkAR9mORtazJm+apz6NNoNEdHfSWsvReaa6CzEU65GU75WritNBFA1Ad+lbpvqeQKavlOOtdd6+GxSyAuDWacBAW3GmPdmsCka9sJxCzfqM/xazSTjj0fwCOfBGcqfO41I/hrJh2TOsev0gFDJVdQyzfqXQf64IUvwV358KcK427bq5+dkKAf9W0bRszyjfpUT3d3d7gVgkYlV1DLN6pdvR549gbY8goUXwFZ86DoIkjONsXvcKK6bcOMWb5RH/g1mqhloM+olV/5G9jyMpz3f1D2+XBbaRQg6nP8fX19OJ3OEBuZg0quoJZv1LnuWg9Pfgr6DxjTi78Np/+v+XLDEHVtG0GMx3dS5/gbGxvDrRA0KrmCWr5R5bprHTx+CcRNgYv+BF+sDFvQhyhr2wjDLN+oD/xNTU3hVggalVxBLV/lXfv2w4anYOXPjG6aiVlw3ctwwpVGTj+MKN+2EYxZvjrHr9FEOp274aFzYf9OYzrvVLj0QSP4azRjIOoDf2FhYbgVgkYlV1DLV1nX3nbjDL+3Da75O+Qugpj4sLkNh7JtqwBm+UZ94Lda1RkyTiVXUMtXOdf1f4aNz0HrZvD0GXXy8xeHW21YlGtbhTDL19QcvxDiXCHEFiHEdiHEbcPM/4YQYpMQ4n0hxH+FEDND7bBp06ZQb9I0VHIFtXxVcu155Qfwr1thoBeKPmnk8iM06INabauSK5jna9oZvxDCCtwDnAU0Au8IIV6UUg59J+8BpVLKXiHEl4BfApeb5aTRRDSubnjr9+TXPwnzr4CL7tWDnGtMwcxUzyJgu5SyDkAI8TRwIRAI/FLKlUOWXwdcHWqJrCx1LoCp5Apq+Ua06/bX4B83QdduAA7knU+yQkE/otv2MFRyBfN8zQz82UDDkOlGoGyE5W8A/hVqifz8/FBv0jRUcgW1fCPWddc6ePoqSCuARTdC1jxic09VJuhDBLftMKjkCub5RsTFXSHE1UApMOwYcM3NzYGr2w6Hg2XLlrFgwQIA0tPTmTNnDmvWrAHAZrNRUVFBdXU1nZ2ddHd3s3TpUlpaWmhoMI5Ds2bNwuFwBAYyzsjIYPbs2YFBDxwOB+Xl5VRVVQVqZZSVldHY2BjoV1tYWIjVag3k4LKyssjPz2ft2rUAOJ1OysrKWL9+PX19fQCUl5ezY8cO9uzZA0BRURFer5ctW7YA4HK5WLx4MevXrwcgISGB0tJS1q5di8vlAqCiooKtW7fS2toKwNy5c3G5XGzbtg2A3NxcMjMzA8WdkpKSKCkpobKyEo/HA8DixYupra2lra0NgOLiYrq6uqirqwMgLy+PtLQ0qqurAUhNTaW4uJjVq1cjpUQIwZIlS3j99dcDdxWWlJTQ3t5OfX09AAUFBSQmJlJTUxPUfgIoLS01bT+9/fbbJCQkhGQ/ZWdnk5OTM+b9JHwDzIrZS7qvDcuauxiwp7F9wU+ZX346lZWV7N/yGgkJCSHbTzU1NXR0dJi2n9xuNyUlJRH3fRpuP3V3d+NwOCLy+zTcftq4cSMJCQlB76c77riD5cuX42cKR0JKacofUA6sGDJ9O3D7MMudCWwGMo60rYULF8qxsnLlyjGvO9Go5CqlWr4R49rbIeWfTpXyB0nG3x9KpWyrO2SRiHENEpV8VXKVcny+QJU8Qkw184z/HWCWECIfaAKuAD4zdAEhxALgfuBcKWWrGRIq1eVQyRXU8o0IV3cvPHm50UXz4vuNoQ8Tp4Pl0M51EeF6FKjkq5IrmOdrapE2IcQngN8CVuAhKeVPhRA/wjgSvSiEeA2YBzT7V9klpfzk4dvRA7FolMXng+qH4aPXjSEQDzTCZX+FOReF20wT5YStSJuU8hUp5Wwp5TFSyp/6n/u+lPJF/+MzpZSZUsoT/H8fC/rjZTC/pwIquYJavmFxlRL+/b/w0i3GqFhTj4crnho16KvUrqCWr0quYJ5vRFzcNZPBC0EqoJIrqOU7oa4eN3TUQ/UjsO5eKPsinPsLECKo1VVqV1DLVyVXMM836gO/RjOhvL8cXvo6uP0jJy1cBuf8POigr9FMBFE/EIvL5TJtpPpQo5IrqOU7Ia4bn4fnboDcMlh4HUwthOkLjnozKrUrqOWrkiuMz3dSD8SyY8eOcCsEjUquoJavaa4tm+DV2+Hxyw4G/aufM8a+HUPQB7XaFdTyVckVzPON+sA/eHOHCqjkCmr5muK6cy08eAZUPQRde6D0erjq2XGXTVapXUEtX5VcwTxfnePXaI4G7wC074Dd7xm9dZKyjeqZiZnhNtNogibqA39RUVG4FYJGJVdQyzckrs018NRnoNM/DmrGHLjm+ZAHfZXaFdTyVckVzPON+sDv9XrDrRA0KrmCWr7jdt21Hp78FDiS4MJ7jKJq2aVgiwmN4BBUaldQy1clVzDPN+pz/IMFm1RAJVdQy3dMrns2GiUW7p4HD50DcelGWmfB1TDzZFOCPqjVrqCWr0quYJ5v1J/xazRjYtc6eOLTRnAvOA3SPgOLPg/x6eE202jGTdQH/uzs7HArBI1KrqCWb1CurZuh5mlor4Otr0JyLlz7D0jJNV9wCCq1K6jlq5IrmOcb9YE/Jycn3ApBo5IrqOU7quvWFfDMteDzQupMKLoIzrsL4tImxG8oKrUrqOWrkiuY5xv1OX6VijKp5Apq+Q7r2rIJ1t8PL30DnrrCuNP2G5vhpnfh0gfCEvRBrXYFtXxVcgVdpE2jCS3r7jPuuEWCxQbzPg3n/xocCeE202hMJ+oDf0KCOl9klVxBLd+EhARoqoaWjbBjDXywHI67AM77JSRNj6giaiq1K6jlq5IrmOcb9UXaNBo8LnjlVqNMMoDFDqfcDKd9V6lBzTWao2FSF2kbHKxZBVRyhQj37T8AtS/AW3+AB043gv4pX4eba+C2XXDG9yI26Ed0uw6DSr4quYJ5vlGf6nG5XOFWCBqVXCGCfetWwwtfhK7dxnRqPhvn3M7cs24Lr1eQRGy7HgGVfFVyBfN8oz7wayYBPh9seAJ2vgn7G2BnJaTPgs++BJlzwJnKvtWrw22p0UQMUZ/j93g82GxqHN9UcoUI8JXSuOnqlW8ZQT8hCxKz4LjzofyrEBMXOa5HgUquoJavSq4wPt9JnePfunVruBWCRiVXCJOvlEbu/p6T4EfpcF+5MZD5hffANz+EL6yGJd8+JOiHzXWMqOQKavmq5Arm+UZ94G9tbQ23QtCo5AoT6NvfCR++DG8/AE9cBsuvM/ren/I1+MSv4GvvGYXTRuiSqVLbquQKavmq5Arm+arzm0cz+fB5jf72//4e9Pi/APFT4awfwUlfAav++Go0YyHqvzlz584Nt0LQqOQKJvnu3wWrfgE734LuFhjoheklcNlfYMpsI/CPoRumSm2rkiuo5auSK5jnG/WBX6XuWyq5Qoh8e9th8z9h/06jR87mFwEBs8+GpBzIXQTHfxIs48tKqtS2KrmCWr4quYLuzjlmtm3bpkwpVpVcYYy+PW3QsM44m2+pNcogu7tBWI2iaPM/DYu/HfJSyCq1rUquoJavSq5gnm/UB35NmOncbXS57OuAupXwwbPg6Tfm2WKN8sflX4bMeeM+q9doNMER9YE/N3diB9EYDyq5whF8u1pg93vQs9dI22z7D+C/V8QeD/MvhxOuMs7onWlgjw2fa4Sikiuo5auSK5jnG/WBPzMzM9wKQaOSK0BWggU2v2Skbbqa4aPXoendgwskToPFt0LBUiONkzLzY/3rJwqV2lYlV1DLVyVXMM836gN/VVUVS5cuDbdGUESsq5TGxdfd7xkDkPfug71bidu1lsDZPAKyF8Lpd0DeYmNg8rSCiEnfRGzbDoNKrqCWr0quYJ5v1Ad+TZD07Ye27UaA72mD1k2w531j/FlXF/g8xnIWm5GiScykPu8K8s+4AZJzjEBviwnrW9BoNMFhauAXQpwL/A6wAg9KKX9x2HwH8CiwEGgDLpdS1ofSISkpKZSbMxVTXKU0uky2f2SkYwb6oGuPEdDb66Bnn5GP79136HqxyZA1H+ZcDLEpRnDPLoGMIrA5AOioriY/tyT0ziag2ufAJ310ubtwe91YhAWJZH//froHurEKK1aLlZ6BHva79mPBgs1iwyu9dPR34PF5iLHGYLPY6HR30jvQS4w1hlhrLC6viwPuA1iFFYfVgUTS6erEIz04bU4cVgc9Az30efqItcUSb4vHK710ubtwWB0kxCRgt9jpHug2XGOSaPO00fJhC/3efmKsMTisDuwWO26vG5vFRqwtllhrLD7pAyDOHkecLQ6bxYZP+nDanMTZ43DanFiFlRhrDDFWc04iVPocgHm+phVpE0JYga3AWUAj8A5wpZRy05BlvgzMl1J+UQhxBXCxlPLyw7c1aQdi8fmMro4DfcaNTO5uo3yBq9P4d6AH3D1GYO9rN87M3T1GMO9uBdcBcPeCb+Dj246bYqRiEjONM/j0Y4yKlmn54EyFhMyIGpVqIpBSMuAbwOPzBP7t9/bTN9CHR3rwSR9ur5s+Tx9urxuv9OKVXnoGeugZ6MEnffikj15PLz3uHtw+Nz7pw+V1sb9/PwP+/eCVXg64DtDr6UVgtHH3QDcHXAcAsAorHp8Hj/SY8j4FAsnB732MxThI9Hn6kEhsFhtxtjj6Pf24fW4A4mxxuH1uPD5znA7HaXMSb48HjP3isDqItcVit9ixCAt2qx2nzYnT6sQiLFgtVuJsccTZ47Bb7FiF1Thw2eNx2pzYLXbj4GeLDUzbLXZsFhtWYQ1sM8ZiHHQG/7Vb7diEDaHgd2GkIm1mnvEvArZLKev8Ek8DFwKbhixzIXCn//GzwB+FEEKG6Gj0WuXP2NW4k+nTpxtnvkj/vyD9Zx8gkYfMG5w25h0yLQfXGzJfDv55wedF+jxGWsTnRUrjX+PPY8zzL4f0IIfMw+fF7eojxmoxlvW6D3Z7HPKKAPKwz6DEYlw0tTnB5kDGxMO0AuM5qx1iEow7Xp0pSIsdHIlgiz3ky29s5wC0bzg4PWQ3HL4swEcffcQxxxwz6rKH706JxOMzAulgQPX6jCDqk77AvMHAOjjPK734fEdY57DnDllH+ujq6cIR6/jYNj0+Dx6fJ+RBzWlzEmONQSCIscaQ6kjFYTV+KQkhmBo3lXhbPNL/X7w9nuSYZIQQ7GrYRd6MPNJi03BYHYEz5RRHCgkxCfikjwHfAPH2eFIcKQB4fB6EEKQ50rBbjbPtAd8ASTFJxNvjcXld9Hv6cdgcJNiN4fzcXjcSSaw1FiFE4MBnt9gDgW7AOxAIrIPruLwu4mzGRfrugW5WvbWKU046hRhrDAPegcBrx1hjjIOnp59+b7+xTQm9nl76PH0M+AawCit9nr7Ar4zBA2Wnq5Puge6Ah9vrDhyIpJSBA/AB14FAe/R5+ugd6MXj8+CVXlze0N38ZBM24yBhsQYOGDaL7ZDHNmELHCjsFjs2qw27sGO1GAcWm7BhsViMX2z+g43NYjPad/A5/3yBwGqx0trYyg8v+GHI3kfg/YR8iwfJBhqGTDcCZUdaRkrpEUIcANKBQ/IOzc3NFBYWAuBwOFi2bBkLFiwAID09nTlz5rBmzRoAbDYbFRUVVFdXc/u2J+i3WGBH6N9cSLBwaJm82MFSBHb/X/xRbtAH9Bl/rn0wETcptoVmMxaM4GLBgpAicAZmtVjxeXxYsGC32YmNicXV70IgsFlsJCYk0t/bj/RJrFhJTk4GN3hdXqzCSkpCCjaLDWevkxhvDPFx8SQnJrNv7z4sWHDYHGRPz2bfnn3gNc62C2YW0Lm/k56uHuzCTkFuAVasNDc1YxVWsjOyycnKYdPGTViEhbSENMpKyniv6j0G3APYhZ0lpy5h69atgSJbc+fOxeVysW3bNsDoppeZmcngL9mk2CRKSkqorKxklm0WCZ0JLD5hMbW1tbS1GY1cXFxMV1cXdXV1WLGSlZdFWnwa1dXVAKSmpjKteBqrV69GSokQgiVLllBTU0NHRwcAJSUl7Nq9i/r6egAKCgpITEykpqYGOPh9Wu0fv2Do96mzsxOA0tJS6hvqaWgwvt7OASf0QPVGwyMjI4PZs2dTWVkJGN/Z8vJyqqqq6O42UkRlZWU0NjbS1NSEEycnFJ6A1Wpl0ybjvDArK4v8/PzACFROp5OyijLWr19PX18fWKF8STk7duxgz549ABQVFeH1etmyZYuxjelZTMmawlvvvIVHerA77ezv3o+0S/pcffjwUXh8IQ1NDXTs78CDh6zpWfS6e9ndshuP9BCXFIcz3klDUwM+fFjtVtKmpNG4u5EB3wBen5e0tDTa97fT5+7DLd1Y4610ubro7uvGJ33YYmxggd6+Xnz4QIDVbjUcpA8fPixWCwNeY3uDJwM+fCSKRE5bddoR99Phce+OO+5g+fLlg1+rKUf6vpmZ6rkMOFdK+Tn/9DVAmZTyq0OW2ehfptE//ZF/mUMC/1hTPXU7/sv777/PvHnzQQjjZ/XgTzYhAAsIQFgQWA6Zd3Ba+P+3gDCeMxYbnCcQwmKM42q1GXegDjkjFxx6en74T8ah89etW0f5SeVHXPZI64223ZBt57Bl33zzTSoqKobf7ijbsVqsxhmQsGARFtN/Sq9atUqZ3hwquYJaviq5Ary+8nVOP+30Ma07UqrHzMBfDtwppTzHP307gJTy50OWWeFfZq0QwgbsAaYenuoZT47f5/NhiZAuhaOhkiuo5atdzUMlX5VcYXy+4RqI5R1glhAiXwgRA1wBvHjYMi8Cn/U/vgx4PVT5/UFqa2tDuTlTUckV1PLVruahkq9KrmCer2k5fn/O/qvACozunA9JKWuFED8CqqSULwJ/AR4TQmwH2jEODiFlMD+qAiq5glq+2tU8VPJVyRXM8zW1H7+U8hXglcOe+/6Qx/3Ap8x00Gg0Gs2hqJPsGiPFxcXhVggalVxBLV/tah4q+arkCub5Rn3gv//++8OtEDQquYJavtrVPFTyVckVzPM1rVdPKBlPr57CwsJAv95IRyVXUMtXu5qHSr4qucL4fMPVq0ej0Wg0EYgSZ/xCiL3AzjGuPoXD7gSOYFRyBbV8tat5qOSrkiuMz3emlHLqcDOUCPwajUajCR061aPRaDSTDB34NRqNZpIRtYFfCHGuEGKLEGK7EOK2cPuMhBDiISFEq79oXUQjhMgVQqwUQmwSQtQKIW4Ot9NICCFihRBvCyFq/L6hr3EbYoQQViHEe0KIl8LtMhpCiHohxAdCiA1CiIgeNEMIkSKEeFYI8aEQYrO/nljEIYQo9Lfn4F+nEOLrIX2NaMzxBzMITCQhhFgMdAOPSinnhttnJIQQ04BpUspqIUQi8C5wUQS3rQDipZTdQgg7UAncLKVcF2a1IyKE+AZQCiRJKS8It89ICCHqgdLDK+pGIkKIR4A3pJQP+uuHxUkp94dZa0T8sawJo2rxWDu4fIxoPeMPDAIjpXQDg4PARCRSyjUYtYoiHills5Sy2v+4C9iMMa5CRCINuv2TgwMdROzZjhAiBzgfeDDcLtGEECIZWIxRHwwppTvSg76fM4CPQhn0IXoD/3CDwERscFIVIUQesABYH2aVEfGnTjYArcB/pJSR7Ptb4NsYo+qogAT+LYR4Vwjx+XDLjEA+sBf4qz+N9qAQ4mhHOgoHVwBPhXqj0Rr4NSYjhEgAngO+LqXsDLfPSEgpvVLKE4AcYJEQIiLTaUKIC4BWKeW74XY5CiqklCXAecBX/GnLSMQGlAD3SSkXAD1ApF/7iwE+CSwfbdmjJVoDfxOQO2Q6x/+cJgT4c+XPAU9IKZ8Pt0+w+H/arwTODbPKkTgF+KQ/b/40cLoQ4vHwKo2MlLLJ/28r8AJGmjUSaQQah/zaexbjQBDJnAdUSylbQr3haA38wQwCoxkD/oulfwE2Syl/E26f0RBCTBVCpPgfOzEu+H8YVqkjIKW8XUqZI6XMw/jMvi6lvDrMWkdECBHvv8CPP21yNhCRPdOklHuABiFEof+pM4CI7JAwhCsxIc0DJtfjDxdHGgQmzFpHRAjxFLAUmCKEaAR+IKX8S3itjsgpwDXAB/68OcB3/WMvRCLTgEf8vSMswDNSyojvJqkImcAL/vGSbcCTUspXw6s0IjcBT/hPBuuAZWH2OSL+A+lZwBdM2X40dufUaDQazZGJ1lSPRqPRaI6ADvwajUYzydCBX6PRaCYZOvBrNBrNJEMHfo1Go5lk6MCv0Wg0kwwd+DVRjRAifUh52z1CiCb/424hxL0mvN7DQogdQogvjnH9lX63YQfJ1mhCQVTewKXRDCKlbANOABBC3Al0Syl/ZfLL3iqlfHYsK0opTxNCrAqxj0ZzCPqMXzMpEUIsHRzoRAhxpxDiESHEG0KInUKIS4QQv/QPMPKqvzYRQoiFQojV/kqUK/xjE4z2Og8LIX4vhHhLCFEnhLjM//w0IcQa/6+PjUKIU819xxrNQXTg12gMjgFOx6iG+DiwUko5D+gDzvcH/z8Al0kpFwIPAT8NctvTgArgAuAX/uc+A6zwVw0tBjaE5m1oNKOjUz0ajcG/pJQDQogPMOo7Ddac+QDIAwqBucB//LVprEBzkNv+u5TSB2wSQmT6n3sHeMh/QPm7lHJDSN6FRhME+oxfozFwAfgD9IA8WMTKh3GCJIBaKeUJ/r95Usqzj2bbfoT/ddZgjAjVBDwshLg2FG9CowkGHfg1muDYAkwdHKBbCGEXQswZ68aEEDOBFinlAxjDLEZ6bXhNFKFTPRpNEEgp3f4Ls7/3j99qwxgmcazlvpcCtwohBoBuQJ/xayYMXZZZowkhQoiHgZfG2p3Tv41VwLeklFWh8tJohqJTPRpNaDkA/Hg8N3ABBcBASK00miHoM36NRqOZZOgzfo1Go5lk6MCv0Wg0kwwd+DUajWaSoQO/RqPRTDJ04NdoNJpJxv8Dw9O4xnCoATQAAAAASUVORK5CYII=\n",
      "text/plain": [
       "<Figure size 432x288 with 1 Axes>"
      ]
     },
     "metadata": {
      "needs_background": "light"
     },
     "output_type": "display_data"
    }
   ],
   "source": [
    "simulation.compute_propagators()\n",
    "plot_dynamics(simulation, init_state, barely_a_seq)"
   ]
  },
  {
   "cell_type": "code",
   "execution_count": 22,
   "metadata": {},
   "outputs": [
    {
     "data": {
      "text/plain": [
       "0.0006429346364311694"
      ]
     },
     "execution_count": 22,
     "metadata": {},
     "output_type": "execute_result"
    }
   ],
   "source": [
    "opt.current_best_goal"
   ]
  },
  {
   "cell_type": "code",
   "execution_count": 23,
   "metadata": {
    "scrolled": true
   },
   "outputs": [
    {
     "name": "stdout",
     "output_type": "stream",
     "text": [
      "rx90p[0]-d1-gauss-amp                 : 376.655 mV \n",
      "ry90p[0]-d1-gauss-amp\n",
      "rx90m[0]-d1-gauss-amp\n",
      "ry90m[0]-d1-gauss-amp\n",
      "\n",
      "rx90p[0]-d1-gauss-delta               : -954.644 m \n",
      "ry90p[0]-d1-gauss-delta\n",
      "rx90m[0]-d1-gauss-delta\n",
      "ry90m[0]-d1-gauss-delta\n",
      "\n",
      "rx90p[0]-d1-gauss-freq_offset         : -50.333 MHz 2pi \n",
      "ry90p[0]-d1-gauss-freq_offset\n",
      "rx90m[0]-d1-gauss-freq_offset\n",
      "ry90m[0]-d1-gauss-freq_offset\n",
      "\n",
      "rx90p[0]-d1-carrier-framechange       : -1.479 mrad \n",
      "ry90p[0]-d1-carrier-framechange\n",
      "rx90m[0]-d1-carrier-framechange\n",
      "ry90m[0]-d1-carrier-framechange\n",
      "\n",
      "\n"
     ]
    }
   ],
   "source": [
    "parameter_map.print_parameters()"
   ]
  },
  {
   "cell_type": "markdown",
   "metadata": {},
   "source": [
    "### Qiskit circuit with Optimized gates"
   ]
  },
  {
   "cell_type": "code",
   "execution_count": 24,
   "metadata": {},
   "outputs": [
    {
     "name": "stdout",
     "output_type": "stream",
     "text": [
      "Result from unoptimized gates:\n",
      "{'(0,)': 0.5008471433315875,\n",
      " '(1,)': 0.4983312067474639,\n",
      " '(2,)': 0.0008216499209371972}\n"
     ]
    }
   ],
   "source": [
    "qiskit_exp = copy.deepcopy(simulation)\n",
    "c3_backend.set_c3_experiment(qiskit_exp)\n",
    "c3_job_unopt = c3_backend.run(qc)\n",
    "result_unopt = c3_job_unopt.result()\n",
    "res_pops_unopt = result_unopt.data()[\"state_pops\"]\n",
    "print(\"Result from unoptimized gates:\") \n",
    "pprint(res_pops_unopt)"
   ]
  },
  {
   "cell_type": "code",
   "execution_count": 25,
   "metadata": {},
   "outputs": [
    {
     "data": {
      "image/png": "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\n",
      "text/plain": [
       "<Figure size 504x360 with 1 Axes>"
      ]
     },
     "execution_count": 25,
     "metadata": {},
     "output_type": "execute_result"
    }
   ],
   "source": [
    "plot_histogram(res_pops_unopt, title='Simulation of Qiskit circuit with Optimized Gates')"
   ]
  },
  {
   "cell_type": "markdown",
   "metadata": {},
   "source": [
    "# Simulated calibration\n",
    "\n",
    "Calibration of control pulses is the process of fine-tuning parameters in a feedback-loop with the experiment. We will simulate this process here by constructing a black-box simulation and interacting with it exactly like an experiment.\n",
    "\n",
    "We have manange imports and creation of the black-box the same way as in the previous example in a helper `single_qubit_experiment.py`."
   ]
  },
  {
   "cell_type": "code",
   "execution_count": 26,
   "metadata": {},
   "outputs": [],
   "source": [
    "from single_qubit_experiment import create_experiment\n",
    "\n",
    "blackbox = create_experiment()"
   ]
  },
  {
   "cell_type": "markdown",
   "metadata": {},
   "source": [
    "This blackbox is constructed the same way as above. The difference will be in how we interact with it. First, we decide on what experiment we want to perform and need to specify it as a python function. A general, minimal example would be\n",
    "\n",
    "```\n",
    "def exp_communication(params):\n",
    "    # Send parameters to experiment controller\n",
    "    # and recieve a measurement result.\n",
    "    return measurement_result\n",
    " ```\n",
    "\n",
    "Again, `params` is a linear vector of bare numbers. The measurement result can be a single number or a set of results. It can also include additional information about statistics, like averaging, standard deviation, etc."
   ]
  },
  {
   "cell_type": "markdown",
   "metadata": {},
   "source": [
    "### ORBIT - Single-length randomized benchmarking\n",
    "The following defines an [ORBIT](https://arxiv.org/abs/1403.0035) procedure. In short, we define sequences of gates that result in an identity gate if our individual gates are perfect. Any deviation from identity gives us a measure of the imperfections in our gates. Our helper `qt_utils` provides these sequences."
   ]
  },
  {
   "cell_type": "code",
   "execution_count": 27,
   "metadata": {},
   "outputs": [],
   "source": [
    "from c3.utils import qt_utils"
   ]
  },
  {
   "cell_type": "code",
   "execution_count": 28,
   "metadata": {},
   "outputs": [
    {
     "data": {
      "text/plain": [
       "[['rx90m[0]',\n",
       "  'ry90m[0]',\n",
       "  'ry90p[0]',\n",
       "  'rx90m[0]',\n",
       "  'ry90p[0]',\n",
       "  'rx90m[0]',\n",
       "  'ry90p[0]',\n",
       "  'ry90p[0]',\n",
       "  'rx90p[0]',\n",
       "  'ry90m[0]']]"
      ]
     },
     "execution_count": 28,
     "metadata": {},
     "output_type": "execute_result"
    }
   ],
   "source": [
    "qt_utils.single_length_RB(\n",
    "            RB_number=1, RB_length=5, target=0\n",
    "    )"
   ]
  },
  {
   "cell_type": "markdown",
   "metadata": {},
   "source": [
    "The desired number of 5 gates is selected from a specific set (the Clifford group) and has to be decomposed into the available gate-set. Here, this means 4 gates per Clifford, hence a sequence of 20 gates."
   ]
  },
  {
   "cell_type": "markdown",
   "metadata": {},
   "source": [
    "### Qiskit Circuits from Sequences"
   ]
  },
  {
   "cell_type": "markdown",
   "metadata": {},
   "source": [
    "We create a helper function that translates the sequences we generated in the previous step to Qiskit Circuits which can then be used to communicate with the experiment."
   ]
  },
  {
   "cell_type": "code",
   "execution_count": 29,
   "metadata": {},
   "outputs": [],
   "source": [
    "from c3.qiskit.c3_gates import RX90pGate, RX90mGate, RY90pGate, RY90mGate, SetParamsGate\n",
    "from qiskit import QuantumCircuit\n",
    "from typing import List"
   ]
  },
  {
   "cell_type": "code",
   "execution_count": 30,
   "metadata": {},
   "outputs": [],
   "source": [
    "QISKIT_GATE_MAP = { \"rx90p\": RX90pGate, \"rx90m\": RX90mGate, \"ry90p\": RY90pGate, \"ry90m\": RY90mGate}"
   ]
  },
  {
   "cell_type": "code",
   "execution_count": 31,
   "metadata": {},
   "outputs": [],
   "source": [
    "def seqs_to_circuit(seqs: List[List[str]]) -> QuantumCircuit:\n",
    "    circuits = []\n",
    "    for seq in seqs:\n",
    "        qc_sec = QuantumCircuit(1, 1)\n",
    "        for gate in seq:\n",
    "            qc_sec.append(QISKIT_GATE_MAP[gate[:-3]](), [int(gate[-2])])\n",
    "        circuits.append(qc_sec)\n",
    "    return circuits"
   ]
  },
  {
   "cell_type": "code",
   "execution_count": 32,
   "metadata": {},
   "outputs": [
    {
     "name": "stdout",
     "output_type": "stream",
     "text": [
      "[['rx90p[0]', 'ry90m[0]', 'rx90p[0]', 'rx90p[0]', 'ry90m[0]', 'rx90p[0]'], ['ry90p[0]', 'ry90p[0]', 'ry90p[0]', 'ry90p[0]'], ['ry90p[0]', 'rx90p[0]', 'rx90p[0]', 'ry90p[0]', 'rx90p[0]', 'rx90p[0]']]\n"
     ]
    }
   ],
   "source": [
    "seqs = qt_utils.single_length_RB(\n",
    "            RB_number=3, RB_length=2, target=0\n",
    "    )\n",
    "print(seqs)"
   ]
  },
  {
   "cell_type": "code",
   "execution_count": 33,
   "metadata": {},
   "outputs": [
    {
     "data": {
      "text/html": [
       "<pre style=\"word-wrap: normal;white-space: pre;background: #fff0;line-height: 1.1;font-family: &quot;Courier New&quot;,Courier,monospace\">     ┌────────────┐┌────────────┐┌────────────┐┌────────────┐┌────────────┐»\n",
       "  q: ┤ Ry90p(π/2) ├┤ Rx90p(π/2) ├┤ Rx90p(π/2) ├┤ Ry90p(π/2) ├┤ Rx90p(π/2) ├»\n",
       "     └────────────┘└────────────┘└────────────┘└────────────┘└────────────┘»\n",
       "c: 1/══════════════════════════════════════════════════════════════════════»\n",
       "                                                                           »\n",
       "«     ┌────────────┐\n",
       "«  q: ┤ Rx90p(π/2) ├\n",
       "«     └────────────┘\n",
       "«c: 1/══════════════\n",
       "«                   </pre>"
      ],
      "text/plain": [
       "     ┌────────────┐┌────────────┐┌────────────┐┌────────────┐┌────────────┐»\n",
       "  q: ┤ Ry90p(π/2) ├┤ Rx90p(π/2) ├┤ Rx90p(π/2) ├┤ Ry90p(π/2) ├┤ Rx90p(π/2) ├»\n",
       "     └────────────┘└────────────┘└────────────┘└────────────┘└────────────┘»\n",
       "c: 1/══════════════════════════════════════════════════════════════════════»\n",
       "                                                                           »\n",
       "«     ┌────────────┐\n",
       "«  q: ┤ Rx90p(π/2) ├\n",
       "«     └────────────┘\n",
       "«c: 1/══════════════\n",
       "«                   "
      ]
     },
     "execution_count": 33,
     "metadata": {},
     "output_type": "execute_result"
    }
   ],
   "source": [
    "circuits = seqs_to_circuit(seqs)\n",
    "circuits[2].draw()"
   ]
  },
  {
   "cell_type": "markdown",
   "metadata": {},
   "source": [
    "### Communication with the experiment\n",
    "Some of the following code is specific to the fact that this a *simulated* calibration. The interface of the `Calibration` to the experiment is simple: parameters in $\\rightarrow$ results out. We use the qiskit interface here for submitting jobs to the experiment and getting back the results, which are then processed to calculate the ORBIT goal function.\n",
    "\n",
    "The `c3.qiskit` interface provides two pulse level APIs for supplying parameters to the digital twin. One can provide the parameters and the opt_map either in the `options` field of the `backend.run()` call or use the `params` field of the `SetParamsGate` and then append that gate to the circuit. Here, we use the latter one.\n",
    "\n",
    "We limit the RB_length and RB_number below to small values to speed up the demonstration. In an actual experiment, these would be much larger values."
   ]
  },
  {
   "cell_type": "code",
   "execution_count": 34,
   "metadata": {},
   "outputs": [],
   "source": [
    "import numpy as np\n",
    "import tensorflow as tf\n",
    "\n",
    "### ORBIT meta-parameters ###\n",
    "RB_length = 12 # How long each sequence is\n",
    "RB_number = 5  # How many sequences\n",
    "shots = 1000    # How many averages per readout\n",
    "\n",
    "orbit_provider = C3Provider()\n",
    "orbit_exp = blackbox\n",
    "orbit_backend = orbit_provider.get_backend(\"c3_qasm_physics_simulator\")\n",
    "orbit_backend.set_c3_experiment(orbit_exp)\n",
    "\n",
    "def ORBIT_qiskit(params):\n",
    "    \n",
    "    populations = []\n",
    "    results = []\n",
    "    results_std = []\n",
    "    shots_nums = []\n",
    "\n",
    "    # Creating the RB sequences\n",
    "    seqs = qt_utils.single_length_RB(\n",
    "            RB_number=RB_number, RB_length=RB_length, target=0\n",
    "    )\n",
    "    orbit_exp.set_opt_gates_seq(seqs) # speeds up the simulation of circuits\n",
    "    circuits = seqs_to_circuit(seqs)\n",
    "    params_as_dict = [param.asdict() for param in params]\n",
    "\n",
    "\n",
    "    for circuit in circuits:\n",
    "        circuit.append(SetParamsGate(params = [params_as_dict, gateset_opt_map]), [0])\n",
    "        orbit_job = orbit_backend.run(circuit)\n",
    "        orbit_result = orbit_job.result().data()[\"state_pops\"]\n",
    "        populations.append(list(orbit_result.values()))\n",
    "        \n",
    "    for pop in populations:\n",
    "        excited_pop = np.array(list(orbit_result.values())[1:]).sum() # total excited states population\n",
    "        results.append(np.array([excited_pop]))\n",
    "        results_std.append([0])\n",
    "        shots_nums.append([shots])\n",
    "\n",
    "    goal = np.mean(results) # average of the excited state populations from every circuit\n",
    "    return goal, results, results_std, seqs, shots_nums"
   ]
  },
  {
   "cell_type": "markdown",
   "metadata": {},
   "source": [
    "### Optimization\n",
    "We first import algorithms and the correct optimizer object."
   ]
  },
  {
   "cell_type": "code",
   "execution_count": 35,
   "metadata": {},
   "outputs": [],
   "source": [
    "from c3.libraries.algorithms import cmaes\n",
    "from c3.optimizers.calibration import Calibration"
   ]
  },
  {
   "cell_type": "markdown",
   "metadata": {},
   "source": [
    "### Representation of the experiment within $C^3$\n",
    "At this point we have to make sure that the gates (\"RX90p\", etc.) and drive line (\"d1\") are compatible to the experiment controller operating the blackbox. We mirror the blackbox by creating an experiment in the $C^3$ context:"
   ]
  },
  {
   "cell_type": "markdown",
   "metadata": {},
   "source": [
    "It is important to note that in this example, we are transmitting only these four parameters to the experiment. We don't know how the blackbox will implement the pulse shapes and care has to be taken that the parameters are understood on the other end. Optionally, we could specifiy a virtual AWG within $C^3$ and transmit pixilated pulse shapes directly to the physiscal AWG."
   ]
  },
  {
   "cell_type": "markdown",
   "metadata": {},
   "source": [
    "### Algorithms\n",
    "As an optimization algoritm, we choose [CMA-Es](https://en.wikipedia.org/wiki/CMA-ES) and set up some options specific to this algorithm."
   ]
  },
  {
   "cell_type": "markdown",
   "metadata": {},
   "source": [
    "#### Maximum Evaluations\n",
    "We set the maximum number of evaluations to 30 for quick demonstration. Ideally around 250 function evaluations are useful for a good optimization. See [docs](https://c3-toolset.readthedocs.io/en/latest/Simulated_calibration.html#analysis) for a longer run."
   ]
  },
  {
   "cell_type": "code",
   "execution_count": 36,
   "metadata": {},
   "outputs": [],
   "source": [
    "alg_options = {\n",
    "    \"popsize\" : 10,\n",
    "    \"maxfevals\" : 300,\n",
    "    \"init_point\" : \"True\",\n",
    "    \"tolfun\" : 0.01,\n",
    "    \"spread\" : 0.1\n",
    "  }"
   ]
  },
  {
   "cell_type": "markdown",
   "metadata": {},
   "source": [
    "We define the subspace as both excited states $\\{|1>,|2>\\}$, assuming read-out can distinguish between 0, 1 and 2."
   ]
  },
  {
   "cell_type": "code",
   "execution_count": 37,
   "metadata": {},
   "outputs": [],
   "source": [
    "state_labels = {\n",
    "      \"excited\" : [(1,), (2,)]\n",
    "  }"
   ]
  },
  {
   "cell_type": "markdown",
   "metadata": {},
   "source": [
    "In the real world, this setup needs to be handled in the experiment controller side.\n",
    "We construct the optimizer object with the options we setup:"
   ]
  },
  {
   "cell_type": "code",
   "execution_count": 38,
   "metadata": {},
   "outputs": [],
   "source": [
    "# Create a temporary directory to store logfiles, modify as needed\n",
    "log_dir = \"c3example_calibration\"\n",
    "\n",
    "opt = Calibration(\n",
    "    dir_path=log_dir,\n",
    "    run_name=\"ORBIT_cal\",\n",
    "    eval_func=ORBIT_qiskit,\n",
    "    pmap=parameter_map,\n",
    "    exp_right=simulation,\n",
    "    algorithm=cmaes,\n",
    "    options=alg_options\n",
    ")"
   ]
  },
  {
   "cell_type": "markdown",
   "metadata": {},
   "source": [
    "And run the calibration:"
   ]
  },
  {
   "cell_type": "code",
   "execution_count": 39,
   "metadata": {},
   "outputs": [],
   "source": [
    "x = parameter_map.get_parameters_scaled()"
   ]
  },
  {
   "cell_type": "code",
   "execution_count": 40,
   "metadata": {},
   "outputs": [
    {
     "name": "stdout",
     "output_type": "stream",
     "text": [
      "C3:STATUS:Saving as: /home/users/anurag/dev/c3/examples/c3example_calibration/ORBIT_cal/2022_05_22_T_18_45_12/calibration.log\n",
      "(5_w,10)-aCMA-ES (mu_w=3.2,w_1=45%) in dimension 4 (seed=350766, Sun May 22 18:45:12 2022)\n",
      "C3:STATUS:Adding initial point to CMA sample.\n",
      "Iterat #Fevals   function value  axis ratio  sigma  min&max std  t[m:s]\n",
      "    1     11 2.064727130572633e-02 1.0e+00 9.35e-02  8e-02  1e-01 0:07.9\n",
      "    2     21 4.654613390877878e-02 1.4e+00 9.17e-02  7e-02  1e-01 0:14.9\n",
      "    3     31 1.564835732965136e-02 1.7e+00 9.06e-02  7e-02  1e-01 0:21.9\n",
      "    4     41 2.372861264474585e-02 1.8e+00 7.26e-02  5e-02  8e-02 0:29.0\n",
      "    5     51 2.603093161908611e-02 2.0e+00 6.90e-02  4e-02  8e-02 0:36.1\n",
      "    6     61 4.233210543166218e-03 2.5e+00 7.19e-02  4e-02  8e-02 0:43.2\n",
      "    7     71 8.486604193596581e-03 2.9e+00 8.32e-02  4e-02  9e-02 0:50.2\n",
      "    8     81 7.154936233793581e-03 3.0e+00 8.25e-02  3e-02  9e-02 0:57.3\n",
      "   10    101 5.388971077584646e-03 3.5e+00 7.43e-02  3e-02  9e-02 1:11.6\n",
      "   12    121 5.857336668603502e-03 4.2e+00 5.82e-02  2e-02  7e-02 1:26.0\n",
      "   14    141 3.200750444244026e-03 5.2e+00 4.98e-02  1e-02  5e-02 1:40.4\n",
      "   16    161 6.022331649275468e-03 6.3e+00 4.75e-02  1e-02  5e-02 1:54.5\n",
      "   18    181 4.668075021312007e-03 6.5e+00 3.76e-02  8e-03  4e-02 2:08.5\n",
      "   20    201 5.706883331642753e-03 8.6e+00 4.22e-02  7e-03  5e-02 2:22.5\n",
      "   22    221 8.721515224469737e-03 1.5e+01 4.39e-02  7e-03  6e-02 2:36.7\n",
      "   25    251 7.529785851623417e-03 1.8e+01 4.46e-02  7e-03  7e-02 2:58.1\n",
      "   28    281 1.109851363969153e-03 1.3e+01 5.15e-02  8e-03  7e-02 3:19.2\n",
      "   30    301 3.519314963860972e-03 1.3e+01 4.51e-02  7e-03  7e-02 3:33.3\n",
      "termination on maxfevals=300\n",
      "final/bestever f-value = 3.519315e-03 1.109851e-03\n",
      "incumbent solution: [-0.5362630061579086, -0.017450838828811786, -0.20547112934409512, -0.48016706884887106]\n",
      "std deviation: [0.04266222936556703, 0.027116365603572244, 0.06795461450230433, 0.0073183371041180304]\n"
     ]
    }
   ],
   "source": [
    "opt.optimize_controls()"
   ]
  },
  {
   "cell_type": "markdown",
   "metadata": {},
   "source": [
    "## Analysis\n",
    "The following code uses matplotlib to create an ORBIT plot from the logfile."
   ]
  },
  {
   "cell_type": "code",
   "execution_count": 41,
   "metadata": {},
   "outputs": [
    {
     "data": {
      "text/plain": [
       "[<matplotlib.lines.Line2D at 0x7f1cc2a4ec70>]"
      ]
     },
     "execution_count": 41,
     "metadata": {},
     "output_type": "execute_result"
    },
    {
     "data": {
      "image/png": "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\n",
      "text/plain": [
       "<Figure size 432x288 with 1 Axes>"
      ]
     },
     "metadata": {
      "needs_background": "light"
     },
     "output_type": "display_data"
    }
   ],
   "source": [
    "import json\n",
    "from matplotlib.ticker import MaxNLocator\n",
    "from  matplotlib import rcParams\n",
    "from matplotlib import cycler\n",
    "import matplotlib as mpl\n",
    "import matplotlib.pyplot as plt\n",
    "\n",
    "rcParams['xtick.direction'] = 'in'\n",
    "rcParams['axes.grid'] = True\n",
    "rcParams['grid.linestyle'] = '--'\n",
    "rcParams['markers.fillstyle'] = 'none'\n",
    "rcParams['axes.prop_cycle'] = cycler(\n",
    "    'linestyle', [\"-\", \"--\"]\n",
    ")\n",
    "\n",
    "# enable usetex by setting it to True if LaTeX is installed\n",
    "rcParams['text.usetex'] = False\n",
    "rcParams['font.size'] = 16\n",
    "rcParams['font.family'] = 'serif'\n",
    "\n",
    "logfilename = opt.logdir + \"calibration.log\"\n",
    "with open(logfilename, \"r\") as filename:\n",
    "    log = filename.readlines()\n",
    "    \n",
    "\n",
    "options = json.loads(log[7])\n",
    "\n",
    "goal_function = []\n",
    "batch = 0\n",
    "batch_size = options[\"popsize\"]\n",
    "\n",
    "\n",
    "eval = 0\n",
    "for line in log[9:]:\n",
    "    if line[0] == \"{\":\n",
    "        if not eval % batch_size:\n",
    "            batch = eval // batch_size\n",
    "            goal_function.append([])\n",
    "        eval += 1\n",
    "        point = json.loads(line)\n",
    "        if 'goal' in point.keys():\n",
    "            goal_function[batch].append(point['goal'])\n",
    "\n",
    "# Clean unfinished batch\n",
    "if len(goal_function[-1])<batch_size:\n",
    "    goal_function.pop(-1)\n",
    "\n",
    "fig, ax = plt.subplots(1)\n",
    "means = []\n",
    "bests = []\n",
    "for ii in range(len(goal_function)):\n",
    "    means.append(np.mean(np.array(goal_function[ii])))\n",
    "    bests.append(np.min(np.array(goal_function[ii])))\n",
    "    for pt in goal_function[ii]:\n",
    "        ax.plot(ii+1, pt, color='tab:blue', marker=\"D\", markersize=2.5, linewidth=0)\n",
    "\n",
    "ax.xaxis.set_major_locator(MaxNLocator(integer=True))\n",
    "ax.set_ylabel('ORBIT')\n",
    "ax.set_xlabel('Iterations')\n",
    "ax.plot(\n",
    "    range(1, len(goal_function)+1), bests, color=\"tab:red\", marker=\"D\",\n",
    "    markersize=5.5, linewidth=0, fillstyle='full'\n",
    ")\n"
   ]
  },
  {
   "cell_type": "markdown",
   "metadata": {},
   "source": [
    "# Model Learning on Dataset from a Simulated Experiment"
   ]
  },
  {
   "cell_type": "markdown",
   "metadata": {},
   "source": [
    "In this notebook, we will use a dataset from a simulated experiment, more specifically, the `Simulated_calibration.ipynb` example notebook and perform Model Learning on a simple 1 qubit model."
   ]
  },
  {
   "cell_type": "markdown",
   "metadata": {},
   "source": [
    "### Imports"
   ]
  },
  {
   "cell_type": "code",
   "execution_count": 42,
   "metadata": {
    "execution": {
     "iopub.execute_input": "2021-06-30T06:29:16.689570Z",
     "iopub.status.busy": "2021-06-30T06:29:16.684069Z",
     "iopub.status.idle": "2021-06-30T06:29:24.343696Z",
     "shell.execute_reply": "2021-06-30T06:29:24.343985Z"
    }
   },
   "outputs": [
    {
     "name": "stdout",
     "output_type": "stream",
     "text": [
      "\u001b[33mWARNING: You are using pip version 22.0.4; however, version 22.1.1 is available.\r\n",
      "You should consider upgrading via the '/home/users/anurag/miniconda3/envs/c3-py39/bin/python -m pip install --upgrade pip' command.\u001b[0m\u001b[33m\r\n",
      "\u001b[0m"
     ]
    }
   ],
   "source": [
    "!pip install -q pandas\n",
    "import pickle\n",
    "from pprint import pprint\n",
    "import copy\n",
    "import numpy as np\n",
    "import os\n",
    "import ast\n",
    "import hjson\n",
    "import pandas as pd\n",
    "\n",
    "from c3.model import Model as Mdl\n",
    "from c3.c3objs import Quantity as Quantity\n",
    "from c3.parametermap import ParameterMap as PMap\n",
    "from c3.experiment import Experiment as Exp\n",
    "from c3.generator.generator import Generator as Gnr\n",
    "import c3.signal.gates as gates\n",
    "import c3.libraries.chip as chip\n",
    "import c3.generator.devices as devices\n",
    "import c3.libraries.hamiltonians as hamiltonians\n",
    "import c3.signal.pulse as pulse\n",
    "import c3.libraries.envelopes as envelopes\n",
    "import c3.libraries.tasks as tasks\n",
    "from c3.optimizers.modellearning import ModelLearning\n",
    "from c3.optimizers.sensitivity import Sensitivity"
   ]
  },
  {
   "cell_type": "markdown",
   "metadata": {},
   "source": [
    "## The Dataset"
   ]
  },
  {
   "cell_type": "markdown",
   "metadata": {},
   "source": [
    "We first take a look below at the dataset and its properties. To explore more details about how the dataset is generated, please refer to the previous section."
   ]
  },
  {
   "cell_type": "code",
   "execution_count": 43,
   "metadata": {
    "execution": {
     "iopub.execute_input": "2021-06-30T06:29:24.346337Z",
     "iopub.status.busy": "2021-06-30T06:29:24.346012Z",
     "iopub.status.idle": "2021-06-30T06:29:24.347420Z",
     "shell.execute_reply": "2021-06-30T06:29:24.347670Z"
    }
   },
   "outputs": [],
   "source": [
    "DATAFILE_PATH = \"c3example_calibration/recent/dataset.pickle\""
   ]
  },
  {
   "cell_type": "code",
   "execution_count": 44,
   "metadata": {
    "execution": {
     "iopub.execute_input": "2021-06-30T06:29:24.349797Z",
     "iopub.status.busy": "2021-06-30T06:29:24.349451Z",
     "iopub.status.idle": "2021-06-30T06:29:24.403393Z",
     "shell.execute_reply": "2021-06-30T06:29:24.403893Z"
    }
   },
   "outputs": [],
   "source": [
    "with open(DATAFILE_PATH, \"rb+\") as file:\n",
    "    data = pickle.load(file)"
   ]
  },
  {
   "cell_type": "code",
   "execution_count": 45,
   "metadata": {
    "execution": {
     "iopub.execute_input": "2021-06-30T06:29:24.414664Z",
     "iopub.status.busy": "2021-06-30T06:29:24.414128Z",
     "iopub.status.idle": "2021-06-30T06:29:24.416895Z",
     "shell.execute_reply": "2021-06-30T06:29:24.417303Z"
    }
   },
   "outputs": [
    {
     "data": {
      "text/plain": [
       "dict_keys(['seqs_grouped_by_param_set', 'opt_map'])"
      ]
     },
     "execution_count": 45,
     "metadata": {},
     "output_type": "execute_result"
    }
   ],
   "source": [
    "data.keys()"
   ]
  },
  {
   "cell_type": "markdown",
   "metadata": {},
   "source": [
    "Since this dataset was obtained from an ORBIT ([arXiv:1403.0035](https://arxiv.org/abs/1403.0035)) calibration experiment, we have the `opt_map` which will tell us about the gateset parameters being optimized."
   ]
  },
  {
   "cell_type": "code",
   "execution_count": 46,
   "metadata": {
    "execution": {
     "iopub.execute_input": "2021-06-30T06:29:24.421146Z",
     "iopub.status.busy": "2021-06-30T06:29:24.420618Z",
     "iopub.status.idle": "2021-06-30T06:29:24.423293Z",
     "shell.execute_reply": "2021-06-30T06:29:24.423687Z"
    }
   },
   "outputs": [
    {
     "data": {
      "text/plain": [
       "[['rx90p[0]-d1-gauss-amp',\n",
       "  'ry90p[0]-d1-gauss-amp',\n",
       "  'rx90m[0]-d1-gauss-amp',\n",
       "  'ry90m[0]-d1-gauss-amp'],\n",
       " ['rx90p[0]-d1-gauss-delta',\n",
       "  'ry90p[0]-d1-gauss-delta',\n",
       "  'rx90m[0]-d1-gauss-delta',\n",
       "  'ry90m[0]-d1-gauss-delta'],\n",
       " ['rx90p[0]-d1-gauss-freq_offset',\n",
       "  'ry90p[0]-d1-gauss-freq_offset',\n",
       "  'rx90m[0]-d1-gauss-freq_offset',\n",
       "  'ry90m[0]-d1-gauss-freq_offset'],\n",
       " ['rx90p[0]-d1-carrier-framechange',\n",
       "  'ry90p[0]-d1-carrier-framechange',\n",
       "  'rx90m[0]-d1-carrier-framechange',\n",
       "  'ry90m[0]-d1-carrier-framechange']]"
      ]
     },
     "execution_count": 46,
     "metadata": {},
     "output_type": "execute_result"
    }
   ],
   "source": [
    "data[\"opt_map\"]"
   ]
  },
  {
   "cell_type": "markdown",
   "metadata": {},
   "source": [
    "This `opt_map` implies the calibration experiment focussed on optimizing \n",
    "the amplitude, delta and frequency offset of the gaussian pulse, along \n",
    "with the framechange angle"
   ]
  },
  {
   "cell_type": "markdown",
   "metadata": {},
   "source": [
    "Now onto the actual measurement data from the experiment runs"
   ]
  },
  {
   "cell_type": "code",
   "execution_count": 47,
   "metadata": {
    "execution": {
     "iopub.execute_input": "2021-06-30T06:29:24.426544Z",
     "iopub.status.busy": "2021-06-30T06:29:24.426091Z",
     "iopub.status.idle": "2021-06-30T06:29:24.428263Z",
     "shell.execute_reply": "2021-06-30T06:29:24.427861Z"
    }
   },
   "outputs": [],
   "source": [
    "seqs_data = data[\"seqs_grouped_by_param_set\"]"
   ]
  },
  {
   "cell_type": "markdown",
   "metadata": {},
   "source": [
    "**How many experiment runs do we have?**"
   ]
  },
  {
   "cell_type": "code",
   "execution_count": 48,
   "metadata": {
    "execution": {
     "iopub.execute_input": "2021-06-30T06:29:24.431169Z",
     "iopub.status.busy": "2021-06-30T06:29:24.430725Z",
     "iopub.status.idle": "2021-06-30T06:29:24.433094Z",
     "shell.execute_reply": "2021-06-30T06:29:24.433444Z"
    }
   },
   "outputs": [
    {
     "data": {
      "text/plain": [
       "301"
      ]
     },
     "execution_count": 48,
     "metadata": {},
     "output_type": "execute_result"
    }
   ],
   "source": [
    "len(seqs_data)"
   ]
  },
  {
   "cell_type": "markdown",
   "metadata": {},
   "source": [
    "**What does the data from each experiment look like?**\n",
    "\n",
    "We take a look at the first data point"
   ]
  },
  {
   "cell_type": "code",
   "execution_count": 49,
   "metadata": {
    "execution": {
     "iopub.execute_input": "2021-06-30T06:29:24.436247Z",
     "iopub.status.busy": "2021-06-30T06:29:24.435800Z",
     "iopub.status.idle": "2021-06-30T06:29:24.437588Z",
     "shell.execute_reply": "2021-06-30T06:29:24.437939Z"
    }
   },
   "outputs": [],
   "source": [
    "example_data_point = seqs_data[0]"
   ]
  },
  {
   "cell_type": "code",
   "execution_count": 50,
   "metadata": {
    "execution": {
     "iopub.execute_input": "2021-06-30T06:29:24.440859Z",
     "iopub.status.busy": "2021-06-30T06:29:24.440410Z",
     "iopub.status.idle": "2021-06-30T06:29:24.443139Z",
     "shell.execute_reply": "2021-06-30T06:29:24.442720Z"
    }
   },
   "outputs": [
    {
     "data": {
      "text/plain": [
       "dict_keys(['params', 'seqs', 'results', 'results_std', 'shots'])"
      ]
     },
     "execution_count": 50,
     "metadata": {},
     "output_type": "execute_result"
    }
   ],
   "source": [
    "example_data_point.keys()"
   ]
  },
  {
   "cell_type": "markdown",
   "metadata": {},
   "source": [
    "These `keys` are useful in understanding the structure of the dataset. We look at them one by one."
   ]
  },
  {
   "cell_type": "code",
   "execution_count": 51,
   "metadata": {
    "execution": {
     "iopub.execute_input": "2021-06-30T06:29:24.447311Z",
     "iopub.status.busy": "2021-06-30T06:29:24.446850Z",
     "iopub.status.idle": "2021-06-30T06:29:24.450577Z",
     "shell.execute_reply": "2021-06-30T06:29:24.450890Z"
    }
   },
   "outputs": [
    {
     "data": {
      "text/plain": [
       "[376.655 mV, -954.644 m, -50.333 MHz 2pi, -1.479 mrad]"
      ]
     },
     "execution_count": 51,
     "metadata": {},
     "output_type": "execute_result"
    }
   ],
   "source": [
    "example_data_point[\"params\"]"
   ]
  },
  {
   "cell_type": "markdown",
   "metadata": {},
   "source": [
    "These are the parameters for our parameterised gateset, for the first experiment run. They correspond to the optimization parameters we previously discussed. "
   ]
  },
  {
   "cell_type": "markdown",
   "metadata": {},
   "source": [
    "The `seqs` key stores the sequence of gates that make up this ORBIT calibration experiment. Each ORBIT sequence consists of a set of gates, followed by a measurement operation. This is then repeated for some `n` number of shots (eg, `1000` in this case) and we only store the averaged result along with the standard deviation of these readout shots. Each experiment in turn consists of a number of these ORBIT sequences. The terms *sequence*, *set* and *experiment* are used somewhat loosely here, so we show below what these look like."
   ]
  },
  {
   "cell_type": "markdown",
   "metadata": {},
   "source": [
    "**A single ORBIT sequence**"
   ]
  },
  {
   "cell_type": "code",
   "execution_count": 52,
   "metadata": {
    "execution": {
     "iopub.execute_input": "2021-06-30T06:29:24.454002Z",
     "iopub.status.busy": "2021-06-30T06:29:24.453650Z",
     "iopub.status.idle": "2021-06-30T06:29:24.455626Z",
     "shell.execute_reply": "2021-06-30T06:29:24.455901Z"
    }
   },
   "outputs": [
    {
     "data": {
      "text/plain": [
       "['rx90m[0]',\n",
       " 'ry90m[0]',\n",
       " 'ry90m[0]',\n",
       " 'rx90p[0]',\n",
       " 'rx90p[0]',\n",
       " 'rx90p[0]',\n",
       " 'rx90p[0]',\n",
       " 'rx90p[0]',\n",
       " 'ry90p[0]',\n",
       " 'rx90m[0]']"
      ]
     },
     "execution_count": 52,
     "metadata": {},
     "output_type": "execute_result"
    }
   ],
   "source": [
    "example_data_point[\"seqs\"][0][:10]"
   ]
  },
  {
   "cell_type": "markdown",
   "metadata": {},
   "source": [
    "**Total number of ORBIT sequences in an experiment**"
   ]
  },
  {
   "cell_type": "code",
   "execution_count": 53,
   "metadata": {
    "execution": {
     "iopub.execute_input": "2021-06-30T06:29:24.458262Z",
     "iopub.status.busy": "2021-06-30T06:29:24.457903Z",
     "iopub.status.idle": "2021-06-30T06:29:24.459781Z",
     "shell.execute_reply": "2021-06-30T06:29:24.460029Z"
    }
   },
   "outputs": [
    {
     "data": {
      "text/plain": [
       "5"
      ]
     },
     "execution_count": 53,
     "metadata": {},
     "output_type": "execute_result"
    }
   ],
   "source": [
    "len(example_data_point[\"seqs\"])"
   ]
  },
  {
   "cell_type": "markdown",
   "metadata": {},
   "source": [
    "**Total number of Measurement results**"
   ]
  },
  {
   "cell_type": "code",
   "execution_count": 54,
   "metadata": {
    "execution": {
     "iopub.execute_input": "2021-06-30T06:29:24.462194Z",
     "iopub.status.busy": "2021-06-30T06:29:24.461850Z",
     "iopub.status.idle": "2021-06-30T06:29:24.463711Z",
     "shell.execute_reply": "2021-06-30T06:29:24.463958Z"
    }
   },
   "outputs": [
    {
     "data": {
      "text/plain": [
       "5"
      ]
     },
     "execution_count": 54,
     "metadata": {},
     "output_type": "execute_result"
    }
   ],
   "source": [
    "len(example_data_point[\"results\"])"
   ]
  },
  {
   "cell_type": "markdown",
   "metadata": {},
   "source": [
    "**The measurement results and the standard deviation look like this**"
   ]
  },
  {
   "cell_type": "code",
   "execution_count": 55,
   "metadata": {
    "execution": {
     "iopub.execute_input": "2021-06-30T06:29:24.466251Z",
     "iopub.status.busy": "2021-06-30T06:29:24.465932Z",
     "iopub.status.idle": "2021-06-30T06:29:24.467336Z",
     "shell.execute_reply": "2021-06-30T06:29:24.467583Z"
    }
   },
   "outputs": [],
   "source": [
    "example_results = [\n",
    "    (example_data_point[\"results\"][i], example_data_point[\"results_std\"][i])\n",
    "    for i in range(len(example_data_point[\"results\"]))\n",
    "]"
   ]
  },
  {
   "cell_type": "code",
   "execution_count": 56,
   "metadata": {
    "execution": {
     "iopub.execute_input": "2021-06-30T06:29:24.470224Z",
     "iopub.status.busy": "2021-06-30T06:29:24.469909Z",
     "iopub.status.idle": "2021-06-30T06:29:24.473051Z",
     "shell.execute_reply": "2021-06-30T06:29:24.472782Z"
    }
   },
   "outputs": [
    {
     "name": "stdout",
     "output_type": "stream",
     "text": [
      "[(array([0.02064727]), [0]),\n",
      " (array([0.02064727]), [0]),\n",
      " (array([0.02064727]), [0]),\n",
      " (array([0.02064727]), [0]),\n",
      " (array([0.02064727]), [0])]\n"
     ]
    }
   ],
   "source": [
    "pprint(example_results)"
   ]
  },
  {
   "cell_type": "markdown",
   "metadata": {},
   "source": [
    "## The Model for Model Learning"
   ]
  },
  {
   "cell_type": "markdown",
   "metadata": {},
   "source": [
    "An initial model needs to be provided, which we refine by fitting to our calibration data. We do this below. If you want to learn more about what the various components of the model mean, please refer back to the `two_qubits.ipynb` notebook or the documentation."
   ]
  },
  {
   "cell_type": "code",
   "execution_count": 57,
   "metadata": {
    "execution": {
     "iopub.execute_input": "2021-06-30T06:29:24.517795Z",
     "iopub.status.busy": "2021-06-30T06:29:24.517477Z",
     "iopub.status.idle": "2021-06-30T06:29:24.518939Z",
     "shell.execute_reply": "2021-06-30T06:29:24.519217Z"
    }
   },
   "outputs": [],
   "source": [
    "exp_opt_map = [[('Q1', 'anhar')], [('Q1', 'freq')]]\n",
    "parameter_map.set_opt_map(exp_opt_map)"
   ]
  },
  {
   "cell_type": "markdown",
   "metadata": {},
   "source": [
    "## Optimizer "
   ]
  },
  {
   "cell_type": "code",
   "execution_count": 58,
   "metadata": {
    "execution": {
     "iopub.execute_input": "2021-06-30T06:29:24.522171Z",
     "iopub.status.busy": "2021-06-30T06:29:24.521841Z",
     "iopub.status.idle": "2021-06-30T06:29:24.523305Z",
     "shell.execute_reply": "2021-06-30T06:29:24.523566Z"
    }
   },
   "outputs": [],
   "source": [
    "datafiles = {\"orbit\": DATAFILE_PATH} # path to the dataset\n",
    "run_name = \"simple_model_learning\" # name of the optimization run\n",
    "dir_path = \"ml_logs\" # path to save the learning logs\n",
    "algorithm = \"cma_pre_lbfgs\" # algorithm for learning\n",
    "# this first does a grad-free CMA-ES and then a gradient based LBFGS\n",
    "options = {\n",
    "    \"cmaes\": {\n",
    "        \"popsize\": 12,\n",
    "        \"init_point\": \"True\",\n",
    "        \"stop_at_convergence\": 10,\n",
    "        \"ftarget\": 4,\n",
    "        \"spread\": 0.05,\n",
    "        \"stop_at_sigma\": 0.01,\n",
    "    },\n",
    "    \"lbfgs\": {\"maxfun\": 50, \"disp\": 0},\n",
    "} # options for the algorithms\n",
    "sampling = \"high_std\" # how data points are chosen from the total dataset\n",
    "batch_sizes = {\"orbit\": 2} # how many data points are chosen for learning\n",
    "state_labels = {\n",
    "    \"orbit\": [\n",
    "        [\n",
    "            1,\n",
    "        ],\n",
    "        [\n",
    "            2,\n",
    "        ],\n",
    "    ]\n",
    "} # the excited states of the qubit model, in this case it is 3-level"
   ]
  },
  {
   "cell_type": "code",
   "execution_count": 59,
   "metadata": {
    "execution": {
     "iopub.execute_input": "2021-06-30T06:29:24.525945Z",
     "iopub.status.busy": "2021-06-30T06:29:24.525624Z",
     "iopub.status.idle": "2021-06-30T06:29:24.531653Z",
     "shell.execute_reply": "2021-06-30T06:29:24.531905Z"
    }
   },
   "outputs": [],
   "source": [
    "opt = ModelLearning(\n",
    "    datafiles=datafiles,\n",
    "    run_name=run_name,\n",
    "    dir_path=dir_path,\n",
    "    algorithm=algorithm,\n",
    "    options=options,\n",
    "    sampling=sampling,\n",
    "    batch_sizes=batch_sizes,\n",
    "    state_labels=state_labels,\n",
    "    pmap=parameter_map,\n",
    ")\n",
    "\n",
    "opt.set_exp(simulation)"
   ]
  },
  {
   "cell_type": "markdown",
   "metadata": {},
   "source": [
    "## Model Learning"
   ]
  },
  {
   "cell_type": "markdown",
   "metadata": {},
   "source": [
    "We are now ready to learn from the data and improve our model"
   ]
  },
  {
   "cell_type": "code",
   "execution_count": 60,
   "metadata": {
    "execution": {
     "iopub.execute_input": "2021-06-30T06:29:24.534091Z",
     "iopub.status.busy": "2021-06-30T06:29:24.533766Z",
     "iopub.status.idle": "2021-06-30T06:33:52.900803Z",
     "shell.execute_reply": "2021-06-30T06:33:52.900453Z"
    }
   },
   "outputs": [
    {
     "name": "stdout",
     "output_type": "stream",
     "text": [
      "C3:STATUS:Saving as: /home/users/anurag/dev/c3/examples/ml_logs/simple_model_learning/2022_05_22_T_18_48_50/model_learn.log\n",
      "(6_w,12)-aCMA-ES (mu_w=3.7,w_1=40%) in dimension 2 (seed=359831, Sun May 22 18:48:50 2022)\n",
      "C3:STATUS:Adding initial point to CMA sample.\n",
      "Iterat #Fevals   function value  axis ratio  sigma  min&max std  t[m:s]\n",
      "    1     13 9.856270581909850e+00 1.0e+00 3.71e-02  3e-02  3e-02 0:04.2\n",
      "    2     25 6.855955115345056e+00 1.3e+00 4.84e-02  4e-02  6e-02 0:08.4\n",
      "    3     37 6.609161573653845e+00 2.0e+00 5.50e-02  3e-02  7e-02 0:12.4\n",
      "    4     49 7.156085112108855e+00 2.6e+00 6.19e-02  3e-02  6e-02 0:16.6\n",
      "    5     61 4.792779108249936e+00 2.1e+00 8.72e-02  4e-02  1e-01 0:21.0\n",
      "    7     85 3.040485254384625e+00 4.0e+00 7.30e-02  2e-02  9e-02 0:29.2\n",
      "termination on ftarget=4\n",
      "final/bestever f-value = 3.040485e+00 3.040485e+00\n",
      "incumbent solution: [0.2741045359519472, 0.179155029914147]\n",
      "std deviation: [0.020194417500429104, 0.09104877841522444]\n",
      "C3:STATUS:Saving as: /home/users/anurag/dev/c3/examples/ml_logs/simple_model_learning/2022_05_22_T_18_48_50/confirm.log\n"
     ]
    }
   ],
   "source": [
    "opt.run()"
   ]
  },
  {
   "cell_type": "markdown",
   "metadata": {},
   "source": [
    "### Result of Model Learning"
   ]
  },
  {
   "cell_type": "code",
   "execution_count": 61,
   "metadata": {
    "execution": {
     "iopub.execute_input": "2021-06-30T06:33:52.903299Z",
     "iopub.status.busy": "2021-06-30T06:33:52.902952Z",
     "iopub.status.idle": "2021-06-30T06:33:52.904734Z",
     "shell.execute_reply": "2021-06-30T06:33:52.904981Z"
    }
   },
   "outputs": [
    {
     "data": {
      "text/plain": [
       "1.6434720582181683"
      ]
     },
     "execution_count": 61,
     "metadata": {},
     "output_type": "execute_result"
    }
   ],
   "source": [
    "opt.current_best_goal"
   ]
  },
  {
   "cell_type": "code",
   "execution_count": 62,
   "metadata": {
    "execution": {
     "iopub.execute_input": "2021-06-30T06:33:52.907388Z",
     "iopub.status.busy": "2021-06-30T06:33:52.907044Z",
     "iopub.status.idle": "2021-06-30T06:33:52.908879Z",
     "shell.execute_reply": "2021-06-30T06:33:52.909149Z"
    }
   },
   "outputs": [
    {
     "name": "stdout",
     "output_type": "stream",
     "text": [
      "Q1-anhar                              : -216.025 MHz 2pi \n",
      "Q1-freq                               : 5.001 GHz 2pi \n",
      "\n"
     ]
    }
   ],
   "source": [
    "print(opt.pmap.str_parameters(opt.pmap.opt_map))"
   ]
  },
  {
   "cell_type": "markdown",
   "metadata": {},
   "source": [
    "## Visualisation & Analysis of Results"
   ]
  },
  {
   "cell_type": "markdown",
   "metadata": {},
   "source": [
    "The Model Learning logs provide a useful way to visualise the learning process and also understand what's going wrong (or right). We now process these logs to read some data points and also plot some visualisations of the Model Learning process"
   ]
  },
  {
   "cell_type": "markdown",
   "metadata": {},
   "source": [
    "### Open, Clean-up and Convert Logfiles"
   ]
  },
  {
   "cell_type": "code",
   "execution_count": 63,
   "metadata": {},
   "outputs": [],
   "source": [
    "LOGDIR = opt.logdir"
   ]
  },
  {
   "cell_type": "code",
   "execution_count": 64,
   "metadata": {},
   "outputs": [],
   "source": [
    "logfile = os.path.join(LOGDIR, \"model_learn.log\")\n",
    "with open(logfile, \"r\") as f:\n",
    "    log = f.readlines()"
   ]
  },
  {
   "cell_type": "code",
   "execution_count": 65,
   "metadata": {},
   "outputs": [
    {
     "name": "stdout",
     "output_type": "stream",
     "text": [
      "['Q1-anhar', 'Q1-freq']\n"
     ]
    }
   ],
   "source": [
    "params_names = [\n",
    "    item for sublist in (ast.literal_eval(log[3].strip(\"\\n\"))) for item in sublist\n",
    "]\n",
    "print(params_names)"
   ]
  },
  {
   "cell_type": "code",
   "execution_count": 66,
   "metadata": {},
   "outputs": [],
   "source": [
    "data_list_dict = list()\n",
    "for line in log[9:]:\n",
    "    if line[0] == \"{\":\n",
    "        temp_dict = ast.literal_eval(line.strip(\"\\n\"))\n",
    "        for index, param_name in enumerate(params_names):\n",
    "            temp_dict[param_name] = temp_dict[\"params\"][index]\n",
    "        temp_dict.pop(\"params\")\n",
    "        data_list_dict.append(temp_dict)"
   ]
  },
  {
   "cell_type": "code",
   "execution_count": 67,
   "metadata": {},
   "outputs": [],
   "source": [
    "data_df = pd.DataFrame(data_list_dict)"
   ]
  },
  {
   "cell_type": "markdown",
   "metadata": {},
   "source": [
    "### Summary of Logs"
   ]
  },
  {
   "cell_type": "code",
   "execution_count": 68,
   "metadata": {},
   "outputs": [
    {
     "data": {
      "text/html": [
       "<div>\n",
       "<style scoped>\n",
       "    .dataframe tbody tr th:only-of-type {\n",
       "        vertical-align: middle;\n",
       "    }\n",
       "\n",
       "    .dataframe tbody tr th {\n",
       "        vertical-align: top;\n",
       "    }\n",
       "\n",
       "    .dataframe thead th {\n",
       "        text-align: right;\n",
       "    }\n",
       "</style>\n",
       "<table border=\"1\" class=\"dataframe\">\n",
       "  <thead>\n",
       "    <tr style=\"text-align: right;\">\n",
       "      <th></th>\n",
       "      <th>goal</th>\n",
       "      <th>Q1-anhar</th>\n",
       "      <th>Q1-freq</th>\n",
       "    </tr>\n",
       "  </thead>\n",
       "  <tbody>\n",
       "    <tr>\n",
       "      <th>count</th>\n",
       "      <td>104.000000</td>\n",
       "      <td>1.040000e+02</td>\n",
       "      <td>1.040000e+02</td>\n",
       "    </tr>\n",
       "    <tr>\n",
       "      <th>mean</th>\n",
       "      <td>14.157706</td>\n",
       "      <td>-2.142272e+08</td>\n",
       "      <td>5.000472e+09</td>\n",
       "    </tr>\n",
       "    <tr>\n",
       "      <th>std</th>\n",
       "      <td>13.631019</td>\n",
       "      <td>1.449102e+07</td>\n",
       "      <td>5.825012e+05</td>\n",
       "    </tr>\n",
       "    <tr>\n",
       "      <th>min</th>\n",
       "      <td>1.643472</td>\n",
       "      <td>-3.391794e+08</td>\n",
       "      <td>4.999316e+09</td>\n",
       "    </tr>\n",
       "    <tr>\n",
       "      <th>25%</th>\n",
       "      <td>6.522053</td>\n",
       "      <td>-2.158235e+08</td>\n",
       "      <td>5.000010e+09</td>\n",
       "    </tr>\n",
       "    <tr>\n",
       "      <th>50%</th>\n",
       "      <td>11.246864</td>\n",
       "      <td>-2.132483e+08</td>\n",
       "      <td>5.000374e+09</td>\n",
       "    </tr>\n",
       "    <tr>\n",
       "      <th>75%</th>\n",
       "      <td>18.790757</td>\n",
       "      <td>-2.094547e+08</td>\n",
       "      <td>5.000940e+09</td>\n",
       "    </tr>\n",
       "    <tr>\n",
       "      <th>max</th>\n",
       "      <td>93.703180</td>\n",
       "      <td>-1.991852e+08</td>\n",
       "      <td>5.002530e+09</td>\n",
       "    </tr>\n",
       "  </tbody>\n",
       "</table>\n",
       "</div>"
      ],
      "text/plain": [
       "             goal      Q1-anhar       Q1-freq\n",
       "count  104.000000  1.040000e+02  1.040000e+02\n",
       "mean    14.157706 -2.142272e+08  5.000472e+09\n",
       "std     13.631019  1.449102e+07  5.825012e+05\n",
       "min      1.643472 -3.391794e+08  4.999316e+09\n",
       "25%      6.522053 -2.158235e+08  5.000010e+09\n",
       "50%     11.246864 -2.132483e+08  5.000374e+09\n",
       "75%     18.790757 -2.094547e+08  5.000940e+09\n",
       "max     93.703180 -1.991852e+08  5.002530e+09"
      ]
     },
     "execution_count": 68,
     "metadata": {},
     "output_type": "execute_result"
    }
   ],
   "source": [
    "data_df.describe()"
   ]
  },
  {
   "cell_type": "markdown",
   "metadata": {},
   "source": [
    "**Best Point**"
   ]
  },
  {
   "cell_type": "code",
   "execution_count": 69,
   "metadata": {},
   "outputs": [],
   "source": [
    "best_point_file = os.path.join(LOGDIR, 'best_point_model_learn.log')"
   ]
  },
  {
   "cell_type": "code",
   "execution_count": 70,
   "metadata": {},
   "outputs": [
    {
     "name": "stdout",
     "output_type": "stream",
     "text": [
      "{'Q1-anhar': -216024919.35748398, 'Q1-freq': 5001344479.897712, 'goal': 1.6434720582181683}\n"
     ]
    }
   ],
   "source": [
    "with open(best_point_file, \"r\") as f:\n",
    "    best_point_log_dict = hjson.load(f)\n",
    "\n",
    "best_point_dict = dict(zip(params_names, best_point_log_dict[\"optim_status\"][\"params\"]))\n",
    "best_point_dict[\"goal\"] = best_point_log_dict[\"optim_status\"][\"goal\"]\n",
    "print(best_point_dict)"
   ]
  },
  {
   "cell_type": "markdown",
   "metadata": {},
   "source": [
    "### Plotting"
   ]
  },
  {
   "cell_type": "markdown",
   "metadata": {},
   "source": [
    "We use `matplotlib` to produce the plots below. Please make sure you have the same installed in your python environment."
   ]
  },
  {
   "cell_type": "code",
   "execution_count": 71,
   "metadata": {},
   "outputs": [],
   "source": [
    "from matplotlib.ticker import MaxNLocator\n",
    "from  matplotlib import rcParams\n",
    "from matplotlib import cycler\n",
    "import matplotlib as mpl\n",
    "import matplotlib.pyplot as plt "
   ]
  },
  {
   "cell_type": "code",
   "execution_count": 72,
   "metadata": {},
   "outputs": [],
   "source": [
    "rcParams[\"axes.grid\"] = True\n",
    "rcParams[\"grid.linestyle\"] = \"--\"\n",
    "\n",
    "# enable usetex by setting it to True if LaTeX is installed\n",
    "rcParams[\"text.usetex\"] = False\n",
    "rcParams[\"font.size\"] = 16\n",
    "rcParams[\"font.family\"] = \"serif\""
   ]
  },
  {
   "cell_type": "markdown",
   "metadata": {},
   "source": [
    "**In the plots below, the blue line shows the progress of the parameter optimization while the black and the red lines indicate the converged and true value respectively**"
   ]
  },
  {
   "cell_type": "markdown",
   "metadata": {},
   "source": [
    "### Qubit Anharmonicity"
   ]
  },
  {
   "cell_type": "code",
   "execution_count": 73,
   "metadata": {},
   "outputs": [
    {
     "data": {
      "text/plain": [
       "[<matplotlib.lines.Line2D at 0x7f1cc5df14f0>]"
      ]
     },
     "execution_count": 73,
     "metadata": {},
     "output_type": "execute_result"
    },
    {
     "data": {
      "image/png": "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\n",
      "text/plain": [
       "<Figure size 432x288 with 1 Axes>"
      ]
     },
     "metadata": {
      "needs_background": "light"
     },
     "output_type": "display_data"
    }
   ],
   "source": [
    "plot_item = \"Q1-anhar\"\n",
    "true_value = -210e6\n",
    "\n",
    "fig, ax = plt.subplots(1)\n",
    "ax.set_xlabel(\"Iteration\")\n",
    "ax.set_ylabel(plot_item)\n",
    "ax.axhline(y=true_value, color=\"black\", linestyle=\"--\")\n",
    "ax.axhline(y=best_point_dict[plot_item], color=\"tab:red\", linestyle=\"-.\")\n",
    "ax.plot(data_df[plot_item], color=\"tab:blue\")"
   ]
  },
  {
   "cell_type": "markdown",
   "metadata": {},
   "source": [
    "### Qubit Frequency"
   ]
  },
  {
   "cell_type": "code",
   "execution_count": 74,
   "metadata": {},
   "outputs": [
    {
     "data": {
      "text/plain": [
       "[<matplotlib.lines.Line2D at 0x7f1cc5f22790>]"
      ]
     },
     "execution_count": 74,
     "metadata": {},
     "output_type": "execute_result"
    },
    {
     "data": {
      "image/png": "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\n",
      "text/plain": [
       "<Figure size 432x288 with 1 Axes>"
      ]
     },
     "metadata": {
      "needs_background": "light"
     },
     "output_type": "display_data"
    }
   ],
   "source": [
    "plot_item = \"Q1-freq\"\n",
    "true_value = 5e9\n",
    "\n",
    "fig, ax = plt.subplots(1)\n",
    "ax.set_xlabel(\"Iteration\")\n",
    "ax.set_ylabel(plot_item)\n",
    "ax.axhline(y=true_value, color=\"black\", linestyle=\"--\")\n",
    "ax.axhline(y=best_point_dict[plot_item], color=\"tab:red\", linestyle=\"-.\")\n",
    "ax.plot(data_df[plot_item], color=\"tab:blue\")"
   ]
  },
  {
   "cell_type": "markdown",
   "metadata": {},
   "source": [
    "### Goal Function"
   ]
  },
  {
   "cell_type": "code",
   "execution_count": 75,
   "metadata": {},
   "outputs": [
    {
     "data": {
      "text/plain": [
       "[<matplotlib.lines.Line2D at 0x7f1cc5ee1310>]"
      ]
     },
     "execution_count": 75,
     "metadata": {},
     "output_type": "execute_result"
    },
    {
     "data": {
      "image/png": "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\n",
      "text/plain": [
       "<Figure size 432x288 with 1 Axes>"
      ]
     },
     "metadata": {
      "needs_background": "light"
     },
     "output_type": "display_data"
    }
   ],
   "source": [
    "plot_item = \"goal\"\n",
    "\n",
    "fig, ax = plt.subplots(1)\n",
    "ax.set_xlabel(\"Iteration\")\n",
    "ax.axhline(y=best_point_dict[plot_item], color=\"tab:red\", linestyle=\"-.\")\n",
    "ax.set_ylabel(plot_item)\n",
    "\n",
    "ax.plot(data_df[plot_item], color=\"tab:blue\")"
   ]
  }
 ],
 "metadata": {
  "interpreter": {
   "hash": "8fc56ae400e717d872a76f4d6b257151d16696a9d0a72e6998d355f9b43887c7"
  },
  "kernelspec": {
   "display_name": "Python 3 (ipykernel)",
   "language": "python",
   "name": "python3"
  },
  "language_info": {
   "codemirror_mode": {
    "name": "ipython",
    "version": 3
   },
   "file_extension": ".py",
   "mimetype": "text/x-python",
   "name": "python",
   "nbconvert_exporter": "python",
   "pygments_lexer": "ipython3",
   "version": "3.9.7"
  }
 },
 "nbformat": 4,
 "nbformat_minor": 4
}
