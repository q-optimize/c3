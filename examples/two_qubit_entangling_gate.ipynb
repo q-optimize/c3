{
 "cells": [
  {
   "cell_type": "markdown",
   "metadata": {},
   "source": [
    "### Entangling gate on two coupled qubits"
   ]
  },
  {
   "cell_type": "markdown",
   "metadata": {},
   "source": [
    "#### Imports"
   ]
  },
  {
   "cell_type": "code",
   "execution_count": 1,
   "metadata": {
    "pycharm": {
     "name": "#%%\n"
    }
   },
   "outputs": [],
   "source": [
    "!pip install -q -U pip\n",
    "!pip install -q matplotlib"
   ]
  },
  {
   "cell_type": "code",
   "execution_count": 1,
   "metadata": {
    "ExecuteTime": {
     "end_time": "2020-06-10T13:45:05.684014Z",
     "start_time": "2020-06-10T13:45:04.441825Z"
    },
    "tags": []
   },
   "outputs": [
    {
     "name": "stderr",
     "output_type": "stream",
     "text": [
      "2022-05-18 12:29:33.785954: W tensorflow/stream_executor/platform/default/dso_loader.cc:64] Could not load dynamic library 'libcudart.so.11.0'; dlerror: libcudart.so.11.0: cannot open shared object file: No such file or directory\n",
      "2022-05-18 12:29:33.785992: I tensorflow/stream_executor/cuda/cudart_stub.cc:29] Ignore above cudart dlerror if you do not have a GPU set up on your machine.\n"
     ]
    }
   ],
   "source": [
    "# System imports\n",
    "import copy\n",
    "import numpy as np\n",
    "import time\n",
    "import itertools\n",
    "import matplotlib.pyplot as plt\n",
    "import tensorflow as tf\n",
    "import tensorflow_probability as tfp\n",
    "from typing import List\n",
    "from pprint import pprint\n",
    "\n",
    "# Main C3 objects\n",
    "from c3.c3objs import Quantity as Qty\n",
    "from c3.parametermap import ParameterMap as PMap\n",
    "from c3.experiment import Experiment as Exp\n",
    "from c3.model import Model as Mdl\n",
    "from c3.generator.generator import Generator as Gnr\n",
    "\n",
    "# Building blocks\n",
    "import c3.generator.devices as devices\n",
    "import c3.signal.gates as gates\n",
    "import c3.libraries.chip as chip\n",
    "import c3.signal.pulse as pulse\n",
    "import c3.libraries.tasks as tasks\n",
    "\n",
    "# Libs and helpers\n",
    "import c3.libraries.algorithms as algorithms\n",
    "import c3.libraries.hamiltonians as hamiltonians\n",
    "import c3.libraries.fidelities as fidelities\n",
    "import c3.libraries.envelopes as envelopes\n",
    "import c3.utils.qt_utils as qt_utils\n",
    "import c3.utils.tf_utils as tf_utils\n",
    "\n",
    "# Qiskit related modules\n",
    "from c3.qiskit import C3Provider\n",
    "from c3.qiskit.c3_gates import RX90pGate\n",
    "from qiskit import QuantumCircuit, Aer, execute\n",
    "from qiskit.tools.visualization import plot_histogram"
   ]
  },
  {
   "cell_type": "markdown",
   "metadata": {},
   "source": [
    "#### Model components\n",
    "The model consists of two qubits with 3 levels each and slightly different parameters:"
   ]
  },
  {
   "cell_type": "code",
   "execution_count": 2,
   "metadata": {
    "ExecuteTime": {
     "end_time": "2020-06-10T13:45:05.684014Z",
     "start_time": "2020-06-10T13:45:04.441825Z"
    }
   },
   "outputs": [
    {
     "name": "stderr",
     "output_type": "stream",
     "text": [
      "2022-05-18 12:29:37.213366: W tensorflow/stream_executor/platform/default/dso_loader.cc:64] Could not load dynamic library 'libcuda.so.1'; dlerror: libcuda.so.1: cannot open shared object file: No such file or directory\n",
      "2022-05-18 12:29:37.213405: W tensorflow/stream_executor/cuda/cuda_driver.cc:269] failed call to cuInit: UNKNOWN ERROR (303)\n",
      "2022-05-18 12:29:37.213424: I tensorflow/stream_executor/cuda/cuda_diagnostics.cc:156] kernel driver does not appear to be running on this host (knecht): /proc/driver/nvidia/version does not exist\n",
      "2022-05-18 12:29:37.213685: I tensorflow/core/platform/cpu_feature_guard.cc:151] This TensorFlow binary is optimized with oneAPI Deep Neural Network Library (oneDNN) to use the following CPU instructions in performance-critical operations:  AVX2 FMA\n",
      "To enable them in other operations, rebuild TensorFlow with the appropriate compiler flags.\n"
     ]
    }
   ],
   "source": [
    "qubit_lvls = 3\n",
    "freq_q1 = 5e9\n",
    "anhar_q1 = -210e6\n",
    "t1_q1 = 27e-6\n",
    "t2star_q1 = 39e-6\n",
    "qubit_temp = 50e-3\n",
    "\n",
    "q1 = chip.Qubit(\n",
    "    name=\"Q1\",\n",
    "    desc=\"Qubit 1\",\n",
    "    freq=Qty(value=freq_q1, min_val=4.995e9, max_val=5.005e9, unit='Hz 2pi'),\n",
    "    anhar=Qty(value=anhar_q1, min_val=-380e6, max_val=-120e6, unit='Hz 2pi'),\n",
    "    hilbert_dim=qubit_lvls,\n",
    "    t1=Qty(value=t1_q1, min_val=1e-6, max_val=90e-6, unit='s'),\n",
    "    t2star=Qty(value=t2star_q1, min_val=10e-6, max_val=90e-3, unit='s'),\n",
    "    temp=Qty(value=qubit_temp, min_val=0.0, max_val=0.12, unit='K')\n",
    ")\n",
    "\n",
    "freq_q2 = 5.6e9\n",
    "anhar_q2 = -240e6\n",
    "t1_q2 = 23e-6\n",
    "t2star_q2 = 31e-6\n",
    "q2 = chip.Qubit(\n",
    "    name=\"Q2\",\n",
    "    desc=\"Qubit 2\",\n",
    "    freq=Qty(value=freq_q2, min_val=5.595e9, max_val=5.605e9, unit='Hz 2pi'),\n",
    "    anhar=Qty(value=anhar_q2, min_val=-380e6, max_val=-120e6, unit='Hz 2pi'),\n",
    "    hilbert_dim=qubit_lvls,\n",
    "    t1=Qty(value=t1_q2, min_val=1e-6, max_val=90e-6,unit='s'),\n",
    "    t2star=Qty(value=t2star_q2, min_val=10e-6, max_val=90e-6, unit='s'),\n",
    "    temp=Qty(value=qubit_temp, min_val=0.0, max_val=0.12, unit='K')\n",
    ")"
   ]
  },
  {
   "cell_type": "markdown",
   "metadata": {},
   "source": [
    "There is a static coupling in x-direction between them: $(b_1+b_1^\\dagger)(b_2+b_2^\\dagger)$"
   ]
  },
  {
   "cell_type": "code",
   "execution_count": 3,
   "metadata": {
    "ExecuteTime": {
     "end_time": "2020-06-10T13:45:05.684014Z",
     "start_time": "2020-06-10T13:45:04.441825Z"
    }
   },
   "outputs": [],
   "source": [
    "coupling_strength = 50e6\n",
    "q1q2 = chip.Coupling(\n",
    "    name=\"Q1-Q2\",\n",
    "    desc=\"coupling\",\n",
    "    comment=\"Coupling qubit 1 to qubit 2\",\n",
    "    connected=[\"Q1\", \"Q2\"],\n",
    "    strength=Qty(\n",
    "        value=coupling_strength,\n",
    "        min_val=-1 * 1e3 ,\n",
    "        max_val=200e6 ,\n",
    "        unit='Hz 2pi'\n",
    "    ),\n",
    "    hamiltonian_func=hamiltonians.int_XX\n",
    ")"
   ]
  },
  {
   "cell_type": "markdown",
   "metadata": {},
   "source": [
    "and each qubit has a drive line"
   ]
  },
  {
   "cell_type": "code",
   "execution_count": 4,
   "metadata": {
    "ExecuteTime": {
     "end_time": "2020-06-10T13:45:05.684014Z",
     "start_time": "2020-06-10T13:45:04.441825Z"
    }
   },
   "outputs": [],
   "source": [
    "drive1 = chip.Drive(\n",
    "    name=\"d1\",\n",
    "    desc=\"Drive 1\",\n",
    "    comment=\"Drive line 1 on qubit 1\",\n",
    "    connected=[\"Q1\"],\n",
    "    hamiltonian_func=hamiltonians.x_drive\n",
    ")\n",
    "drive2 = chip.Drive(\n",
    "    name=\"d2\",\n",
    "    desc=\"Drive 2\",\n",
    "    comment=\"Drive line 2 on qubit 2\",\n",
    "    connected=[\"Q2\"],\n",
    "    hamiltonian_func=hamiltonians.x_drive\n",
    ")"
   ]
  },
  {
   "cell_type": "markdown",
   "metadata": {},
   "source": [
    "All parts are collected in the model."
   ]
  },
  {
   "cell_type": "code",
   "execution_count": 5,
   "metadata": {
    "pycharm": {
     "name": "#%%\n"
    }
   },
   "outputs": [],
   "source": [
    "model = Mdl(\n",
    "    [q1, q2], # Individual, self-contained components\n",
    "    [drive1, drive2, q1q2],  # Interactions between components\n",
    ")\n",
    "model.set_lindbladian(False)\n",
    "model.set_dressed(True)"
   ]
  },
  {
   "cell_type": "markdown",
   "metadata": {},
   "source": [
    "#### Control signals\n",
    "The devices for the control line are set up"
   ]
  },
  {
   "cell_type": "code",
   "execution_count": 6,
   "metadata": {
    "ExecuteTime": {
     "end_time": "2020-06-10T13:45:05.684014Z",
     "start_time": "2020-06-10T13:45:04.441825Z"
    }
   },
   "outputs": [],
   "source": [
    "sim_res = 100e9 # Resolution for numerical simulation\n",
    "awg_res = 2e9 # Realistic, limited resolution of an AWG\n",
    "v2hz = 1e9\n",
    "\n",
    "lo = devices.LO(name='lo', resolution=sim_res)\n",
    "awg = devices.AWG(name='awg', resolution=awg_res)\n",
    "mixer = devices.Mixer(name='mixer')\n",
    "dig_to_an = devices.DigitalToAnalog(name=\"dac\", resolution=sim_res)\n",
    "v_to_hz = devices.VoltsToHertz(\n",
    "    name='v_to_hz',\n",
    "    V_to_Hz=Qty(value=v2hz, min_val=0.9e9, max_val=1.1e9, unit='Hz/V')\n",
    ")"
   ]
  },
  {
   "cell_type": "markdown",
   "metadata": {},
   "source": [
    "The generator combines the parts of the signal generation and assignes a signal chain to each control line."
   ]
  },
  {
   "cell_type": "code",
   "execution_count": 7,
   "metadata": {
    "ExecuteTime": {
     "end_time": "2020-06-10T13:45:05.684014Z",
     "start_time": "2020-06-10T13:45:04.441825Z"
    }
   },
   "outputs": [],
   "source": [
    "generator = Gnr(\n",
    "        devices={\n",
    "            \"LO\": lo,\n",
    "            \"AWG\": awg,\n",
    "            \"DigitalToAnalog\": dig_to_an,\n",
    "            \"Mixer\": mixer,\n",
    "            \"VoltsToHertz\": v_to_hz\n",
    "        },\n",
    "        chains={\n",
    "            \"d1\": {\n",
    "                \"LO\": [],\n",
    "                \"AWG\": [],\n",
    "                \"DigitalToAnalog\": [\"AWG\"],\n",
    "                \"Mixer\": [\"LO\", \"DigitalToAnalog\"],\n",
    "                \"VoltsToHertz\": [\"Mixer\"],\n",
    "            },\n",
    "            \"d2\": {\n",
    "                \"LO\": [],\n",
    "                \"AWG\": [],\n",
    "                \"DigitalToAnalog\": [\"AWG\"],\n",
    "                \"Mixer\": [\"LO\", \"DigitalToAnalog\"],\n",
    "                \"VoltsToHertz\": [\"Mixer\"],\n",
    "            }\n",
    "        }\n",
    "    )"
   ]
  },
  {
   "cell_type": "markdown",
   "metadata": {},
   "source": [
    "#### Gates-set and Parameter map\n",
    "Following a general cross resonance scheme, both qubits will be resonantly driven at the frequency of qubit 2 with a Gaussian envelope. We drive qubit 1 (the control) at the frequency of qubit 2 (the target) with a higher amplitude to compensate for the reduced Rabi frequency."
   ]
  },
  {
   "cell_type": "code",
   "execution_count": 8,
   "metadata": {
    "ExecuteTime": {
     "end_time": "2020-06-10T13:45:05.684014Z",
     "start_time": "2020-06-10T13:45:04.441825Z"
    }
   },
   "outputs": [],
   "source": [
    "t_final_2Q = 45e-9\n",
    "sideband = 50e6\n",
    "gauss_params_2Q_1 = {\n",
    "    'amp': Qty(value=0.8, min_val=0.2, max_val=3, unit=\"V\"),\n",
    "    't_final': Qty(value=t_final_2Q, min_val=0.5 * t_final_2Q, max_val=1.5 * t_final_2Q, unit=\"s\"),\n",
    "    'sigma': Qty(value=t_final_2Q / 4, min_val=t_final_2Q / 8, max_val=t_final_2Q / 2, unit=\"s\"),\n",
    "    'xy_angle': Qty(value=0.0, min_val=-0.5 * np.pi, max_val=2.5 * np.pi, unit='rad'),\n",
    "    'freq_offset': Qty(value=-sideband - 3e6, min_val=-56 * 1e6, max_val=-52 * 1e6, unit='Hz 2pi'),\n",
    "    'delta': Qty(value=-1, min_val=-5, max_val=3, unit=\"\")\n",
    "}\n",
    "\n",
    "gauss_params_2Q_2 = {\n",
    "    'amp': Qty(value=0.03, min_val=0.02, max_val=0.6, unit=\"V\"),\n",
    "    't_final': Qty(value=t_final_2Q, min_val=0.5 * t_final_2Q, max_val=1.5 * t_final_2Q, unit=\"s\"),\n",
    "    'sigma': Qty(value=t_final_2Q / 4, min_val=t_final_2Q / 8, max_val=t_final_2Q / 2, unit=\"s\"),\n",
    "    'xy_angle': Qty(value=0.0, min_val=-0.5 * np.pi, max_val=2.5 * np.pi, unit='rad'),\n",
    "    'freq_offset': Qty(value=-sideband - 3e6, min_val=-56 * 1e6, max_val=-52 * 1e6, unit='Hz 2pi'),\n",
    "    'delta': Qty(value=-1, min_val=-5, max_val=3, unit=\"\")\n",
    "}\n",
    "\n",
    "gauss_env_2Q_1 = pulse.EnvelopeDrag(\n",
    "    name=\"gauss1\",\n",
    "    desc=\"Gaussian envelope on drive 1\",\n",
    "    params=gauss_params_2Q_1,\n",
    "    shape=envelopes.gaussian_nonorm\n",
    ")\n",
    "gauss_env_2Q_2 = pulse.EnvelopeDrag(\n",
    "    name=\"gauss2\",\n",
    "    desc=\"Gaussian envelope on drive 2\",\n",
    "    params=gauss_params_2Q_2,\n",
    "    shape=envelopes.gaussian_nonorm\n",
    ")"
   ]
  },
  {
   "cell_type": "markdown",
   "metadata": {},
   "source": [
    "We choose a single qubit gate time of 7ns and a gaussian envelope shape with a list of parameters."
   ]
  },
  {
   "cell_type": "code",
   "execution_count": 9,
   "metadata": {},
   "outputs": [],
   "source": [
    "t_final_1Q = 7e-9   # Time for single qubit gates\n",
    "sideband = 50e6 \n",
    "gauss_params_single = {\n",
    "    'amp': Qty(\n",
    "        value=0.5,\n",
    "        min_val=0.2,\n",
    "        max_val=0.6,\n",
    "        unit=\"V\"\n",
    "    ),\n",
    "    't_final': Qty(\n",
    "        value=t_final_1Q,\n",
    "        min_val=0.5 * t_final_1Q,\n",
    "        max_val=1.5 * t_final_1Q,\n",
    "        unit=\"s\"\n",
    "    ),\n",
    "    'sigma': Qty(\n",
    "        value=t_final_1Q / 4,\n",
    "        min_val=t_final_1Q / 8,\n",
    "        max_val=t_final_1Q / 2,\n",
    "        unit=\"s\"\n",
    "    ),\n",
    "    'xy_angle': Qty(\n",
    "        value=0.0,\n",
    "        min_val=-0.5 * np.pi,\n",
    "        max_val=2.5 * np.pi,\n",
    "        unit='rad'\n",
    "    ),\n",
    "    'freq_offset': Qty(\n",
    "        value=-sideband - 3e6 ,\n",
    "        min_val=-56 * 1e6 ,\n",
    "        max_val=-52 * 1e6 ,\n",
    "        unit='Hz 2pi'\n",
    "    ),\n",
    "    'delta': Qty(\n",
    "        value=-1,\n",
    "        min_val=-5,\n",
    "        max_val=3,\n",
    "        unit=\"\"\n",
    "    )\n",
    "}"
   ]
  },
  {
   "cell_type": "code",
   "execution_count": 10,
   "metadata": {},
   "outputs": [],
   "source": [
    "gauss_env_1Q = pulse.EnvelopeDrag(\n",
    "    name=\"gauss\",\n",
    "    desc=\"Gaussian comp for single-qubit gates\",\n",
    "    params=gauss_params_single,\n",
    "    shape=envelopes.gaussian_nonorm\n",
    ")"
   ]
  },
  {
   "cell_type": "markdown",
   "metadata": {},
   "source": [
    "We also define a gate that represents no driving (used for the single qubit gates)."
   ]
  },
  {
   "cell_type": "code",
   "execution_count": 11,
   "metadata": {},
   "outputs": [],
   "source": [
    "nodrive_env = pulse.Envelope(\n",
    "    name=\"no_drive\",\n",
    "    params={\n",
    "        't_final': Qty(\n",
    "            value=t_final_1Q,\n",
    "            min_val=0.5 * t_final_1Q,\n",
    "            max_val=1.5 * t_final_1Q,\n",
    "            unit=\"s\"\n",
    "        )\n",
    "    },\n",
    "    shape=envelopes.no_drive\n",
    ")"
   ]
  },
  {
   "cell_type": "markdown",
   "metadata": {},
   "source": [
    "The carrier signal of each drive for the 2 Qubit gates is set to the resonance frequency of the target qubit."
   ]
  },
  {
   "cell_type": "code",
   "execution_count": 12,
   "metadata": {
    "ExecuteTime": {
     "end_time": "2020-06-10T13:45:05.684014Z",
     "start_time": "2020-06-10T13:45:04.441825Z"
    }
   },
   "outputs": [],
   "source": [
    "lo_freq_q1 = freq_q1 + sideband\n",
    "lo_freq_q2 = freq_q2 + sideband\n",
    "\n",
    "carr_2Q_1 = pulse.Carrier(\n",
    "    name=\"carrier\",\n",
    "    desc=\"Carrier on drive 1\",\n",
    "    params={\n",
    "        'freq': Qty(value=lo_freq_q2, min_val=0.9 * lo_freq_q2, max_val=1.1 * lo_freq_q2, unit='Hz 2pi'),\n",
    "        'framechange': Qty(value=0.0, min_val=-np.pi, max_val=3 * np.pi, unit='rad')\n",
    "    }\n",
    ")\n",
    "\n",
    "carr_2Q_2 = pulse.Carrier(\n",
    "    name=\"carrier\",\n",
    "    desc=\"Carrier on drive 2\",\n",
    "    params={\n",
    "        'freq': Qty(value=lo_freq_q2, min_val=0.9 * lo_freq_q2, max_val=1.1 * lo_freq_q2, unit='Hz 2pi'),\n",
    "        'framechange': Qty(value=0.0, min_val=-np.pi, max_val=3 * np.pi, unit='rad')\n",
    "    }\n",
    ")"
   ]
  },
  {
   "cell_type": "markdown",
   "metadata": {},
   "source": [
    "We specify the drive tones for the 1Q gates with an offset from the qubit frequencies. As is done in experiment, we will later adjust the resonance by modulating the envelope function."
   ]
  },
  {
   "cell_type": "code",
   "execution_count": 13,
   "metadata": {},
   "outputs": [],
   "source": [
    "carr_1Q_1 = pulse.Carrier(\n",
    "    name=\"carrier\",\n",
    "    desc=\"Frequency of the local oscillator\",\n",
    "    params={\n",
    "    'freq': Qty(\n",
    "        value=lo_freq_q1,\n",
    "        min_val=0.9 * lo_freq_q1 ,\n",
    "        max_val=1.1 * lo_freq_q1 ,\n",
    "        unit='Hz 2pi'\n",
    "    ),\n",
    "    'framechange': Qty(\n",
    "        value=0.0,\n",
    "        min_val= -np.pi,\n",
    "        max_val= 3 * np.pi,\n",
    "        unit='rad'\n",
    "    )\n",
    "}\n",
    ")\n",
    "\n",
    "carr_1Q_2 = pulse.Carrier(\n",
    "    name=\"carrier\",\n",
    "    desc=\"Frequency of the local oscillator\",\n",
    "    params={\n",
    "    'freq': Qty(\n",
    "        value=lo_freq_q2,\n",
    "        min_val=0.9 * lo_freq_q2 ,\n",
    "        max_val=1.1 * lo_freq_q2 ,\n",
    "        unit='Hz 2pi'\n",
    "    ),\n",
    "    'framechange': Qty(\n",
    "        value=0.0,\n",
    "        min_val= -np.pi,\n",
    "        max_val= 3 * np.pi,\n",
    "        unit='rad'\n",
    "    )\n",
    "}\n",
    ")"
   ]
  },
  {
   "cell_type": "markdown",
   "metadata": {},
   "source": [
    "#### Instructions\n",
    "The instruction to be optimised is a CNOT gates controlled by qubit 1."
   ]
  },
  {
   "cell_type": "code",
   "execution_count": 14,
   "metadata": {
    "ExecuteTime": {
     "end_time": "2020-06-10T13:45:05.684014Z",
     "start_time": "2020-06-10T13:45:04.441825Z"
    }
   },
   "outputs": [],
   "source": [
    "# CNOT comtrolled by qubit 1\n",
    "cnot12 = gates.Instruction(\n",
    "    name=\"cx\", targets=[0, 1], t_start=0.0, t_end=t_final_2Q, channels=[\"d1\", \"d2\"],\n",
    "    ideal=np.array([\n",
    "        [1,0,0,0],\n",
    "        [0,1,0,0],\n",
    "        [0,0,0,1],\n",
    "        [0,0,1,0]\n",
    "    ])\n",
    ")\n",
    "cnot12.add_component(gauss_env_2Q_1, \"d1\")\n",
    "cnot12.add_component(carr_2Q_1, \"d1\")\n",
    "cnot12.add_component(gauss_env_2Q_2, \"d2\")\n",
    "cnot12.add_component(carr_2Q_2, \"d2\")\n",
    "cnot12.comps[\"d1\"][\"carrier\"].params[\"framechange\"].set_value(\n",
    "    (-sideband * t_final_2Q) * 2 * np.pi % (2 * np.pi)\n",
    ")"
   ]
  },
  {
   "cell_type": "markdown",
   "metadata": {},
   "source": [
    "We also add some typical single qubit gates to the instruction set."
   ]
  },
  {
   "cell_type": "code",
   "execution_count": 15,
   "metadata": {},
   "outputs": [],
   "source": [
    "rx90p_q1 = gates.Instruction(\n",
    "    name=\"rx90p\", targets=[0], t_start=0.0, t_end=t_final_1Q, channels=[\"d1\", \"d2\"]\n",
    ")\n",
    "rx90p_q2 = gates.Instruction(\n",
    "    name=\"rx90p\", targets=[1], t_start=0.0, t_end=t_final_1Q, channels=[\"d1\", \"d2\"]\n",
    ")\n",
    "\n",
    "rx90p_q1.add_component(gauss_env_1Q, \"d1\")\n",
    "rx90p_q1.add_component(carr_1Q_1, \"d1\")\n",
    "\n",
    "\n",
    "rx90p_q2.add_component(gauss_env_1Q, \"d2\")\n",
    "rx90p_q2.add_component(carr_1Q_2, \"d2\")"
   ]
  },
  {
   "cell_type": "markdown",
   "metadata": {},
   "source": [
    "When later compiling gates into sequences, we have to take care of the relative rotating frames of the qubits and local oscillators. We do this by adding a phase after each gate that realigns the frames."
   ]
  },
  {
   "cell_type": "code",
   "execution_count": 16,
   "metadata": {},
   "outputs": [],
   "source": [
    "rx90p_q1.add_component(nodrive_env, \"d2\")\n",
    "rx90p_q1.add_component(copy.deepcopy(carr_1Q_2), \"d2\")\n",
    "rx90p_q1.comps[\"d2\"][\"carrier\"].params[\"framechange\"].set_value(\n",
    "    (-sideband * t_final_1Q) * 2 * np.pi % (2 * np.pi)\n",
    ")\n",
    "\n",
    "rx90p_q2.add_component(nodrive_env, \"d1\")\n",
    "rx90p_q2.add_component(copy.deepcopy(carr_1Q_1), \"d1\")\n",
    "rx90p_q2.comps[\"d1\"][\"carrier\"].params[\"framechange\"].set_value(\n",
    "    (-sideband * t_final_1Q) * 2 * np.pi % (2 * np.pi)\n",
    ")"
   ]
  },
  {
   "cell_type": "markdown",
   "metadata": {},
   "source": [
    "#### The experiment\n",
    "All components are collected in the parameter map and the experiment is set up."
   ]
  },
  {
   "cell_type": "code",
   "execution_count": 17,
   "metadata": {
    "ExecuteTime": {
     "end_time": "2020-06-10T13:45:05.684014Z",
     "start_time": "2020-06-10T13:45:04.441825Z"
    }
   },
   "outputs": [],
   "source": [
    "parameter_map = PMap(instructions=[cnot12, rx90p_q1, rx90p_q2], model=model, generator=generator)\n",
    "exp = Exp(pmap=parameter_map)"
   ]
  },
  {
   "cell_type": "markdown",
   "metadata": {},
   "source": [
    "#### Dynamics\n",
    "\n",
    "The system is initialised in the state $|0,1\\rangle$ so that a transition to $|1,1\\rangle$ should be visible."
   ]
  },
  {
   "cell_type": "code",
   "execution_count": 18,
   "metadata": {},
   "outputs": [
    {
     "name": "stdout",
     "output_type": "stream",
     "text": [
      "tf.Tensor(\n",
      "[[1.+0.j]\n",
      " [0.+0.j]\n",
      " [0.+0.j]\n",
      " [0.+0.j]\n",
      " [0.+0.j]\n",
      " [0.+0.j]\n",
      " [0.+0.j]\n",
      " [0.+0.j]\n",
      " [0.+0.j]], shape=(9, 1), dtype=complex128)\n"
     ]
    }
   ],
   "source": [
    "psi_init = [[0] * 9]\n",
    "psi_init[0][0] = 1\n",
    "init_state = tf.transpose(tf.constant(psi_init, tf.complex128))\n",
    "print(init_state)"
   ]
  },
  {
   "cell_type": "code",
   "execution_count": 19,
   "metadata": {},
   "outputs": [
    {
     "data": {
      "image/png": "iVBORw0KGgoAAAANSUhEUgAAAX4AAAEDCAYAAAAyZm/jAAAAOXRFWHRTb2Z0d2FyZQBNYXRwbG90bGliIHZlcnNpb24zLjUuMSwgaHR0cHM6Ly9tYXRwbG90bGliLm9yZy/YYfK9AAAACXBIWXMAAAsTAAALEwEAmpwYAABV9ElEQVR4nO2deXxU1fmHnzMzyWQPSdgTICAh7GEJhGjYBBRFUSxq3cWlttVWa4tb+bm0tdJWxbWtGwWXui8gVVCQVTEQImEJO2EJOwkhC1lnzu+PO5lJQpZJMjczc3Oez2eSu5x77jvfe+475557znuElBKFQqFQtB9M3jZAoVAoFG2LcvwKhULRzlCOX6FQKNoZyvErFApFO0M5foVCoWhnKMevUCgU7QyLtw1wh44dO8r4+PgWHXvs2DG6devmWYP8FKVFbZQetVF6uDCCFps2bTotpexU3z6/cPzx8fFkZGS06Njhw4e3+FijobSojdKjNkoPF0bQQghxsKF9hm/qsdls3jbBZ1Ba1EbpURulhwuja2F4x19eXu5tE3wGpUVtlB61UXq4MLoWhnf8V1xxhbdN8BmUFrVRetRG6eHC6FoIf4jVk5ycLFva3nbgwAFa+mLYaCgtaqP0qI3Sw4URtBBCbJJSJte3T7cavxBivhDipBBiWwP7hRDiJSHEXiHEFiHECD3siI6O1iNbv0RpURulR22UHi6MroWeTT0LgKmN7L8MSHB8fgH8Sw8jMjMz9cjWL1Fa1EbpURulhwuja6Gb45dSrgHyG0lyFfC21PgR6CCE8GjH2UqbHX9oylIoFIq2xJv9+GOBwzXWcx3bjnnqBElPfUNZpY2glUuxWkxYLWasASbsUmKzSarsEpvd9d8uJSGBFsKDLIRZLUQEWwg0a7+NNglllTbOVVRRWSURAqwBZjqGBhITFkjHMCudw62YzSbMQmjncOZtJ8waQNdIK7EdQugRHUxIYNtLHxUV1ebn9GWUHrVRergwuhZ+MYDr2LFjJCYmAmC1Wpk1axbDhw8HICYmhkGDBrFmzRoALBYLaWlpZGZmcnkvE+U2E9Gdu1BQWEz+2WIq7ZLIiAgCLWbOni3ALCA8NISY6CiOHjlCuc1GuZQEhoZw7HQBlVU2JBARHoawV2KuqsBqgtDQMMqr7Ow+cpqiCklhhcTejIeLiEDoEBpEgEnrOlZpB7PZQkCAhRDK6R5mok9MMDPGDiM/ZxtVlRUApKWlsXv3bk6ePAnA4MGDKS8vZ8+ePQD06NGDLl26OAefREREMGLECNatW0dVVRWrVq1i3LhxbN++nby8PACSkpIoKipi//79gDZgLjo62vm4GxUVRVJSEqtXr0ZKiRCC8ePHk5WVxZkzZwAYMWIE+fn5HDhwAIA+ffoQHh5OVlZWk9epsLAQgOTkZE6cOMHhw1p9ICEhAavVyrZt2muizp07069fP9atW+csC6mpqWRkZFBcXAxASkoKubm5HDlyBIDExETMZjPZ2dkAdO3ald69e7N+/XoA0tPTSUlJIT09ndLSUgBSU1PJycnh+PHjAAwcOBCbzcauXbsAiI2NJS4ujvT0dADCwsJITk5m/fr1zm6Arb1OgFeu09atW33yOgUHB7fpdTpz5gyrVq3y2evU0P00Z84cPv74Yxx0pAF07dUjhIgHlkgpB9ez7zVglZTyfcf6LmCClPK8Gn9revWsXr2a8ePHt+jY5mCzSwrOVWCTErsdTCawmEyYTQKzSVBYWsnxwjIO55/jUN45jhSUUlRWRYXNjgACLVraKrsk90wp+04WU1yuFSyzSdApzErH8ECCLGbsUmISgsjgAOKigunfLYJx/ToR2yHYJ7TwF5QetVF6uDCCFo316vFmjX8xcJ8Q4gMgBThbn9NvLW3Vxm82CWLCrA3uD7Na6N4hmBE93XuElFJyOL+UDQfy2XOiiGNny8grKaeiyk6QxYzNLjlSUEp6Tj7F5drI7P5dwxndO5qhcR0Y0C2cqJBAIoMDCAk0I4RQ7zvqoPSojdLDhdG10M3xCyHeByYAHYUQucATQACAlPLfwFfA5cBe4BwwSyc79MhWd4QQ9IwJoWdMSKPp7HbJrhNFLNt+nNW7T/HOjweRsnaIjkCLiS4RVjqYKjgQkMPlQ7rROSJIT/P9An8tG3qh9HBhdC0MP4CrvVFeZWPzoQJyTpdQVFZFSUUV+SUVHDtbRvbRQo4UaO2jF/WN4ZrhcVyZ1J1Ai+EHcCsU7Y7GmnoM7/izsrJISkrysEX+yebNmzF1jOfDjYdZvPkoRY53CCN6dmBAtwgSOodxQecwLugURrfIIMPXelTZqI3Sw4URtPDVNv42ofotuQIKCgqYMKwDQ+M68NT0QXy17ThLso6y/WghmYcO1UobFxXMNSPiuHlMTzqHG7NZSJWN2ig9XBhdC8M7fkX9WMwmpid1Z3pSdwAqquzsOVnEgdPn2HWiiO92nuClFXt4acUebhjdk4enJtIhJNDLVisUCk9g+KaewsJCIiIiPGyRf9JcLbIOF/Dqyr18k30CgGtGxHJ9cg9S+sToZWKbospGbZQeLoygRbtu6snPz/f7C+gpmqtFUo8OvH5rMj/sPc1Dn27hs8wjfJapDbi5ZkQsyb2iGdevI3FRjfc88lVU2aiN0sOF0bUwfHeO6pFvipZrcWHfjqx7+GLeuyuFCYmdsJgEn2Ue4bHPt5L2t5Vc9co6Fm0+gq05Q5d9AFU2aqP0cGF0LQxf41d4jov6duSivtoo8HMVVWzIyWdDTj5vrz/I/R9s5i//28H820YxJC7Sy5YqFIrGMHyNv0+fPt42wWfwpBYhgRYmJHbmoan92fR/k7k+uQenisq58pV1PPfNLr+o/auyURulhwuja2F4xx8eHu5tE3wGvbSwWsz8beZQPronFYCXv9vLBY99xddbPR6Bw6OoslEbpYcLo2theMdfHc1Oob8Wo3tHs/svl/H7Kf0A+NV7mST/5Vv+siSbvGLfm7xalY3aKD1cGF0Lwzt+RdsSaDHxm0kJfPf78YRZLZwuruDNdTmM/MtybnkrnazDBd42UaFo9xj+5W5MjDH6nHuCttSiT6cwtj11KWdKKnjnx4Ms236ctXtOs3bPaQZ0i+DtO0bTKbzhaKZtgSobtVF6uDC6FoYfwGW32zGZ1IMNeF+LY2dLeXzRdr7NPkGHkADevDWZ5HjvTWrtbT18DaWHCyNo0dgALv/+Zm5QPUONwvtadIsM5o1bk/nwF2MwCcHMf6/nxeV7vGaPt/XwNZQeLoyuheEdv8L3SOkTw6J7LyLMamHe8t3M/NcPVNrs3jZLoWg3GN7xWyyGf43hNr6kRY/oENIfm0Ril3AyDp4h4Y9fk3Egv01t8CU9fAGlhwuja2H4Nn6Fb2O3S+55dxPfOgLBdY0I4u07R9Ovi7H7USsUetOu2/irZ7ZX+KYWJpPgjVuTee+uFEICzRwvLOOSeWu47MW1HDhdouu5fVEPb6L0cGF0LQzv+AsLC71tgs/gy1pc1Lcj2X+ayuu3jCQ4wMyOY4VMeHYVC384oNs5fVkPb6D0cGF0LQzv+BX+xSWDurLjz1N55cbhADyxeDuPfLoFux/E/lEo/AXDt/EXFxcTFhbmYYv8E3/TwmaX/P6jzXyx+Sj9u4bzxb0XERRg9lj+/qaH3ig9XBhBi3bdxn/ixAlvm+Az+JsWZpNg3vXDmJjYiZ3Hi7j61e89WvP3Nz30RunhwuhaGN7xHz582Nsm+Az+qIUQgrduG8XkAV3YebyI6a+u81jIZ3/UQ0+UHi6MroXhHb/C/zGZBP++eQQXdApl25FCLnjsK04V+V60T4XCXzC8409ISPC2CT6DP2thMZv49nfjGdkrCoBRTy/n+72nW5WnP+uhB0oPF0bXwm+Hp1VWVpKbm0tZWVmj6Ww2m2G6ZgUFBREXF0dAQECLjrdavRsNs7WYTIJPf3Uhz3y1g9fW7OemN9NJ69uRN29LbtFLX3/Xw9MoPVwYXQu/7dWTk5NDeHg4MTExCCEaPLaoqMgQs+lIKcnLy6OoqIjevXu3KI9Vq1YxYcIEzxrmJXYcK+SyF9c611+7ZSSXDurarDyMpIcnUHq4MIIWhuzVU1ZW1qTTNxJCCGJiYpp8wmkvDOgWwZ6nL+PmMT0BuOedTcz9eqeXrVIo/AO/dfyAW07fSMGWWvsj17lzZw9Z4hsEmE385eohrH1oIj2ig/n36n3c+1/3h9obTY/WovRwYXQt/Nrxu0NQUJBueZeWljJ+/HhsNhsACxcuJCEhgYSEBBYuXNjk8fn5+UyZMoWEhASmTJnCmTNnAFiyZAmPP/64x+3t16+fx/P0BXpEh7D8wfFEBgfwvy3H+O37P7l1nFH1aClKDxdG18Lwjr+4uFi3vOfPn88111yD2WwmPz+fp556ivT0dDZs2MBTTz3ldOQNMXfuXCZNmsSePXuYNGkSc+fOBWDatGl8+eWXnDt3zqP2rlu3zqP5+RJWi5mNf5xMUICJxVlHeXv9gSaPMbIeLUHp4cLoWujq+IUQU4UQu4QQe4UQj9Szv6cQYqUQ4ichxBYhxOV62uNp3nvvPa666ioAli1bxpQpU4iOjiYqKoopU6awdOnSRo9ftGgRt912GwC33XYbX3zxBaA16UyYMIElS5boar/RCLSY+OGRSQA8vmg7P+xrXXdPhcKo6NYALoQwA68CU4BcYKMQYrGUMrtGsjnAR1LKfwkhBgJfAfHNPddTX24n+2j9XTZtNhtmc/O7+g3sHsETVw5qcH9FRQX79+8nPj4egCNHjtCjRw/n/ri4OI4cOdLoOU6cOEG3bt0A6Nq1a61h4snJyaxdu5brrruu2bY3hNG7qAFEhwbyze/Gccm8Ndz4RjpLfpPG4NjIetO2Bz2ag9LDhdG10LPGPxrYK6XcL6WsAD4ArqqTRgIRjuVI4KinjWiJ03eH06dP06FDB4/lJ4So9fK2c+fOHD3qWTlSU1M9mp+v0q9LOM9emwTAFS+vY92e+mv+7UUPd1F6uDC6Fnp2eYkFaga8yAVS6qR5EvhGCPEbIBSYXF9Gx44dIzExEdB+iWfNmsWECRMoKirCbDbz+BUDa7Xlh4eHU1JSgt1ux263ExYWRmVlJZWVlc48hBDOrpEWi4WgoCBnHkIIwsLCnHkAhIaGUlFR4czDbDZTVlZGUVERAJ06deL77793rufk5DBlyhSKi4upHisRGhpKeXk5VVVVgObcDx48SHR0NMePH6dTp07Y7XZKSko4c+aMc6BWzTyklGRnZ3Py5EkABg8eTHl5OXv2aJOW9+jRgy5dulA97iEiIoIRI0awbt06CgsLCQkJYdy4cWzfvp28vDwAkpKSKCoqYv/+/QDEx8cTHR3tnIwiKiqKpKQkVq9ejZQSIQTjx48nKyvL+R5jxIgR5Ofnc+DAAQD69OlDeHg4WVlZAMTExDBo0CDnJNYWi4W0tDQyMzOdA+ySk5M5ceKEM05KQkICVquVbdu2OfXq16+fs/3VarWSmppKRkaG89qlpKSQm5tLx6Ij/Ha4lZd+Kufmt9K5f4SV4Z0tdO3ald69e7N+/XrOnTtHTEwMKSkppKenU1paCmg3fU5ODsePHwdg4MCB2Gw2du3aBUBsbCxxcXGkp6cDEBYWRnJyMuvXr6e8XAslkZaWxu7du1t0narLR1tfp3PnztGjR482vU7VT8WJiYmYzWays7UGgZrXCSA4OLhNr1NWVhYhISE+eZ2g4ftpzpw5fPzxxzjoSENIKXX5ADOBN2us3wK8UifNg8DvHcupQDZgqpvXyJEjZV2ys7PP21YfhYWFbqVrCXFxcbK0tFRKKWVeXp6Mj4+X+fn5Mj8/X8bHx8u8vDwppZS33HKLTE9PP+/4P/zhD/KZZ56RUkr5zDPPyNmzZzv3Pfvss859NXH3e9fHypUrW3ysv7Jo8xHZ6+ElstfDS+Qv38mQVTa7c1971KMxlB4ujKAFkCEb8M96NvUcAXrUWI9zbKvJncBHAFLK9UAQjf1K+RiXXHKJs1YTHR3N//3f/zFq1ChGjRrF448/TnR0NABbtmyhe/fu5x3/yCOP8O2335KQkMDy5ct55BHX+++VK1cybdq0tvkiBmZ6Une+uPciAL7edpyLn1vF2dJKL1ulUHiZhn4RWvtBa0baD/QGAoEsYFCdNF8DtzuWB6C18Yu6ebWmxm+z2ZrxG9k8Nm3aJG+++eZG05w9e1bOnDmzWfkeP35cXnzxxfXua02N/9y5cy0+1t+prLLJ2+anO2v/+08Vt2s96kPp4cIIWuCNGr+Usgq4D1gG7EDrvbNdCPEnIcR0R7LfA3cLIbKA9x0/Ah4NHlRRUeHJ7GoxYsQIJk6c6BzAVR8RERE129zc4tChQzz33HOtNe88cnNzPZ6nv2Axm1gwazSzL9XeFU18dhVrtuzzslW+RXsuH3Uxuha6xjOQUn6F1kWz5rbHayxnAxfpaUNlZaWuo3fvuOMOj+c5atQoj+cJWpdTo4ebbYp7J/YlzGrhicXbmf2/gyQPSiAmzNhd99xFlQ8XRtfC8CN3FYq63HZhPM9em0RhBdz9dgZVNru3TVIo2hTDO36jD8RoDtVdYhUwc2Qcsyf2IPNQAff9173YPkZHlQ8XRtfC8I6/vYRtdge9BrP5KzOHdWF8v04s3X6cZ5ft8rY5XkeVDxdG18Lwjl/Fr3dRPThGobFjxw5euXE4AK+s3Mv6fXletsi7qPLhwuhaGN7x60lrwzJ//PHHDBo0CJPJRM0ZxrZu3crtt9+ul9mKGoQHBbDqDxMAuOGNH9lzosi7BikUbYDhHb+eE7G0Nizz4MGD+eyzzxg3blyt7UOGDCE3N5dDhw551N6uXZs3NaHRqdYjvmMo82/XZqibMm8NRwtKvWmW11Dlw4XRtTC849fz5W5rwzIPGDCgwZdIV155JR988IFH7W3pXL1GpaYeF/fvwu8ma5NvXDj3O7YdOests7yGKh8uvKKFlGCrgspSKCuEc/lQok9ocWPMS/j1I3B8a7277LYqTOYWfM2uQ+CyuQ3u9kRY5sZITk5m7ty5PPTQQy3Ooy7r16/3+wmkPUldPe6fnEBYkIU/L8nmipfXMf/2ZC7u38V7BrYxqny4aFQLKaGiBMoLobwI7FXa+rl8qDwHpWeg+AQUHtXSnMsHWyWYzCDtUFWmHVNZCqUFWh7Spm2rS1gX+MNuj38/Yzh+L+DpsMx10SMss6Jp7kzrTd/OYdw2fwN3LMjg7z8bynWjejR9oMI4lJ0lpOQQHEqHoqNw5qDmxM8cgPx9UHAIbE1FBBAQ1hmsERDaESxWsNvAZIGQGDAFQEAQBEeBNRyEWdtnDqjxPwCsYbp8RWM4/kZq5mXFxYSFeV684ODgWj2GYmNjWbVqlXM9Nze3VbWnsrIygoODW2Hh+Xg6P3+nIT3G9+vEl/elceUr63jo0y1IJNeP6tnG1rU97ap82O1wejcczYRjW+D4Fs2hF58EWzmjATbWSG+2QlQ8dOoPiZdpztsaAUGRmqMOCIHgDhAYpv0P7aQ5bx/FGI6/EfRw+qDF1LbZbJSVlREUFMSll17KY4895nyh+8033/DMM88AcOutt3LfffcxevRot/PfvXs3gwcP9qjNKSl1p0No3zSmx5C4SFb+YQKz/rOBhz/dSlCAmauGxbahdW2PIctHeRHk50DBQTi1C07thLx9cGKbq9YuzNB5AMSO1Grp4V21JpagDtr/qHit1m6gMUGGd/zFOtX4wRWWefLkybXCMgNuhWX+/PPP+c1vfsOpU6eYNm0aw4YNY9myZYA+YZnT09ONeXO3kKb06N0xlKUPjONn//qB+z/YTO+OoQyN69B2BrYxhigflWWw5xs4lgV7lp3/7s8aAZE9YMB06DkGug/X3udZancCSU9PJ2W4n2vRCIZ3/B4O9lmLe++9l3nz5jF5sjZx2B133HFe0LbCwkISEhKIi4s77/gZM2YwY8aM87aXl5eTkZHBCy+84FF7q2cuUmi4o0dQgJl/3TSScf9Yyc/+9QNrH7qYrpH6Bf3zJn5ZPqSEk9mwf7XWbLN7mfZCFaBbEoy+R6vNR8VDx34Q0d2tmrtfatEMDO/49aRmWOaGhni3NCzz3LlzdR2DoHCfnjEh/Of2UcxasJFrX/uBVX+YiNlknMd+v8Jug4Pfw8EfIGeNVrOvcE27SsKlMOhq7X9ojNfM9HWEnjViT5GcnCxrjmwFbbj9gAEDmjzWbrdjMhlnuIK737s+ysvLVdC6GjRXj9kfZ/HxplxmX5rIvRP76miZd/DZ8iElnN4DP7yo1ehLTmnbQ2K0Zpre46BHCvQYAy3pul0PPqtFMxBCbJJSJte3z/BVyvLy8vbVW6ERcnJy6N+/v7fN8Bmaq8fcnw3lYN45/rFsF8N6dOCivn4zS6hb+Fz5KDwG2z6BTQshT5uknl4XQdqDMOAK6KBfTyuf08LDGKcq3ABVVfUMiminHD9+3Nsm+BTN1cNsErzsCOp205vpHM4/p4dZXsMnykdJHmx8E/4zDZ7vD9/M0XrkjLobfr8LZn0Fqb/W1emDj2ihI4av8SsUnqRLRBDPXDOERz/byti/r2TTnMlqBq/WIiUcWAc//gt2/c+1vWcqpNwD/a/0WBOOQsPwauo57aK/MXDgQG+b4FO0VI8bRvfkQF4Jr63ez+i/rmDz41MID/LdwTru0ublo7wYPvtFbWcfP1brajnoaq1PvZcw+r1i+KYePV9etzYs8+zZs+nfvz9Dhw5lxowZFBQUAPqFZW5sUvj2SGv0ePSyAdw8pic2u2T8P1ZRcK6pIfy+T5uVD7sNVv0NnonVnH5UPFzyNDyUA7cvgZRfeNXpg/HvFcM7/vLyct3ybm1Y5ilTprBt2za2bNlCv379nCN99QrLvGuXmmWqJq3V4y9XD+HW1F7kl1RwzT9/4Iifh3PWvXxIqTXn/LkTrPorWIJhxmvw281w4X0QEq3v+ZuB0e8Vwzt+PWltWOZLLrnE2Vd/zJgx5ObmOvfpEZZZ4Xn+dNVg/jpjCLkFpVzzz+85lGesF74e4Vw+LHkQnuoASx/RIlFOew4ePQxJPzdUKAR/wRBt/H/b8Dd25u+sd19L+/H3j+7Pw6MfbnC/p8Myz58/n+uvv965rkdY5thYY8eaaS6e0uPGlJ706RTKrW9t4PKX1rJ69gS/fOHr8fJRcAi+fQK2f+baNvoemPwkBIZ49lwexuj3iuFr/HoN3vJkWOann34ai8XCTTfd5NymR1jm+sJGtGc8qceYPjHMu34YxeVVXPXq95RV+l8bscf0KDkNC66AF4ZoTj+qN0ydC4/nw+V/93mnD8a/VwxR42+sZl5UVER4eLjHz+mpsMwLFixgyZIlrFixAlHjkVePsMzp6elqoo0aeFqPaUO7kXumP898vZN738vkjVuTMflRaAeP6LH5fVjygDbZSFgXmPInGHq93zXnGP1eMXyNXy9qhmUGuPTSS/nmm284c+YMZ86c4ZtvvuHSSy8FtLDMGzZsOC+PpUuX8ve//53FixcTElK7FqRHWGaF/twz/gJ+c3FfVuw8ySsr93rbnLajJA9eTYEvfgnCBNcu1GaOUm34PonhHb+ecXqqwzIDtcIyjxo1yq2wzPfddx9FRUVMmTKFYcOG8ctf/tK5T4+wzHqFp/ZX9NLjwSn9uPCCGF5YvpuswwW6nEMPWqSHlLDhDfhHHy3Wfc9U+P1OrR++H2P0e8XwQdr0JDMzk3nz5vHOO+80mKawsJA777yzWRE6y8vLGT9+POvWrTsvQqcvfG9F0+SXVHDZi2swC8Gy340zxACv8ziwTmvLx+FDrnwJRt7mVZMULhoL0mb4Gn9xcXHTiVpIzbDMDeFLYZnXr1/v0fz8HT31iA4N5I/TBnL0bBm/eHuTbufxJG7rUVUOb1wMC6YBUouQ+eAOQzl9o98rhni52xh6P9HUnXjFE1SP/vU0eg5m80f01mN6Une2HTnL62v2c/8HP/Hiz4frer7W0qQeUsLSRyH9X9q6MMMdy6DHKP2Na2OMfq+45fiFEFbgZ0B8zWOklH9q4ripwIuAGXhTSnnerOhCiOuAJ9GeF7OklDe6abtC4fM8dGkimw6eYdHmo6T0juHGFD+dtL2iBP6ZqkXKBBh+C1z5Ipjqn4BI4du4W+NfBJwFNgFu/RQKIczAq8AUIBfYKIRYLKXMrpEmAXgUuEhKeUYI4fEAHUZ/SdMc0tLSvG2CT9EWeljMJv57dwo3v5nOY59vJSzIwvSk81/0+wIN6rHvO3jHMUVoaGe4P8sv+uK3BqPfK+628cdJKa+XUv5dSvlc9aeJY0YDe6WU+6WUFcAHwFV10twNvCqlPAMgpTzZLOvdoGZf+/bO7t27vW2CT9FWelgtZt66fRQDukXw2/d/4oMNno3B5Cnq1WPDGy6nP/lJmL3H8E4fjH+vuOv4fxBCDGlm3rHA4RrruY5tNekH9BNCfC+E+NHRNORR1EQsLk6e9Pjvql/TlnpEBAXw37tSGBIbySOfbeXNtfvb7NzuUksPKeHdmfDVH7T1ezdA2u+8Y5gXMPq94m5TTxpwuxAiB62pRwBSSjnUA+dPACYAccAaIcQQKWVBzUTHjh0jMTERAKvVyqxZs5gwYQJFRUWYzWaCg4Nr9d4JDw+npKQEu92OzWbDZrNRWVlJZWWlMw8hhPNpwGKxEBQU5MxDCEFYWJgzD4DQ0FAqKipq5VFWVsbll1/OkiVLsFqtXH311aSnpzNmzBg++eQTwsLCKC4udr5gDg0Npby83PljJIRg1qxZbNq0iejoaN577z0SEhLYsGEDL7/8Mq+//jqhoaG18pBSkp2d7SyYgwcPpry8nD17tKnpevToQZcuXaju/hoREcGIESNYt24dxcXFrFq1inHjxrF9+3by8vIASEpKoqioiP37NWcUHx9PdHQ0mZmZgDZYLSkpidWrVyOlRAjB+PHjycrKckYgHTFiBPn5+Rw4cACAPn36EB4eTlZWFgAxMTEMGjSINWvWODVPS0sjMzOTwsJCQItPdOLECQ4f1uoLCQkJWK1Wtm3bBmhhLPr16+ccO2G1WklNTSUjI8N57VJSUsjNzXXGSUpMTMRsNpOdrbUwdu3ald69e7N+/XqKi4tJT08nJSWF9PR0Sku16Jqpqank5OQ4Z2EaOHAgNpvNGbExNjaWuLg40tPTAa05MTk5mfXr1ztfCqalpbF79+7zrtN9Ayt5odTEX/63g8qKCgaYj593narLR1tfp+LiYrZu3cqguAhML2q3ts0UiPkPu8jceYDC7au8cp1AGynfltep+l5p7H7y1nWChu+nOXPm1OxF2PDcoFLKJj9Ar/o+TRyTCiyrsf4o8GidNP8GZtVYXwGMqpvXyJEjZV2ys7PP21YfFRUVbqVrCa+88op84YUXnOvLly+XixcvltOmTXPr+FdffVXec889Ukop33//fXndddc5902aNEkePHjwvGPc/d71cerUqRYfa0S8pce58ip5xUtrZa+Hl8hPMg57xYb6OHXqlJS7v5HyiQjt8/rFUlac87ZZXsEI9wqQIRvwz2419UgpDwIdgCsdnw6ObY2xEUgQQvQWQgQCPwcW10nzBVptHyFER7SmH48+A0sdu3PWDMsMMGnSpGbFBVq0aBG33ab1fZ45cyYrVqxw2qtHWGajd1FrLt7SIzjQzMe/TGV4zw78/uMslm475hU7amG3Ebzs9/DeTG394jlw9woI8Gy8KH/B6PeKu90570d7EVsdX/VdIcTrUsqXGzpGSlklhLgPWIbWnXO+lHK7EOJPaL9Eix37LhFCZAM2YLaUMq+5X+L4X/9K+Y76wzJX2WxYzM3vcmYd0J+ujz3W4P66YZlbQs1QzhaLhcjISPLy8ujYsaMuYZn37Nlj+HCzzcGbegQFmHn7jtHc+EY6D36UxQWdwkjo4vlggm5ReBSeH0Bo9fqti6DPBO/Y4iMY/V5x9+XunUCKlPJxKeXjwBi0H4JGkVJ+JaXsJ6W8QEr5tGPb4w6nj+OJ5EEp5UAp5RAppd/MPOLJsMz1oUdYZoVvER4UwL9vGUlQgJk7Fm6ktMILoZz3LofntRAgxaG94bFj7d7ptwfcfbkr0Grk1dgc23yCxmrmZWVluky4Xjcsc0uIjY3l8OHDxMXFUVVVxdmzZ4mJiQH0Cctcc6IYhW/oEdshmH/MHMqdCzN46NMtvPTzYbXCc+vKyr/C6r9py5f9nRMdJxPWDrpquoMvlA09cbfG/x8gXQjxpBDiSeBH4C3drPIgAQH6BMeqG5a5MR599FE+//zz87ZPnz7dOSn7J598wsUXX+y86fUIy9ylSxeP5ufv+IoekwZ04aaUnnyZdZTX17RBN08p4e2rXE7/7u8g5R6f0cMXMLoW7r7cfR6YBeQ7PrOklC/oaJfHOHdOvzlQa4ZlBhg7dizXXnstK1asIC4ujmXLlgGwdetWunbtet7xd955J3l5efTt25fnn3+euXNdES30CMtcN8Jpe8eX9PjTVYMZEhvJM1/v5LudJ/Q92Yc3w/5VYAmCRw5B7EjAt/TwNkbXotGmHiFEhJSyUAgRDRxwfKr3RUsp8/U1z7e59957mTdvHpMnTwZg7dq19aarrKwkNTX1vO1BQUH1Ru4sLy8nIyODF154waP2KnwXs0nwn1mjmP7yOn79XiZf3pfm+Ze9Umq9dvYu19Yf2g+BoY0fozAkTdX4/+v4vwnIqPGpXvd59JyIxZ2wzICz5u8ueoVljoiI8Gh+/o6v6dExzMobtyVjFoIrXl5HzukSz2Vut8PLI11O/5FD5zl9X9PDmxhdCzURi5/RXr93eyLjQD7XvbaeALOJ/949hpG9olqXod0G8wZD0VEIiYEHtrWLeDvtnVZPxCKEWOHONl+kqKjI2yb4DDXfRyh8V4/k+GgW35dGVEggt83fwNo9p1qeWdlZ+FO05vStkfD73Q06fV/VwxsYXYtGHb8QIsjRvt9RCBElhIh2fOI5P+CawsdRAetq48t6DI6N5NNfX0jXyCDuXJDBsu3Hm5/JiWyY64j/HxACD+0Dc8PNh76sR1tjdC2aqvHfg9ae39/xv/qzCHhFX9MUivZNbIdgPvllKr07hvKrdzfxxU9H3D/4+Fb4l6NDwZBr4bGjYDbgvL+KFuFWG78Q4jeNhWfQm9a08UtH9Duj0Jo2frvdruvLbn/DX/Q4e66S2/6zgc2HC3jz1mQmD2yij3n2IvjoVm35sr9Dyj1uncdf9GgLjKBFq9v4pZQvCyEGCyGuE0LcWv3xrJn6UB3CVa+8x48f7+zVM3XqVDp06MAVV1zh1vFr1qxhxIgRWCwWPvnkE+f2U6dOMXWqx6cmYPv27R7P05/xFz0iQwJ4+87RxMeE8Kv3NpG+v5FwVhvfcjn9q//tttMH/9GjLTC6Fu6+3H0CeNnxmQj8HZiuo10eo6mulq1h/vz5XHPNNZgdQeBmz57NO++84/bxPXv2ZMGCBdx4Y+1phjt16kS3bt34/vvvPWpvdbxwhYY/6RERFMBH96TSIyqEe97dxKG8egYm/vQe/O9Bbfnu72DYDc06hz/poTdG18LdZ5mZwCTguJRyFpAEROpmlZ/Q2rDM8fHxDB06tN5Hyquvvpr33nvPI3YqjEHniCDm3z6Kyio7N731I2dLK107c9bCol9ry7/d7ByNq1DUh7sjhEqllHYhRJUQIgI4CfhMFKO1H+3m9OHieve1tI2/Y48wxl7Xr8H9ngjL3BjJycnMmTPHo3kmJSV5ND9/xx/1iO8Yyj9vHsmdCzbyq3c3sWDWaAL3fAUf3qQluOULiO7dorz9UQ+9MLoW7tb4M4QQHYA30Hr1ZALr9TLKk0j0GaDmj2GZ1ZiG2virHuP7deLRywfww748nn2/htO/6VO4YGKL8/VXPfTA6Fq4VeOXUjqeIfm3EGIpECGl3KKfWc2jsZp5UVFRs5pf3MUTYZkbQ4+wzPv376dnz54ezdOf8Wc97kzrTcnpXH67WetIYL/uHUwJk1uVpz/r4WmMrkVTA7hG1P0A0YDFsdxu8URY5sbQIyyzwkCcPeJ0+v+qupLfbo6josruZaMU/kJTNf7nGtkngYs9aIsuBAYG6pZ3dVjm6uicY8eOZefOnRQXFxMXF8dbb73FpZdeytatW5k+/fxOUBs3bmTGjBmcOXOGL7/8kieeeMLZjUyPsMx6vY/wV/xWj8JjMG8gAHLQNVREPcaS5bs5VVTOv28eSVRoy8q83+qhA0bXolHHL6VseYOhj+DpCJc1aW1Y5lGjRpGbm1vvMYsXL2bRokWeMxaIjo72aH7+jl/qkZ8DLw3TlifOQYyfzf1AXFQwj362late/Z75t4+ib+ewZmftl3rohNG1cLcf/631ffQ2zhPoORGLXmGZT506xYMPPkhUVCujMtYhMzPTo/n5O36nx5kDLqd/+bMwfrZz189GxvHOnaMpLq9ixqvfs3LnyWZn73d66IjRtXC3V8+oGp+xwJP4yQAuvbnjjjucA7g8RadOnbj66qs9mqfCzzm9F150dDEcNxtG331ekpQ+MXz6qwvpGG7lrrcz+N+WY21spMJfcLdXz29qrju6dn6gh0GextNO2Z/x9BOEv+M3ehQcglccA7LGzYaLGx7f0btjKF/+Jo0bXv+R+97PpMo+jKuGuRdI12/0aAOMrkVLoxCVAC0bJdLGhISoCSeqMfqglObiF3qUF8ELQ7Tly59t1OlXE2a18MEvxjCiZxQPfpTFN26GdPYLPdoIo2vhbhv/l0KIxY7P/4BdQPP6J3oJow/EaA6rV6/2tgk+hc/rYbfDa+O05ZGz6m3eaYhQq4X5t43igk6h3Pf+T/yw93STx/i8Hm2I0bVwt8vLszWWq4CDUsr6u6MofBZ/mGazLfFpPaSEt6ZA/n4YeDVc+UKzs4gMCeDdu1K47t/ruXNhBgtmjSKlT0wjp/RhPdoYo2vhbljm1Wi1/Ei0AVzGnp7GTVoblvn5559n4MCBDB06lEmTJnHw4EFAv7DMRpqXwBP4tB5rn4MjGRDeDa5d0OJsOocH8d+7x9AxPJDb/rOB73aeaDCtT+vRxhhdC3ebeu4CNgDXoEXq/FEIcYeehnkKPcI1VNPasMzDhw8nIyODLVu2MHPmTB566CFAv7DM48eP92h+/o7P6pH5Dnz3ZxBmuD8LWumEuncIdoZ0vmthBgu+z6m3RuuzengBo2vh7svd2cBwKeXtUsrbgJHAw/qZ5Tn07Mff2rDMEydOdL58HjNmTK3BXHqEZc7KyvJofv6OT+qxfzUsvk9bvncDWKweybZbZDCf/OpCLurbkSe/zOaBDzfXDuuMj+rhJYyuhbtt/HlAzbekRY5tPsHKBa9z8uD+evfZqmyYLc3v0tm5Vx8m3v6LBvd7OizzW2+9xWWXXeZc1yMs85kzZzyan7/jc3rsXw1vO4bH3P4VdOzr0ewjgwNYOGs085bv5pWVe9mYk8+LNwxnVLw2StXn9PAiRtfC3Rr/XiBdCPGkYzauH4HdQogHhRAP6mee7+LJsMzvvvsuGRkZzJ7tGompR1hmhQ+Tv9/l9K9dAPEX6XIak0nw+0sS+eieVEwmwfWvrefF5Xuw2Y39MlNRG3dr/Pscn2qqg8jo14DeDBqrmdtsNl0GcXkqLPPy5ct5+umnWb16NVar67Fej7DMI0a064Cq5+Ezepw9Ai8N15avfw8GuNc5oDWMio/mf78dy2OfbWXe8t1syS3gT5cP1f28/oLPlA2dcHfk7lMAQogwx3r9013VQQgxFXgRMANvSinnNpDuZ8AnwCgpZYY7ebtLVVWVLo6/ZljmoKCgRtM++uijjB49mhkzZtTa/tNPP3HPPfewdOlSOnfuXGufHmGZ8/PziYiI8Gie/oxP6JG3D152OJmxf2gTp19NZHAAr9w4nKS1kTzz9U4OnDrLu7+4iG6Rnq1w+CM+UTZ0xN1ePYOFED8B24HtQohNQohBTRxjBl4FLgMGAjcIIQbWky4cuB9Ib67x7lBRUaFHtoArLHM1Y8eO5dprr2XFihXExcU5g7Nt3bqVrl27nnf87NmzKS4u5tprr2XYsGG1QjfrEZb5wIEDHs3P3/G6Hufy4Z+OqK3jH4ZJ/9fmJggh+MW4C5h/+ygO5pcz81/r2XvSrXqdofF62dAZd5t6XgcelFKuBBBCTECbhvHCRo4ZDeyVUu53HPMBcBWQXSfdn4G/ofUc8itaG5Z5+fLlDeatR1hmhQ8hJbxxMdjKtZr+xMe8as7ExM48lhLEC5srmfHq98yfNcr50ldhPNx1/KHVTh9ASrlKCBHaxDGxwOEa67lASs0Ejlm8ekgp/yeEaNDxHzt2jMTERACsViuzZs1iwoQJFBUVYTabCQ4OprjYVUsJDw+npKQEu92O3W7HZrNRWVlJZWWlMw8hhLON3mKxEBQU5MxDCEFYWJgzD4DQ0FAqKipq5TFkyBBSU1MpKCjAarVitVopKSmplUdxcTGffPIJRUVFhIaGUl5eTlWVNv4tKCgIKSXl5eUABAQEEBgYyMGDB/nVr37lnESmuLjY2e9aSkl2djYnT2phdwcPHkx5eTl79uwBoEePHnTp0oWMDK3FLCIighEjRrBu3ToqKipYtWoV48aNY/v27eTlaR2zkpKSKCoqYv9+rWdUfHw80dHRztC0UVFRJCUlsXr1aufk9ePHjycrK8vZ+2HEiBHk5+c7a0p9+vQhPDzc2S0uJiaGQYMGsWbNGqfmaWlpZGZmUlhYCGg9mU6cOMHhw1qxSUhIwGq1sm3bNkB74d2vXz/nU5bVaiU1NZWMjAzntUtJSSE3N5cjR44AkJiYiNlsJjtbq2907dqV3r17s379eioqKkhPTyclJYX09HRKS0sBSE1NJScnh+PHtRg3AwcOxGazsWvXLgBiY2OJi4sjPV17SA0LCyM5OZn169c7r2VaWhq7d++u/zpJOyk7/kzwmRxOdB7LDvNYIjIzndepuny09XWKC7Hx3CWd+cu6An7+2nquTwxk6gVBjBs71qvXCbR3am15narvlcbuJ29dp8bupzlz5vDxxx/joCMNINwZmiyE+BxtgvXq0Uk3AyOllDMaOWYmMFVKeZdj/RYgRUp5n2PdBHwH3C6lPCCEWAX8ob42/uTkZFktfDU7duxgwIABTdpeVVWl62QsbY2737s+zpw5Y/iog83Ba3r8ZxocXAdR8fDbza0eoOUpqvU4XVzOb9//iR/25TExsRN/vWZIu2v3N8K9IoTYJKVMrm+fu9057wA6AZ8Bn6L9kjQ1cvcI0KPGepxjWzXhwGBglRDiADAGWCyEqNfQllJdO1AYf1BKc/GKHiv+rDn9jonwm0yfcfrg0qNjmJV370xhzrQBfL83j8nPreaNNfvb1Zy+Rr9XGq0KCyGCgF8CfYGtwO+llJWNHVODjUCCEKI3msP/OXBj9U4p5VlqPIo0VuNXKAxBzhpY64h3ePcKMPnuXBEmk+CusX2YNKALjy/axtNf7eCDjYd4cvogxiZ08rZ5ilbSVI1/IZCM5vQvA/7hbsZSyirgPmAZsAP4SEq5XQjxJyFEm83epSZicRET03BkxvZIm+qRtw8WXqkt378FrD4xBKYW9enRu2Mob98xmjdvTaas0s4tb23gwQ83k1+iX285X8Do90qjbfxCiK1SyiGOZQuwQUrZ5iMbWtPGX/3yxCi0po3fbrdjMrV07h3j0WZ6lOTBP/poyz97C4bM1P+cLaApPUorbLz03R5eX7Of6NBAnr02ifH9jFn7N8K90po2fmezjqMG73fU7O3jaWqGZd68eTOpqakMGjSIoUOH8uGHHzZ5fHl5Oddffz19+/YlJSXF+QZ/69at3H777R63t7oHgEKjTfSw21yjclPv81mnD03rERxo5uGp/fni1xcREmjmtvkbmPv1TkO2/Rv9XmnK8ScJIQodnyJgaPWyEKKwLQz0ZWqGZQ4JCeHtt99m+/btLF26lAceeICCgoJGj3/rrbeIiopi7969/O53v+Phh7WAp0OGDCE3N5dDhw61wbdQ6IaU8PZVUH4Wht0Mlz7tbYs8wpC4SL767ViuGRHLv1fv4+pXv2fbkbPeNkvRDBp1/FJKs5QywvEJl1Jaaiwbdzyzm9QMy9yvXz8SEhIA6N69O507d+bUqVONHr9o0SJuu+02AGbOnMmKFSuc/fWvvPJKPvjAs/PZG6lbqyfQXY+vZsOBtRAYBtNf0vdcHqA5eoRaLTx/3TBeuXE4xwvLmP7KOp5cvJ284nIdLWw7jH6vGOLbFXy5j4qjJQ3ub0mHzsDuoXS48oIG9zcWlnnDhg1UVFRwwQUNHw9w5MgRevTQerxaLBYiIyPJy8ujY8eOJCcnM3fuXOfkLJ4gLS3NY3kZAV31+GYObHwDAsPhof0+3YOnmpboccXQ7lx0QUf+tnQnC344wEcZh/n5qJ7MuiieHtEhOljZNhj9XvHvtxduYLfbdMm3obDMx44d45ZbbuE///lPq14O6RGWuXrkoEJDNz0y34EfXgaTBX63FSyB+pzHw7RUj6jQQOb+bCjLHxzHpAFdeHv9ASY8u4oHPviJHcf8s0XY6PeKIWr8jdXMi4qKdJl+sb6wzIWFhUybNo2nn36aMWPGNJlHbGwshw8fJi4ujqqqKs6ePevsRqZHWObqIfcKDV302PqJawath/ZDUKTnz6ETrdWjb+dwXr5hOLlTE3lzbQ4fbjzMF5uPMj2pOw9NTSQuyn+eAIx+rxi+xq8XNcMyg9b0M2PGDG699VZmzqzdc+PRRx/l888/Py+P6dOns3DhQgA++eQTLr74YmfXUz3CMit0ZudX8Omd2vJvf/Irp+9J4qJCeHL6INY+PJG70nqzdNtxJj23mn8s20lRmbvjPxV6YnjHXz2nrR7UDMv80UcfsWbNGhYsWMCwYcMYNmwYmzdvBhoOy3znnXeSl5dH3759ef7555k71zVdgR5hmZOTPRoNw+/xqB5HNsEHN2jL92VAdB/P5d1GeLp8dAyzMueKgSx/cDwTEjvx6sp9jP/HKt5al8O5Ct/uHW70e8WtIG3epjUDuNyZKKWlZGZmMm/ePN55551G01166aXO2PzuUF5ezvjx41m3bt15vQtaM4Br3759Tb5wbk94TI/SM/C3eG35hg8g8bJGk/sqepePzENn+NvXO0nPySciyMKM4bFcMyKOoXGRPjfI0gj3iieCtPkt1WGU9WDEiBFMnDgRm63xF8jNcfoAhw4dYu7cuR7vUlYdRleh4RE9KsvgzSna8s/e8lunD/qXjxE9o/jwnlQ+uieV8YmdeX/jYa569XsmPLuKZ77ewY5jhfhKRdTo94ohXu56kzvuaCpIafNJSEhwjglQ+Dgf3Qp5eyD5Dp8eletLjO4dzeje0RScq+B/W4/x9dbjvLk2h9dW72dIbCS3jOnFtKHdCLUq96QXhle25gTm7R31Y1KbVuvx3dOwZxn0SoMr5nnGKC/S1uWjQ0ggN6X04qaUXuQVl/PF5qO89+NBHvp0C39eks21yT24JbUXvTs2NeeT5zH6vWJ4x+9rbYfeRP0I1qZVevz0Lqz5O8T0hZs/9ZxRXsSb5SMmzMqdab2546J4ftyfz7s/HuTt9QeY/30Og7pHMKl/Zyb078zg7pEEWvRvoTb6vWL4Nv66fe3bM9VT4yk0WqzHkU2w6F5t+e6VEKBP54G2xhfKhxCC1AtiePWmEax7+GLmTBuA1WLi5ZV7ueafPzDkyWVc++8feHH5HjYeyNctQJwvaKEnhq/xKxQe5ViWNkk6wK/TIajdh6zSja6RQdw1tg93je1DfkkF6/flsengGTYeyGfe8t3MWw5hVgsT+3dm8oDOpPXtSEyYsWvqnsLwjl/PYEulpaVMnTqV7777jq1bt/KrX/2KwsJCzGYzf/zjH7n++usbPX7NmjU88MADbNmyhQ8++MA58OvUqVPccsstLF261KP2du7c2aP5+TvN1uP4VnhtnLZ8w4fQub/njfIivlw+okMDmTa0G9OGdgPgTEkF3+87zcqdp/hu5wm+zNLCm/TvGs6o+Gj6dwvngk5hJHYJJyq0+SEzfFkLT2B4x69XH36oPyxzQkICR48eZeTIkVx66aX1xvOppmfPnixYsIBnn3221vZOnTrRrVs3vv/+ey666CKP2duvXz+P5WUEmqVH/n74tyNw162Loc94fYzyIv5UPqJCA7liaHeuGNqdSpudLbkFfL83j/ScPD7LzKWkwtXFOiokgAs6hTE4NpLhPTswODaS3jGhmEwNv//zJy1aguEdf3FxsS6xekALy/zf//4XqF1QaoZlbszxV0f2rC+Y29VXX817773nUce/bt06JkyY4LH8/B239cjPcU2m8vP/GtLpg/+WjwCziZG9ohnZKxpIwG6XHCssY/eJIvacKCLndAl7ThTzwcZDLPjhAKA1EQ3oFk6PqBB6RIfQvUMQncODiA4NpHOElR2ZP3LxxIle/V56YgjH//XXX3P8+PF699lsthbNu9u1a1cuu6zhwTieCMvcGMnJycyZM6fFxys8xLl8eN3h6Ke/Av09G0ZD4XlMJkFsh2BiOwQzMdHVZFNps7PreBHZRwvZdvQsO44Vsn5/Hp9vPkLdcWMWE/TYtIqe0SFc0CmMqJAAOoQEEBkSSFRIAFEhgUQGBxAVGkhooNnveg8awvF7g6bCMi9cuNDnwjIbvYtac2lSj4pz8Np4KDsLU/4MI25pG8O8hNHLR4DZxODYSAbHRnIdPZzbyyptnCoq52RRGfkllZwoLOPHbXuRIRHknCphQ04+pZUNj84PMAsigwPpEBJAeJCF6JBAIkMCsFpMBJpNWMwmAswmrBYT1gATQRYzoVYz4UEBBAeYMZsEFpPAYjZhNglAmydcoD2ZJHTxfIuFIRx/YzVzvfBEWObG0CMsc2pqqkfz83ca1UNK+OxuOHsILvsHpPyi7QzzEu21fAQFmOkRHVJr4pibx/Sqlaaiys7Z0koKzlVw5pz2v+BcJWfOVVBQ6lovLq/iSEEpO48XUWGzU1Flp9Jmp8omqbA1v+tpx7BAMuZMafV3rIshHH9jlJSUEBrq+ZF/NcMyBwUFNRmWefTo0cyYMcPt/PUIy5yRkWH4qIPNoVE9lj8BO5dooRjagdMHVT5qUleLQIuJTuFWOoW3/KnIbtecf1mljZIKG4WllZRX2bHZtR+GKruk0mZHCIFdStAxbJHhHb/drs8AD3CFZZ48ebIzLHNeXh4LFiwAcIZo3rp1K9OnTz/v+I0bNzJjxgzOnDnDl19+yRNPPMH27dsBfcIyFxcXezQ/f6dBPdY+D9+/CINnwuXPta1RXkSVDxd6aGEyCYJMZoICzHQIgdgOnn2ibw6Gd/x6cu+99zJv3jwmT57MzTffzM0331xvusrKynofo0eNGkVubm69xyxevJhFixZ51F6FG2R9CCuegj4TYcZr0Ir3NAqFr2L4Uq1HM081eoVlPnXqFA8++CBRUVGtMe88UlJSPJqfv3OeHtmL4YtfQtchWrdNc/uqF6ny4cLoWhje8VdUVOia/x133NGi7qKN0alTJ66++mqP5gk0+HTRXqmlR/pr8NEt0KEn3PQpBPrP/LCeQpUPF0bXwvCOX8+JWPyNI0eOeNsEn8Kpx8a34OuHAAG3/w/Cu3jVLm+hyocLo2theMevUDTKzq/gfw9CVG94MBsi47xtkUKhO4Z3/EYflNIcEhMTvW2CTzHUmqtNkB7aWYupH9Hd2yZ5FVU+XBhdC8O/vfK3odR64ul3EX5N9iKil90LwVFw93fQoUfTxxgcVT5cGF0LXWv8QoipQohdQoi9QohH6tn/oBAiWwixRQixQgjRq758WoOeE7GUlpYyfvx4bDYbmzdvJjU1lUGDBjF06FA+/PDDJo9//vnnGThwIEOHDmXSpEkcPHgQ0Hr1TJ061eP2ZmdnezxPv2TvCvj0LkpC4uC+DOX0Hajy4cLoWujm+IUQZuBV4DJgIHCDEGJgnWQ/AclSyqHAJ8Df9bJHD+oLy7x9+3aWLl3KAw88QEFBQaPHDx8+nIyMDLZs2cLMmTN56KGHgNphmRUeZu8K+O/1ENWbzcP+CqEdvW2RQtHm6FnjHw3slVLul1JWAB8AV9VMIKVcKaU851j9EfD4mzU9J2J57733uOoq7Sv169fPOUFzzbDMjTFx4kRCQrRug2PGjKnVhaw6LLMn6dq1q0fz8zt2fAnv/gw69oPblxDT09jtuM2l3ZePGhhdCz3b+GOBwzXWc4HGRkXcCXzdkhPt3v1niop31L9TSmhBO3942AD69fu/Bvd7OizzW2+9VSvYnB5hmXv37u3R/PyKze9r8+RGxcMtn0NYZ3r3jvS2VT5Fuy4fdTC6Fj7xclcIcTOQDNQ7w8WxY8ecb9mtViuzZs1iwoQJFBUVYTabkYDNVuVMbzZbHKNpJVJqL2qklEipxe0xCRMIVxwfIQQmk6nGCFzth6KkpMSZJjQ0lIqKCue4gLy8PCIjIykqKgK0Jwur1cq+ffu46aabeO211zCZTBQXFyMdwb5DQ0MpLy+nqkqzNSgoCCklCxcuJD09neXLl2O32ykpKSE4ONgZlrlmHlJKsrOzOXnyJACDBw+mvLycPXv2ANCjRw+6dOlCRkYGABEREYwYMYJ169ZRUFBAWFgY48aNY/v27eTl5QGQlJREUVER+/fvB7QJYqKjo8nMzAS0gHRJSUmsXr0aKbWQsePHjycrK4szZ84A2ijm/Px8Dhw4AECfPn0IDw8nKysLgJiYGAYNGsSaNWuceqWlpZGZmUlhYSGg/didOHGCw4e1+kJCQgJWq9U58XXnzp3p168f69atc5aF1NRUMjIynLFVUlJSyM3NdfbDTkxMJHTXJ0SsmkNxaDxHJ7xGr8AOrF+1iuLiYjp16kRKSgrp6emUlpYCWpTKnJwc5xwPAwcOxGazsWvXLgBiY2OJi4sjPT0dgLCwMJKTk1m/fj3l5eUApKWlsXv37hZdp+ry0dbXqbi4mF69enntOpnNZmfbeteuXenduzfr168HtGi4bXmdfvrpJ8LCwnzyOkHD99OcOXP4+OOPcdBwO6bmED3/AVKBZTXWHwUerSfdZGAH0LmhvEaOHCnrkp2dfd62+igsLHQrXXPJz8+XvXr1qrXt7Nmzcvjw4fLjjz92O59vv/1W9u/fX544caLW9sLCQhkbG3teene/d32sXLmyxcf6LZvelvKJCClfTpayJK/WrnapRyMoPVwYQQsgQzbgU/Vs498IJAghegshAoGfA4trJhBCDAdeA6ZLKU/qYYRe3TlrhmUGmgzL/Pnnn5+Xx08//cQ999zD4sWLz5vcWY+wzJ6O7+/z/PAKLL4Puo+AO5ZBSHSt3e1OjyZQergwuha6OX4pZRVwH7AMrUb/kZRyuxDiT0KI6hjF/wDCgI+FEJuFEIsbyK7FhIWFeTpLJ9VhmQFnWObqUMzDhg1j8+bNAGzdurXel0WzZ8+muLiYa6+9lmHDhtUK3axHWGajB56qxaq/wTd/hD4T4PYl5zl9aGd6uIHSw4XhtWjoUcCXPq1p6ikqKnIrXUvYtGmTvPnmm5tMd8kllzQ777Fjx8r8/PzztremqefHH39s8bF+Q1WllIt/qzXvvH+jlJXlDSZtF3o0A6WHCyNoQSNNPT7xcldPZN1ZlD1IzbDMjY3085WwzNUvxQxLaQF8eDMcWAujfwGXPtNoaGXD69FMlB4ujK6F4R2/3txxxx0ez1OvsMyGJn8/vH8DnN4Dlz8Lo+/2tkUKhc9ieMev50Qs/oZhJ9M+9CO8/3MoK4QbP4KEyW4dZlg9WojSw4XRtfDr6JzuNONU99c1Aq1ttsrJyfGQJT5E1oewYBpYguGXa912+mBQPVqB0sOF0bXwW8cfFBREXl5ek86wepCFvyOlJC8vj6CgoBbnUT3QxRBICWufg89/oU2VeM9q6DKoWVkYSg8PoPRwYXQt/LapJy4ujtzc3Cbj4ZSVlbXKWfoSQUFBxMWpiUKoLNMmT9n8HiROg5+92S6nSlQoWorfOv6AgAC34mmcPHnyvMFR7ZWBA+sGR/VDzhyET2bBkU1w0f0w6UkwtezB1RB6eBClhwuja+G3jt9dXPF3FH6vxb7v4NO7obwIrnkThl7bquz8Xg8Po/RwYXQt/LaN312qAzYp/FiLqgpY9kd4ZwaYA7WXuK10+uDHeuiE0sOF0bUwfI1f4eec3guf3wNHMmDwTLhiHgRFeNsqhcKvMbzjj42N9bYJPoPfabH5ffhqNkg7XP1vGHaDR7P3Oz10RunhwuhaGN7xq14wLvxGi9ICWPI72P4ZdBsGM+dDjPuT2riL3+jRRig9XBhdC8O38VdPwqDwEy12fwOvjYPsL2DcQ3D3d7o4ffATPdoQpYcLo2th+Bq/wk8oL4KvH4HN70JkD7jtS4hP87ZVCoUhMbzj1zMev7/hs1rs/ga+ng1nDsCou2HKUxCof4wln9XDSyg9XBhdC6Fn2GJPkZycLKvnvFQYiILDsPxJ2PYJdOgJ01/WJk5RKBStRgixSUqZXN8+w7fxV0/WrPAhLSpKYM0/4NUU2LEY0h6EX6e3udP3GT18BKWHC6NrYfimHiNF52wtXtdCStjyEXz7OBQfh4RLYOpc3V7eNoXX9fAxlB4ujK6F4R2/wkc4+AN8+wTkboAuQ+Ca11SzjkLhJQzfxl9VVYXFon7fwEtaHMuCFX+Gvd9CaGeY+BiMuBVMDU9V2VaoslEbpYcLI2jRrtv4d+/e7W0TfIY21eLoT/DBTVqf/MPpMPGP8NufIHmWTzh9UGWjLkoPF0bXwvCO/+TJk942wWfQXQspIWcNvHMNvD5BWx43G+7PgvEPgdW3usipslEbpYcLo2vh388yCt+gshS2fgLpr8GJrRASAxPnaBOeB3fwtnUKhaIOhnf8gwcP9rYJPoPHtTi9BzIXwk/vQukZ6DwQrnwJhlzrFzNiqbJRG6WHC6NrYXjHb/RuWc3BI1pUlMCOLyHzbTj4PQgz9J+m1e7jx4IQrT9HG6HKRm2UHi6MroXhHf+ePXsMH2LVXVqsRVUF5KyGbZ9C9mKoLIGo3nDx/8GwmyCim+eNbQNU2aiN0sOF0bUwvONXtJBz+dpUhzuXwN7voPwsWCNh8DWQdAP0TG3xXLcKhcK7GN7x9+jRw9sm+AyNalFxDnI3wqH1sG+lNtBK2rW+9wOugP5XQN9JYLG2ncE6o8pGbZQeLoyuheEdf5cuXbxtgs9QS4vSM3AoHQ79oI2qPboZ7JWAgG5DYewfIGEKdB8BZmMWE1U2aqP0cGF0LYx5R9cgIyODCRMmeNsM7yIlnD3MwW8WMij0rFarP7EdkGAKgNgRcOF90PNC6DG63XTBVGWjNkoPF0bXwvCOv11hq4KCg5C3D/L2aN0tT++G41uhvJBBAAGhmnOf+Bj0uhBiR0JAsLctVygUbYiujl8IMRV4ETADb0op59bZbwXeBkYCecD1UsoDnrQhIiLCk9l5l6pyKDkN505D0XE4exgKDmmO/vQeyN/vaK5xENQBOvbT+tV3GcjOwhD6T7iuzZpupJSIJrp3Sikp37OHsm3bCRrQH2vfvoiAgHrTlm7ZwpmPPsJWUEBQv0SsCX0JHTsWc51JM2RVFcVr1lL07beU79+HrKgkNDWVmLvuxBId7UwXERGBlJLK3FyK16yh4MOPsBUVEXXDDXS4ZgbmmJjz7Jd2O0XLllH07bcExMYSeuGFWBMTa+VbE3tJCbaiIpASERiIOTq6SU28haHulVZidC10C9ImhDADu4EpQC6wEbhBSpldI82vgaFSyl8KIX4OzJBSXl83L0NNxCIl2Ku00a5V5VrXyHN5UJKnOfRqx17fekXR+fmZAiC6D8T0RUZfgM0ai83UCRkRS2DfwZjqmUlI2u1UHDxI+a7dVBzIQQRaMUdGEtizB9b+/TGHhztMlVQeOkTZjh0Ur1xJ5cmTCJMZYbEQNGgQ1r4XEDR4MOaICKryz1Dy/fcUffst5zZsqHU+ERBA0MCBWLp2Jah/IiLQyrnMTIpXr4aqqnplMkdGEnJhKkgoWb8e+9mzjcoqgoIwR0ZSdeKEmxfCfcwdOmAvK0OWlQFgMwVSZQnGbCvHbCsHJAKwdO1KYFwcCEFVUTEFB/Mot0ZiM1sx2SoR0kZgRSGhlnJCU1IIjO1OYGIiBXuOcjL7KOX5Z6ksLsNusmjpOliJSIwnYlBfOkxMQ0ZEc2rLAYoOHONcfinncg5RdraM8HBBh9gIwuI60XnSGKzdulBaVEFpUSUVZZWc3naIspP5mO2VBFrshHYMo+PQPoT3dnTDlWCXksJTpRTllVFWUompqgJRWUZEjxhi4qMxmWr/WFVV2igrrqKspJKqShtBIQFEdAzCZG64p5etyo6UErPF5LM/fkaisSBtejr+VOBJKeWljvVHAaSUz9RIs8yRZr0QwgIcBzrJOka11PF/9vwvsNlsmE0mzeHW+a6yuuzVKoQSJAgJ2OtJLwQIXPlJbVVLK2vmou0QNbbYpZbveZILENJlj+NAYQfsOM8hq201m5BmAcKkpZN2qLIhquznaSBNJjAJMAnsUmKSIKpsLhvro7qbZs3v3+R92sIbWQgQAikEoo6GSKntqxZSCGwBFjAJhN2GsIGwa9+51ncRJqQwYTebNI2E9p2F3Vb9BbVjhCMtJk0n53ewO2wBgd2xxazp2Gh4K9lyHXyemtemMQ20QiuQjtTVuta6GRxpHAVc1NRNIGXNayHRSoAdhL1GFjXKBcJ5bwskCLuWTFTf43XO7fwqjrxrZgMgBHabHSHMjqOk66vXyKbabcg6P2LOYxpFK9ui3nQ187PwswdeaiKv+mnM8ev5zB8LHK6xngukNJRGSlklhDgLxACnayY6duwYiYmJAFitVmbNmsXw4cMBiImJYdCgQaxZswYAi8VCWloamZmZhA1Zjdlcf41SoVAofJ3KimBWrVpFnz59CA8PJysrC2jY782ZM4ePP/64+vCODeWrZ41/JjBVSnmXY/0WIEVKeV+NNNscaXId6/scaWo5/pbW+Je/+TQFZ8/SIToazCYwm9BaoECrgdtdv/7VNXiTCSxmsASAqc4jqdRq7VRJrSJjCUCYtRporZpAdXK744/dUQMJsGi1z/Nqha7ajfOppMbgqPPTN12vFHUXhOD40WN07d6t1o7qr+dOPfU8O847qPH9teqJQiCEQNTRrhZ27aCau+vaIGrpKer8c9X0XDK4Uh88eIhevXo2cPL2hzf1qO9ZyVUxl856sbTbwW5D2m1Imx1ptyMsZu3ecjxnSACbDVlVhbTZnM2JEomwWJBmM8Lseqqw2+zYyqvAZgO7DSElJ0+fpGu3rprfMJnBLFxG2SXSVoW025FVNqTzaQPneew2XI/p0rWd6jp+9Xeq8TDhFKG6/EqJ2WJl/M9/1SJNvVXjPwLUHAUR59hWX5pcR1NPJNpLXo8w+a4/YrfbMakRpgBKizoMUnrUQunhwuj3ip7fbCOQIIToLYQIBH4OLK6TZjFwm2N5JvBd3fb91rJ9+3ZPZufXKC1qo/SojdLDhdG10K3G72izvw9Yhtadc76UcrsQ4k9AhpRyMfAW8I4QYi+Qj/bj4FHy8jz2AOH3KC1qo/SojdLDhdG10LVDt5TyK+CrOtser7FcBlyrpw0KhUKhqI1xG7EcJCUledsEn0FpURulR22UHi6MroXhHf9rr73mbRN8BqVFbZQetVF6uDC6FoZ3/P/5z3+8bYLPoLSojdKjNkoPF0bXwvCOX6FQKBS10W0AlycRQpwCDrbw8I7UGQncjlFa1EbpURulhwsjaNFLStmpvh1+4fgVCoVC4TlUU49CoVC0M5TjVygUinaGYR2/EGKqEGKXEGKvEOIRb9vT1ggh5gshTjoC4VVvixZCfCuE2OP4H+VNG9sKIUQPIcRKIUS2EGK7EOJ+x/b2qkeQEGKDECLLocdTju29hRDpjnvmQ0eolXaBEMIshPhJCLHEsW5oLQzp+B2TwLwKXAYMBG4QQgz0rlVtzgJgap1tjwArpJQJwArHenugCvi9lHIgMAa411Ee2qse5cDFUsokYBgwVQgxBvgbME9K2Rc4A9zpPRPbnPuBHTXWDa2FIR0/MBrYK6XcL6WsAD4ArvKyTW2KlHINWvyjmlwFLHQsLwSubkubvIWU8piUMtOxXIR2g8fSfvWQUspix2qA4yOBi4FPHNvbjR5CiDhgGvCmY11gcC2M6vjrmwQm1ku2+BJdpJTHHMvHgS7eNMYbCCHigeFAOu1YD0fTxmbgJPAtsA8okFJWz1zUnu6ZF4CHgOop7GIwuBZGdfyKJnCEv25XfXmFEGHAp8ADUsrCmvvamx5SSpuUchjaPBmjgf7etcg7CCGuAE5KKTd525a2RNfonF7EnUlg2iMnhBDdpJTHhBDd0Gp77QIhRACa039PSvmZY3O71aMaKWWBEGIlkAp0EEJYHDXd9nLPXARMF0JcDgQBEcCLGFwLo9b43ZkEpj1Sc+Kb24BFXrSlzXC02b4F7JBSPl9jV3vVo5MQooNjORiYgvbeYyXahEjQTvSQUj4qpYyTUsaj+YnvpJQ3YXAtDDty1/EL/gKuSWCe9q5FbYsQ4n1gAtrQ8xPAE8AXwEdAT7QQGNdJKeu+ADYcQog0YC2wFVc77mNo7fztUY+haC8szWiVv4+klH8SQvRB6wgRDfwE3CylLPeepW2LEGIC8Acp5RVG18Kwjl+hUCgU9WPUph6FQqFQNIBy/AqFQtHOUI5foVAo2hnK8SsUCkU7Qzl+hUKhaGcox69QKBTtDOX4FYZGCBEjhNjs+BwXQhxxLBcLIf6pw/kWCCFyhBC/bOHxKx22JXvaNoWiGqOGbFAoAJBS5qGFHkYI8SRQLKV8VufTzpZSftJ0svORUk4UQqzysD0KRS1UjV/RLhFCTKgx6caTQoiFQoi1QoiDQohrhBB/F0JsFUIsdcT5QQgxUgixWgixSQixzBHfp6nzLBBCvCSE+EEIsV8IMdOxvZsQYo3j6WObEGKsvt9YoXChHL9CoXEBWgz26cC7wEop5RCgFJjmcP4vAzOllCOB+YC7YUC6AWnAFcBcx7YbgWWOCJlJwGbPfA2FomlUU49CofG1lLJSCLEVLYbNUsf2rUA8kAgMBr7VYr5hBo7Vk099fCGltAPZQojqmP8bgfmOH5QvpJSbPfItFAo3UDV+hUKjHMDhoCulK4iVHa2CJIDtUsphjs8QKeUlzcnbgXCcZw0wDi3c7wIhxK2e+BIKhTsox69QuMcuoJMQIhW0+P5CiEEtzUwI0Qs4IaV8A23KvxGeMVOhaBrV1KNQuIGUssLxYvYlIUQk2r3zArC9hVlOAGYLISqBYkDV+BVthgrLrFB4ECHEAmBJS7tzOvJYhRYXPsNTdikUNVFNPQqFZzkL/Lk1A7iAPkClR61SKGqgavwKhULRzlA1foVCoWhnKMevUCgU7Qzl+BUKhaKdoRy/QqFQtDOU41coFIp2xv8DHiwwiPDE9HoAAAAASUVORK5CYII=",
      "text/plain": [
       "<Figure size 432x288 with 1 Axes>"
      ]
     },
     "metadata": {
      "needs_background": "light"
     },
     "output_type": "display_data"
    },
    {
     "data": {
      "image/png": "iVBORw0KGgoAAAANSUhEUgAAAagAAAEYCAYAAAAJeGK1AAAAOXRFWHRTb2Z0d2FyZQBNYXRwbG90bGliIHZlcnNpb24zLjUuMSwgaHR0cHM6Ly9tYXRwbG90bGliLm9yZy/YYfK9AAAACXBIWXMAAAsTAAALEwEAmpwYAAA90klEQVR4nO3deXxU9fX/8deZyTKEhAAJEEiQhEVlUyAgIiIgtQKCWqGutSpgN231p23Vr3Xr5lK1WsWldddWa12qIIILARQQBKns+yJB2SEQINvM+f1xJxBCyMbM3JnkPHUeM/fOnc99Z4ZPTu6de+9HVBVjjDEm2njcDmCMMcZUxQqUMcaYqGQFyhhjTFSyAmWMMSYqWYEyxhgTlaxAGWOMiUpWoIwxxkQlK1DGGGOikhWoRkRErhWRJSJyUES2ishTIpIafK6HiEwTkZ0iYmdvm0aphj5yjYgsFJF9IpIvIg+JSJzbmRsyK1CNhIjcCjwI/AZIBc4EsoGPRCQeKAXeBMa7ldEYN9WijyQBNwPpQH9gGPBrN7I2FmKXOmr4RKQZ8C0wTlXfrDA/GdgA/FpVXw7O6wysUVVxJawxLqhLH6nw3C3AUFUdHdGwjYhtQTUOZwE+4J2KM1W1EJgCfN+NUMZEkfr0kXOAZeGP1nhZgWoc0oGdqlpWxXPfAa0inMeYaFOnPiIi44C+wMMRyNZoWYFqHHYC6cf5Qrdt8HljGrNa9xERuRi4HxihqtZ3wsgKVOMwFygGLqk4M7h/fQQww4VMxkSTWvURERkO/AMYrapLIpyx0bEC1QioagFwH/CEiAwXkXgRycY5am8n8E9x+IAEABHxiUiia6GNiaBa9pFzgX8CY1R1vntpGw87iq8REZHxwP8DOgOJwEzgSlX9NtgZN1R6ySZVzY5oSGNcVEMfyQMGAUUVXvKZqo6IfNLGwQpUIyUi1wG/Bwaq6jdu5zEm2lgfcZ8VqEZMRK4GSlX1DbezGBONrI+4ywqUMcaYqGQHSRhjjIlKMXGhw/T0dM3Ozj7u8wcOHKBp06aRC1SNaMoC0ZUnmrJA5PIsXLhwp6qG7WToWOofYHmqE01ZIAr6iKpG/S03N1erk5eXV+3zkRRNWVSjK080ZVGNXB5ggVr/OMzyHF80ZVF1v4/YLj5jjDFRyQqUMcaYqGQFyhhjTFSKiYMkjDHGHF9paSn5+fkUFRXVvHAdpKamsmLFipC15/P5yMrKIj4+vlbLW4EyxpgYl5+fT0pKCtnZ2YiEbqzR/fv3k5KSEpK2VJVdu3aRn59PTk5OrV4Ttl18IvKCiGwXkaXHeV5E5G8islZEFotIn3BlMcaYhqyoqIi0tLSQFqdQExHS0tLqtJUXzu+gXgKGV/P8CKBL8PYT4OkwZjHGmAYtmotTubpmDNsuPlWdFbxC9vFcBLwSPAb+CxFpLiJtVfW72q6jqNTPsm8L2LI/wNaCIuK9wqFSP0WlfopKA6T44mid4sMX7+FgiZ/t+4spKQuQlOAlKcFL08Q44r0edhYWUxZQWiTFk5Rw5C0p9QeI80hMfPDmWCVlATwCcd4jf4eV+gPsOVBCYpwXDV7mS1XZWVjCgeIyEuI8tEhKIDHOw4GSMnYVllDiD9Ak3kuTBC9xHqG4LECpP0CZXykLKOnJCTRPSnDrx6zWvqJS1u7x03zzXrwieDzgEcHrkQr3R+b54r0kJ8aREGfHTxn3ufkdVCawucJ0fnBerQvUpl0HGfP0XADunP3pcZcTgdpcclAEstOa0iIpnu8KiviuoIiEOA+tkhM5uU0ySYlx7NhXzIqt+/AHlLTkBHxxXvYcLEUEmsR7+Wb3QbwfTWF4jwzapPh4YfaRESy6t2vGu78YCMDd7y3ljS+dH3/mb4bQIc05W3vH/mIe+WgVw7q24bxubQ6/1h9QNu06QHZaUzye6C2YRaV+EuM8RxX1rQVFzNuwi007yhgSnFdwqJT7Ji3jna+2cFpWKhOv7EObZj4e/Xg1z8xcd/i1o05rS2qTeP457xsS4jyoKqV+JaOZj+ZJ8aQlJ7Bx50GKSv1ktUyimc/5o2Pt9kLns/AILZISyGzuY19RGZt3H6Qs4PxjiPdA6uxP2FdUSklZoN4/8z2ju3HdwNrtU4+0JfkF/HFeEcybXafXJcR5SEmMI9kXR9ME5758ukVSAq2bJZLZvAnZaU3p2KopKb7afeltGrapU6dy00034ff7mTBhArfffvsJtRfWi8UGt6Amq2qPKp6bDDygqp8Hpz8FblPVBZWXzcjI0NTU1MPTo0aNYvTo0RwqU9bu8bOnsAi/NxG/QoIXErxCvAcOlioFxUqxH3xx0DxRiPcKxWXOvCK/UuJ35ns9sLdI2bw/wIFSJTVRaJPkoSQAuw4F2LQvwKEySPMJOc09CDDn2zIOlR2dNU6UMg1/AbmxVyKvrShhb/GRz++qUxP4Xoc4XlxWwqz8I8EeGdyEFj7hk01l/GtlyeH5T38vCZ8XJq0v5Z01pYDzS/vZ85IIKEz46OBR65w4LIl1e/08urD4qPm/7pvIwwuOnhdJvVt7SY4Xth0M8F1hgASvkJXioUMzDwGFgmJlT7Hi80KbJA9pTYQSP2wvLCYg8fjiIK2Jh6Q4KAvA/lKl1A+JcZCaIMR5hBK/UhKAQADiveAR8Ap4PUJ2Mw8ZTY/e4pg0aRKTJ08GYPXq1WEdV+t4/QOgsERZvu0ACYk+FAioc9PgfQBnC7J8fkkADpUpRWVQVKYcKlMOlQXn+Z0+VViqx/y7T00UMpKEtskespt56NzcS7tkZyutssLCQpKTk8P1dtRZNOWpb5bU1FQ6d+4c8jx+vx+v11vrZXv37s17771HZmYmQ4YM4YUXXuDUU089arm1a9dSUFBQqz7iZoF6Fpihqq8Hp1cBQ6raxde3b19dsOCYunXYjBkzGDJkSKhi18nWgiLWbN9P/5w0EuI8zJgxg6xufZnw8pd8s/sg913Ynav6d6CwpIzT7v3oqNc+fVUf3lywmbxVO1zJHg1uOe9kHv149VHznr06l/O6tmHxlgLGPD0Hf0B5aOxp/DA3CxEhEFA27XaKZ4eWSfXeoozUvxsRWaiqfcPVvhv940BxGd/uPcSGnQdYt+MA63cUsm5HIWu3F7KvyKlezXxxnJGTxuBTWvG9rq1pm9okbHlORDTlqW+WFStW0LVr15DnqctRfHPnzuXee+9l2rRpANx///0A3HHHHUctV1XW4/URN3fxvQ/cKCJvAP2Bgrp8/xQtMlJ9ZKT6jprXuXUyM34z9Kh5zXzxbHzggmNeP6JnWwAKDpaCQGqTI7tK5qzbyZX/mEduhxY8f01fmiclUHCwlNN/f6TQPXrp6VzSJ4sJL3/JJyu2H57fpXUyz1ydy7BHZh6zzjtHduVPU44+t6FnZip9TmrOy3M3HTX//33vZLJaNOHW/3x91PzZt59LmT/A4L/MODzvL2NP44d926Oq/O6/S/nnvG+YcHYO/zeyKx6PMGPGDAYPHszWfUW0TvHhDRaWXw3rckxGgF7tm7PuzyOPme/xCDnp0XNBzcaoaWIcXdqk0KXN0b+8VJVNuw6yYNMeFmzczex1O/lkxTbu+i/kdmjBxb3a0bLUhvgJp/smLWP5t/tC0lb5FlS3ds24Z3T3apfdsmUL7du3PzydlZXFvHnzTmj9YStQIvI6MARIF5F84B4gHkBVnwGmACOBtcBB4LpwZYkFqUnH7sM/q1P6MUUtNanqQvfcNf2qbPel4U3plnsmM1bt4JLemYcPGLj+nI68uWAzLZIS+F7X1oe/M7pndHfW7Sgk2Rd3+C9egDG5WfiD3914K2yxVJVFRPjTD3rypx/0rPK5iu2ahkVEyE5vSnZ6U8bmZgGwZtt+Plq+jUlff8td7y0j3gOzC5dw/aCO9oeGqVY4j+K7oobnFbghXOs3R7RO8XFp3/bHzK9qnscjx/xVXM4bxQdnmOhVvqV1w9DOLN1SwF/e/YK3Fubz+vxvGN49g58O7kSv9s3djtlg1LSlUxd12cWXmZnJ5s1HjnvLz88nMzPzhNZvx5IaYyKmR2Yq1/VI5PPbhvKLIZ2YvXYnF0+czbUvzmft9kK345kT0K9fP9asWcOGDRsoKSnhjTfe4MILLzyhNq1AGWMirnWKj9+cfypz7hjG7SNOZeGmPYx4fBZ/mbaSolK/2/FMPcTFxfHkk09y/vnn07VrVy699FK6dz+xrTm7Fp8xxjXJiXH8bHAnxuZm8ecpK5iYt45py7bxxBW96dq2mdvxTB2NHDmSkSOPPbCpvmwLyhjjuvTkRB69tBevjj+DgkOljH7ic56esY5wngZjop8VKGNM1BjUpRVTbxrE+d0zeHDqSq5/ZSH7ikrdjmVcYgXKGBNV0pITefLK3vzugq7krdrOpc/MZfPugzW/0DQ4VqCMMVFHRJgwqCMvX3cGW/YeYuwzc1i7fb/bsUyEWYEyxkSts7uk89bPzsIfgB9MnMOCjbvdjmQiyAqUMSaqnZKRwru/OItWKYlc++KXLM7f63YkEyFWoIwxUa99yyRendCf1CbxXPmPeXy9ea/bkUwl48aNo3Xr1vToccy1wevNCpQxJiZkNm/CWz8fQIum8Vz74nzW7bArT0STa6+9lqlTp4a0TStQxpiY0Ta1Ca+N74/XI1zzwnx27HdvHDJztHPOOYeWLVuGtE27koQxJqZ0SGvK89f047K/z2XCKwv490/OxBdfu0H1GoUPb4etS0LSVBN/GXjjIKMnjHggJG3WhW1BGWNizuntm/PXS3vx9ea93Pb2YrviRANlW1DGmJg0omdbbj3vZB75eDU9M1OZMKij25GiQwi3dA7VYbiNcLAtKGNMzLrx3M4M757B/R+u5Es7R6rBsQJljIlZIsJDPzyN9i2a8Mt/LWL3gRK3IzVaV1xxBQMGDGDVqlVkZWXx/PPPn3CbtovPGBPTmvniefLKPlzy1Bx++9Zi/vHjXERs9OdIe/3110Pepm1BGWNiXo/MVH47/BQ+WbGNf877xu04JkSsQBljGoRxA3MY1CWdP09ZwcadB9yOY0LACpQxpkHweIQHx5yG1yP85q2v8Qfs0PNYZwXKGNNgtGvehHtHd+fLjXt4ac5Gt+OYE2QFyhjToFzSJ5Ohp7Ti4WmrbKDDGGcFyhjToIgIf/xBT0TgnveX2VUmYpgVKGNMg5PZvAm3nHcy01duZ8qSrW7HaRQ2b97M0KFD6datG927d+fxxx8/4TatQBljGqRrzsqmW9tm/OmD5RwoLnM7ToMXFxfHI488wvLly/niiy+YOHEiy5cvP6E2rUAZYxqkeK+H+y7qzrcFRfz149Vux2nw2rZtS58+fQBISUmha9eubNmy5YTatCtJGGMarH7ZLbmkTyYvz93Ilf1PomOrZLcjhd2D8x9k5e6VIWnL7/fj9Xo5teWp3HbGbbV+3caNG1m0aBH9+/c/ofXbFpQxpkH77fmn4vUIf56ywu0ojUJhYSFjxozhscceo1mzZifUlm1BGWMatIxUHzcM6cwjH69mxqrtDDmltduRwqouWzo12V/H4TZKS0sZM2YMV111FZdccskJr9+2oIwxDd6EQR3JbN6EB6euImBXmAgLVWX8+PF07dqVW265JSRtWoEyxjR4TRK8/Ob8U1jx3T4+WPKd23EapNmzZ/Pqq68yffp0evXqRa9evZgyZcoJtRnWXXwiMhx4HPACz6nqA5WePwl4GWgeXOZ2VT2xn8gYY6ow+vR2PDtrPX/8YDnDurYmKcG+4Qils88+O+QnRYdtC0pEvMBEYATQDbhCRLpVWux3wJuq2hu4HHgqXHmMMY2b1yPcdUFXtu0r5p9f2JAcsSCcu/jOANaq6npVLQHeAC6qtIwC5Yd5pALfhjGPMaaRO6tzOmd3TmfijLXsPWij70Y7Cdd1qkRkLDBcVScEp68G+qvqjRWWaQt8BLQAmgLfU9WFldvKyMjQ1NTUw9OjRo1i9OjRh6cLCwtJTo6O8xuiKQtEV55oygLhzTNp0iQmT54MwOrVqzepanZYVkRs9Q9wP8/6vX5+/0URozrGM/bkBNfzVFTfLKmpqXTq1CnkIwmXnwcVKqrKunXrKCgoqF0fUdWw3ICxON87lU9fDTxZaZlbgFuDjwcAywFP5bZyc3O1Onl5edU+H0nRlEU1uvJEUxbVyOUBFmiY+pnGWP9QjY4841/6Urvd9aHu3F8UFXnK1TfL+vXrdceOHRoIBEKaZ9++fSFrKxAI6I4dO3T9+vXHPHe8PhLObwm3AO0rTGcF51U0HhgOoKpzRcQHpAPbw5jLGNPI3XLeyVywcht/+3QNQ1NrXj7aZWVlkZ+fz44dO0LablFRET6fL2Tt+Xw+srKyar18OAvUl0AXEcnBKUyXA1dWWuYbYBjwkoh0BXxAaN9hY4yppFu7Zoztk8WbC/LpNyjR7TgnLD4+npycnJC3O2PGDHr37h3ydmsrbAdJqGoZcCMwDViBc7TeMhH5vYhcGFzsVuB6EfkaeB24Nri5Z4wxYTVhUEcOlfqZtM4OlohWYT0RQJ1zmqZUmnd3hcfLgYHhzGCMMVU5JSOFS/pkMul/W9hZWEx6cuxvSTU0diUJY0yjdcPQzpQF4KXZG92OYqpgBcoY02h1apVMbhsvr8zdyP6iUrfjmEqsQBljGrWRHePZV1TG6/Pt6hLRxgqUMaZR65jqZWDnNJ77bAPFZX6345gKrEAZYxq9nw/uzPb9xbz71YkNUW5CywqUMabRG9g5jZ6ZqTw7az1+Gy8qaliBMsY0eiLCz4d0YsPOA0xbttXtOA2HKpQVg79+B6DYgCjGGAOc3z2DnPSmPD1jHSN6ZIT8wqsNQukh2LMR9n8H+7dBQb7z+OBOOLjbuZUegOL9UFoEZUWgfhj7IvSo+xDwVqCMMQZnvKifntOR299Zwuy1uzi7S7rbkdx1YBctd30FeXNh62LYsQr2fgOBSltDTVpA01aQlAYtsiG+CfiaQXwSeBMgIQlad61XBCtQxhgT9IM+mTz68Wqenrm28RWo0kOw4TNY+zFsmgPblnEaCgg0Pwnang7dLoI23SGlLaRkQLN2TkEKEytQxhgTlBjnZcKgHP48ZSWL8/dyWlZztyOFV1kJrJsOi9+ANZ9AyX7wJkKHATD0Tv63O5FeI651tohcYAXKGGMquOKMk3hy+lqembmOp67KdTtOeOzZBAueh4UvQ9FeSEqHHj+Arhc5xSmhKQB7Z8xwrTiBFShjjDlKii+eHw/IZuKMtazbUUinVtEx2m5IbF0Ksx+HpW+DBqDz9yD3GuhyPsQluJ3uGHaYuTHGVHLtwGx8cV4enrbK7SihsXMtvDYWnhkIy9+DPj+GG+bDj96CrqOjsjiBbUEZY8wx0pMT+dGZJ/Hc5xtYv6OQjrG6FVVyAPL+DHOfdKb7XQ+DfwvJrd3NVUu2BWWMMVUYd3YO8V4Pz32+we0o9bNpDvx9iFOcfKnwk5lwwcMxU5zACpQxxlSpbWoTLujZlslff8uhkhi6iGxpEbx3I7w4AvZ9C6Mfh9u/gXa93E5WZ1agjDHmOK444yT2FZXxwuwY2YratQ4mngGLXoVO58ItyyH3WrdT1ZsVKGOMOY5+2S0Y1CWd5z/fQFFplG9FLX0HnugDezdB76vh6nedXXsxzAqUMcYch4jwiyGd2X2ghPf+F8VDcXz+GLx1nfP4sn/CRU+6GidUrEAZY0w1zuzYkpPbJPPcZxtQjcKhOKbdCZ/c4zz+1SLoOsrdPCFkBcoYY6ohIowbmMOa7YXMXL3D7ThHqMK7Pz9yCPkdW6BlR3czhZgVKGOMqcFFvTJJa5rA89FyyLkqvDUOvv4XiAfu2gmJMXquVjWsQBljTA2aJHj50Zkd+GzNTlZu3ed2HOfk22XvOI/v2gXeeHfzhIkVKGOMqYUfD+hAnEd47OM17gbJux9mPeQMf3H3HvA03F/jDfcnM8aYEEpLTuTCXu2YumwrWwuK3Anx5XMw8wHn8fiPG3RxAitQxhhTa78Y0gmA/yzYHPmVr5sOH9zqPL5tI8QlRj5DhFmBMsaYWurcOoWzOqXx4pyNkb380bbl8OoPnMc3LnCGWW8ErEAZY0wd3DSsC7sPlPDuogiduFtWAm9PcB7/8CVI7xKZ9UYBK1DGGFMHZ+S05NSMFJ77bD2BQARO3P3gFti+DIb8H3T/QfjXF0WsQBljTB2ICD8d3JH1Ow/w6crt4V3ZwpecC7/mXgdDbgvvuqJQWAcsFJHhwOOAF3hOVR+oYplLgXsBBb5W1SvDmcnEntLSUvLz8ykqCu2RU6mpqaxYsSJk7fl8PrKysoiPb5jnpJgjRp/WjvunrOQv01ZyXrc24VnJt4tg0k3QIgdGPhyedUS5WhUoEUkExgDZFV+jqr+v5jVeYCJwHpAPfCki76vq8grLdAHuAAaq6h4RiZ2RtEzE5Ofnk5KSQnZ2NiISsnb3799PSkpKSNpSVXbt2kV+fj45OTkn1FZ9+puJrDivh8v6teeJ6WvZuPMA2elNQ7uCsmJnsEGAS18Gb+Mc/Ly2u/jeAy4CyoADFW7VOQNYq6rrVbUEeCPYRkXXAxNVdQ+AqoZ5e9nEoqKiItLS0kJanEJNREhLSwvVVl59+puJsCv7nwTArf/5OvSNT/mNc3/GT50Tchup2pblLFUdXse2M4GKJwvkA/0rLXMygIjMxtkNeK+qTq3jekwjEM3FqVwIM9anv5kIa5vahLG5WbzzVT47C4tJTw7ReUkrJsFXLzuPRzwYmjZjlNTm8vEi8nfgCVVdUuuGRcYCw1V1QnD6aqC/qt5YYZnJQClwKZAFzAJ6qureim1lZGRoauqRgbdGjRrF6NGjD08XFhaSnBwdF0qMpiwQXXnqmyU1NZXOnTuHPI/f78fr9Ya0zbVr11JQUMCkSZOYPHkyAKtXr96kqtm1baOu/S2W+gc0rDxb9ge4c/YhhmfHc/mpCSec5cC+vQxbdiu+4p3MPutlShOan3CbJyKcn1Wt+oiq1ngDlgMlwCpgMbAEWFzDawYA0ypM3wHcUWmZZ4DrKkx/CvSr3FZubq5WJy8vr9rnIymasqhGV576Zlm+fHlogwTt27evTst/+OGHevLJJ2unTp30/vvvr3KZqrICC7QW/Uzr2d9iqX+oNrw8P39tgXa64wMtLCo94Syb/36l6j3NVBe+csJthUKkPqvj9ZHa7uIbUbfaCMCXQBcRyQG2AJcDlY/Q+y9wBfCiiKTj7PJbX491GRNWfr+fG264gY8//pisrCz69evHhRdeSLdu3cKxuvr0N+OS6wbmMGXJVl74fAO/HHYCJ9FumkPWlsnQ+Tzoc3XoAsawWhUoVd0kIqcDg4KzPlPVar8ZVNUyEbkRmIbz/dILqrpMRH6PUy3fDz73fRFZDviB36jqrvr+MKbhu2/SMpZ/G5rhDsp38XVr14x7Rnevdtn58+fTuXNnOnZ0BoS7/PLLee+998JSoOrT34x7+mW3pEvrZF6f/w0/G9KJeG89Ti8N+OH1K5zHFz8V2oAxrFbvpIjcBPwTaB28vSYiv6zpdao6RVVPVtVOqvqn4Ly7g8WJ4NbdLaraTVV7quob9f9RjAmfLVu20L59+8PTWVlZbNkSnkvd1Le/Gff8+vxT+LagiClLvqtfA5/eB0V7WZ9zNSTb2TblaruLbzzOAQ4HAETkQWAu8ES4ghlTlZq2dOoilOdBhZj1txhzXtc2dEhL4rnPNnDh6e3qdkTn3m9g9uMAfHPSGBrWoO0nprbbooKzC66cPzjPmEYhMzOTzZuPnDWRn59PZmZmuFZn/S3GeDzC+LNzWLKlgDnr6vgtxdQ7nPtrJkMMnE4RSbUtUC8C80TkXhG5F/gCeD5sqYyJMv369WPNmjVs2LCBkpIS3njjDS688MJwrc76Wwy6tG970pMTeGbmutq/aNMcWDkZOg2DnEE1L9/I1PYgiUdFZAZwdnDWdaq6KGypjIkycXFxPPnkk5x//vn4/X7GjRtH9+6h291YkfW32OSL93JV/w48/ukaln1bQPd2qdW/IOB3rrUH8MMXwx8wBlVboESkmaruE5GWwMbgrfy5lqq6O7zxjIkeI0eOZOTIkWFr3/pb7LvmrGye+2w9E/PW8tRVudUvvOxd2LnauRCsr4Zi1kjVtAX1L2AUsBDnauPlJDht3+cZEzrW32Jcy6YJ/PisbJ6ZuY4NOw+Qc7yLyBbtg3d/Bq1Ohb7jIhsyhlT7HZSqjgre56hqxwq3HFW1zmJMCFl/axjGDcwh3uvh77Oq+S7qk3sgUApD7gBPaC+31ZDU9jyoT2szzxhz4qy/xbZWKYlc2jeLtxduYdu+Kq5uv38bLHjBedz94ohmizXVFigR8QX3h6eLSAsRaRm8ZeNcrdwYEyLW3xqOnwzqRFkgwHOfVXHltrw/OvfXTIpsqBhU03dQPwVuBtrh7BcvP0h/H/Bk+GIZ0yhZf2sgTkpL4oLT2vGPzzbws8GdSCsfimPvN/DVK9C6O+Sc427IGFDTd1CPq2oO8OsK+8JzVPV0VbUOY0wIWX9rWH56jvO14UtzNh6Z+eFtzv1lr0Y+UAyq7XlQT4hID6Ab4Ksw/5VwBTMmmowbN47JkyfTunVrli5dGtZ1WX9rGHpkpvK9rm14Ze4mbhjaGd/ulbBqCgy8GdI6uR0vJtT2IIl7cK4D9gQwFHgICNtp9MZEm2uvvZapUyMz2LP1t4Zj3MBsCg6Vcs97y+CDW52ZZ/7c3VAxpLYXix0LnA4sUtXrRKQN8Fr4YhlzHB/eDltrPbBztZr4y8AbBxk9YcQD1S57zjnnsHHjxpCstxasvzUQAzqlcUZOSzYtngmeuc45TykZbseKGbUtUIdUNSAiZSLSDNgOtK/pRcaYerH+1kCICLePOJWE537mzBh2t7uBYkxtC9QCEWkO/APn6KJCnMv/GxNZNWzp1MWh6B1uw/pbA9InsAw8G5mlveglyTRzO1AMqe1BEr8IPnxGRKYCzVR1cfhiGdN4WX9rYGY+CMBtxeP54az13PL9U1wOFDtqulhsn+qeU9WvQh/JmMbJ+lsDlL8ANsyCATdy2vZuvDB7I9cNzKFF0wS3k8WEmragHqnmOQXODWEWY6LWFVdcwYwZM9i5cydZWVncd999jB8/PtSrsf7W0HwW/EgH3sytB3x8tHwWf/9sPbcNP9XdXDGi2gKlqkMjFcSYaPb666+HfR3W3xqYbcud857O+hUkt+LkZBh9WjtenL2BawZkk5Hqq7mNRq5W30GJyI+rmm8nDhoTetbfGoi8Pzn3A248POuW807mgyXf8dgnq3lgzGkuBYsdtT2Kr1+Fxz5gGPAVYB3GmNCz/hbrdq5xhnLvcw2ktDk8Ozu9KZf3a8+/5n/DhEE5dG4dlUeRRo3aHsX3y4rTwUNg3whHIGMaO+tvDcBHv3PuB//2mKd+eW4X/jnvGy6eOIel950f4WCxpVaXOqrCASAnlEGMMcdl/S2W7N0Mq6c6o+WmZh3zdEaqj/Fn51BYXMb0ldtcCBg7avsd1CSODEHtBboCb4YrlDGNmfW3GPfJPc79RU8dd5GbvteF5z/fwP/799csuus8PB457rKNWW2/g3q4wuMyYJOq5ochjzHG+lvsKiqApW9DSlvIyj3uYs188fzhou7c9d4yXpyzkfFn2wZyVWq1i09VZwKrgFSgJU6nMabR2Lx5M0OHDqVbt250796dxx9/PGzrsv4Ww74KHsdy4RM1Lnpl/w50SEvimZnrKCy2j7gqtR1uYwIwH7gE50rLX4jIuHAGMyaaxMXF8cgjj7B8+XK++OILJk6cyPLly8OyLutvMaq0CGb/DbL6QZfzalzc6xEevbQXO/YX81Te2ggEjD213cX3G6C3qu4CEJE0YA7wQriCGVOVB+c/yMrdK0PSlt/vx+v1cmrLU7ntjNuqXbZt27a0bdsWgJSUFLp27cqWLVvo1q1bSLJUYv0tFn31ChzYDhcf/7unynI7tOD73drw1Ix1jD69XRjDxabaHsW3C9hfYXp/cJ4xjc7GjRtZtGgR/fv3D9cqrL/FGlWY9wy07g6dhtXppXeN6ka8V7jwyc9R1Zpf0IjUdgtqLTBPRN7DObroImCxiNwCoKqPhimfMUepaUunLvbXY7iNwsJCxowZw2OPPUazZmEbOMH6W6xZPRV2r4OLnwZP3c7ead8yiVu/fwoPfLiSqRvLsOtdHVHbd3Id8F+OHPr6HrABSAnejGnwSktLGTNmDFdddRWXXHJJOFdl/S3WzPoLNMuEnj+s18uvH9SRtKYJ/HtVCbsPlIQ4XOyq7ZUk7gMQkeTgdGFtXiciw4HHcc7leE5VqxxtTkTGAG8B/VR1QW3aNiaSVJXx48fTtWtXbrnllnCvq179zbjkm3mwZSEMvh288fVqwusRnr06l7HPzOXKf3zB1JvPCXHI2FTbo/h6iMgiYBmwTEQWikj3Gl7jBSYCI4BuwBUicsw3yiKSAtwEzKtreGMiZfbs2bz66qtMnz6dXr160atXL6ZMmRKWddWnvxkXzfmbcz/ghhNqpm92SwZnxbFy637yVm4PQbDYV9vvoP4O3KKqeQAiMgRnOOqzqnnNGcBaVV0ffM0bOPvSKx+b+wfgQZwjl4yJSmeffXYkv8CuT38zbti93rkobN9x4Dvx7ySv6prA5uJErnvpS76++/ukJtVvi6yhkNp0OhH5WlVPr2lepefHAsNVdUJw+mqgv6reWGGZPsCdqjpGRGYAv65qF19GRoampqYenh41ahSjR48+PF1YWEhycnKNP0ckRFMWiK489c2SmppK586dQ56n/DDzUFq7di0FBQVMmjSJyZMnA7B69epNqppd2zbq2t9iqX9Aw8rTZfUzZH77IfP7PcHBpieFJMuWkibcP7+Ik1I83HeWDxH3LoMUzs+qVn1EVWu8Ae8CdwHZwdvvgHdreM1YnO+dyqevBp6sMO0BZgDZwekZQN+q2srNzdXq5OXlVft8JEVTFtXoylPfLMuXLw9tkKB9+/aFvM2qsgILtBb9TOvZ32Kpf6g2oDz7t6ne11L1X1eEPMt97y/TDrdN1oemrghZ2yeSJ9yO10dqexTfOKAV8A7wNpAenFedLUD7CtNZwXnlUoAewAwR2QicCbwvIn1rmck0IhoD54eEMGN9+puJtC+fh0AZ9P9pyJu+fcSptE5JZGLeOpZuKQh5+7Gi2gIlIj4RuRnne6JlOLvoclX1ZlXdU0PbXwJdRCRHRBKAy4H3y59U1QJVTVfVbHU27b4ALlQ7is9U4vP52LVrV1QXKVVl165d+Hz1H8b7BPubiaSyYpj3NOQMho6DQ958QpyHf13vnAh+ydNzKPUHQr6OWFDTQRIvA6XAZzhH43UFbq5Nw6paJiI3AtNwDjN/QVWXicjvcTbn3q++BWMcWVlZ5Ofns2PHjpC2W1RUdEIFpTKfz0dW1rHj/9RBvfubibDF/3auXN7ryrCtonPrFP5wcQ/u+u9Sbnt7MY9e2its64pWNRWobqraE0BEnse5gGWtqeoUYEqleXcfZ9khdWnbNB7x8fHk5IR+OIIZM2bQu3fvkLd7Ak6ov5kIUYU5T0KLHOh5aVhXdfWZHZi7bifvfLWFbm2bMWFQx7CuL9rU9B1UafkDVbXrwRsTXtbfYsGGmbBzlXPeUx0va1Qfj1/em9PbN+ePH6xg6tLvwr6+aFLTu3u6iOwL3vYDp5U/FpF9kQhoTCNi/S0WfPm8cx/G3XsVxXs9PHlFbxLiPPzsta/YvPtgRNYbDaotUKrqVdVmwVuKqsZVeBy2K2Ua0xhZf4sBW5fAivdh4M2Q0DRiq23fMol3fu6cpz3ooTx2FRZHbN1uCv/2qTHGNBTlW0+510Z81T0yU3n88l7O6v/4CQcawSi8VqCMMaY2CrfD4jed8Z5ahv6gndq4qFcmv7ugKwBnPTCd4jK/KzkixQqUMcbUxqJXofQAnHefqzEmDOrIT87pSMGhUi579osGfY6UFShjjKlJWTHMnQgdBkJGT7fT8H8ju3Lj0M78b/Neutz5IfuLSmt+UQyyAmWMMTVZ/h4c3AWDbnU7yWG/Pv8UbhzqXES5570fsX1/kcuJQs8KlDHGVEcVPv8rpJ8MHaNrQPZfn38K9452htk740+fsn5Hwxrb0gqUMcZUZ30ebF8OZ/0yIifm1tW1A3N45ke5AIx64nOmr9zmcqLQib532xhjosn0P0JSWtgva3QihvfI4NNbB5OR6mPcSwu4453F+APRe3Hl2rICZYwxx7NtGWxZCKddBvGhu7BwOHRqlcykG89m2KmteX3+Znrd9xEbdx5wO9YJsQJljDHHM+thiPPBoF+7naRWmibG8dw1fblndDf2F5fx/b/O4snpa2L2UHQrUMYYU5XC7c7Re33HQ9M0t9PUmohw3cAc8n49hIGd03j4o9V8/6+zmLU6tMPVRIIVKGOMqcqsv4D6oe91biepl5z0prxwbT8ev7wXpf4AP35hPpf/fS4LN8XO2JdWoIwxprKDu+F/r0PbXpDexe009SYiXNQrk09uGcydI7uy4rv9jHl6DmOfnsNHy7ZG/a6/mgYsNMaYxmf+P6BkP4x+zO0kIeGL93L9OR257Iz2/Hv+Zl6YvYGfvLqQ1imJjMnNYmxuFp1aJbsd8xhWoIwxpqLSQzD/WcgeBO2iasTlE9bMF8/153TkmrOyyVu1nZfnbOTZmet4esY6TmmTwvnd2zCwczq5HVoQ53V/B5sVKGOMqWjJf5zLGp0TG0fu1UdCnIfzu2dwfvcMtu8r4v2vv+Wj5dt4Im8tf5u+lqQEL7kdWtAyUIK/zTa6tWtGRjMfIhLRnFagjDGmXCAAnz8GbXpAzmC300RE62Y+JgzqyIRBHSk4WMqM1dtZuGkP89bv5vNtpby3bgEAKb44stOacmpGCmnJibRN9dG+ZRPaNW9CapN4mjdJoEmCN6TZrEAZY0y5NdNg9zoY8zxEeGshGqQmxXNRr0wu6pUJwNRP8kjNOY0V3+1jw84DrNtRyMzVO9hzsIRS/7FXqkiI85CU4KVpQhxNErz44j344rz8clgXBp/cqs55rEAZYww4F4X97FFofhJ0u9jtNFHBFycM6JTGgE5HnwcWCCg7DxTzza6DbN9fTMGhUvYcLKHgYCkHSso4VBLgYEkZxWUBdh0ooXmT+Hqt3wqUMcYAfDMX8ufDyIfBa78aq+PxCK1TfLROCe/ln9w/TMMYY9ymCjMfgqR06HWV22lMkBUoY4zZNNsZVmPADZCQ5HYaE2QFyhhjZj0MvlTo/zO3k5gKrEAZYxq1lH1rgltPN9rWU5SxAmWMabxU6bj+FWfr6YyfuJ3GVGIFyhjTeK2fQYu9i2Hw7dCkudtpTCVWoIwxjZMqTP8DRYnp0G+822lMFaxAGWMap1VTYMtCNmZfDnGJbqcxVQhrgRKR4SKySkTWisjtVTx/i4gsF5HFIvKpiHQIZx5jjAEg4Ifpf4SWndjW5ly305jjCFuBEhEvMBEYAXQDrhCRbpUWWwT0VdXTgLeAh8KVxxhjDlv6DmxfDkP/D/WE9gKnJnTCuQV1BrBWVderagnwBnBRxQVUNU9VDwYnvwCywpjHGGPAXwp5f3KuWN79ErfTmGqEs0BlApsrTOcH5x3PeODDMOYxxhhY9Brs2QDn3gUe+xo+monqsZdMD0nDImOB4ao6ITh9NdBfVW+sYtkfATcCg1W1uPLzGRkZmpqaenh61KhRjB49+vB0YWEhycnRMVxxNGWB6MoTTVkgvHkmTZrE5MmTAVi9evUmVc0Oy4qIrf4B7ubx+EvoP+9nFPnSWdT7QRCJqvcnmrJAFPQRVQ3LDRgATKswfQdwRxXLfQ9YAbQ+Xlu5ublanby8vGqfj6RoyqIaXXmiKYtq5PIACzRM/UxjrH+oupxnzpOq9zRTXT8zOvJUEk1ZVN3vI+Hcvv0S6CIiOSKSAFwOvF9xARHpDTwLXKiq28OYxRjT2BXvh88egY5DIOcct9OYWghbgVLVMpzddtNwtpDeVNVlIvJ7EbkwuNhfgGTgPyLyPxF5/zjNGWPMifniGTi4C8692+0kppbCOiqXqk4BplSad3eFx98L5/qNMQaAg7thzt/glAsgK9ftNKaW7BAWY0zDN+thZxffuXe6ncTUgRUoY0zDtnUpfPEU9LoS2nR3O42pAytQxpiGSxWm3g6JKXDeH9xOY+rICpQxpuFa9i5s/AyG/h80TXM7jakjK1DGmIapuBCm3gFtekK/691OY+ohrEfxGWOMaz69Dwq3wmWvgdd+1cUi24IyxjQ8WxbC/H9AvwnQvp/baUw9WYEyxjQsZSXw/q8gJQOG2Um5scy2e40xDcush2DbUrj8dfCl1ry8iVq2BWWMaTi2LITPHoXTr4BTR7qdxpwgK1DGmIaheD+8fb2za2/4A26nMSFgu/iMMQ3D1Dtg93r48XvQpLnbaUwI2BaUMSb2LXsXFr0KA38FHQe7ncaEiBUoY0xs27kW3vslZPWDob9zO40JIStQxpjYVVwIb14N3ngY+yLEJbidyISQfQdljIlNAT+8+1PYsRKueguat3c7kQkxK1DGmNg0/Y+wcjJ8/4/QeZjbaUwY2C4+Y0zs+eoV+PxR6H01DLjR7TQmTKxAGWNiy6qpMOlm6HQujPoriLidyISJFShjTOxYPwP+cw20PQ0ufcU5OMI0WFagjDGxYf0M+Nfl0LIjXPW2M0quadCsQBljot/KD+Bfl0HLHPjx+zY6biNhBcoYE90WvAD//hGknwzXTIbkVm4nMhFih5kbY6JTwO+Mijv7ceg0DC592XbrNTJWoIwx0efQHnjnp7BmGvQdByMfBo/X7VQmwqxAGWOiy+qP4INbYf+3TmE643q3ExmXWIEyxkSHwu0w9XZY+rbzfdO4aZDV1+1UxkVWoIwx7lKF//0Tpt0JpQdhyP/B2TdDXKLbyYzLrEAZY9yhCuumw4wHIH8+nDQARj8OrU5xO5mJElagjDERJYEyWPwmzP4bbFsCzTKdwtT7x+CxM1/MEVagjDGRsWMVLH2H/vOeg+Kd0OpUuGgi9Pyh7c4zVbICFYsCASgrgoSko+d/9zUsfx+6joZ2vQCQgB/euwEWvQZXv+tcYBPgwE74Syfn8Y/eOTJcwdal8MzZkJIBEz6F1ExnflkJzH0SvAkw4IajL9BZkA/JGeC1f06mgkAAti6GNR87Q7JvXwYIB1uchu+SJ6HL+bbFZKoV1t8oIjIceBzwAs+p6gOVnk8EXgFygV3AZaq6MZyZXFdWDJ74ozvmd1/Df29wTkL80VuQ0BQO7oaHco4sc8oFcNmrMPUOmP/s0W2e+ztnbJxynz18+OHgisu9+oOqM712ybHz9n8Hf+1W9fIf3QlpXeDADijae/Rzt22Cb786el3XfgDZZzvFcvqfnPzn/QFyrzmyTMAPxfuhSfOq12mi34FdsHM1fLsI8r+EDbPg4E7nufZnwoiHoNtFLF64kiGnDHE1qokNYStQIuIFJgLnAfnAlyLyvqour7DYeGCPqnYWkcuBB4HLwpWpVqraOgn4YfcGKC6AZlmQ0saZv3k+zLgf8hdAjzEw/AESi7bDKxfD+rwjrx94E6z9FLYtrXn9f25X9fxVH8DvW1b9XMXiFCm71lQ9/8EOx8576QKgUrGc9CvndjwnDYBv5h4974cvQfY5MO8ZWPQqxCfBsLuh20XOFt2hPbBzrfPZpZ9y9BadvxQ8cTY0Q30EAlB6wPkDoni/84fJ/q2w9xvYvQ52rnFuh3YfeU1qe2drvfMw5z65dYUGV0b8RzCxSVQ1PA2LDADuVdXzg9N3AKjq/RWWmRZcZq6IxAFbgVZaKVTfvn11wYIFx6xj+9bF/H3m7Rzav5cmCXGgfueXkCfOOevcXwIlhyBQ6lyWPz4pOL/MmRcoc27xSSAepxMe3BNsJx58qc5yJQed+3IJyc59SWGI37UqdP8BbF0Cu9YemdfhLGjdDYr2wZI3j8zvc43zc5Yecgpi4VYKkzuR3HWo87wqbJjptNXtYmia7swvK4ZVHzqFudOwI9c62/etc9KklkHXC51fMhpw/jreusRZJqsftD3dKQ5L3z6SxZsIp4yA9TOhaE/Y3h6HON9hlBUdPS+ppfMzlx50nhMvJDaDxGQIlFF2cB9xHnXes4RkZ/el+p3dmVrm/BvwBr8bUb/zs2vAWc7jddYh8P2Tx3JG358fP53IQlUN2wk9x+sfABs2zuDv0++maVISqgEA514VRQFFVZ33SdX5uf2lqL8UAhXuK7SpFe/jmoAvBRKboYnOPU1aoPG+4DIaXOeRFrZt20brNq0PN3R4mQprKV9eOfr3U8V2KrddVTsoBAigqgQ0gF/9BDSAovgDfsq0jH0F+2ia0vSo54HD0+XLBTRwVGYtf++Ok+WY5/XobCKCV7wIggT/cCorLSMxIRERwSMeVJU4j/OHlle8eMSDV7yHXx/viccjzt4YQfB4PIfb9Hqc5aX8P3Hunf+Pnlc+34PnyDwRduzYQetWrY9ZruJrK66/4msFOZxzTJcx9EjvwfEcr4+Es0CNBYar6oTg9NVAf1W9scIyS4PL5Aen1wWX2VmxrYyMDE1NTT08PWrUKEaPHs3efYt5ZOezOO9Yxb+MnX8MCCge5wGKEPwHFlxWy9/Aw/+wBRUPiAcp/2Uk4iwh3mCTiqi/wvJeZ/lgARP1o554Ap6Ew9MefzEAfm8TpxCWvzpQBiKoVN6QLf9MTvyvfVU9/I/fbcdmcd5LleAv++A8T6AECZShnrgj72OgFI+WgYIQwF8+HwUNHP6Eyz8v1O98hgDiOfJZq7/C5+0JLq/BZQ9/wocTCpV+QR5OemT+pQm96Zk5/qjlJk2axOTJkwFYvXr1JlXNrvs7VjvH6x8AW3d+wlP73j38nFT6NyWV5mvwl48iSPB9EwQN/sJx3mPP4X/3la83XfHzPXZdznQgEMDj8VS7TOW2qlq2utdX1Y4Hz1G/sD04v8z9fj/xXucXvSf48xz+5Rt8jZejC0n5Oo5aT+V1y/GXAadYlRfL8unS0lK88V40+AeEIPhxft8ENOAU2+Dy5dMByv/wcF5zuCBXeq58HZULecXiWfn5QCCAiFT9mvL2tOo2Kxbty9Iu4/Sk04/6rGrVR1Q1LDdgLM73TuXTVwNPVlpmKZBVYXodkF65rdzcXK1OXl5etc9HUjRlUY2uPNGURTVyeYAFGqZ+pjHWP1QtT3WiKYuq+30knIfQbAHaV5jOCs6rcpngLr5UnIMljDHGNHLhLFBfAl1EJEdEEoDLgfcrLfM+UH4o11hgerCaGmOMaeTCdhSfqpaJyI3ANJzDzF9Q1WUi8nuczbn3geeBV0VkLbAbp4gZY4wx4T0PSlWnAFMqzbu7wuMi4IfhzGCMMSY22WncxhhjolKDKFCTJk1yO8Jh0ZQFoitPNGWB6MsTLtH2c1qe44umLOB+ngZRoMqPpY8G0ZQFoitPNGWB6MsTLtH2c1qe44umLOB+ngZRoIwxxjQ8YbuSRCiJyA5gUzWLpAM7q3k+kqIpC0RXnmjKApHL00FVW4Wr8RjrH2B5qhNNWcDlPhITBcoYY0zjY7v4jDHGRCUrUMYYY6KSFShjjDFRKaYLlIgMF5FVIrJWRG53Yf0viMj24LAh5fNaisjHIrImeN8iQlnai0ieiCwXkWUicpPLeXwiMl9Evg7muS84P0dE5gU/s38Hr9MYESLiFZFFIjLZ7SyRYn3kqCzWR2rOFFV9JGYLlBwZsXcE0A24QkSOM0Z52LwEDK8073bgU1XtAnwanI6EMuBWVe0GnAncEHw/3MpTDJyrqqcDvYDhInImzqjJf1XVzsAenFGVI+UmYEWFaTezhJ31kWNYH6lZdPWRqsbgiIUbMACYVmH6DuAOF3JkA0srTK8C2gYftwVWufT+vAecFw15gCTgK6A/ziGrcVV9hmHOkIXzy+dcYDLOWH2uZIng+259pPpc1keOzhB1fSRmt6CATGBzhen84Dy3tVHV74KPtwJtIh1ARLKB3sA8N/MEdxf8D9gOfIwzIOVeVS0LLhLJz+wx4LcQHGIU0lzMEinWR47D+kiVHiPK+kgsF6iop86fHRE90UxEkoG3gZtVdZ+beVTVr6q9cP4yOwM4NVLrrkhERgHbVXWhG+s3x2d9xPpIdcI63EaY1WbEXjdsE5G2qvqdiLTF+csoIkQkHqfj/VNV33E7TzlV3SsieTi7CJqLSFzwr7JIfWYDgQtFZCTgA5oBj7uUJZKsj1RifeS4orKPxPIWVG1G7HVDxVGCr8HZzx12IiI4A0CuUNVHoyBPKxFpHnzcBGdf/wogD2f05IjlUdU7VDVLVbNx/p1MV9Wr3MgSYdZHKrA+cnxR20ci/WVgiL/UGwmsxtlve6cL638d+A4oxdk/Ox5nv+2nwBrgE6BlhLKcjbNrYjHwv+BtpIt5TgMWBfMsBe4Ozu8IzAfWAv8BEiP8mQ0BJkdDlgj9vNZHjmSxPlK7XFHTR+xafMYYY6JSLO/iM8YY04BZgTLGGBOVrEAZY4yJSlagjDHGRCUrUMYYY6KSFShjjDFRyQpUDBCRNBH5X/C2VUS2BB8XishTYVjfSyKyQUR+Vs/X5wWz9Q11NmOqYn2kYYrlSx01Gqq6C+dy/IjIvUChqj4c5tX+RlXfqs8LVXWoiMwIcR5jjsv6SMNkW1AxTESGVBhY7F4ReVlEPhORTSJyiYg8JCJLRGRq8BpkiEiuiMwUkYUiMi147bGa1vOSiPxNROaIyHoRGRuc31ZEZgX/Ul0qIoPC+xMbUzfWR2KbFaiGpRPOWC4XAq8BearaEzgEXBDsgE8AY1U1F3gB+FMt226Lc6mYUcADwXlX4owP0ws4HefSMcZEM+sjMcR28TUsH6pqqYgsAbzA1OD8JTiDxp0C9AA+dq6biRfnOmm18V9VDQDLRaR8vJwvgReCnfq/qvq/kPwUxoSP9ZEYYltQDUsxQLCTlOqRCy0GcP4YEWCZqvYK3nqq6vfr0naQBNczCzgH5xL8L4nIj0PxQxgTRtZHYogVqMZlFdBKRAaAMzaOiHSvb2Mi0gHYpqr/AJ4D+oQmpjGusT4SRWwXXyOiqiXBL2//JiKpOJ//Y8CyejY5BPiNiJQChYD9dWhimvWR6GLDbZhjiMhLOOPB1OsQ2mAbM4Bfq+qCUOUyJlpYH4kM28VnqlIA/OFETkLEGeisNKSpjIke1kciwLagjDHGRCXbgjLGGBOVrEAZY4yJSlagjDHGRCUrUMYYY6LS/wf5LNbQxA552QAAAABJRU5ErkJggg==",
      "text/plain": [
       "<Figure size 432x288 with 2 Axes>"
      ]
     },
     "metadata": {
      "needs_background": "light"
     },
     "output_type": "display_data"
    }
   ],
   "source": [
    "def plot_dynamics(exp, psi_init, seq):\n",
    "        \"\"\"\n",
    "        Plotting code for time-resolved populations.\n",
    "\n",
    "        Parameters\n",
    "        ----------\n",
    "        psi_init: tf.Tensor\n",
    "            Initial state or density matrix.\n",
    "        seq: list\n",
    "            List of operations to apply to the initial state.\n",
    "        \"\"\"\n",
    "        model = exp.pmap.model\n",
    "        exp.compute_propagators()\n",
    "        dUs = exp.partial_propagators\n",
    "        psi_t = psi_init.numpy()\n",
    "        pop_t = exp.populations(psi_t, "lindbladian" in model.frame)\n",
    "        for gate in seq:\n",
    "            for du in dUs[gate]:\n",
    "                psi_t = np.matmul(du.numpy(), psi_t)\n",
    "                pops = exp.populations(psi_t, "lindbladian" in model.frame)\n",
    "                pop_t = np.append(pop_t, pops, axis=1)\n",
    "\n",
    "        fig, axs = plt.subplots(1, 1)\n",
    "        ts = exp.ts\n",
    "        dt = ts[1] - ts[0]\n",
    "        ts = np.linspace(0.0, dt*pop_t.shape[1], pop_t.shape[1])\n",
    "        axs.plot(ts / 1e-9, pop_t.T)\n",
    "        axs.grid(linestyle=\"--\")\n",
    "        axs.tick_params(\n",
    "            direction=\"in\", left=True, right=True, top=True, bottom=True\n",
    "        )\n",
    "        axs.set_xlabel('Time [ns]')\n",
    "        axs.set_ylabel('Population')\n",
    "        plt.legend(model.state_labels)\n",
    "        pass\n",
    "\n",
    "def getQubitsPopulation(population: np.array, dims: List[int]) -> np.array:\n",
    "    \"\"\"\n",
    "    Splits the population of all levels of a system into the populations of levels per subsystem.\n",
    "    Parameters\n",
    "    ----------\n",
    "    population: np.array\n",
    "        The time dependent population of each energy level. First dimension: level index, second dimension: time.\n",
    "    dims: List[int]\n",
    "        The number of levels for each subsystem.\n",
    "    Returns\n",
    "    -------\n",
    "    np.array\n",
    "        The time-dependent population of energy levels for each subsystem. First dimension: subsystem index, second\n",
    "        dimension: level index, third dimension: time.\n",
    "    \"\"\"\n",
    "    numQubits = len(dims)\n",
    "\n",
    "    # create a list of all levels\n",
    "    qubit_levels = []\n",
    "    for dim in dims:\n",
    "        qubit_levels.append(list(range(dim)))\n",
    "    combined_levels = list(itertools.product(*qubit_levels))\n",
    "\n",
    "    # calculate populations\n",
    "    qubitsPopulations = np.zeros((numQubits, dims[0], population.shape[1]))\n",
    "    for idx, levels in enumerate(combined_levels):\n",
    "        for i in range(numQubits):\n",
    "            qubitsPopulations[i, levels[i]] += population[idx]\n",
    "    return qubitsPopulations\n",
    "\n",
    "def plotSplittedPopulation(\n",
    "    exp: Exp,\n",
    "    psi_init: tf.Tensor,\n",
    "    sequence: List[str]\n",
    ") -> None:\n",
    "    \"\"\"\n",
    "    Plots time dependent populations for multiple qubits in separate plots.\n",
    "    Parameters\n",
    "    ----------\n",
    "    exp: Experiment\n",
    "        The experiment containing the model and propagators\n",
    "    psi_init: np.array\n",
    "        Initial state vector\n",
    "    sequence: List[str]\n",
    "        List of gate names that will be applied to the state\n",
    "    -------\n",
    "    \"\"\"\n",
    "    # calculate the time dependent level population\n",
    "    model = exp.pmap.model\n",
    "    dUs = exp.partial_propagators\n",
    "    psi_t = psi_init.numpy()\n",
    "    pop_t = exp.populations(psi_t, "lindbladian" in model.frame)\n",
    "    for gate in sequence:\n",
    "        for du in dUs[gate]:\n",
    "            psi_t = np.matmul(du, psi_t)\n",
    "            pops = exp.populations(psi_t, "lindbladian" in model.frame)\n",
    "            pop_t = np.append(pop_t, pops, axis=1)\n",
    "    dims = [s.hilbert_dim for s in model.subsystems.values()]\n",
    "    splitted = getQubitsPopulation(pop_t, dims)\n",
    "\n",
    "    # timestamps\n",
    "    dt = exp.ts[1] - exp.ts[0]\n",
    "    ts = np.linspace(0.0, dt * pop_t.shape[1], pop_t.shape[1])\n",
    "\n",
    "    # create both subplots\n",
    "    titles = list(exp.pmap.model.subsystems.keys())\n",
    "    fig, axs = plt.subplots(1, len(splitted), sharey=\"all\")\n",
    "    for idx, ax in enumerate(axs):\n",
    "        ax.plot(ts / 1e-9, splitted[idx].T)\n",
    "        ax.tick_params(direction=\"in\", left=True, right=True, top=False, bottom=True)\n",
    "        ax.set_xlabel(\"Time [ns]\")\n",
    "        ax.set_ylabel(\"Population\")\n",
    "        ax.set_title(titles[idx])\n",
    "        ax.legend([str(x) for x in np.arange(dims[idx])])\n",
    "        ax.grid()\n",
    "\n",
    "    plt.tight_layout()\n",
    "    plt.show()\n",
    "\n",
    "sequence = [cnot12.get_key()]\n",
    "plot_dynamics(exp, init_state, sequence)\n",
    "plotSplittedPopulation(exp, init_state, sequence)"
   ]
  },
  {
   "cell_type": "markdown",
   "metadata": {},
   "source": [
    "#### Visualisation with qiskit circuit"
   ]
  },
  {
   "cell_type": "code",
   "execution_count": 20,
   "metadata": {},
   "outputs": [
    {
     "data": {
      "text/html": [
       "<pre style=\"word-wrap: normal;white-space: pre;background: #fff0;line-height: 1.1;font-family: &quot;Courier New&quot;,Courier,monospace\">     ┌────────────┐     \n",
       "q_0: ┤ Rx90p(π/2) ├──■──\n",
       "     └────────────┘┌─┴─┐\n",
       "q_1: ──────────────┤ X ├\n",
       "                   └───┘</pre>"
      ],
      "text/plain": [
       "     ┌────────────┐     \n",
       "q_0: ┤ Rx90p(π/2) ├──■──\n",
       "     └────────────┘┌─┴─┐\n",
       "q_1: ──────────────┤ X ├\n",
       "                   └───┘"
      ]
     },
     "execution_count": 20,
     "metadata": {},
     "output_type": "execute_result"
    }
   ],
   "source": [
    "qc = QuantumCircuit(2)\n",
    "qc.append(RX90pGate(), [0])\n",
    "qc.cx(0, 1)\n",
    "qc.draw()"
   ]
  },
  {
   "cell_type": "code",
   "execution_count": 21,
   "metadata": {},
   "outputs": [],
   "source": [
    "c3_provider = C3Provider()\n",
    "c3_backend = c3_provider.get_backend(\"c3_qasm_physics_simulator\")\n",
    "c3_backend.set_c3_experiment(exp)"
   ]
  },
  {
   "cell_type": "code",
   "execution_count": 22,
   "metadata": {},
   "outputs": [
    {
     "name": "stdout",
     "output_type": "stream",
     "text": [
      "Result from unoptimized gates:\n",
      "{'(0, 0)': 0.07007758389627962,\n",
      " '(0, 1)': 0.1893219168903836,\n",
      " '(0, 2)': 1.4780353876124836e-05,\n",
      " '(1, 0)': 0.3756325727508734,\n",
      " '(1, 1)': 0.3636521800453087,\n",
      " '(1, 2)': 4.98764686153043e-06,\n",
      " '(2, 0)': 0.001074983840743271,\n",
      " '(2, 1)': 0.00022096533218874664,\n",
      " '(2, 2)': 2.9243270773366865e-08}\n"
     ]
    }
   ],
   "source": [
    "c3_job_unopt = c3_backend.run(qc)\n",
    "result_unopt = c3_job_unopt.result()\n",
    "res_pops_unopt = result_unopt.data()[\"state_pops\"]\n",
    "print(\"Result from unoptimized gates:\")\n",
    "pprint(res_pops_unopt)"
   ]
  },
  {
   "cell_type": "code",
   "execution_count": 23,
   "metadata": {},
   "outputs": [
    {
     "data": {
      "image/png": "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",
      "text/plain": [
       "<Figure size 504x360 with 1 Axes>"
      ]
     },
     "execution_count": 23,
     "metadata": {},
     "output_type": "execute_result"
    }
   ],
   "source": [
    "plot_histogram(res_pops_unopt, title='Simulation of Qiskit circuit with Unoptimized Gates')"
   ]
  },
  {
   "cell_type": "markdown",
   "metadata": {},
   "source": [
    "#### Open-loop optimal control\n",
    "\n",
    "Now, open-loop optimisation with DRAG enabled is set up."
   ]
  },
  {
   "cell_type": "code",
   "execution_count": 24,
   "metadata": {},
   "outputs": [
    {
     "name": "stdout",
     "output_type": "stream",
     "text": [
      "cx[0, 1]-d1-gauss1-amp                : 800.000 mV \n",
      "cx[0, 1]-d1-gauss1-freq_offset        : -53.000 MHz 2pi \n",
      "cx[0, 1]-d1-gauss1-xy_angle           : -444.089 arad \n",
      "cx[0, 1]-d1-gauss1-delta              : -1.000  \n",
      "cx[0, 1]-d1-carrier-framechange       : 4.712 rad \n",
      "cx[0, 1]-d2-gauss2-amp                : 30.000 mV \n",
      "cx[0, 1]-d2-gauss2-freq_offset        : -53.000 MHz 2pi \n",
      "cx[0, 1]-d2-gauss2-xy_angle           : -444.089 arad \n",
      "cx[0, 1]-d2-gauss2-delta              : -1.000  \n",
      "cx[0, 1]-d2-carrier-framechange       : 0.000 rad \n",
      "\n"
     ]
    }
   ],
   "source": [
    "opt_gates = [cnot12.get_key()]\n",
    "exp.set_opt_gates(opt_gates)\n",
    "\n",
    "gateset_opt_map=[\n",
    "    [(cnot12.get_key(), \"d1\", \"gauss1\", \"amp\")],\n",
    "    [(cnot12.get_key(), \"d1\", \"gauss1\", \"freq_offset\")],\n",
    "    [(cnot12.get_key(), \"d1\", \"gauss1\", \"xy_angle\")],\n",
    "    [(cnot12.get_key(), \"d1\", \"gauss1\", \"delta\")],\n",
    "    [(cnot12.get_key(), \"d1\", \"carrier\", \"framechange\")],\n",
    "    [(cnot12.get_key(), \"d2\", \"gauss2\", \"amp\")],\n",
    "    [(cnot12.get_key(), \"d2\", \"gauss2\", \"freq_offset\")],\n",
    "    [(cnot12.get_key(), \"d2\", \"gauss2\", \"xy_angle\")],\n",
    "    [(cnot12.get_key(), \"d2\", \"gauss2\", \"delta\")],\n",
    "    [(cnot12.get_key(), \"d2\", \"carrier\", \"framechange\")],\n",
    "]\n",
    "parameter_map.set_opt_map(gateset_opt_map)\n",
    "\n",
    "parameter_map.print_parameters()"
   ]
  },
  {
   "cell_type": "markdown",
   "metadata": {},
   "source": [
    "As a fidelity function we choose unitary fidelity as well as LBFG-S (a wrapper of the scipy implementation) from our library."
   ]
  },
  {
   "cell_type": "code",
   "execution_count": 25,
   "metadata": {},
   "outputs": [],
   "source": [
    "import os\n",
    "import tempfile\n",
    "from c3.optimizers.optimalcontrol import OptimalControl\n",
    "\n",
    "log_dir = os.path.join(tempfile.TemporaryDirectory().name, \"c3logs\")\n",
    "opt = OptimalControl(\n",
    "    dir_path=log_dir,\n",
    "    fid_func=fidelities.unitary_infid_set,\n",
    "    fid_subspace=[\"Q1\", \"Q2\"],\n",
    "    pmap=parameter_map,\n",
    "    algorithm=algorithms.lbfgs,\n",
    "    options={\n",
    "        \"maxfun\": 25\n",
    "    },\n",
    "    run_name=\"cnot12\"\n",
    ")"
   ]
  },
  {
   "cell_type": "markdown",
   "metadata": {},
   "source": [
    "Start the optimisation"
   ]
  },
  {
   "cell_type": "code",
   "execution_count": 26,
   "metadata": {},
   "outputs": [
    {
     "name": "stdout",
     "output_type": "stream",
     "text": [
      "C3:STATUS:Saving as: /tmp/tmp1ajqcq63/c3logs/cnot12/2022_05_18_T_12_31_05/open_loop.c3log\n"
     ]
    }
   ],
   "source": [
    "exp.set_opt_gates(opt_gates)\n",
    "opt.set_exp(exp)\n",
    "opt.optimize_controls()"
   ]
  },
  {
   "cell_type": "markdown",
   "metadata": {},
   "source": [
    "The final parameters and the fidelity are"
   ]
  },
  {
   "cell_type": "code",
   "execution_count": 27,
   "metadata": {},
   "outputs": [
    {
     "name": "stdout",
     "output_type": "stream",
     "text": [
      "cx[0, 1]-d1-gauss1-amp                : 199.980 mV \n",
      "cx[0, 1]-d1-gauss1-freq_offset        : -52.980 MHz 2pi \n",
      "cx[0, 1]-d1-gauss1-xy_angle           : 215.299 mrad \n",
      "cx[0, 1]-d1-gauss1-delta              : -946.133 m \n",
      "cx[0, 1]-d1-carrier-framechange       : 5.899 rad \n",
      "cx[0, 1]-d2-gauss2-amp                : 20.056 mV \n",
      "cx[0, 1]-d2-gauss2-freq_offset        : -53.006 MHz 2pi \n",
      "cx[0, 1]-d2-gauss2-xy_angle           : -96.721 mrad \n",
      "cx[0, 1]-d2-gauss2-delta              : -973.779 m \n",
      "cx[0, 1]-d2-carrier-framechange       : 187.279 mrad \n",
      "\n",
      "0.789068339574965\n"
     ]
    }
   ],
   "source": [
    "parameter_map.print_parameters()\n",
    "print(opt.current_best_goal)"
   ]
  },
  {
   "cell_type": "markdown",
   "metadata": {},
   "source": [
    "#### Results of the optimisation\n",
    "Plotting the dynamics with the same initial state:"
   ]
  },
  {
   "cell_type": "code",
   "execution_count": 29,
   "metadata": {
    "pycharm": {
     "name": "#%%\n"
    }
   },
   "outputs": [
    {
     "data": {
      "image/png": "iVBORw0KGgoAAAANSUhEUgAAAX4AAAEDCAYAAAAyZm/jAAAAOXRFWHRTb2Z0d2FyZQBNYXRwbG90bGliIHZlcnNpb24zLjUuMSwgaHR0cHM6Ly9tYXRwbG90bGliLm9yZy/YYfK9AAAACXBIWXMAAAsTAAALEwEAmpwYAABEwElEQVR4nO29eXgc1Z2v/x61pG7tm7VZki3ZloXlRbaQkZUY20AcTCAsuSZMEhIw5A6ZCfPMDDNmwv15ss1ww+ROCDMhvzvJDQQnww2DPUlwGAIJDrYxETKyjLzIeF8k21qsxVJr6Za6z/2jWt1dspaW1CV1V5/3eerprqpTp09/qvpbp0+d8zlCSolCoVAoIoeo2S6AQqFQKGYWFfgVCoUiwlCBX6FQKCIMFfgVCoUiwlCBX6FQKCIMFfgVCoUiwoie7QIEwpw5c2RhYeGUjr1y5Qq5ubnBLVCYorTQo/TQo/TwYQYtDh48eFVKmTnavrAI/IWFhdTW1k7p2FWrVk35WLOhtNCj9NCj9PBhBi2EEBfG2mf6ph6XyzXbRQgZlBZ6lB56lB4+zK6F6QO/w+GY7SKEDEoLPUoPPUoPH2bXwvSB/6677prtIoQMSgs9Sg89Sg8fZtdChINXT0VFhZxqe9v58+eZ6oNhs6G00KP00KP08GEGLYQQB6WUFaPtM6zGL4R4UQjRKoQ4OsZ+IYT4VyHEaSHEYSFEuRHlSE9PNyLbsERpoUfpoUfp4cPsWhjZ1PMSsGmc/XcAxZ7lT4H/bUQh6urqjMg2LFFa6FF66FF6+DC7FoYFfinlPqBjnCT3AD+TGu8DqUKIoHacdbslbikJh+YshUKhmClmsx9/HtDot97k2XYlWB9Q+o03GRh0w1tv6LYLAQIQQiB027QdI7cJ3TbPMSO3+eXp2Y3wJPRs8m4bzjNK+F6jowTRFkF0VBQxFkG0JYroKEGMJeq67THDab3vh9OMfXxMVBSXu2Lprr9MTJTAFmPBFmMhPtZCXKyFOM/68HtL1PC3My9paWmzXYSQQunhw+xahMUAritXrlBSUgKA1Wply5YtrFq1CoCMjAyWLl3Kvn37AIiOjmbt2rXU1dVxZ6EFl7SQmzsXe6+d7mvdSCAtPR2LxUJraxsA8fHxpKWn09jYBIDFYmHu3LlcaW7G6XQigdycXHp6euix27U80tIQQtDe3oFEEh8fT1JSMs0tzSDBEh1NZlYWLS2tuIaGkEBWVhbdPT309fUDkJySgltKurqu4ZIQa4sjJjaWqx2d9EsJwoItPoGu7h4GXRKXlMRa4+h3OHEOunBJCVEWBl2SQZcblxsm/G/zfmdAmsdaBDFREqtFkGSNJjs9Caf9GrZoiIsWLF4wj/6uq0QNDZAQI1hVuhicfVxru0xCjGBJ8QKSk5Opr6+f8Dx1d3cDUFFRQUtLC42NWn2guLgYq9XK0aPaY6KsrCwWL17M/v37vddCVVUVtbW12O12ACorK2lqauLSpUsAlJSUYLFYaGhoACAnJ4eioiKqq6sBqKmpobKykpqaGvr7tfNSVVXFuXPnaG5uBqC0tBSXy8WJEycAyMvLIz8/n5qaGgASExOpqKigurra2w1w7dq1nDx5ktbWVgCWLVuGw+Hg1KlTABQUFJCdne0dJJScnEx5eTn79+9naGgIgHXr1nHs2DHa29sBKCsro6enh7NnzwLawMb09HRvs0RaWhplZWXs3bsXKSVCCNavX099fT2dndp5Ly8vp6Ojg/PnzwOwYMECkpKSvOfpyJEjIXme4uLiZvQ8dXZ2smfPnpA9T2P9nrZt28aOHTvwMIcxMLRXjxCiEHhdSrlslH0/AvZIKX/hWT8BbJBSXlfjn06vnr1797J+/fopHRuOuN2SQbebIZfUFrebIbd2Y/hjdQ3lFRUMuiQDgy76nS76Bz2L06VtG3TR73TTNzjEgNNFr9NFd/8g1/oHsTuGtGVgiO6BQQZdY187MRZBSlwsqfExpMT5lrT4WOYkxZKTbCM72cbc1Dhykm3ExVpmUCWNSLs2JkLp4cMMWozXq2c2a/y7gMeFEK8AlcC10YL+dIm09v2oKIE1yoJ1lDObFS9YlJUUlM+RUtI/6KKrT7spaK9OuvoG6fKu+7a1dA9wsqWHjl4nfc7rR0WmJ8SSlWQlJ8VGdpKN7BQb2clW7w2iID2elLiYoJTd/zsofCg9fJhdC8MCvxDiF8AGYI4Qogn4BhADIKX8N+AN4FPAaaAP2GJQOYzINiwJphZCCOJjo4mPjWZuatykju1zDtF8bUBbuge41NlPc/cALd0DtHQ7OHa5m6t2ByN/e0nWaObPiadoTiJzU2zkp8WRlxZHflo8BWnxk/7XoK4NPUoPH2bXwvQDuBThyaDLzVW7w3uDaOzs41JnP2ev9nKhvY/m7gGcQ27dMXMSrSzMTGBJbjLF2YmUZCdROCeBjIRY0/+QFYqRhGpTz4xQX19PWVnZbBcjJAgnLWIsUeSmxJGbMvq/Cbdb0mZ3cKmrn8aOPho7+rjY0cfJFjs7ahvp9WtOSouPYUFmIgszE1icncTCzEQWZibS3niSVStXztA3Cn3C6fowGrNrYfrAP/yUXGEuLaKiBNme9v/yefqud1JKmjr7Od1m52xbL6db7Zxts7P7eCuv1jZ508VFw7L3+1iSm8yK/FSWzk2mOCuRaIvpLaxGxUzXx3QxuxamD/yKyEMIQUF6PAXp8dxSot/X2evkdJudM612fld7nG4Jv6y7xM+qNetyW0wUxVlJLMxMoHRuMsvzUlmen0LiaE/LFYowxfRt/N3d3SQnJwe5ROGJ0kLPsB5ut+R0m53jV7qpb7zGqdYezrTauXxtANAG3S3MTGRFfgpl+amsyE9hSW4ytpiZ74JqJOr68GEGLSK6jb+joyPsT2CwUFroGdYjKkqwODuJxdlJ3LMyz7u/3e7g8KVrHG68xuGmLvadvMov67QBR9boKG7ITaY0N4nledrNoCQniZgwbiZS14cPs2th+sBvBnvVYKG00DORHhmJVm4pyeKWkixAe3Zw5doAh5u6qD3fybHL3fzX4Sv84oA2gtUaHcWyvBQqCtNYmZ9K+fw0spNtM/FVgoK6PnyYXQvTB36FIlgIIZibGsfc1Dg2LdP8BKWUXOzoo77pGvWNXdRd7OTF/ee8o5oLM+JZsyCDygXplM9LY156vOpaqph1TB/4FyxYMNtFCBmUFnqCoYcQgvkZCczPSODusrkADAy6+Ki5h9rzHbx/toM3jlzhlQ+0fwW5KTZWzUtleV4qKwtC68Gxuj58mF2L0LjiDCQpKTgWBWZAaaHHKD1sMRZWFmiB/cs3L8Dllpxo7uHghQ5qznVwuOkabxzRjMWiBCzPT6VqQQYfW5hBRWEa8bGz87NU14cPs2th+sBfX1/Phg0bZrsYIYHSQs9M6WGJEpTOTaZ0bjJfrCoEtAfHRy5do+5CJ++daecn757l3/aeIdYSRfn8VG4qTGflvFRWF6aTZAuuR9FYqOvDh9m1MH3gVyhCkYxEKxtKsthQksUTQL/Txfvn2qk+084fz1zl+XdO45ZaV9L56fGUz0vjpqJ0Pr5oDgXp8bNdfEWYY/rAn5GRMdtFCBmUFnpCSY+4WIuuB1GvY4gPG7s4eKGTY5evse9UG788pHUlzUuNo2phhtY8tChjTFuLyRJKesw2ZtfC9AO43G43UVHh27c6mCgt9ISTHlJKzrTZ2X/qKjXnOnjv9FW6B7SJQHKSbVQUprG6MJ01CzIozkokagozqIWTHkZjBi0iegDXvn37TN1WNxmUFnrCSQ8htLkUFmUl8fDHi5BScuxyNwfOdXCosYva8x28flibziLJGs2q+WmsLEhlTVE65fPTAhplHE56GI3ZtTB94FcozIgQgmV5KSzLSwF8xnTvn23nUGMXB8938vypU/yr1PyHVhaksnbRHKoWZrAsLwVrtLnsJhSTw/SBPzra9F8xYJQWesykh78x3f0VBQD0DAxy4FwH7566ygfnO/je708ifwexlihK5yazal4qq+alsaoglfy0OFPpMV3MroXp2/gVCoVGu93BB+c7OHSxi0MXuzh8qYuBQW0ym5xkGzd6rCZWzktl2dyUWZkHWRE8xmvjN33gr6uro7y8PMglCk+UFnoiXY9Bl5sTzT3UXezkwLkODpxppbVXm8DGEiUoyU5i5bxU781gYWYilik8NA5HzHBtRPTD3e7u7tkuQsigtNAT6XrEWKK8zwm+VFXInj17WHpjFfWNXdQ3dfFhYxe/qb/M/625CECiNZrleSmsnJdKWX4qq+alhpUJ3WQw+7Vh+sCvUCgCJzPJyidKs/lEaTagTXF5rr2X+kbtRvBhYxc/efes14QuJ9mm2VPMS6VifholOUkzNtJYMXVM39Rjt9tJTEwMconCE6WFHqWHnkD1GBh00XCl23szqG/s4nx7n3d/TrKN0rnJ3JCTxNK5KazITyE/LS6sXEnNcG1EdFNPS0tL2J/AYKG00KP00BOoHrYYC+Xz0nRzHV+1Ozh0sYtTrT2carFro41PtjHk1iqWSdZobshNYkluMktykynNTaY4O3HWDOkmwuzXRmiqHkQaGxtZuHDhbBcjJFBa6FF66JmOHnMSrWwszWajp4kIwDnk5viVbo5evsbxK90cv9LDfx5sotfp8qbJS41jUVYiCzITKJqjLTfkJJOZZJ3295kOZr82TB/4FQrF7BAbHUVZQSplBanebW63pLGzj4bL3ZxqtXO61c6ZNjsfnO+gz++GkBYfw4LMRBZmJrAgM5F56fEsyEygIC2ehBCZvyCcMb2CxcXFs12EkEFpoUfpoWcm9IiK8k1cc4ffdiklrT0OzrTaOd7cw+nWHs609bL7eCuv1jbp8khPiCU/Lc6zxFPgec1PiyMvLS4ozUdmvzbCNvAPDg7S1NTEwMDAuOlcLpdpumbZbDby8/OJiZlarwmrdXb/PocaSg89s6mHEILsZBvZyTY+tmiObl/3wCAX2/s4e7WXps4+mjr7aers56MrPbx9vBXnkFuXPsNzY8hJsZGTbCM7xUZ2ko3cVBt5qdr2iSwrzH5thG3gb2pqIikpicLCwnF7C/T09JhiNh0pJe3t7TQ1NVFUVDSlPI4ePWpq46nJovTQE6p6JNtidL5E/rjdkqt2B42d/bqbQlNnH2fbevnjmXZ6PC6m/qTExZCVZCXTs6TFx5KREEt6YiyZiVYunDzGbWsrSU+IJdkWMyW301AmbAP/wMDAhEHfTAghyMjIoK2tbbaLolCEDFFRgqxkG1nJNm6cnzZqmj7nEC3dDi539XOpq5+WawO02R20djto7Rngw8YuOuxOehz6G8TTNXsBbRRzWnwMqfGxpMbFkBIXQ4I1mgSrhYTYaOKt0STEWrzb4mOjSbRGE+/dpu2Pj40mNjo0rJ7DNvADAQV9M5ktTfcml5WVFaSSmAOlhx6z6hEfG03RnGiK5iSMm84x5KKj18nVHicfHj9F0pxc2nuddPY6ae91cq3fSWfvIFeuDdDnHKLX6aLPMaTrpTQRsZYo4j03jOGbxGg3i/hYC7YYCylxMXzupnnTleA6zBMVx8BmM25IeX9/P5s2beIPf/gDFouF7du384//+I8AbNu2jYceemjc4zs6OnjggQc4f/48hYWFvPrqq6SlpfH6669z4MABvv3tbwe1vIsXLw5qfuGO0kNPpOthjbaQmxJHbkocS3JWBlxpdLsl/YMuep1D9Dpc9DqG6HNqr73OIfocLuyOIe/NotehpetzDnm2u2i393nT9jqHvOZ5WUlWQwI/UsqQX2688UY5koaGhuu2jUZ3d3dA6abC888/L5977jkppZTt7e2yqKhItre3y46ODllUVCQ7OjrGPX7r1q3yO9/5jpRSyu985zvyySeflFJK6Xa75cqVK2Vvb+91xwT6vUfjnXfemfKxZkTpoUfp4WO2tRhyuWWvY1B29TqnnAdQK8eIqYY2OAkhNgkhTgghTgshvjbK/nlCiHeEEIeEEIeFEJ8ysjzB5uWXX+aee+4B4K233mLjxo2kp6eTlpbGxo0befPNN8c9/rXXXvP+K3jooYf49a9/DWhNOhs2bOD11183tPwKhSI0sUQJ4mOjSYk3xvfIsKYeIYQF+CGwEWgCPhBC7JJSNvgl2wa8KqX830KIUuANoHCyn/Wt3xyj4fLoXTZdLhcWy+R9xUvnJvONTy8dc7/T6eTs2bMUFhYCcOnSJQoKCrz78/PzuXTp0rif0dLSQm5uLgA5OTm0tLR491VUVPDuu+/y2c9+dtJlHwuzd1GbLEoPPUoPH2bXwsga/03AaSnlWSmlE3gFuGdEGgkke96nAJeDXYipBP1AuHr1KqmpqUHLTwihe3iblZXF5cvBlaOqqiqo+YU7Sg89Sg8fZtfCyIe7eUCj33oTUDkizTeB3wkh/gJIAD4xWkZXrlyhpKQE0O7EW7ZsYcOGDfT09GCxWPj6XaXY7XZv+qSkJHp7e3G73bjdbhITExkcHGRwcNCbhxDCO/grOjoam83mzUMIQWJiojcPgISEBJxOpzcPi8XCwMAAPT09AGRmZvLee+9518+dO8fGjRux2+1IjwNqQkICDoeDoSGt21hWVhYXLlwgPT2d5uZmMjMzcbvd9Pb20tnZ6R2o5Z+HlJKGhgZaW1sBWLZsGQ6Hg1OnTgFQUFBAdnY2w26mycnJlJeXs3//frq7u4mPj2fdunUcO3aM9vZ2AMrKyujp6eHs2bMAFBYWkp6eTl1dHQBpaWmUlZWxd+9epJQIIVi/fj319fV0dnYCUF5eTkdHB+fPnwdgwYIFJCUlUV9fD0BGRgZLly5l3759Xs3Xrl1LXV2dd4BdRUUFLS0tNDZql01xcTFWq5WjR4969Vq8eDH79+/3nseqqipqa2u9566yspKmpibvv62SkhIsFgsNDdofzZycHIqKiqiurqavr4+MjAwqKyupqamhv78f0H70586do7m5GYDS0lJcLhcnTpwAIC8vj/z8fGpqagBITEykoqKC6upqHA4HAGvXruXkyZNTOk/D18dMn6e+vj4KCgpC7jwBxMXFzeh5qq+vJz4+PiTPE4z9e9q2bRs7duzAg34knD9jNf5PdwE2Az/xW/8i8PyINE8Af+N5XwU0AFEj8wrVh7v5+fmyv79fSqk93C0sLJQdHR2yo6NDFhYWyvb2dimllF/84hdlTU3Ndcf/7d/+re7h7tatW737/vmf/9m7zx/1cDd4KD30KD18mEELZunh7iWgwG8937PNn0eBVwGklNWAjfHuUiHGJz/5SW+tJj09nb//+79n9erVrF69mq9//eukp6cDcPjwYebOnXvd8V/72tf4/e9/T3FxMW+//TZf+5rv+fc777zDnXfeOTNfRKFQRBZj3RGmu6A1I50FioBYoB5YOiLNb4GHPe+XoLXxi5F5TafG73K5JnGPnBwHDx6UDz744Lhprl27Jjdv3jypfJubm+Wtt9466r7p1Pj7+vqmfKwZUXroUXr4MIMWzEaNX0o5BDwOvAUcR+u9c0wI8W0hxN2eZH8D/HchRD3wC89NIKhTgjmdzmBmp6O8vJxbbrkFl2vskXvJycn+bW4BcfHiRb73ve9Nt3jX0dTUNHGiCELpoUfp4cPsWhg6cldK+QZaF03/bV/3e98AfNzIMgwODho6eveRRx4Jep6rV68Oep6gdTk1u93sZFB66FF6+DC7FqHhGKRQKBSKGcP0gd/sAzEmw3CXWIWG0kOP0sOH2bUwfeCPFNvmQDBqMFu4ovTQo/TwYXYtTB/4J5qhK5IYHhyj0FB66FF6+DC7FqYP/EbS39/P+vXrvb16tm/fTnFxMcXFxWzfvn3C43fs2MHSpUuJioryjgwEOHLkCA8//LBRxVYoFBGO6QO/kROxvPjii3zmM5/BYrHQ0dHBt771LWpqajhw4ADf+ta3vMOvx2LZsmX88pe/ZN26dbrty5cvp6mpiYsXLwa1vDk5OUHNL9xReuhRevgwuxamD/xGPtydri3zkiVLxnyI9OlPf5pXXnklqOWd6ly9ZkXpoUfp4cPsWphjBq7ffg2aj4y6y+0aIsoyha+ZsxzueGbM3cGwZR6PiooKnnnmGZ588skp5zGS6urqkJxMe7ZQeuhRevgwuxamr/EbRbBtmUdihC2zQqFQgFlq/OPUzAfsdhITE4P+kXFxcboeQ3l5eezZs8e73tTUNK0aw8DAAHFxcdMo4fUEO79wR+mhR+nhw+xamL7Gb0TQB81T2+VyeYP/7bffzu9+9zs6Ozvp7Ozkd7/7HbfffjsAX/rSlzhw4MCk8j958iTLli0LapkrK0dOhxDZKD30KD18mF0L0wd+/wlags10bZl/9atfkZ+fT3V1NXfeeaf3RgHG2DIPT0ih0FB66FF6+DC7FqYP/EE2+9Tx1a9+Vddf/5FHHuH06dOcPn2aLVu2ANDd3U1xcTH5+fnXHX/ffffR1NSEw+GgpaWFt956CwCHw0FtbS133HFHUMs7PHORQkPpoUfp4cPsWpg+8BuJkbbMzzzzjKFjEBQKReQijKwRB4uKigrpP7IV4Pjx4yxZsmTCY91uN1FR5rm/Bfq9R8PhcCjTOj+UHnqUHj7MoIUQ4qCUsmK0feaJiGMwPKmyQpsAXuFD6aFH6eHD7FqYPvAPDQ3NdhFChubm5tkuQkih9NCj9PBhdi1MH/gVCoVCocf0gd/IaRfDjdLS0tkuQkih9NCj9PBhdi1MH/iNfHg9XVvmrVu3csMNN7BixQruu+8+urq6AONsmcfrfRSJKD30KD18mF0L0wd+Ix/uTteWeePGjRw9epTDhw+zePFivvOd7wDG2TKfOHEiqPmFO0oPPUoPH2bXwvSB30ima8v8yU9+0ttXf82aNTQ1NXn3GWHLrFAoFGASk7Z/OvBPfNTx0aj7ptqP/4b0G/i7m/5uzP3BtmV+8cUXeeCBB7zrRtgy5+XlBS0vM6D00KP08GF2LUxf4zdq8FYwbZmffvppoqOj+cIXvuDdZoQt82i2EZGM0kOP0sOH2bUwRY1/vJp5T08PSUlJQf/MYNkyv/TSS7z++uvs3r0bIYR3uxG2zDU1NaaeXGKyKD30KD18mF0L09f4jSIYtsxvvvkm3/3ud9m1axfx8fG6fUbYMisUCgVEQOA30qdnurbMjz/+OD09PWzcuJGVK1fyla98xbvPCFtmo+YmCFeUHnqUHj7MroXpTdqMpK6uju9///v8/Oc/HzNNd3c3jz766KQcOh0OB+vXr2f//v3XOXSGwvdWKBShT0SbtBk5EUu42TJXV1cHNb9wR+mhR+nhw+xamOLh7ngY/Y/mkUceCXqew6N/g41yKtWj9NCj9PBhdi0CCvxCCCvw34BC/2OklN+e4LhNwL8AFuAnUsrrZkUXQnwW+CYggXop5ecDLLtCoVAopkCgNf7XgGvAQSCgW6EQwgL8ENgINAEfCCF2SSkb/NIUA08BH5dSdgohsiZT+EAw+0OaybB27drZLkJIofTQo/TwYXYtAm3jz5dSPiCl/K6U8nvDywTH3AScllKelVI6gVeAe0ak+e/AD6WUnQBSytZJlT4A/PvaRzonT56c7SKEFEoPPUoPH2bXItDA/0chxPJJ5p0HNPqtN3m2+bMYWCyEeE8I8b6naSioqIlYfLS2Bv2+GtYoPfQoPXyYXYtAm3rWAg8LIc6hNfUIQEopVwTh84uBDUA+sE8IsVxK2eWf6MqVK5SUlABgtVrZsmULGzZsoKenB4vFQlxcnK73TlJSEr29vbjdblwuFy6Xi8HBQQYHB715CCG8/waio6Ox2WzePIQQJCYmevMASEhIwOl06vIYGBjgU5/6FK+//jpWq5V7772Xmpoa1qxZw86dO0lMTMRut3sfMCckJOBwOLw3IyEEW7Zs4eDBg6Snp/Pyyy9TXFzMgQMH+MEPfsCPf/xjEhISdHlIKWloaPBemMuWLcPhcHDq1CkACgoKyM7OZrj7a3JyMuXl5ezfvx+73c6ePXtYt24dx44do729HYCysjJ6eno4e/YsAIWFhaSnp1NXVwdog9XKysrYu3cvUkqEEKxfv576+nqvA2l5eTkdHR2cP38egAULFpCUlER9fT0AGRkZLF26lH379nk1X7t2LXV1dXR3dwOaP1FLSwuNjVp9obi4GKvVytGjRwHNxmLx4sXesRNWq5Wqqipqa2u9566yspKmpiavT1JJSQkWi4WGBq2FMScnh6KiIqqrq7Hb7dTU1FBZWUlNTQ39/f0AVFVVce7cOe8sTKWlpbhcLq9jY15eHvn5+dTU1ABac2JFRQXV1dXeh4Jr167l5MmTUzpPw9fHTJ8nu93OkSNHQu48gTZSfibP0/BvJRTPE4z9e9q2bZt/L8I5jIWUcsIFmD/aMsExVcBbfutPAU+NSPNvwBa/9d3A6pF53XjjjXIkDQ0N120bDafTGVC6qfD888/L5557zrv+9ttvy127dsk777wzoON/+MMfyscee0xKKeUvfvEL+dnPfta777bbbpMXLly47phAv/dotLW1TflYM6L00KP08GEGLYBaOUZ8DqipR0p5AUgFPu1ZUj3bxuMDoFgIUSSEiAX+BNg1Is2v0Wr7CCHmoDX9nA2kTIEiDezO6W/LDHDbbbdNyhfotdde46GHHgJg8+bN7N6921teI2yZzd5FbbIoPfQoPXyYXYtAu3P+JdqD2F96Nv27EOLHUsofjHWMlHJICPE48BZad84XpZTHhBDfRrsT7fLs+6QQogFwAVullO2T/RLN//N/4jg+ui3zkMtFtMUy2SyxLrmBnP/xP8bcP9KWeSr4WzlHR0eTkpJCe3s7c+bMMcSW+dSpU6a3m50MSg89Sg8fZtci0Db+R4FKKWUvgBDin4BqYMzADyClfAN4Y8S2r/u9l8ATniWsCKYt82gYYcusUCgUEHjgF2g18mFcnm0hwXg184GBAUMmXB9pyzwV8vLyaGxsJD8/n6GhIa5du0ZGRgZgjC2z/0QxCqXHSJQePsyuRaDdOX8K1AghvimE+CbwPvCCYaUKIjExMYbkO9KWeTyeeuopfvWrX123/e677/ZOyr5z505uvfVWrye/EbbM2dnZQc0v3FF66FF6+DC7FoE+3H0W2AJ0eJYtUsrnDCxX0Ojr6zMsb39bZoCbb76Z+++/n927d5Ofn89bb70FwJEjR8jJybnu+EcffZT29nYWLVrEs88+yzPP+BwtjLBlHulwGukoPfQoPXyYXYtxm3qEEMlSym4hRDpw3rMM70uXUnYYW7zQ5qtf/Srf//73+cQnPgHAu+++O2q6wcFBqqqqrttus9lGde50OBzU1tby3HPPBbW8CoVCARO38f9f4C40jx7/fpHCs77AoHIFDSMnYvG3ZbaM03NouOYfKEbZMicnJwc1v3BH6aFH6eHD7FqoiVjCjEj93gqFYnJMeyIWIcTuQLaFIj09PbNdhJDB/3mEQukxEqWHD7NrMVEbvw2IB+YIIdLwdeFM5nrDNUWIowzr9Cg99Cg9fJhdi4kakR8D/gqYi9bOPxz4u4HnjSuWQqFQKIwioDZ+IcRfjGfPYDTTaeOXHvc7szCdNn63223ow+5wQ+mhR+nhwwxaTLuNX0r5AyHEMiHEZ4UQXxpegltMYxi2cDUq7/Xr13snW9+0aROpqancddddAR2/b98+ysvLiY6OZufOnd7tbW1tbNoU9KkJOHbsWNDzDGeUHnqUHj7MrkWgD3e/gebL8wPgFuC7wN0GlitoDAdlI3jxxRf5zGc+4+3KuXXrVn7+858HfPy8efN46aWX+Pzn9dMMZ2Zmkpuby3vvvRfU8g77hSs0lB56lB4+zK5FoP9lNgO3Ac1Syi1AGZBiWKnChOnaMhcWFrJixYpR/1Lee++9vPzyy0Epp0KhUPgT6AihfimlWwgxJIRIBlqBkHExevfVk1xttI+6b6pt/HMKErn5s4vH3B8MW+bxqKioYNu2bUHNs6ysLKj5hTtKDz1KDx9m1yLQGn+tECIV+D9ovXvq0GyZQx6JMQPUwtGWWY1p0KP00KP08GF2LQKq8Usp/9zz9t+EEG8CyVLKw8YVa3KMVzPv6emZVPNLoATDlnk8jLBlPnv2LPPmzQtqnuGM0kOP0sOH2bUYt8YvhCgfuQDpQLTnfcQSDFvm8TDCllmhUChg4hr/98bZJ4Fbg1gWQ4iNjTUs72Fb5mF3zptvvpmPPvoIu91Ofn4+L7zwArfffjtHjhzh7ruv7wT1wQcfcN9999HZ2clvfvMbvvGNb3i7kRlhy2zU84hwRemhR+nhw+xajBv4pZS3zFRBjCLYDpf+TNeWefXq1TQ1NY16zK5du3jttdeCV1ggPT09qPmFO0oPPUoPH2bXItB+/F8abTG6cMHAyIlY/G2Zx2OytsxtbW088cQTpKWlTad411FXVxfU/MIdpYcepYcPs2sRaHV4td97G1qf/jrgZ0EvUZjxyCOPBD3PzMxM7r333qDnq1AoFBB4r56/8F/3dO18xYgCBZvxJkiJNIL9DyLcUXroUXr4MLsWU3Uh6gWKglkQo4iPj5/tIoQMZh+UMlmUHnqUHj7MrkWgbfy/EULs8iz/BZwAJtc/cZYw+0CMybB3797ZLkJIofTQo/TwYXYtAm3j/2e/90PABSnl6N1RFCFLOEyzOZMoPfQoPXyYXYtAbZn3otXyU9AGcJl7epoAma4t87PPPktpaSkrVqzgtttu48KFC4BxtsxmmpcgGCg99Cg9fJhdi0Cber4MHAA+g+bU+b4QIvjdWQzACLuGYaZry7xq1Spqa2s5fPgwmzdv5sknnwSMs2Vev359UPMLd5QeepQePsyuRaAPd7cCq6SUD0spHwJuBP7OuGIFDyP78U/XlvmWW27xPnxes2aNbjCXEbbM9fX1Qc0v3FF66FF6+DC7FoG28bcD/k9JezzbQoJ3XvoxrRfOjrrPNeTCEj35Lp1Z8xdwy8N/Oub+YNsyv/DCC9xxxx3edSNsmTs7O4OaX7ij9NCj9PBhdi0CDfyngRohxGtoHj33AIeFEE8ASCmfNah8IUswbZn//d//ndraWl1PAiNsmRUKhQICD/xnPMswwyYyxjWgT4LxauYul8uQQVzBsmV+++23efrpp9m7dy9Wq9W73Qhb5vLyiDZUvQ6lhx6lhw+zaxHoyN1vAQghEj3ro093NQIhxCbgXwAL8BMp5TNjpPtvwE5gtZSyNpC8A2VoaMiQwO9vy2yz2cZN+9RTT3HTTTdx33336bYfOnSIxx57jDfffJOsrCzdPiNsmTs6OkhOTg5qnuGM0kOP0sOH2bUItFfPMiHEIeAYcEwIcVAIsXSCYyzAD4E7gFLgc0KI0lHSJQF/CdRMtvCB4HQ6jcgW8NkyD3PzzTdz//33s3v3bvLz873mbEeOHCEnJ+e647du3Yrdbuf+++9n5cqVOutmI2yZz58/H9T8wh2lhx6lhw+zaxFoU8+PgSeklO8ACCE2oE3D+LFxjrkJOC2lPOs55hW0ZwMNI9L9A/BPaD2Hworp2jK//fbbY+ZthC2zQqFQQOCBP2E46ANIKfcIIRImOCYPaPRbbwIq/RN4ZvEqkFL+lxBizMB/5coVSkpKALBarWzZsoUNGzbQ09ODxWIhLi4Ou93X+pSUlERvby9utxu3243L5WJwcJDBwUFvHkIIbxt9dHQ0NpvNm4cQgsTERG8eAAkJCTidTl0ey5cvp6qqiq6uLqxWK1arld7eXl0edrudnTt30tPTQ0JCAg6Hg6EhbfybzWZDSonD4QAgJiaG2NhYLly4wJ/92Z95J5Gx2+3ekYRSShoaGmhtbQVg2bJlOBwOTp06BUBBQQHZ2dnU1motZsnJyZSXl7N//36cTid79uxh3bp1HDt2jPZ2rWNWWVkZPT09nD2r9YwqLCwkPT3da02blpZGWVkZe/fu9U5ev379eurr6729H8rLy+no6PDWlBYsWEBSUpK3W1xGRgZLly5l3759Xs3Xrl1LXV0d3d3dgNaTqaWlhcZG7bIpLi7GarVy9OhRQHvgvXjxYu+/LKvVSlVVFbW1td5zV1lZSVNTE5cuXQKgpKQEi8VCQ4NW38jJyaGoqIjq6mqcTic1NTVUVlZSU1NDf38/AFVVVZw7d47m5mYASktLcblcnDhxAoC8vDzy8/OpqdH+pCYmJlJRUUF1dbX3XK5du5aTJ09O6TwNXx8zfZ6cTidHjhwJufME2jO1mTxPw7+VUDxPMPbvadu2bezYsQMPcxgDEcjQZCHEr9BsmIdHJz0I3CilvG+cYzYDm6SUX/asfxGolFI+7lmPAv4APCylPC+E2AP87Wht/BUVFXJY+GGOHz/OkiVLJiz70NCQoZOxzDSBfu/R6OzsNL3r4GRQeuhRevgwgxZCiINSyorR9gU6gOsRIBP4JfCfaHeSiUbuXgIK/NbzPduGSQKWAXuEEOeBNcAuIcSoBZ0qw7UDhfkHpUwWpYcepYcPs2sxblVYCGEDvgIsAo4AfyOlHAww7w+AYiFEEVrA/xPg88M7pZTX8PsrMl6NX6FQKBTBY6Ia/3agAi3o3wH8r0AzllIOAY8DbwHHgVellMeEEN8WQlw/87hBqIlYfGRkZMx2EUIKpYcepYcPs2sxUeN3qZRyOYAQ4gU0o7aAkVK+AbwxYtvXx0i7YTJ5B0qwB0GFM0uXjtsDN+JQeuhRevgwuxYT1fi9zTqeGnzY4d/bJ9j42zJ/+OGHVFVVsXTpUlasWMF//Md/THi8w+HggQceYNGiRVRWVnqf4B85coSHH3446OUd7gGg0FB66FF6+DC7FhMF/jIhRLdn6QFWDL8XQnTPRAFDGX9b5vj4eH72s59x7Ngx3nzzTf7qr/6Krq6ucY9/4YUXSEtL4/Tp0/z1X/81f/d3muHp8uXLaWpq4uLFizPwLRQKRaQxbuCXUlqklMmeJUlKGe333rzjmQPE35Z58eLFFBcXAzB37lyysrJoa2sb9/jXXnuNhx56CIDNmzeze/dub3/9T3/607zySnDnszdTt9ZgoPTQo/TwYXYtTPHtun5zBufl3jH3T6VDZ+zcBFI/vXDM/ePZMh84cACn08nChWMfD3Dp0iUKCrQer9HR0aSkpNDe3s6cOXOoqKjgmWee8U7OEgzWrl0btLzMgNJDj9LDh9m1CLQff9jidrsMyXcsW+YrV67wxS9+kZ/+9KdERU1dXiNsmYdHDio0lB56lB4+zK6FKWr849XMe3p6DJl+cTRb5u7ubu68806efvpp1qxZM2EeeXl5NDY2kp+fz9DQENeuXfN2IzPClnl4yL1CQ+mhR+nhw+xamL7GbxT+tsygNf3cd999fOlLX2Lz5s26tE899RS/+tWvrsvj7rvvZvv27QDs3LmTW2+91TvJsxG2zAqFQgEREPiH57Q1An9b5ldffZV9+/bx0ksvsXLlSlauXMmHH34IjG3L/Oijj9Le3s6iRYt49tlneeYZ33QFRtgyV1QE1Q0j7FF66FF6+DC7FqZo6hmPwcFBw0bv+tsyP/jggzz44INjlmE0W2abzebvpOfF4XBQW1vLc889F9TytrS0kJiYGNQ8wxmlhx6lhw+za2H6Gv+wjbIRlJeXc8stt+Byjf8AeXhClkC5ePEizzzzTNC7lA3b6Co0lB56lB4+zK6F6Wv8RvPIIxOZlE6e4uJi75gAhUKhCDamr/H7T2Ae6aibiR6lhx6lhw+za2H6wD/cS0ahboIjUXroUXr4MLsWpg/8I/vaRzLDU+MpNJQeepQePsyuhekDv0KhUCj0mD7wG2m2NF1b5n379lFeXk50dDQ7d+70bm9ra2PTpk1BL29WVlbQ8wxnlB56lB4+zK6F6QO/zWYzLO/p2jLPmzePl156ic9//vO67ZmZmeTm5vLee+8FtbyLFy8Oan7hjtJDj9LDh9m1MH3gN3IilunaMhcWFrJixYpRzdzuvfdeXn755aCWd3iUsUJD6aFH6eHD7FqYoh//b3/7W5qbm0fd53K5pjRyNycnhzvuuGPM/cGwZR6PiooKtm3bNuXjFQqFYixMEfhng4lsmbdv3x5ytsxm76I2WZQeepQePsyuhSkC/3g1c6MIhi3zeBhhyzyaX1Ako/TQo/TwYXYtTN/G39s79sxc0yEYtszjYYQtc21tbVDzC3eUHnqUHj7MroXpA7/b7TYs7+naMn/wwQfk5+ezY8cOHnvsMZYuXerdZ4Qts5EPusMRpYcepYcPs2thiqae2WK6tsyrV6+mqalp1GN27drFa6+9FtTyKhQKBURAjT8hIcGwvI2yZW5ra+OJJ54gLS1tOsW7jsrKyqDmF+4oPfQoPXyYXQvTB36n02lo/o888kjQJ3rJzMzk3nvvDWqewJj/LiIVpYcepYcPs2th+sBv5EQs4calS5dmuwghhdJDj9LDh9m1MH3gVygUCoUe0wd+sw/EmAwlJSWzXYSQQumhR+nhw+xamD7wq4lYfBg16Xy4ovTQo/TwYXYtDA38QohNQogTQojTQoivjbL/CSFEgxDisBBitxBifrDLYORELNO1ZX722WcpLS1lxYoV3HbbbVy4cAEwzpa5oaEh6HmGM0oPPUoPH2bXwrDAL4SwAD8E7gBKgc8JIUpHJDsEVEgpVwA7ge8aVR4jmK4t86pVq6itreXw4cNs3ryZJ598EjDOllmhUCjA2Br/TcBpKeVZKaUTeAW4xz+BlPIdKWWfZ/V9ID/YhTByIpbp2jLfcsstxMfHA7BmzRpdFzIjbJlHGz0cySg99Cg9fJhdCyNH7uYBjX7rTcB4oyIeBX47lQ86efIf6LEfH32nlDCFdv6kxCUsXvz3Y+4Pti3zCy+8oDObM8KWuaioKKj5hTtKDz1KDx9m1yIkLBuEEA8CFcD60fZfuXLF+5TdarWyZcsWNmzYQE9PDxaLBQm4XEPe9BZLtGc0rURK7UGNlBIpNd+eKBEFwufjI4QgKirKbwSudqPo7e31pklISMDpdHrHBbS3t5OSkkJPTw+g/bOwWq2cOXOGL3zhC/zoRz8iKioKu92OlNKbh8PhYGhIK6vNZkNKyfbt26mpqeHtt9/G7XbT29tLXFyc15bZPw8pJQ0NDbS2tgKwbNkyHA4Hp06dAqCgoIDs7GyvyVRycjLl5eXs37+frq4uEhMTWbduHceOHaO9vR2AsrIyenp6OHv2LKBNEJOenk5dXR2gGdKVlZWxd+9epJQIIVi/fj319fV0dnYC2ijmjo4Ozp8/D8CCBQtISkqivr4egIyMDJYuXcq+ffu8eq1du5a6ujq6u7sB7WbX0tJCY6NWXyguLsZqtXonvs7KymLx4sVefySr1UpVVRW1tbVeb5XKykqampq8/bBLSkqwWCzeNtucnByKioqorq7GbreTmZlJZWUlNTU19Pf3A5oz47lz57xzPJSWluJyuThx4gQAeXl55OfnU1NTA0BiYiIVFRVUV1fjcDgAWLt2LSdPnpzSeRq+Pmb6PNntdubPnx9y5wk0N9yZPE+HDh0iMTExJM8TjP172rZtGzt27MDDHMZCC4jBX4Aq4C2/9aeAp0ZJ9wngOJA1Vl433nijHElDQ8N120aju7s7oHSTpaOjQ86fP1+37dq1a3LVqlVyx44dAefz+9//Xt5www2ypaVFt727u1vm5eVdlz7Q7z0a77zzzpSPNSNKDz1KDx9m0AKolWPEVCPb+D8AioUQRUKIWOBPgF3+CYQQq4AfAXdLKVuNKIRR3TmDYct86NAhHnvsMXbt2nXd5M5G2DIH298/3FF66FF6+DC7FoYFfinlEPA48BZajf5VKeUxIcS3hRB3e5L9LyAR2CGE+FAIsWuM7KZMYmJisLP0Ml1b5q1bt2K327n//vtZuXIld999t3efEbbMZjeemixKDz1KDx9m10JIT9txKFNRUSFHToxw/PhxlixZMuGxdrvdsOBfV1fH97//fX7+85+Pm+7222+ftEPnunXreO21165z6Az0e49GTU2N6S/oyaD00KP08DElLdxucPbAQDc47eDo0RanHZy9+mWwz7O9T3s/5IChAe39YL/2fsgJthT48z9O6TsIIQ5KKStG2xcSD3eNxMgbm78t83gj/ULFlnn4oZhCQ+mhR+nhYciJq6sJmhOgt01b+juhvwsGuvxePdsc3eCwa68EEm8ExCZATDzExmuv0TZtsaVCUq5n3Qrx6YZ8RdMHfqN55JFHgp6nUbbMCkVEM+SEnstwrcmzNEJPM9hbwN6mvfa1g6ObjwFUj5JHbBLEpWoBOi4VMhZqtfLYRLAlgzXZ92pN0pbYRC3QD7/GxE2pi3kwMX3gN3IilnDD7BNITxalh56w1kNKrQbuDeqewH6t0bfe08x1NfK4NEjMhoRMyLsREuZAfAaDsSnEJHu2J2RqNW9bClhiZuXrBZuwDvzS0wd2PBwOh2me0E+32ercuXPccMMNQSpN+KP00BPSerhd0HURui/5BfUm6PIL7IO9+mMsVkjJ15aFt/nep+RD6jxInqvVvkfhzEcfha4WQSBsA7/NZqO9vZ2MjIxxg//wIItwR0pJe3s7Npttynk0Nzeb+mKeLEoPPSGhR18HtByDjrNw9SS0n9ECfvtpcDn0aRMytSCeuRgWjQjsKQXa/ik2qYSEFgYStoE/Pz+fpqamCf1wBgYGphUsQwmbzUZ+ftDtjBSKmaevA9pOQMtRaPtIC/KtH0Gv33CeaBukL9Rq54tuhTmLPUF9HqTkjVlbV0xM2Ab+mJiYgPw0WltbrxscFamUlo40R41slB56DNFjyAGtx7Wl7Thc/lB77x/grSkwZxEUfxIySyB7qfbQNKUAombHF9/s10bYBv5A8fnvKJQWepQeeqath7MPrtTDpYNac03LUWhtALenuTUqBrJLYfEntdp75hJtPTlv1nu5jMTs14bpA/+JEyfIzc2d7WKEBEoLPUoPPZPSY8ihBfZLdVot/nKd1mTjMUIkMRuySuFjfwE5KyB7GaQXhU2vGLNfG6YP/AqFYpq4XVob/KU6uFSrvbYcA7fmVEv8HJi7Cm64U3vNvwkSM2e3zIpxMX3gz8vLm+0ihAxKCz1KDz1ePfo6oKkWmg7A+fe05pvhrpLWZJi7Eqq+CnnlWqBPKQi5pprpYvZrw/SBX/WC8aG00KP0QKvNtx6Hy3UUnX8f3qqFq5qfPSJKC+yrHtRe88ohoxiiDJ2qOyQw+7Vh+sBfU1PDhg0bZrsYIYHSQk9E6jHk1GrwF6t9S782+YeMToSij0HZA1pzzdyVmuVABGL2a8P0gV+hiGh6r2q9bC4dhAt/1JpwhjxmbOkLtXb5wpshr4L3jlxkwy23zm55FTOC6QO/kX784YbSQo8p9ei6qAX5i+/DuXeh9Zi2XURpvWtufBjmV0HBGkjK1h2amNQ148UNVUx5bfgRtn78CkXEIyV0noPGD+DCe3B+P3Sc0fZFx8G8NVD4cZj3MchdEbHNNpFKRPvxV1dXh7frYBBRWugJOz3cbmg/BeffhXP7tFq9vUXbZ02G+R+D1V/WXrOWaH7ukyDs9DAQs2th+sDvcDgmThQhKC30hLwegwNw+ZDnIez70FijTQACkJwPReu1Zpv8m7RAP017g5DXYwYxuxamD/wKRdjQ16EF9+FAf/kQuJzavjklsOTTWvPNvCpIX2C6vvOKmcP0bfxDQ0NER6v7GygtRjKrekgJnee1AD8c6If7z0fFaH3mCyq1IF9QCQkZhhdJXR8+zKBFRLfxnzx50vROe4GitNAzo3q4hqDliD7QD7fP21K0XjZlD2iBfu6qWbEcVteHD7NrYfrA39raauoTOBmUFnoM1cNhh6YPfIG+qdZne5A6T2ufH262ybwhJEbDquvDh9m1MH3gVyhmhO4r0Pi+L9A3HwXp0vrPZy+FVV/QAn3BGm0SEYViFjF94F+2bNlsFyFkUFrombIerkHNZ/5CteZW2VSr9acHiInXJu2++W+0QJ+/GmzJwSu0gajrw4fZtTB94Dd7t6zJoLTQE5AeQw7fFIGX6uDKh9B8BIYGtP3JeZC70tN/vkobHRsmnvMjUdeHD7NrYfrAf+rUKdNbrAaK0kLPdXoMdGs+882HPcsRaGnw+c7HJkJuGVQ86ut1k1owO4U3AHV9+DC7FqYP/ArFdbhd0HmeOW3vw7sHteB++ZDP7gAgPkOrvVd9VQv2WaUwp3jW5oBVKIKJ6QN/QYF5amTTJeK0cLvhWqPWVNN+SmuXb/1Iq9UP9bMM4BjaRCI5K6Dsc5qnTc5ySMqNuAFSEXd9jIPZtTB94M/Ozp44UYRgSi3cbui5DO1noOOsVmtv97x2nAOXX1ttQqbWdbJiC2SV0pdUSPy8lcq8zIMpr48pYnYtTB/4a2trTT2hwmQISy2khIFr0H0Juhq10a6d56HrgmZB3HEWBvt86S2xkFYEGYugeKPmOZ+1RFtPmKPL+sCePWwoVkF/mLC8PgzC7FqYPvArQhS3S/Om6W2D3lZtwhB7q7Zub4XuJui+DNcu+QY+DROTAGnzPQOh1mlBPWOh5l+TnKfa4RWKCTA08AshNgH/AliAn0gpnxmx3wr8DLgRaAcekFKeD2YZkpPDow/1TGCoFlKCsxf6PcHc3jZ6UB9e+tpBuq/PJyoaErIgea5WU1/0CS2YJ8/V2uLTi7QHr0Fof1fXhh6lhw+za2GYSZsQwgKcBDYCTcAHwOeklA1+af4cWCGl/IoQ4k+A+6SUD4zMS03EEkSkBPeQtrgGNffHwX7P0udbnH1aIHfaPUuvtji6tW6P/q/9XVpzzHC3x5HEJmrt6wmZkJilNbkkZHm2zfFs8+y3pYaEfYFCEe7MlknbTcBpKeVZTyFeAe4BGvzS3AN80/N+J/C8EELIIN2Nfvnsn+Jyu4iabCCRY65cx9j1zgC/wsjPkqPu8Esir9+nO2asz5WTKtaoeGvZAkjVFuHRNs5vn/AseBYBuIBuz8IAcNGzjPlh+lr98PeWvt3XpZXS9zra9xX69ENDQ0Rboq5Pd13+k2X4YDm23mJEuf0T6sos9K8T/TSm8U8orB0pg9gBSwIulwuLZRJNhgF//uQKKojmM3/5r5M6JhCMPMt5QKPfehNQOVYaKeWQEOIakAFc9U905coVSkpKALBarWzZsoVVq1YBkJGRwdKlS9m3bx8A0dHRrF27lrq6OhKX78ViGQr+N1MoFIoZYNAZx549e1iwYAFJSUnU19cDY8e9bdu2sWPHjuHD54yeq7FNPZuBTVLKL3vWvwhUSikf90tz1JOmybN+xpNGF/in2tTz9k+epquri5SUlOFP9Csgo9x8/WuZI3ZeV5MSoyQbkelYn4HfZwzX/KIEEGVc33EB7e3tZGRk6Muk+zwxxvYgfPiYq/614xHXosvlq/1ahPbvYvjfm/RLL92+2r5bammG/3FE+dWq/Y9xu2hv7yAjM1Ofdrgs7lHKM+H3GyV9VJTnlAvPHzLPv4Dh5xtul+cfkt+5H07r/92kG9x+OoyFv2b+WEacg1G+W/tVz/WhSzf2R80I15VzlAKNWsYACj5Oko6ODtLT0ydxDQTC5MsUFR3LbV/46pQ+bbaaei4B/qMg8j3bRkvTJISIBlLQHvIGhU98+f/D7XZPvqnHpCgt9Cg99Cg9fJhdCyO/2QdAsRCiSAgRC/wJsGtEml3AQ573m4E/BKt9f5hjx44FM7uwRmmhR+mhR+nhw+xaGFbj97TZPw68hdad80Up5TEhxLeBWinlLuAF4OdCiNNAB9rNIai0twftD0TYo7TQo/TQo/TwYXYtDH2EL6V8A3hjxLav+70fAO43sgwKhUKh0GPeRiwPZWVls12EkEFpoUfpoUfp4cPsWpg+8P/oRz+a7SKEDEoLPUoPPUoPH2bXwvSB/6c//elsFyFkUFroUXroUXr4MLsWpg/8CoVCodBj2ACuYCKEaAMuTPHwOYwYCRzBKC30KD30KD18mEGL+VLKzNF2hEXgVygUCkXwUE09CoVCEWGowK9QKBQRhmkDvxBikxDihBDitBDia7NdnplGCPGiEKLVY4Q3vC1dCPF7IcQpz2vabJZxphBCFAgh3hFCNAghjgkh/tKzPVL1sAkhDggh6j16fMuzvUgIUeP5zfyHx2olIhBCWIQQh4QQr3vWTa2FKQO/ZxKYHwJ3AKXA54QQpbNbqhnnJWDTiG1fA3ZLKYuB3Z71SGAI+BspZSmwBviq53qIVD0cwK1SyjJgJbBJCLEG+Cfg+1LKRUAn8OjsFXHG+UvguN+6qbUwZeDHbxIYKaUTGJ4EJmKQUu5D8z/y5x5gu+f9duDemSzTbCGlvCKlrPO870H7gecRuXpIKaXdsxrjWSRwK9qESBBBeggh8oE7gZ941gUm18KsgX+0SWDyZqksoUS2lPKK530zkD2bhZkNhBCFwCqghgjWw9O08SHQCvweOAN0SSmHZy6KpN/Mc8CTaDMegDYZlKm1MGvgV0yAx/46ovryCiESgf8E/kpK2e2/L9L0kFK6pJQr0ebJuAm4YXZLNDsIIe4CWqWUB2e7LDNJmE6wOSGBTAITibQIIXKllFeEELlotb2IQAgRgxb0X5ZS/tKzOWL1GEZK2SWEeAeoAlKFENGemm6k/GY+DtwthPgUYAOSgX/B5FqYtcYfyCQwkYj/xDcPAa/NYllmDE+b7QvAcSnls367IlWPTCFEqud9HLAR7bnHO2gTIkGE6CGlfEpKmS+lLESLE3+QUn4Bk2th2pG7njv4c/gmgXl6dks0swghfgFsQBt63gJ8A/g18CowD80C47NSypEPgE2HEGIt8C5wBF877v9Aa+ePRD1WoD2wtKBV/l6VUn5bCLEArSNEOnAIeFBK6Zi9ks4sQogNwN9KKe8yuxamDfwKhUKhGB2zNvUoFAqFYgxU4FcoFIoIQwV+hUKhiDBU4FcoFIoIQwV+hUKhiDBU4FcoFIoIQwV+hakRQmQIIT70LM1CiEue93YhxP9vwOe9JIQ4J4T4yhSPf8dTtopgl02hGMaslg0KBQBSynY062GEEN8E7FLKfzb4Y7dKKXdOnOx6pJS3CCH2BLk8CoUOVeNXRCRCiA1+k258UwixXQjxrhDighDiM0KI7wohjggh3vT4/CCEuFEIsVcIcVAI8ZbH32eiz3lJCPGvQog/CiHOCiE2e7bnCiH2ef59HBVC3GzsN1YofKjAr1BoLETzYL8b+HfgHSnlcqAfuNMT/H8AbJZS3gi8CARqA5ILrAXuAp7xbPs88JbHIbMM+DA4X0OhmBjV1KNQaPxWSjkohDiC5mHzpmf7EaAQKAGWAb/XPN+wAFdGyWc0fi2ldAMNQohhz/8PgBc9N5RfSyk/DMq3UCgCQNX4FQoNB4AnQA9Kn4mVG62CJIBjUsqVnmW5lPKTk8nbg/B8zj5gHZrd70tCiC8F40soFIGgAr9CERgngEwhRBVo/v5CiKVTzUwIMR9okVL+H7Qp/8qDU0yFYmJUU49CEQBSSqfnwey/CiFS0H47zwHHppjlBmCrEGIQsAOqxq+YMZQts0IRRIQQLwGvT7U7pyePPWi+8LXBKpdC4Y9q6lEogss14B+mM4ALWAAMBrVUCoUfqsavUCgUEYaq8SsUCkWEoQK/QqFQRBgq8CsUCkWEoQK/QqFQRBgq8CsUCkWE8f8Al/ovocS/YMYAAAAASUVORK5CYII=",
      "text/plain": [
       "<Figure size 432x288 with 1 Axes>"
      ]
     },
     "metadata": {
      "needs_background": "light"
     },
     "output_type": "display_data"
    },
    {
     "data": {
      "image/png": "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",
      "text/plain": [
       "<Figure size 432x288 with 2 Axes>"
      ]
     },
     "metadata": {
      "needs_background": "light"
     },
     "output_type": "display_data"
    }
   ],
   "source": [
    "plot_dynamics(exp, init_state, sequence)\n",
    "plotSplittedPopulation(exp, init_state, sequence)"
   ]
  },
  {
   "cell_type": "markdown",
   "metadata": {
    "pycharm": {
     "name": "#%% md\n"
    }
   },
   "source": [
    "Now we plot the dynamics for the control in the excited state."
   ]
  },
  {
   "cell_type": "code",
   "execution_count": 30,
   "metadata": {
    "jupyter": {
     "outputs_hidden": false
    },
    "pycharm": {
     "name": "#%%\n"
    }
   },
   "outputs": [
    {
     "name": "stdout",
     "output_type": "stream",
     "text": [
      "tf.Tensor(\n",
      "[[0.+0.j]\n",
      " [0.+0.j]\n",
      " [0.+0.j]\n",
      " [0.+0.j]\n",
      " [1.+0.j]\n",
      " [0.+0.j]\n",
      " [0.+0.j]\n",
      " [0.+0.j]\n",
      " [0.+0.j]], shape=(9, 1), dtype=complex128)\n"
     ]
    },
    {
     "data": {
      "image/png": "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",
      "text/plain": [
       "<Figure size 432x288 with 1 Axes>"
      ]
     },
     "metadata": {
      "needs_background": "light"
     },
     "output_type": "display_data"
    },
    {
     "data": {
      "image/png": "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",
      "text/plain": [
       "<Figure size 432x288 with 2 Axes>"
      ]
     },
     "metadata": {
      "needs_background": "light"
     },
     "output_type": "display_data"
    }
   ],
   "source": [
    "psi_init = [[0] * 9]\n",
    "psi_init[0][4] = 1\n",
    "init_state = tf.transpose(tf.constant(psi_init, tf.complex128))\n",
    "print(init_state)\n",
    "\n",
    "plot_dynamics(exp, init_state, sequence)\n",
    "plotSplittedPopulation(exp, init_state, sequence)"
   ]
  },
  {
   "cell_type": "markdown",
   "metadata": {
    "pycharm": {
     "name": "#%% md\n"
    }
   },
   "source": [
    "As intended, the dynamics of the target is dependent on the control qubit performing a flip if the control is excited and an identity otherwise."
   ]
  },
  {
   "cell_type": "markdown",
   "metadata": {},
   "source": [
    "#### Optimizing the single qubit gate on Qubit 1"
   ]
  },
  {
   "cell_type": "code",
   "execution_count": 31,
   "metadata": {},
   "outputs": [
    {
     "name": "stdout",
     "output_type": "stream",
     "text": [
      "rx90p[0]-d1-gauss-amp                 : 500.000 mV \n",
      "rx90p[0]-d1-gauss-freq_offset         : -53.000 MHz 2pi \n",
      "rx90p[0]-d1-gauss-xy_angle            : -444.089 arad \n",
      "rx90p[0]-d1-gauss-delta               : -1.000  \n",
      "rx90p[0]-d1-carrier-framechange       : 0.000 rad \n",
      "\n"
     ]
    }
   ],
   "source": [
    "opt_gates = [rx90p_q1.get_key()]\n",
    "gateset_opt_map=[\n",
    "    [\n",
    "      (rx90p_q1.get_key(), \"d1\", \"gauss\", \"amp\"),\n",
    "    ],\n",
    "    [\n",
    "      (rx90p_q1.get_key(), \"d1\", \"gauss\", \"freq_offset\"),\n",
    "    ],\n",
    "    [\n",
    "      (rx90p_q1.get_key(), \"d1\", \"gauss\", \"xy_angle\"),\n",
    "    ],\n",
    "    [\n",
    "      (rx90p_q1.get_key(), \"d1\", \"gauss\", \"delta\"),\n",
    "    ],   \n",
    "    [\n",
    "      (rx90p_q1.get_key(), \"d1\", \"carrier\", \"framechange\"),\n",
    "    ]\n",
    "]\n",
    "parameter_map.set_opt_map(gateset_opt_map)\n",
    "parameter_map.print_parameters()"
   ]
  },
  {
   "cell_type": "code",
   "execution_count": 32,
   "metadata": {},
   "outputs": [],
   "source": [
    "opt_1Q = OptimalControl(\n",
    "    dir_path=log_dir,\n",
    "    fid_func=fidelities.unitary_infid_set,\n",
    "    fid_subspace=[\"Q1\", \"Q2\"],\n",
    "    pmap=parameter_map,\n",
    "    algorithm=algorithms.lbfgs,\n",
    "    options={\n",
    "        \"maxfun\": 25\n",
    "    },\n",
    "    run_name=\"rx90p_q1\"\n",
    ")"
   ]
  },
  {
   "cell_type": "code",
   "execution_count": 33,
   "metadata": {},
   "outputs": [
    {
     "name": "stdout",
     "output_type": "stream",
     "text": [
      "C3:STATUS:Saving as: /tmp/tmp3569t3te/c3logs/rx90p_q1/2022_05_18_T_12_26_18/open_loop.c3log\n"
     ]
    }
   ],
   "source": [
    "exp.set_opt_gates(opt_gates)\n",
    "opt_1Q.set_exp(exp)\n",
    "opt_1Q.optimize_controls()"
   ]
  },
  {
   "cell_type": "code",
   "execution_count": 34,
   "metadata": {},
   "outputs": [
    {
     "name": "stdout",
     "output_type": "stream",
     "text": [
      "rx90p[0]-d1-gauss-amp                 : 386.167 mV \n",
      "rx90p[0]-d1-gauss-freq_offset         : -52.985 MHz 2pi \n",
      "rx90p[0]-d1-gauss-xy_angle            : -148.032 mrad \n",
      "rx90p[0]-d1-gauss-delta               : -960.910 m \n",
      "rx90p[0]-d1-carrier-framechange       : -293.001 mrad \n",
      "\n",
      "0.005569018116723501\n"
     ]
    }
   ],
   "source": [
    "parameter_map.print_parameters()\n",
    "print(opt_1Q.current_best_goal)"
   ]
  },
  {
   "cell_type": "markdown",
   "metadata": {},
   "source": [
    "Before running the qiskit simulation, we must call `set_opt_gates()` to ensure propagators are calculated for all the required gates"
   ]
  },
  {
   "cell_type": "code",
   "execution_count": 35,
   "metadata": {},
   "outputs": [],
   "source": [
    "exp.set_opt_gates([rx90p_q1.get_key(), cnot12.get_key()])"
   ]
  },
  {
   "cell_type": "code",
   "execution_count": 36,
   "metadata": {
    "jupyter": {
     "outputs_hidden": false
    },
    "pycharm": {
     "name": "#%%\n"
    }
   },
   "outputs": [
    {
     "name": "stdout",
     "output_type": "stream",
     "text": [
      "Result from gates:\n",
      "{'(0, 0)': 0.401431005772464,\n",
      " '(0, 1)': 0.0849631027031263,\n",
      " '(0, 2)': 7.788657471410314e-07,\n",
      " '(1, 0)': 0.4492576933970492,\n",
      " '(1, 1)': 0.06358245982195734,\n",
      " '(1, 2)': 1.974760165578846e-07,\n",
      " '(2, 0)': 0.0007543938737478792,\n",
      " '(2, 1)': 1.0368081389689049e-05,\n",
      " '(2, 2)': 8.20770753413116e-12}\n"
     ]
    }
   ],
   "source": [
    "c3_job_opt = c3_backend.run(qc)\n",
    "result_opt = c3_job_opt.result()\n",
    "res_pops_opt = result_opt.data()[\"state_pops\"]\n",
    "print(\"Result from gates:\") \n",
    "pprint(res_pops_opt)"
   ]
  },
  {
   "cell_type": "code",
   "execution_count": 37,
   "metadata": {},
   "outputs": [
    {
     "data": {
      "image/png": "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",
      "text/plain": [
       "<Figure size 504x360 with 1 Axes>"
      ]
     },
     "execution_count": 37,
     "metadata": {},
     "output_type": "execute_result"
    }
   ],
   "source": [
    "plot_histogram(res_pops_opt, title='Simulation of Qiskit circuit with Optimized Gates')"
   ]
  }
 ],
 "metadata": {
  "interpreter": {
   "hash": "8fc56ae400e717d872a76f4d6b257151d16696a9d0a72e6998d355f9b43887c7"
  },
  "kernelspec": {
   "display_name": "Python 3",
   "language": "python",
   "name": "python3"
  },
  "language_info": {
   "codemirror_mode": {
    "name": "ipython",
    "version": 3
   },
   "file_extension": ".py",
   "mimetype": "text/x-python",
   "name": "python",
   "nbconvert_exporter": "python",
   "pygments_lexer": "ipython3",
   "version": "3.8.10"
  }
 },
 "nbformat": 4,
 "nbformat_minor": 4
}
