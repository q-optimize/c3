{
 "cells": [
  {
   "cell_type": "markdown",
   "metadata": {},
   "source": [
    "# Optimal control with piecewise constant parametrization"
   ]
  },
  {
   "cell_type": "code",
   "execution_count": 1,
   "metadata": {},
   "outputs": [
    {
     "name": "stderr",
     "output_type": "stream",
     "text": [
      "2022-05-20 11:32:32.799568: W tensorflow/stream_executor/platform/default/dso_loader.cc:64] Could not load dynamic library 'libcudart.so.11.0'; dlerror: libcudart.so.11.0: cannot open shared object file: No such file or directory\n",
      "2022-05-20 11:32:32.799606: I tensorflow/stream_executor/cuda/cudart_stub.cc:29] Ignore above cudart dlerror if you do not have a GPU set up on your machine.\n"
     ]
    }
   ],
   "source": [
    "import numpy as np\n",
    "import pytest\n",
    "from c3.c3objs import Quantity\n",
    "from c3.generator.generator import Generator\n",
    "from c3.generator.devices import (\n",
    "    LO,\n",
    "    AWG,\n",
    "    Mixer,\n",
    "    DigitalToAnalog,\n",
    "    VoltsToHertz,\n",
    ")\n",
    "from c3.signal.pulse import Envelope, Carrier\n",
    "from c3.libraries.envelopes import pwc\n",
    "from c3.libraries import hamiltonians\n",
    "from c3.signal.gates import Instruction\n",
    "from c3.model import Model\n",
    "from c3.libraries import chip\n",
    "from c3.parametermap import ParameterMap\n",
    "from c3.experiment import Experiment"
   ]
  },
  {
   "cell_type": "code",
   "execution_count": 2,
   "metadata": {},
   "outputs": [
    {
     "name": "stderr",
     "output_type": "stream",
     "text": [
      "2022-05-20 11:32:35.025745: W tensorflow/stream_executor/platform/default/dso_loader.cc:64] Could not load dynamic library 'libcuda.so.1'; dlerror: libcuda.so.1: cannot open shared object file: No such file or directory\n",
      "2022-05-20 11:32:35.025779: W tensorflow/stream_executor/cuda/cuda_driver.cc:269] failed call to cuInit: UNKNOWN ERROR (303)\n",
      "2022-05-20 11:32:35.025796: I tensorflow/stream_executor/cuda/cuda_diagnostics.cc:156] kernel driver does not appear to be running on this host (knecht): /proc/driver/nvidia/version does not exist\n",
      "2022-05-20 11:32:35.026064: I tensorflow/core/platform/cpu_feature_guard.cc:151] This TensorFlow binary is optimized with oneAPI Deep Neural Network Library (oneDNN) to use the following CPU instructions in performance-critical operations:  AVX2 FMA\n",
      "To enable them in other operations, rebuild TensorFlow with the appropriate compiler flags.\n"
     ]
    }
   ],
   "source": [
    "sim_res = 100e9  # Resolution for numerical simulation\n",
    "awg_res = 2e9  # Realistic, limited resolution of an AWG\n",
    "\n",
    "lo = LO(name=\"lo\", resolution=sim_res, outputs=1)\n",
    "awg = AWG(name=\"awg\", resolution=awg_res, outputs=1)\n",
    "\n",
    "dac = DigitalToAnalog(name=\"dac\", resolution=sim_res, inputs=1, outputs=1)\n",
    "mixer = Mixer(name=\"mixer\", inputs=2, outputs=1)\n",
    "v_to_hz = VoltsToHertz(\n",
    "    name=\"v_to_hz\",\n",
    "    V_to_Hz=Quantity(value=1e9, min_val=0.9e9, max_val=1.1e9, unit=\"Hz/V\"),\n",
    "    inputs=1,\n",
    "    outputs=1,\n",
    ")\n",
    "\n",
    "generator = Generator(\n",
    "    devices={\n",
    "        \"LO\": lo,\n",
    "        \"AWG\": awg,\n",
    "        \"DigitalToAnalog\": dac,\n",
    "        \"Mixer\": mixer,\n",
    "        \"VoltsToHertz\": v_to_hz,\n",
    "    },\n",
    "    chains={\n",
    "        \"d1\": {\n",
    "            \"LO\": [],\n",
    "            \"AWG\": [],\n",
    "            \"DigitalToAnalog\": [\"AWG\"],\n",
    "            \"Mixer\": [\"LO\", \"DigitalToAnalog\"],\n",
    "            \"VoltsToHertz\": [\"Mixer\"],\n",
    "        },\n",
    "    },\n",
    ")"
   ]
  },
  {
   "cell_type": "code",
   "execution_count": 3,
   "metadata": {},
   "outputs": [],
   "source": [
    "t_final = 7e-9  # Time for single qubit gates\n",
    "slices = int(t_final * awg_res)\n",
    "\n",
    "pwc_params = {\n",
    "    \"inphase\": Quantity(value=np.random.randn(slices), unit=\"V\"),\n",
    "    \"quadrature\": Quantity(value=np.random.randn(slices), unit=\"V\"),\n",
    "    \"amp\": Quantity(value=1.0, unit=\"V\"),\n",
    "    \"xy_angle\": Quantity(\n",
    "        value=0.0, min_val=-0.5 * np.pi, max_val=2.5 * np.pi, unit=\"rad\"\n",
    "    ),\n",
    "    \"freq_offset\": Quantity(value=0, min_val=-5 * 1e6, max_val=5 * 1e6, unit=\"Hz 2pi\"),\n",
    "}\n",
    "\n",
    "pwc_env_single = Envelope(\n",
    "    name=\"pwc\",\n",
    "    desc=\"piecewise constant\",\n",
    "    params=pwc_params,\n",
    "    shape=pwc,\n",
    ")\n",
    "\n",
    "lo_freq_q1 = 5e9\n",
    "carrier_parameters = {\n",
    "    \"freq\": Quantity(value=lo_freq_q1, min_val=4.5e9, max_val=6e9, unit=\"Hz 2pi\"),\n",
    "    \"framechange\": Quantity(value=0.0, min_val=-np.pi, max_val=3 * np.pi, unit=\"rad\"),\n",
    "}\n",
    "carr = Carrier(\n",
    "    name=\"carrier\", desc=\"Frequency of the local oscillator\", params=carrier_parameters\n",
    ")\n",
    "\n",
    "pulse_gate = Instruction(name=\"rx90p\", t_start=0.0, t_end=t_final, channels=[\"d1\"])\n",
    "pulse_gate.add_component(pwc_env_single, \"d1\")\n",
    "pulse_gate.add_component(carr, \"d1\")"
   ]
  },
  {
   "cell_type": "code",
   "execution_count": 4,
   "metadata": {},
   "outputs": [],
   "source": [
    "q1 = chip.Qubit(\n",
    "    name=\"Q1\",\n",
    "    desc=\"Qubit 1\",\n",
    "    freq=Quantity(\n",
    "        value=5e9,\n",
    "        min_val=4.995e9,\n",
    "        max_val=5.005e9,\n",
    "        unit=\"Hz 2pi\",\n",
    "    ),\n",
    "    anhar=Quantity(\n",
    "        value=-150e6,\n",
    "        min_val=-380e6,\n",
    "        max_val=-120e6,\n",
    "        unit=\"Hz 2pi\",\n",
    "    ),\n",
    "    hilbert_dim=5,\n",
    ")\n",
    "\n",
    "drive = chip.Drive(\n",
    "    name=\"d1\",\n",
    "    desc=\"Drive 1\",\n",
    "    comment=\"Drive line 1 on qubit 1\",\n",
    "    connected=[\"Q1\"],\n",
    "    hamiltonian_func=hamiltonians.x_drive,\n",
    ")\n",
    "phys_components = [q1]\n",
    "line_components = [drive]\n",
    "\n",
    "model = Model(phys_components, line_components)\n",
    "model.set_dressed(True)"
   ]
  },
  {
   "cell_type": "code",
   "execution_count": 5,
   "metadata": {},
   "outputs": [],
   "source": [
    "parameter_map = ParameterMap(\n",
    "    instructions=[pulse_gate], model=model, generator=generator\n",
    ")\n",
    "\n",
    "# ### MAKE EXPERIMENT\n",
    "simulation = Experiment(pmap=parameter_map)"
   ]
  },
  {
   "cell_type": "code",
   "execution_count": 6,
   "metadata": {},
   "outputs": [],
   "source": [
    "gateset_opt_map =   [\n",
    "    [\n",
    "      (\"rx90p\", \"d1\", \"pwc\", \"amp\"),\n",
    "    ],\n",
    "    [\n",
    "      (\"rx90p\", \"d1\", \"pwc\", \"inphase\"),\n",
    "    ],\n",
    "    [\n",
    "      (\"rx90p\", \"d1\", \"pwc\", \"quadrature\"),\n",
    "  ]\n",
    "]\n",
    "\n",
    "parameter_map.set_opt_map(gateset_opt_map)"
   ]
  },
  {
   "cell_type": "code",
   "execution_count": 7,
   "metadata": {},
   "outputs": [
    {
     "name": "stdout",
     "output_type": "stream",
     "text": [
      "rx90p-d1-pwc-amp                      : 1.000 V \n",
      "rx90p-d1-pwc-inphase                  : 899.043 mV -387.019 mV -423.628 mV -1.317 V 2.192 V 213.654 mV -13.266 mV 255.495 mV -477.776 mV -489.864 mV -661.644 mV -262.780 mV 1.220 V 285.242 mV \n",
      "rx90p-d1-pwc-quadrature               : 251.680 mV 2.130 V -962.111 mV -661.166 mV -814.835 mV 2.745 V -418.485 mV 2.067 V 635.782 mV -938.550 mV -156.769 mV 837.617 mV 2.395 V 264.969 mV \n",
      "\n"
     ]
    }
   ],
   "source": [
    "parameter_map.print_parameters()"
   ]
  },
  {
   "cell_type": "code",
   "execution_count": 8,
   "metadata": {},
   "outputs": [],
   "source": [
    "import os\n",
    "import tempfile\n",
    "from c3.optimizers.optimalcontrol import OptimalControl\n",
    "from c3.libraries.fidelities import unitary_infid_set\n",
    "from c3.libraries.algorithms import lbfgs\n",
    "\n",
    "# Create a temporary directory to store logfiles, modify as needed\n",
    "log_dir = os.path.join(tempfile.TemporaryDirectory().name, \"c3logs\")\n",
    "\n",
    "opt = OptimalControl(\n",
    "    dir_path=log_dir,\n",
    "    fid_func=unitary_infid_set,\n",
    "    fid_subspace=[\"Q1\"],\n",
    "    pmap=parameter_map,\n",
    "    algorithm=lbfgs,\n",
    "    options={\"maxfun\" : 150},\n",
    "    run_name=\"better_X90\"\n",
    ")\n",
    "opt.set_exp(simulation)"
   ]
  },
  {
   "cell_type": "code",
   "execution_count": 9,
   "metadata": {},
   "outputs": [
    {
     "data": {
      "text/plain": [
       "<tf.Tensor: shape=(29,), dtype=float64, numpy=\n",
       "array([-5.551e-16,  2.165e-01, -4.500e-01, -4.690e-01, -9.318e-01,\n",
       "        8.864e-01, -1.387e-01, -2.563e-01, -1.170e-01, -4.970e-01,\n",
       "       -5.033e-01, -5.923e-01, -3.856e-01,  3.827e-01, -1.016e-01,\n",
       "       -3.576e-01,  5.634e-01, -9.528e-01, -8.052e-01, -8.806e-01,\n",
       "        8.654e-01, -6.862e-01,  5.327e-01, -1.692e-01, -9.413e-01,\n",
       "       -5.579e-01, -7.025e-02,  6.933e-01, -3.511e-01])>"
      ]
     },
     "execution_count": 9,
     "metadata": {},
     "output_type": "execute_result"
    }
   ],
   "source": [
    "parameter_map.get_parameters_scaled()"
   ]
  },
  {
   "cell_type": "code",
   "execution_count": 10,
   "metadata": {},
   "outputs": [
    {
     "name": "stdout",
     "output_type": "stream",
     "text": [
      "C3:STATUS:Saving as: /tmp/tmpiritgpcz/c3logs/better_X90/2022_05_20_T_11_32_36/open_loop.c3log\n"
     ]
    }
   ],
   "source": [
    "opt.optimize_controls()"
   ]
  },
  {
   "cell_type": "code",
   "execution_count": 11,
   "metadata": {},
   "outputs": [
    {
     "data": {
      "text/plain": [
       "5.79e-05"
      ]
     },
     "execution_count": 11,
     "metadata": {},
     "output_type": "execute_result"
    }
   ],
   "source": [
    "opt.current_best_goal"
   ]
  },
  {
   "cell_type": "code",
   "execution_count": 12,
   "metadata": {},
   "outputs": [],
   "source": [
    "import matplotlib.pyplot as plt\n",
    "def plot_controls(pmap):\n",
    "    for gate, instruction in pmap.instructions.items():\n",
    "        fig, axs = plt.subplots(2)\n",
    "        axs[0].set_title(gate.replace(\"_\", \"-\"))\n",
    "        legends = [[], []]\n",
    "        for chan, channel in instruction.comps.items():\n",
    "            for com, component in channel.items():\n",
    "                if \"t_final\" in component.params:\n",
    "                    ts = np.linspace(0, t_final, slices)\n",
    "                    shape = component.get_shape_values(ts)\n",
    "                    ax = axs[0]\n",
    "                    ax.plot(ts[:len(shape)]/1e-9, np.real(shape))\n",
    "                    ax.plot(ts[:len(shape)]/1e-9, np.imag(shape))\n",
    "                    legends[0].append((chan, com.replace(\"_\", \"-\"), \"I\"))\n",
    "                    legends[0].append((chan, com.replace(\"_\", \"-\"), \"Q\"))\n",
    "                    ax = axs[1]\n",
    "                    ax.plot(ts[:len(shape)]/1e-9, np.abs(shape))\n",
    "                    ax.plot(ts[:len(shape)]/1e-9, np.angle(shape))\n",
    "                    legends[1].append((chan, com.replace(\"_\", \"-\"), \"Abs\"))\n",
    "                    legends[1].append((chan, com.replace(\"_\", \"-\"), \"Phase\"))\n",
    "        ax = axs[0]\n",
    "        ax.legend(legends[0])\n",
    "        ax = axs[1]\n",
    "        ax.set_xlabel(\"Time [ns]\")\n",
    "        ax.set_ylabel(\"Amplitude [normalized]\")\n",
    "        ax.legend(legends[1])\n",
    "\n",
    "def plot_dynamics(exp, psi_init, seq, goal=-1):\n",
    "        \"\"\"\n",
    "        Plotting code for time-resolved populations.\n",
    "\n",
    "        Parameters\n",
    "        ----------\n",
    "        psi_init: tf.Tensor\n",
    "            Initial state or density matrix.\n",
    "        seq: list\n",
    "            List of operations to apply to the initial state.\n",
    "        goal: tf.float64\n",
    "            Value of the goal function, if used.\n",
    "        debug: boolean\n",
    "            If true, return a matplotlib figure instead of saving.\n",
    "        \"\"\"\n",
    "        model = exp.pmap.model\n",
    "        exp.compute_propagators()\n",
    "        dUs = exp.partial_propagators\n",
    "        psi_t = psi_init.numpy()\n",
    "        pop_t = exp.populations(psi_t, "lindbladian" in model.frame)\n",
    "        for gate in seq:\n",
    "            for du in dUs[gate]:\n",
    "                psi_t = np.matmul(du.numpy(), psi_t)\n",
    "                pops = exp.populations(psi_t, "lindbladian" in model.frame)\n",
    "                pop_t = np.append(pop_t, pops, axis=1)\n",
    "\n",
    "        fig, axs = plt.subplots(1, 1)\n",
    "        ts = exp.ts\n",
    "        dt = ts[1] - ts[0]\n",
    "        ts = np.linspace(0.0, dt*pop_t.shape[1], pop_t.shape[1])\n",
    "        axs.plot(ts / 1e-9, pop_t.T)\n",
    "        axs.grid(linestyle=\"--\")\n",
    "        axs.tick_params(\n",
    "            direction=\"in\", left=True, right=True, top=True, bottom=True\n",
    "        )\n",
    "        axs.set_xlabel('Time [ns]')\n",
    "        axs.set_ylabel('Population')\n",
    "        plt.legend(model.state_labels)\n",
    "        pass"
   ]
  },
  {
   "cell_type": "code",
   "execution_count": 13,
   "metadata": {},
   "outputs": [
    {
     "data": {
      "image/png": "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",
      "text/plain": [
       "<Figure size 432x288 with 2 Axes>"
      ]
     },
     "metadata": {
      "needs_background": "light"
     },
     "output_type": "display_data"
    }
   ],
   "source": [
    "plot_controls(parameter_map)"
   ]
  },
  {
   "cell_type": "code",
   "execution_count": 14,
   "metadata": {},
   "outputs": [
    {
     "data": {
      "image/png": "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",
      "text/plain": [
       "<Figure size 432x288 with 1 Axes>"
      ]
     },
     "metadata": {
      "needs_background": "light"
     },
     "output_type": "display_data"
    }
   ],
   "source": [
    "plot_dynamics(simulation, model.get_init_state(), [\"rx90p\"])"
   ]
  }
 ],
 "metadata": {
  "interpreter": {
   "hash": "31f2aee4e71d21fbe5cf8b01ff0e069b9275f58929596ceb00d14d90e3e16cd6"
  },
  "kernelspec": {
   "display_name": "Python 3.8.10 64-bit",
   "language": "python",
   "name": "python3"
  },
  "language_info": {
   "codemirror_mode": {
    "name": "ipython",
    "version": 3
   },
   "file_extension": ".py",
   "mimetype": "text/x-python",
   "name": "python",
   "nbconvert_exporter": "python",
   "pygments_lexer": "ipython3",
   "version": "3.8.10"
  }
 },
 "nbformat": 4,
 "nbformat_minor": 4
}
