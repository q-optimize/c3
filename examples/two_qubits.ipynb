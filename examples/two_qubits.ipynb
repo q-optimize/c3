{
 "cells": [
  {
   "cell_type": "markdown",
   "metadata": {},
   "source": [
    "### Setup of a two-qubit chip with $C^3$\n",
    "\n",
    "In this example we will set-up a two qubit quantum processor and define a simple gate."
   ]
  },
  {
   "cell_type": "markdown",
   "metadata": {},
   "source": [
    "#### Imports"
   ]
  },
  {
   "cell_type": "code",
   "execution_count": 1,
   "metadata": {},
   "outputs": [],
   "source": [
    "!pip install -q -U pip\n",
    "!pip install -q matplotlib"
   ]
  },
  {
   "cell_type": "code",
   "execution_count": 2,
   "metadata": {
    "ExecuteTime": {
     "end_time": "2020-06-10T13:45:05.684014Z",
     "start_time": "2020-06-10T13:45:04.441825Z"
    }
   },
   "outputs": [
    {
     "name": "stderr",
     "output_type": "stream",
     "text": [
      "2022-05-18 11:36:05.299805: W tensorflow/stream_executor/platform/default/dso_loader.cc:64] Could not load dynamic library 'libcudart.so.11.0'; dlerror: libcudart.so.11.0: cannot open shared object file: No such file or directory\n",
      "2022-05-18 11:36:05.299849: I tensorflow/stream_executor/cuda/cudart_stub.cc:29] Ignore above cudart dlerror if you do not have a GPU set up on your machine.\n"
     ]
    }
   ],
   "source": [
    "# System imports\n",
    "import copy\n",
    "import numpy as np\n",
    "import time\n",
    "import itertools\n",
    "import matplotlib.pyplot as plt\n",
    "import tensorflow as tf\n",
    "import tensorflow_probability as tfp\n",
    "from pprint import pprint\n",
    "\n",
    "# Main C3 objects\n",
    "from c3.c3objs import Quantity as Qty\n",
    "from c3.parametermap import ParameterMap as PMap\n",
    "from c3.experiment import Experiment as Exp\n",
    "from c3.model import Model as Mdl\n",
    "from c3.generator.generator import Generator as Gnr\n",
    "\n",
    "# Building blocks\n",
    "import c3.generator.devices as devices\n",
    "import c3.signal.gates as gates\n",
    "import c3.libraries.chip as chip\n",
    "import c3.signal.pulse as pulse\n",
    "import c3.libraries.tasks as tasks\n",
    "\n",
    "# Libs and helpers\n",
    "import c3.libraries.algorithms as algorithms\n",
    "import c3.libraries.hamiltonians as hamiltonians\n",
    "import c3.libraries.fidelities as fidelities\n",
    "import c3.libraries.envelopes as envelopes\n",
    "import c3.utils.qt_utils as qt_utils\n",
    "import c3.utils.tf_utils as tf_utils\n",
    "\n",
    "# Qiskit related modules\n",
    "from c3.qiskit import C3Provider\n",
    "from c3.qiskit.c3_gates import RX90pGate\n",
    "from qiskit import QuantumCircuit, Aer, execute\n",
    "from qiskit.tools.visualization import plot_histogram"
   ]
  },
  {
   "cell_type": "markdown",
   "metadata": {},
   "source": [
    "#### Model components\n",
    "We first create a qubit. Each parameter is a Quantity (`Qty()`) object with bounds and a unit. In $C^3$, the default multi-level qubit is a Transmon modelled as a Duffing oscillator with frequency $\\omega$ and anharmonicity $\\delta$ :\n",
    "$$ H/\\hbar = \\omega b^\\dagger b - \\frac{\\delta}{2}                        \\left(b^\\dagger b - 1\\right) b^\\dagger b \n",
    "$$\n",
    "The \"name\" will be used to identify this qubit (or other component) later and should thus be chosen carefully."
   ]
  },
  {
   "cell_type": "code",
   "execution_count": 3,
   "metadata": {
    "ExecuteTime": {
     "end_time": "2020-06-10T13:45:05.684014Z",
     "start_time": "2020-06-10T13:45:04.441825Z"
    }
   },
   "outputs": [
    {
     "name": "stderr",
     "output_type": "stream",
     "text": [
      "2022-05-18 11:36:07.216986: W tensorflow/stream_executor/platform/default/dso_loader.cc:64] Could not load dynamic library 'libcuda.so.1'; dlerror: libcuda.so.1: cannot open shared object file: No such file or directory\n",
      "2022-05-18 11:36:07.217028: W tensorflow/stream_executor/cuda/cuda_driver.cc:269] failed call to cuInit: UNKNOWN ERROR (303)\n",
      "2022-05-18 11:36:07.217045: I tensorflow/stream_executor/cuda/cuda_diagnostics.cc:156] kernel driver does not appear to be running on this host (knecht): /proc/driver/nvidia/version does not exist\n",
      "2022-05-18 11:36:07.217308: I tensorflow/core/platform/cpu_feature_guard.cc:151] This TensorFlow binary is optimized with oneAPI Deep Neural Network Library (oneDNN) to use the following CPU instructions in performance-critical operations:  AVX2 FMA\n",
      "To enable them in other operations, rebuild TensorFlow with the appropriate compiler flags.\n"
     ]
    }
   ],
   "source": [
    "qubit_lvls = 3\n",
    "freq_q1 = 5e9\n",
    "anhar_q1 = -210e6\n",
    "t1_q1 = 27e-6\n",
    "t2star_q1 = 39e-6\n",
    "qubit_temp = 50e-3\n",
    "\n",
    "q1 = chip.Qubit(\n",
    "    name=\"Q1\",\n",
    "    desc=\"Qubit 1\",\n",
    "    freq=Qty(\n",
    "        value=freq_q1,\n",
    "        min_val=4.995e9 ,\n",
    "        max_val=5.005e9 ,\n",
    "        unit='Hz 2pi'\n",
    "    ),\n",
    "    anhar=Qty(\n",
    "        value=anhar_q1,\n",
    "        min_val=-380e6 ,\n",
    "        max_val=-120e6 ,\n",
    "        unit='Hz 2pi'\n",
    "    ),\n",
    "    hilbert_dim=qubit_lvls,\n",
    "    t1=Qty(\n",
    "        value=t1_q1,\n",
    "        min_val=1e-6,\n",
    "        max_val=90e-6,\n",
    "        unit='s'\n",
    "    ),\n",
    "    t2star=Qty(\n",
    "        value=t2star_q1,\n",
    "        min_val=10e-6,\n",
    "        max_val=90e-3,\n",
    "        unit='s'\n",
    "    ),\n",
    "    temp=Qty(\n",
    "        value=qubit_temp,\n",
    "        min_val=0.0,\n",
    "        max_val=0.12,\n",
    "        unit='K'\n",
    "    )\n",
    ")"
   ]
  },
  {
   "cell_type": "markdown",
   "metadata": {},
   "source": [
    "And the same for a second qubit."
   ]
  },
  {
   "cell_type": "code",
   "execution_count": 4,
   "metadata": {
    "ExecuteTime": {
     "end_time": "2020-06-10T13:45:05.684014Z",
     "start_time": "2020-06-10T13:45:04.441825Z"
    }
   },
   "outputs": [],
   "source": [
    "freq_q2 = 5.6e9\n",
    "anhar_q2 = -240e6\n",
    "t1_q2 = 23e-6\n",
    "t2star_q2 = 31e-6\n",
    "q2 = chip.Qubit(\n",
    "    name=\"Q2\",\n",
    "    desc=\"Qubit 2\",\n",
    "    freq=Qty(\n",
    "        value=freq_q2,\n",
    "        min_val=5.595e9 ,\n",
    "        max_val=5.605e9 ,\n",
    "        unit='Hz 2pi'\n",
    "    ),\n",
    "    anhar=Qty(\n",
    "        value=anhar_q2,\n",
    "        min_val=-380e6 ,\n",
    "        max_val=-120e6 ,\n",
    "        unit='Hz 2pi'\n",
    "    ),\n",
    "    hilbert_dim=qubit_lvls,\n",
    "    t1=Qty(\n",
    "        value=t1_q2,\n",
    "        min_val=1e-6,\n",
    "        max_val=90e-6,\n",
    "        unit='s'\n",
    "    ),\n",
    "    t2star=Qty(\n",
    "        value=t2star_q2,\n",
    "        min_val=10e-6,\n",
    "        max_val=90e-6,\n",
    "        unit='s'\n",
    "    ),\n",
    "    temp=Qty(\n",
    "        value=qubit_temp,\n",
    "        min_val=0.0,\n",
    "        max_val=0.12,\n",
    "        unit='K'\n",
    "    )\n",
    ")"
   ]
  },
  {
   "cell_type": "markdown",
   "metadata": {},
   "source": [
    "A static coupling between the two is realized in the following way. We supply the type of coupling by selecting `int_XX` $(b_1+b_1^\\dagger)(b_2+b_2^\\dagger)$ from the hamiltonian library. The \"connected\" property contains the list of qubit names to be coupled, in this case \"Q1\" and \"Q2\"."
   ]
  },
  {
   "cell_type": "code",
   "execution_count": 5,
   "metadata": {
    "ExecuteTime": {
     "end_time": "2020-06-10T13:45:05.684014Z",
     "start_time": "2020-06-10T13:45:04.441825Z"
    }
   },
   "outputs": [],
   "source": [
    "coupling_strength = 20e6\n",
    "q1q2 = chip.Coupling(\n",
    "    name=\"Q1-Q2\",\n",
    "    desc=\"coupling\",\n",
    "    comment=\"Coupling qubit 1 to qubit 2\",\n",
    "    connected=[\"Q1\", \"Q2\"],\n",
    "    strength=Qty(\n",
    "        value=coupling_strength,\n",
    "        min_val=-1 * 1e3 ,\n",
    "        max_val=200e6 ,\n",
    "        unit='Hz 2pi'\n",
    "    ),\n",
    "    hamiltonian_func=hamiltonians.int_XX\n",
    ")"
   ]
  },
  {
   "cell_type": "markdown",
   "metadata": {},
   "source": [
    "In the same spirit, we specify control Hamiltonians to drive the system. Again \"connected\" connected tells us which qubit this drive acts on and \"name\" will later be used to assign the correct control signal to this drive line."
   ]
  },
  {
   "cell_type": "code",
   "execution_count": 6,
   "metadata": {
    "ExecuteTime": {
     "end_time": "2020-06-10T13:45:05.684014Z",
     "start_time": "2020-06-10T13:45:04.441825Z"
    }
   },
   "outputs": [],
   "source": [
    "drive = chip.Drive(\n",
    "    name=\"d1\",\n",
    "    desc=\"Drive 1\",\n",
    "    comment=\"Drive line 1 on qubit 1\",\n",
    "    connected=[\"Q1\"],\n",
    "    hamiltonian_func=hamiltonians.x_drive\n",
    ")\n",
    "drive2 = chip.Drive(\n",
    "    name=\"d2\",\n",
    "    desc=\"Drive 2\",\n",
    "    comment=\"Drive line 2 on qubit 2\",\n",
    "    connected=[\"Q2\"],\n",
    "    hamiltonian_func=hamiltonians.x_drive\n",
    ")"
   ]
  },
  {
   "cell_type": "markdown",
   "metadata": {},
   "source": [
    "#### SPAM errors\n",
    "In experimental practice, the qubit state can be mis-classified during read-out. We simulate this by constructing a _confusion matrix_, containing the probabilities for one qubit state being mistaken for another."
   ]
  },
  {
   "cell_type": "code",
   "execution_count": 7,
   "metadata": {
    "ExecuteTime": {
     "end_time": "2020-06-10T13:45:05.684014Z",
     "start_time": "2020-06-10T13:45:04.441825Z"
    }
   },
   "outputs": [],
   "source": [
    "m00_q1 = 0.97  # Prop to read qubit 1 state 0 as 0\n",
    "m01_q1 = 0.04  # Prop to read qubit 1 state 0 as 1\n",
    "m00_q2 = 0.96  # Prop to read qubit 2 state 0 as 0\n",
    "m01_q2 = 0.05  # Prop to read qubit 2 state 0 as 1\n",
    "one_zeros = np.array([0] * qubit_lvls)\n",
    "zero_ones = np.array([1] * qubit_lvls)\n",
    "one_zeros[0] = 1\n",
    "zero_ones[0] = 0\n",
    "val1 = one_zeros * m00_q1 + zero_ones * m01_q1\n",
    "val2 = one_zeros * m00_q2 + zero_ones * m01_q2\n",
    "min_val = one_zeros * 0.8 + zero_ones * 0.0\n",
    "max_val = one_zeros * 1.0 + zero_ones * 0.2\n",
    "confusion_row1 = Qty(value=val1, min_val=min_val, max_val=max_val, unit=\"\")\n",
    "confusion_row2 = Qty(value=val2, min_val=min_val, max_val=max_val, unit=\"\")\n",
    "conf_matrix = tasks.ConfusionMatrix(Q1=confusion_row1, Q2=confusion_row2)"
   ]
  },
  {
   "cell_type": "markdown",
   "metadata": {},
   "source": [
    "The following task creates an initial thermal state with given temperature."
   ]
  },
  {
   "cell_type": "code",
   "execution_count": 8,
   "metadata": {
    "ExecuteTime": {
     "end_time": "2020-06-10T13:45:05.684014Z",
     "start_time": "2020-06-10T13:45:04.441825Z"
    }
   },
   "outputs": [],
   "source": [
    "init_temp = 50e-3\n",
    "init_ground = tasks.InitialiseGround(\n",
    "    init_temp=Qty(\n",
    "        value=init_temp,\n",
    "        min_val=-0.001,\n",
    "        max_val=0.22,\n",
    "        unit='K'\n",
    "    )\n",
    ")"
   ]
  },
  {
   "cell_type": "markdown",
   "metadata": {},
   "source": [
    "We collect the parts specified above in the Model."
   ]
  },
  {
   "cell_type": "code",
   "execution_count": 9,
   "metadata": {
    "ExecuteTime": {
     "end_time": "2020-06-10T13:45:05.684014Z",
     "start_time": "2020-06-10T13:45:04.441825Z"
    }
   },
   "outputs": [],
   "source": [
    "model = Mdl(\n",
    "    [q1, q2], # Individual, self-contained components\n",
    "    [drive, drive2, q1q2],  # Interactions between components\n",
    "    # [conf_matrix, init_ground] # SPAM processing\n",
    ")"
   ]
  },
  {
   "cell_type": "markdown",
   "metadata": {},
   "source": [
    "Further, we can decide between coherent or open-system dynamics using set_lindbladian() and whether to eliminate the static coupling by going to the dressed frame with set_dressed()."
   ]
  },
  {
   "cell_type": "code",
   "execution_count": 10,
   "metadata": {
    "ExecuteTime": {
     "end_time": "2020-06-10T13:45:05.684014Z",
     "start_time": "2020-06-10T13:45:04.441825Z"
    }
   },
   "outputs": [],
   "source": [
    "model.set_lindbladian(False)\n",
    "model.set_dressed(True)"
   ]
  },
  {
   "cell_type": "markdown",
   "metadata": {},
   "source": [
    "#### Control signals\n",
    "With the model taken care of, we now specify the control electronics and signal chain. Complex shaped controls are often realized by creating an envelope signal with an arbitrary waveform generator (AWG) with limited bandwith and mixing it with a fast, stable local oscillator (LO)."
   ]
  },
  {
   "cell_type": "code",
   "execution_count": 11,
   "metadata": {
    "ExecuteTime": {
     "end_time": "2020-06-10T13:45:05.684014Z",
     "start_time": "2020-06-10T13:45:04.441825Z"
    }
   },
   "outputs": [],
   "source": [
    "sim_res = 100e9 # Resolution for numerical simulation\n",
    "awg_res = 2e9 # Realistic, limited resolution of an AWG\n",
    "lo = devices.LO(name='lo', resolution=sim_res)\n",
    "awg = devices.AWG(name='awg', resolution=awg_res)\n",
    "mixer = devices.Mixer(name='mixer')"
   ]
  },
  {
   "cell_type": "markdown",
   "metadata": {},
   "source": [
    "In simulation, we translate between AWG resolution and simulation (or \"analog\") resolultion by including an up-sampling device."
   ]
  },
  {
   "cell_type": "code",
   "execution_count": 12,
   "metadata": {},
   "outputs": [],
   "source": [
    "dig_to_an = devices.DigitalToAnalog(\n",
    "    name=\"dac\",\n",
    "    resolution=sim_res\n",
    ")"
   ]
  },
  {
   "cell_type": "markdown",
   "metadata": {},
   "source": [
    "Control electronics apply voltages to lines, whereas in a Hamiltonian we usually write the control fields in energy or frequency units. In practice, this conversion can be highly non-trivial if it involves multiple stages of attenuation and for example the conversion of a line voltage in an antenna to a dipole field coupling to the qubit. The following device represents a simple, linear conversion factor."
   ]
  },
  {
   "cell_type": "code",
   "execution_count": 13,
   "metadata": {
    "ExecuteTime": {
     "end_time": "2020-06-10T13:45:05.684014Z",
     "start_time": "2020-06-10T13:45:04.441825Z"
    }
   },
   "outputs": [],
   "source": [
    "v2hz = 1e9\n",
    "v_to_hz = devices.VoltsToHertz(\n",
    "    name='v_to_hz',\n",
    "    V_to_Hz=Qty(\n",
    "        value=v2hz,\n",
    "        min_val=0.9e9,\n",
    "        max_val=1.1e9,\n",
    "        unit='Hz/V'\n",
    "    )\n",
    ")"
   ]
  },
  {
   "cell_type": "markdown",
   "metadata": {},
   "source": [
    "The generator combines the parts of the signal generation and assignes a signal chain to each control line."
   ]
  },
  {
   "cell_type": "code",
   "execution_count": 14,
   "metadata": {
    "ExecuteTime": {
     "end_time": "2020-06-10T13:45:05.684014Z",
     "start_time": "2020-06-10T13:45:04.441825Z"
    }
   },
   "outputs": [],
   "source": [
    "generator = Gnr(\n",
    "        devices={\n",
    "            \"LO\": devices.LO(name='lo', resolution=sim_res, outputs=1),\n",
    "            \"AWG\": devices.AWG(name='awg', resolution=awg_res, outputs=1),\n",
    "            \"DigitalToAnalog\": devices.DigitalToAnalog(\n",
    "                name=\"dac\",\n",
    "                resolution=sim_res,\n",
    "                inputs=1,\n",
    "                outputs=1\n",
    "            ),\n",
    "            \"Mixer\": devices.Mixer(name='mixer', inputs=2, outputs=1),\n",
    "            \"VoltsToHertz\": devices.VoltsToHertz(\n",
    "                name='v_to_hz',\n",
    "                V_to_Hz=Qty(\n",
    "                    value=1e9,\n",
    "                    min_val=0.9e9,\n",
    "                    max_val=1.1e9,\n",
    "                    unit='Hz/V'\n",
    "                ),\n",
    "                inputs=1,\n",
    "                outputs=1\n",
    "            )\n",
    "        },\n",
    "        chains= {\n",
    "            \"d1\": {\n",
    "                \"LO\": [],\n",
    "                \"AWG\": [],\n",
    "                \"DigitalToAnalog\": [\"AWG\"],\n",
    "                \"Mixer\": [\"LO\", \"DigitalToAnalog\"],\n",
    "                \"VoltsToHertz\": [\"Mixer\"]\n",
    "            },\n",
    "            \"d2\": {\n",
    "                \"LO\": [],\n",
    "                \"AWG\": [],\n",
    "                \"DigitalToAnalog\": [\"AWG\"],\n",
    "                \"Mixer\": [\"LO\", \"DigitalToAnalog\"],\n",
    "                \"VoltsToHertz\": [\"Mixer\"]\n",
    "            },\n",
    "        }\n",
    "    )"
   ]
  },
  {
   "cell_type": "markdown",
   "metadata": {
    "pycharm": {
     "name": "#%% md\n"
    }
   },
   "source": [
    "Optionally, we can look at the signal generated by each device by setting a callback."
   ]
  },
  {
   "cell_type": "code",
   "execution_count": 15,
   "metadata": {
    "collapsed": false,
    "jupyter": {
     "outputs_hidden": false
    },
    "pycharm": {
     "name": "#%%\n"
    }
   },
   "outputs": [],
   "source": [
    "generator.callback = lambda chain_id, device_id, signal: (\n",
    "    # do something\n",
    ")"
   ]
  },
  {
   "cell_type": "markdown",
   "metadata": {},
   "source": [
    "#### Gates-set and Parameter map\n",
    "It remains to write down what kind of operations we want to perform on the device. For a gate based quantum computing chip, we define a gate-set.\n",
    "\n",
    "We choose a gate time of 7ns and a gaussian envelope shape with a list of parameters."
   ]
  },
  {
   "cell_type": "code",
   "execution_count": 16,
   "metadata": {
    "ExecuteTime": {
     "end_time": "2020-06-10T13:45:05.684014Z",
     "start_time": "2020-06-10T13:45:04.441825Z"
    }
   },
   "outputs": [],
   "source": [
    "t_final = 7e-9   # Time for single qubit gates\n",
    "sideband = 50e6 \n",
    "gauss_params_single = {\n",
    "    'amp': Qty(\n",
    "        value=0.5,\n",
    "        min_val=0.2,\n",
    "        max_val=0.6,\n",
    "        unit=\"V\"\n",
    "    ),\n",
    "    't_final': Qty(\n",
    "        value=t_final,\n",
    "        min_val=0.5 * t_final,\n",
    "        max_val=1.5 * t_final,\n",
    "        unit=\"s\"\n",
    "    ),\n",
    "    'sigma': Qty(\n",
    "        value=t_final / 4,\n",
    "        min_val=t_final / 8,\n",
    "        max_val=t_final / 2,\n",
    "        unit=\"s\"\n",
    "    ),\n",
    "    'xy_angle': Qty(\n",
    "        value=0.0,\n",
    "        min_val=-0.5 * np.pi,\n",
    "        max_val=2.5 * np.pi,\n",
    "        unit='rad'\n",
    "    ),\n",
    "    'freq_offset': Qty(\n",
    "        value=-sideband - 3e6 ,\n",
    "        min_val=-56 * 1e6 ,\n",
    "        max_val=-52 * 1e6 ,\n",
    "        unit='Hz 2pi'\n",
    "    ),\n",
    "    'delta': Qty(\n",
    "        value=-1,\n",
    "        min_val=-5,\n",
    "        max_val=3,\n",
    "        unit=\"\"\n",
    "    )\n",
    "}"
   ]
  },
  {
   "cell_type": "markdown",
   "metadata": {},
   "source": [
    "Here we take `gaussian_nonorm()` from the libraries as the function to define the shape. To deal with leakage, we choose a DRAG envelope. Details on DRAG can be found here: https://arxiv.org/abs/1809.04919 The main principle is adding a phase-shifted component proportional to the time derivative of the original signal. With automatic differentiation, we can perform this operation automatically for arbitrary shapes."
   ]
  },
  {
   "cell_type": "code",
   "execution_count": 17,
   "metadata": {
    "ExecuteTime": {
     "end_time": "2020-06-10T13:45:05.684014Z",
     "start_time": "2020-06-10T13:45:04.441825Z"
    }
   },
   "outputs": [],
   "source": [
    "gauss_env_single = pulse.EnvelopeDrag(\n",
    "    name=\"gauss\",\n",
    "    desc=\"Gaussian comp for single-qubit gates\",\n",
    "    params=gauss_params_single,\n",
    "    shape=envelopes.gaussian_nonorm\n",
    ")"
   ]
  },
  {
   "cell_type": "markdown",
   "metadata": {},
   "source": [
    "We also define a gate that represents no driving."
   ]
  },
  {
   "cell_type": "code",
   "execution_count": 18,
   "metadata": {
    "ExecuteTime": {
     "end_time": "2020-06-10T13:45:05.684014Z",
     "start_time": "2020-06-10T13:45:04.441825Z"
    }
   },
   "outputs": [],
   "source": [
    "nodrive_env = pulse.Envelope(\n",
    "    name=\"no_drive\",\n",
    "    params={\n",
    "        't_final': Qty(\n",
    "            value=t_final,\n",
    "            min_val=0.5 * t_final,\n",
    "            max_val=1.5 * t_final,\n",
    "            unit=\"s\"\n",
    "        )\n",
    "    },\n",
    "    shape=envelopes.no_drive\n",
    ")"
   ]
  },
  {
   "cell_type": "markdown",
   "metadata": {},
   "source": [
    "We specify the drive tones with an offset from the qubit frequencies. As is done in experiment, we will later adjust the resonance by modulating the envelope function."
   ]
  },
  {
   "cell_type": "code",
   "execution_count": 19,
   "metadata": {
    "ExecuteTime": {
     "end_time": "2020-06-10T13:45:05.684014Z",
     "start_time": "2020-06-10T13:45:04.441825Z"
    }
   },
   "outputs": [],
   "source": [
    "lo_freq_q1 = 5e9  + sideband\n",
    "carrier_parameters = {\n",
    "    'freq': Qty(\n",
    "        value=lo_freq_q1,\n",
    "        min_val=4.5e9 ,\n",
    "        max_val=6e9 ,\n",
    "        unit='Hz 2pi'\n",
    "    ),\n",
    "    'framechange': Qty(\n",
    "        value=0.0,\n",
    "        min_val= -np.pi,\n",
    "        max_val= 3 * np.pi,\n",
    "        unit='rad'\n",
    "    )\n",
    "}\n",
    "carr = pulse.Carrier(\n",
    "    name=\"carrier\",\n",
    "    desc=\"Frequency of the local oscillator\",\n",
    "    params=carrier_parameters\n",
    ")"
   ]
  },
  {
   "cell_type": "markdown",
   "metadata": {},
   "source": [
    "For the second qubit drive tone, we copy the first one and replace the frequency. The deepcopy is to ensure that we don't just create a pointer to the first drive."
   ]
  },
  {
   "cell_type": "code",
   "execution_count": 20,
   "metadata": {
    "ExecuteTime": {
     "end_time": "2020-06-10T13:45:05.684014Z",
     "start_time": "2020-06-10T13:45:04.441825Z"
    }
   },
   "outputs": [],
   "source": [
    "lo_freq_q2 = 5.6e9  + sideband\n",
    "carr_2 = copy.deepcopy(carr)\n",
    "carr_2.params['freq'].set_value(lo_freq_q2)"
   ]
  },
  {
   "cell_type": "markdown",
   "metadata": {},
   "source": [
    "#### Instructions\n",
    "We define the gates we want to perform with a \"name\" that will identify them later and \"channels\" relating to the control Hamiltonians and drive lines we specified earlier. As a start we write down 90 degree rotations in the positive $x$-direction and identity gates for both qubits. Then we add a carrier and envelope to each."
   ]
  },
  {
   "cell_type": "code",
   "execution_count": 21,
   "metadata": {
    "ExecuteTime": {
     "end_time": "2020-06-10T13:45:05.684014Z",
     "start_time": "2020-06-10T13:45:04.441825Z"
    }
   },
   "outputs": [],
   "source": [
    "rx90p_q1 = gates.Instruction(\n",
    "    name=\"rx90p\", targets=[0], t_start=0.0, t_end=t_final, channels=[\"d1\", \"d2\"]\n",
    ")\n",
    "rx90p_q2 = gates.Instruction(\n",
    "    name=\"rx90p\", targets=[1], t_start=0.0, t_end=t_final, channels=[\"d1\", \"d2\"]\n",
    ")\n",
    "\n",
    "rx90p_q1.add_component(gauss_env_single, \"d1\")\n",
    "rx90p_q1.add_component(carr, \"d1\")\n",
    "\n",
    "\n",
    "rx90p_q2.add_component(copy.deepcopy(gauss_env_single), \"d2\")\n",
    "rx90p_q2.add_component(carr_2, \"d2\")"
   ]
  },
  {
   "cell_type": "markdown",
   "metadata": {},
   "source": [
    "When later compiling gates into sequences, we have to take care of the relative rotating frames of the qubits and local oscillators. We do this by adding a phase after each gate that realigns the frames."
   ]
  },
  {
   "cell_type": "code",
   "execution_count": 22,
   "metadata": {},
   "outputs": [],
   "source": [
    "rx90p_q1.add_component(nodrive_env, \"d2\")\n",
    "rx90p_q1.add_component(copy.deepcopy(carr_2), \"d2\")\n",
    "rx90p_q1.comps[\"d2\"][\"carrier\"].params[\"framechange\"].set_value(\n",
    "    (-sideband * t_final) * 2 * np.pi % (2 * np.pi)\n",
    ")\n",
    "\n",
    "rx90p_q2.add_component(nodrive_env, \"d1\")\n",
    "rx90p_q2.add_component(copy.deepcopy(carr), \"d1\")\n",
    "rx90p_q2.comps[\"d1\"][\"carrier\"].params[\"framechange\"].set_value(\n",
    "    (-sideband * t_final) * 2 * np.pi % (2 * np.pi)\n",
    ")"
   ]
  },
  {
   "cell_type": "markdown",
   "metadata": {},
   "source": [
    "The remainder of the gates-set can be derived from the RX90p gate by shifting its phase by multiples of $\\pi/2$."
   ]
  },
  {
   "cell_type": "code",
   "execution_count": 23,
   "metadata": {
    "ExecuteTime": {
     "end_time": "2020-06-10T13:45:05.684014Z",
     "start_time": "2020-06-10T13:45:04.441825Z"
    }
   },
   "outputs": [],
   "source": [
    "ry90p_q1 = copy.deepcopy(rx90p_q1)\n",
    "ry90p_q1.name = \"ry90p\"\n",
    "rx90m_q1 = copy.deepcopy(rx90p_q1)\n",
    "rx90m_q1.name = \"rx90m\"\n",
    "ry90m_q1 = copy.deepcopy(rx90p_q1)\n",
    "ry90m_q1.name = \"ry90m\"\n",
    "ry90p_q1.comps['d1']['gauss'].params['xy_angle'].set_value(0.5 * np.pi)\n",
    "rx90m_q1.comps['d1']['gauss'].params['xy_angle'].set_value(np.pi)\n",
    "ry90m_q1.comps['d1']['gauss'].params['xy_angle'].set_value(1.5 * np.pi)\n",
    "single_q_gates = [rx90p_q1, ry90p_q1, rx90m_q1, ry90m_q1]\n",
    "\n",
    "\n",
    "ry90p_q2 = copy.deepcopy(rx90p_q2)\n",
    "ry90p_q2.name = \"ry90p\"\n",
    "rx90m_q2 = copy.deepcopy(rx90p_q2)\n",
    "rx90m_q2.name = \"rx90m\"\n",
    "ry90m_q2 = copy.deepcopy(rx90p_q2)\n",
    "ry90m_q2.name = \"ry90m\"\n",
    "ry90p_q2.comps['d2']['gauss'].params['xy_angle'].set_value(0.5 * np.pi)\n",
    "rx90m_q2.comps['d2']['gauss'].params['xy_angle'].set_value(np.pi)\n",
    "ry90m_q2.comps['d2']['gauss'].params['xy_angle'].set_value(1.5 * np.pi)\n",
    "single_q_gates.extend([rx90p_q2, ry90p_q2, rx90m_q2, ry90m_q2])"
   ]
  },
  {
   "cell_type": "markdown",
   "metadata": {},
   "source": [
    "With every component defined, we collect them in the parameter map, our object that holds information and methods to manipulate and examine model and control parameters."
   ]
  },
  {
   "cell_type": "code",
   "execution_count": 24,
   "metadata": {
    "ExecuteTime": {
     "end_time": "2020-06-10T13:45:05.684014Z",
     "start_time": "2020-06-10T13:45:04.441825Z"
    }
   },
   "outputs": [],
   "source": [
    "parameter_map = PMap(instructions=single_q_gates, model=model, generator=generator)"
   ]
  },
  {
   "cell_type": "markdown",
   "metadata": {},
   "source": [
    "#### The experiment\n",
    "Finally everything is collected in the experiment that provides the functions to interact with the system."
   ]
  },
  {
   "cell_type": "code",
   "execution_count": 25,
   "metadata": {
    "ExecuteTime": {
     "end_time": "2020-06-10T13:45:05.684014Z",
     "start_time": "2020-06-10T13:45:04.441825Z"
    }
   },
   "outputs": [],
   "source": [
    "exp = Exp(pmap=parameter_map)"
   ]
  },
  {
   "cell_type": "markdown",
   "metadata": {},
   "source": [
    "#### Simulation\n",
    "With our experiment all set-up, we can perform simulations. We first decide which basic gates to simulate, in this case only the 90 degree rotation on one qubit and the identity."
   ]
  },
  {
   "cell_type": "code",
   "execution_count": 26,
   "metadata": {},
   "outputs": [],
   "source": [
    "exp.set_opt_gates(['rx90p[0]'])"
   ]
  },
  {
   "cell_type": "markdown",
   "metadata": {},
   "source": [
    "The actual numerical simulation is done by calling `exp.compute_propagators()`. \n",
    "This is the most resource intensive part as it involves solving the equations of motion for the system."
   ]
  },
  {
   "cell_type": "code",
   "execution_count": 27,
   "metadata": {},
   "outputs": [],
   "source": [
    "unitaries = exp.compute_propagators()"
   ]
  },
  {
   "cell_type": "markdown",
   "metadata": {},
   "source": [
    "After this step the unitaries or process matrices are stored in the exp object. We can look at their names and matrix representations."
   ]
  },
  {
   "cell_type": "code",
   "execution_count": 28,
   "metadata": {},
   "outputs": [
    {
     "data": {
      "text/plain": [
       "{'rx90p[0]': <tf.Tensor: shape=(9, 9), dtype=complex128, numpy=\n",
       " array([[ 4.993e-01-7.978e-02j, -1.179e-05-6.332e-06j,\n",
       "         -2.568e-07+4.548e-07j, -1.646e-01-8.458e-01j,\n",
       "         -1.177e-04-9.146e-05j,  4.784e-07-5.742e-07j,\n",
       "          3.753e-02-2.015e-02j,  4.683e-05-2.760e-04j,\n",
       "         -1.868e-06+1.265e-06j],\n",
       "        [ 6.839e-07-1.452e-05j,  5.001e-01-1.000e-01j,\n",
       "         -1.558e-03+5.312e-04j, -8.253e-05+1.322e-04j,\n",
       "         -1.632e-01-8.435e-01j,  7.657e-04+4.866e-04j,\n",
       "         -1.706e-05+3.990e-05j,  3.554e-02-1.949e-02j,\n",
       "         -6.559e-03+3.739e-04j],\n",
       "        [ 6.832e-08-5.086e-07j, -8.179e-04-1.426e-03j,\n",
       "         -3.173e-01-3.870e-01j,  1.110e-07-1.823e-07j,\n",
       "         -1.007e-03+2.387e-04j, -6.274e-01+5.952e-01j,\n",
       "          1.021e-05-4.266e-06j, -2.784e-04+3.092e-04j,\n",
       "         -3.489e-02-2.009e-02j],\n",
       "        [-1.654e-01-8.457e-01j,  1.105e-04+1.030e-04j,\n",
       "         -1.707e-07+1.289e-07j,  4.936e-01-1.124e-01j,\n",
       "          7.890e-06+9.029e-06j,  2.749e-07-6.374e-07j,\n",
       "          2.084e-02-2.662e-02j,  8.995e-05-2.870e-04j,\n",
       "         -1.761e-06-1.121e-06j],\n",
       "        [ 6.510e-05-1.289e-04j, -1.640e-01-8.434e-01j,\n",
       "          3.735e-05+1.030e-03j, -8.841e-06+8.569e-06j,\n",
       "          5.020e-01-9.277e-02j,  9.345e-04-2.607e-04j,\n",
       "         -6.145e-05-4.576e-05j,  2.318e-02-2.401e-02j,\n",
       "         -4.259e-03-1.036e-02j],\n",
       "        [-2.332e-07+7.116e-07j, -3.286e-04+8.455e-04j,\n",
       "         -6.268e-01+5.959e-01j, -1.462e-08+7.068e-07j,\n",
       "          4.324e-04+8.667e-04j, -3.695e-01-3.382e-01j,\n",
       "          1.131e-05-4.193e-06j, -1.199e-04+3.889e-04j,\n",
       "         -3.334e-02-5.737e-03j],\n",
       "        [ 3.736e-02-1.967e-02j,  3.795e-05+2.567e-05j,\n",
       "         -1.128e-05+1.814e-07j,  2.105e-02-2.705e-02j,\n",
       "         -5.532e-05+5.105e-05j, -1.186e-05-5.320e-07j,\n",
       "         -9.911e-01+1.213e-01j,  2.952e-05+8.813e-06j,\n",
       "          3.471e-07-3.310e-07j],\n",
       "        [ 2.795e-04-5.684e-06j,  3.537e-02-1.903e-02j,\n",
       "          2.572e-04+3.310e-04j,  2.993e-04+3.440e-05j,\n",
       "          2.341e-02-2.442e-02j,  3.561e-04+1.886e-04j,\n",
       "         -1.194e-05+2.449e-05j, -9.975e-01+4.773e-02j,\n",
       "         -1.834e-03+2.151e-04j],\n",
       "        [ 1.258e-06-1.842e-06j, -1.590e-03-6.378e-03j,\n",
       "         -3.440e-02-2.019e-02j,  2.035e-06+3.917e-07j,\n",
       "          9.390e-03-6.104e-03j, -3.379e-02-5.715e-03j,\n",
       "         -2.040e-07+4.155e-07j, -5.650e-04-1.754e-03j,\n",
       "          5.781e-01+8.141e-01j]])>}"
      ]
     },
     "execution_count": 28,
     "metadata": {},
     "output_type": "execute_result"
    }
   ],
   "source": [
    "unitaries"
   ]
  },
  {
   "cell_type": "markdown",
   "metadata": {},
   "source": [
    "### Dynamics\n",
    "\n",
    "To investigate dynamics, we define the ground state as an initial state."
   ]
  },
  {
   "cell_type": "code",
   "execution_count": 29,
   "metadata": {},
   "outputs": [],
   "source": [
    "psi_init = [[0] * 9]\n",
    "psi_init[0][0] = 1\n",
    "init_state = tf.transpose(tf.constant(psi_init, tf.complex128))"
   ]
  },
  {
   "cell_type": "code",
   "execution_count": 30,
   "metadata": {},
   "outputs": [
    {
     "data": {
      "text/plain": [
       "<tf.Tensor: shape=(9, 1), dtype=complex128, numpy=\n",
       "array([[1.+0.j],\n",
       "       [0.+0.j],\n",
       "       [0.+0.j],\n",
       "       [0.+0.j],\n",
       "       [0.+0.j],\n",
       "       [0.+0.j],\n",
       "       [0.+0.j],\n",
       "       [0.+0.j],\n",
       "       [0.+0.j]])>"
      ]
     },
     "execution_count": 30,
     "metadata": {},
     "output_type": "execute_result"
    }
   ],
   "source": [
    "init_state"
   ]
  },
  {
   "cell_type": "markdown",
   "metadata": {},
   "source": [
    "Since we stored the process matrices, we can now relatively inexpesively evaluate sequences. We start with just one gate"
   ]
  },
  {
   "cell_type": "code",
   "execution_count": 31,
   "metadata": {},
   "outputs": [],
   "source": [
    "barely_a_seq = ['rx90p[0]']"
   ]
  },
  {
   "cell_type": "markdown",
   "metadata": {},
   "source": [
    "and plot system dynamics."
   ]
  },
  {
   "cell_type": "code",
   "execution_count": 32,
   "metadata": {},
   "outputs": [],
   "source": [
    "def plot_dynamics(exp, psi_init, seq, goal=-1):\n",
    "        \"\"\"\n",
    "        Plotting code for time-resolved populations.\n",
    "\n",
    "        Parameters\n",
    "        ----------\n",
    "        psi_init: tf.Tensor\n",
    "            Initial state or density matrix.\n",
    "        seq: list\n",
    "            List of operations to apply to the initial state.\n",
    "        goal: tf.float64\n",
    "            Value of the goal function, if used.\n",
    "        debug: boolean\n",
    "            If true, return a matplotlib figure instead of saving.\n",
    "        \"\"\"\n",
    "        model = exp.pmap.model\n",
    "        exp.compute_propagators()\n",
    "        dUs = exp.partial_propagators\n",
    "        psi_t = psi_init.numpy()\n",
    "        pop_t = exp.populations(psi_t, "lindbladian" in model.frame)\n",
    "        for gate in seq:\n",
    "            for du in dUs[gate]:\n",
    "                psi_t = np.matmul(du.numpy(), psi_t)\n",
    "                pops = exp.populations(psi_t, "lindbladian" in model.frame)\n",
    "                pop_t = np.append(pop_t, pops, axis=1)\n",
    "\n",
    "        fig, axs = plt.subplots(1, 1)\n",
    "        ts = exp.ts\n",
    "        dt = ts[1] - ts[0]\n",
    "        ts = np.linspace(0.0, dt*pop_t.shape[1], pop_t.shape[1])\n",
    "        axs.plot(ts / 1e-9, pop_t.T)\n",
    "        axs.grid(linestyle=\"--\")\n",
    "        axs.tick_params(\n",
    "            direction=\"in\", left=True, right=True, top=True, bottom=True\n",
    "        )\n",
    "        axs.set_xlabel('Time [ns]')\n",
    "        axs.set_ylabel('Population')\n",
    "        plt.legend(model.state_labels)\n",
    "        pass"
   ]
  },
  {
   "cell_type": "code",
   "execution_count": 33,
   "metadata": {},
   "outputs": [
    {
     "data": {
      "image/png": "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",
      "text/plain": [
       "<Figure size 432x288 with 1 Axes>"
      ]
     },
     "metadata": {
      "needs_background": "light"
     },
     "output_type": "display_data"
    }
   ],
   "source": [
    "plot_dynamics(exp, init_state, barely_a_seq)"
   ]
  },
  {
   "cell_type": "markdown",
   "metadata": {},
   "source": [
    "We can see an ill-defined un-optimized gate. The labels indicate qubit states in the product basis. Next we increase the number of repetitions of the same gate."
   ]
  },
  {
   "cell_type": "code",
   "execution_count": 34,
   "metadata": {},
   "outputs": [
    {
     "data": {
      "text/plain": [
       "['rx90p[0]',\n",
       " 'rx90p[0]',\n",
       " 'rx90p[0]',\n",
       " 'rx90p[0]',\n",
       " 'rx90p[0]',\n",
       " 'rx90p[0]',\n",
       " 'rx90p[0]',\n",
       " 'rx90p[0]',\n",
       " 'rx90p[0]',\n",
       " 'rx90p[0]']"
      ]
     },
     "execution_count": 34,
     "metadata": {},
     "output_type": "execute_result"
    }
   ],
   "source": [
    "barely_a_seq * 10"
   ]
  },
  {
   "cell_type": "code",
   "execution_count": 35,
   "metadata": {},
   "outputs": [
    {
     "data": {
      "image/png": "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",
      "text/plain": [
       "<Figure size 432x288 with 1 Axes>"
      ]
     },
     "metadata": {
      "needs_background": "light"
     },
     "output_type": "display_data"
    }
   ],
   "source": [
    "plot_dynamics(exp, init_state, barely_a_seq * 5)"
   ]
  },
  {
   "cell_type": "code",
   "execution_count": 36,
   "metadata": {},
   "outputs": [
    {
     "data": {
      "image/png": "iVBORw0KGgoAAAANSUhEUgAAAX4AAAEDCAYAAAAyZm/jAAAAOXRFWHRTb2Z0d2FyZQBNYXRwbG90bGliIHZlcnNpb24zLjUuMSwgaHR0cHM6Ly9tYXRwbG90bGliLm9yZy/YYfK9AAAACXBIWXMAAAsTAAALEwEAmpwYAAClOUlEQVR4nOydd3gb15X234sOAmDvnZJIqlfKkmxZxYpsOe6O0x3HjrPpbZPN2s5nO3GyiZ2e3SS7KWvHduzELS6K4riqWbYsieoi1Sj2jkKC6MAA9/tjMEMQHAADYAYQufo9Dx+bwGD46mJwcefcc95DKKW4xCUucYlL/N9BkW0Bl7jEJS5xicxyaeK/xCUucYn/Y1ya+C9xiUtc4v8Ylyb+S1ziEpf4P8alif8Sl7jEJf6PcWniv8QlLnGJ/2Oosi1ADMXFxbS+vj6l1w4NDaGiokJaQTIxk7QCM0vvTNIKzCy9M0krMLP0pqP18OHDFkppidBzM2Lir6+vR2tra0qvXbFiRcqvzTQzSSsws/TOJK3AzNI7k7QCM0tvOloJIT2xnpv1oZ5gMJhtCaKZSVqBmaV3JmkFZpbemaQVmFl65dI66yd+n8+XbQmimUlagZmldyZpBWaW3pmkFZhZeuXSOusn/uuvvz7bEkQzk7QCM0vvTNIKzCy9M0krMLP0yqWVzASvnpaWFppqnKu7uxupbgxnmpmkFZhZemeSVmBm6Z1JWoGZpTcdrYSQw5TSFqHnZFvxE0IeI4SMEkJOxXieEEL+ixDSQQg5QQhZKYeOwsJCOU4rCzNJKzCz9M4krcDM0juTtAIzS69cWuUM9TwOYFuc568F0Bj++RyA/5FDxJEjR+Q4rSzMJK3AzNI7k7QCM0vvTNIKzCy9cmmVbeKnlO4FYItzyE0AnqQs7wPIJ4RImlzrZ0JSnu4Sl7jEJWYF2czjrwLQF/F7f/ixIan+wMofvAlfgEHuO2+ivtiArQvL8OFV1SgyaqX6E5JSUFCQbQlJkZuXj11nR7Hz9ChsLj/GPX6MuQLwBIKozNdh64IyfGhVNUw6dbalzrixjad32O7Fsb4x9FjdGJnwweVjUGzSYHV9ITY2lYAQkkGls2ts4xEKUVicPgzavQhRisWVedCo5M2PkWtsZd3cJYTUA9hBKV0s8NwOAI9QSveFf38bwD2U0mm7uFVVVdRoNAIAtFot7rrrLqxYsQIAUFRUhEWLFmHv3r0AAJVKhfXr1+PIkSP4y1EL3AxgKCjGib4xnDV7oVcBD21rwFXzS3HqFLv9UFpaiqamJuzbt4//G+vWrUNrayucTicAYM2aNejv78fAwAAAoLm5GUqlEu3t7QCA8vJyNDQ0YP/+/QAAvV6PNWvW4MCBA/B4PACAdevWoaurC8PDwwCAhQsXIhgM4uzZs9y/E9XV1Thw4AAAwGg0oqWlBfv37+fTutavX49z585hdHQUALB48WL4fD6cP38eAFBTU4OysjK+6CM3NxcrV67Evn37wDAMAGDDhg1oa2uD1WoFACxbtgwOhwOdnZ0A2IK5wsJC/jazoKAAy5Ytw549e0ApBSEEE/mN+O7Lx2HzhKBTApX5euSoCVRBHzRKwBpQ44LVi3wtwWeXaLCxuSzm+zQxMQEAaGlpwcjICPr62PVAY2MjtFrtpffJagUTojgXKsPTBwcwMOHnPxt6tQIaBYXDTxGiwNo5hfhUgw8GNUAIwcaNG3H8+HGMjY0BAFauXAmbzYbu7m4AwJw5c2AymXD8+PGEn6f/a+8TpRRefSkOjjDY3TaIXkcIwYjpUq8CbpqrwQ/vuArt7e1pfZ6kep/uv/9+PP/88wCAc+fO9VBK6yFANif+3wPYTSn9a/j3swA2UUqnrfjTyerZs2cPNm7cCAA4N+LAt547jtNDE3j0ztXY2CRYzZw1IrVezDz1fg/uf/kU6nIVuO/G5bhqfpngyudwzxju/dsJdFtdeOruNVgzpygLallmythyROodGPfgi08dxol+O1bXF+DaxRVYWVeAOSUG5IbvpgLBEP5yoBc//MdpzCkx4MUvXY4cTWZu6Gfy2MbiQKcV/+/lU+gYdUKtJFhRW4AVNfmoKtCjIk8PJhjCXw/1Ye85M759TTO+vHle1rTGIl5WTzZDPdsBfIUQ8gyANQDsQpN+ukR+sTWVmfD0v6zBTb95F/f+7QR2fmsT9Bql1H8yZWZCau17HRY88MopXNlYjDsa3Ni6OPa2zKq6Arzwxctx7a/24r6XTuLNf90IpSKzYQiOmTC2kXB6J7wBfPwP72PM7cdvPrEC1y2pEAzlqJUKfPryetQW5eCuPx3Cf759HvdduyCjWmcKifQ+9X4Pvru9DdUFejxy6xJcu7gCeTnTw5XbFpfj7ida8au3zuGGpZWoLcrJuNZUkTOd868A9gNoJoT0E0LuJoR8gRDyhfAhrwLoBNAB4I8AviSTjim/5+rUePjWJRiye/Hovk45/mTKZDo2myxuP4N/fe4Yagpy8LvbV0GjTHz55OnV+M51C9BpduHFI/0ZUCnMxT620XB67/vbSQyMe/CHT7Xg+qWVCf8dm5tLcdPySjz5Xg8Gxz2ZkDpjx1aIvx3ux/0vn8KGxmL8/avr8bHLagUnfe48P7plCRSE4Bdvns241rTOOxO+rdMJ9cTi839uxd5zFuy/7yrk52gkPfds5be7OvDT18/iqbvXYH1jsejXhUIU1/96H5w+Bju/tREqEV8YlwB2nhnBZx5vxde2NOKbW5tEv67b4sLWX+7Bbatq8PCtS2RUOLuwOH3Y8vM9mFtiwLOfXwe1yOv0kX+ewe/2XMCLX7ocK2svno3urBRwXSxwmyHRfHnzPHgCQTxzqE/w+WwQS+vFQDBE8ad3u3FZQyE/6YvVq1AQfOWqeei1ubHzzKicMmNyMY+tEEePHcMDL7ehplCPL22am9Rr64sNuH5pJXacGAQTlD+leaaNbSy9P3r1NFw+Bj+6dYnoSR8APr9hDggBnj0o/Vwi19jO+omf2yWPZml1PpZU5eHZQ30XTYwyltaLgbdPj8Di9OH2tXX8Y8no3bqwDMVGLbYfH5RDXkIu5rEV4p3zFgyMe/C1qxqhUye/D/WBBWVweBm8e8Eqg7qpzLSxFdLbPjiBl48O4I519ZhfnpvU+QoMGmxdUIZ/nhqS/ItWrrGd9RN/PD7SUo0uiwvH++3ZlnLR8+yhPpi0Kly7uDyl16uVClw1vwR7z5kRyMAqdKazb4CBQaPE9UsrU3r95vkl0CgVeKNtWGJls5Pf770ArUqJL29O7u6K44NLKjDhZXCwO17N6sXDrJ/4V66MbQG0LZyRkq3wQzTxtGaTCW8Au86O4sbllVNugZPVe9X8Ukx4GRzpyfwK8WIdWyFcPgZHzSFct7Qi5ayzHI0Ka+YUYl+HRfY72pk0tsB0vd5AEP88OYxrF5enXNz5gYVlAICdp6WdS+Qa21k/8dtssb+BS0xazC834UCn/LfDYoinNZvsOjOKEAVuWDZ19Zms3jUNbB7/0b5xqaSJ5mIdWyHebB9BIEinjXeybGgsQY/VjR6rWyJlwsyksQWm63379Cj8wRBuXJ76eBu1KqyuL8DOs9JO/HKN7ayf+LnKt1ism1uEwz1jcPuZzAiKQyKt2WLfeQt0agVW1U3NWEhWb4FBgznFBuw5a5ZQnTgu1rEV4p+nhmBQA1fMFZ85JcSVTezr371gkUJWTGbS2ALT9b56cggmrQrr56U33puaS9FpdmHILl0arVxjO+sn/kSsm1MEJkRx8lKcPyaHum1YO6coqUyHWKydW4STA/aMZJvMRJhgCO+ct2BZiQqKNIvdmstMKDRocLh7Zm2+ZpJAMIRdZ0exZUFp2mnGV4S/OA52Xfx3QLN+4p8zZ07c57nww/6LINyTSGs2GJ3wotvqxoqa6fnJqehdXV8Ap4/ByYHMftFejGMrxMkBO9z+IK5akNomeiSEEKyuL8A7HfKu+JMdW8ow8J45g6DTJZOi+ETqPdRlg9sfxJYFZWmfd2FFLjRKBY72jqd9Lg65rttsWjZkBJPJFPf5vBw1qgv0aB+cyJCi2CTSmg2O9LKrxXVzp/vspKJ3WXU+AODMsAMrMljscjGOrRCHwxvfVzanPxEBQEtdIV5vG4HV6ZPNlTaZsaWhEM4snlpUNr+9DUSRuTVopN6dZ0ZBCLsfki4alQKLqnIlXdTIdd3O+hW/mAKIy+cWYf8Fa9bz+S/GQpjW7jEQAiyump7bnIrehmIDSkxa7Dsv7yo0motxbIU42GVDiUmLoc4zkpxvQQX7vkm5Co0mmbHtvfvuaY+N/Md/SCknIZF6j/aNY1l1fkxbhmRZVJmLM0MTCIakmUsuFXDJyPzyXDh8DAbt3mxLuehoH5rA0qo8yZweCSFYVJmLC2anJOeTAhoM4vT8BfzP+N9ezJqWUwN2tNRJdye0tCYPAHBu1CHZOVPFue9duPe/P+3xsb/8NSthn1CI4tywQ3BRkypLq/Ph8gdx/iIY73jM+om/qCixFfDasF3w+xmocoyHGK2ZhFKK9qEJLKwU/mCkqnd+eS7Ojzrh8mUukyqe1rMrpuZKD/2//wdPFu4QRh1eDNq9WFKdJ9m1kKtToyxXi7PD8k1EYrX2ffaz/P/PP3kCC86cBsIhnp47PiWLNiE4vZ0WFxw+Bkur8iU79/xyNjTTaZbmi0yuOWHWT/yLFi1KeMycEgMUBOixZmeziUOM1kzSP+bBuDuAhRXCE3+qehdUmBAM0Yy5RwKxtfZ/419B/f5pj3d/9GMZD/2d6GNjw6tqCyS9FhZX5smatSZGq/fcOf7/G178G4iaDa00HzoIAPC1nwYNBuURGAWn9+3TIwCA1Q3SNTRvKjNBrST8Xk26yDUnzPqJn+tQEw+dWok5JcasWzdwWimlMP/Xr/nQw9B3v5eV/Yfd59h8+5Z64Q+GmLEVoqaQ9S3vGM1cuEdIa2BkFI7XXuN/bz5xHPPb2/jf7S++lBFtHMfChW0LKnNTHlsh6ooMGLJ7EZIo7hyNGK1dN97E/79u4UL+/xUGA//72NN/kV6cAJzeM8MOVOXr0VBskOzcOrUStYU5GBiTZlEj5XUQyayf+MXSXGZCn03eCkcxjD3zDM4sWAjLf/83/9j4s8/izIKFcV4lD11mF/RqJX/7KhWLK/OgVhJ+ossWHRGdjea+8ToUGg2IQoH6Z/4KgA35ZJLTQxOoK8rhu2pJxfwKEzyBIE4PZydzLeSd3Dubs+Pv056vfexRAMDIT3+aMU0AcH7UgXmlRsnPO7fEiJMD9qwni8Rj1k/8KpW4TcmKPB0G7Z6sGYgFBgZQ9oUvYvh7D8U8xvK732VQEdBrc6GuKCdmMwixYxuNRqVAWa4OIxOZ20yP1jr27HP8/1f+9CfQ1Nbyv+uXL+f/39+XGdtuSimO9I5hQdgZMtWxFWJxJbvBK5d1QyKtPZ/+NP//2nnTWxQq8/PZ/wkEwFjl32dTqVQIhSg6Rp1olGHiX16bj4FxD5wS7GFJeR1EMusn/vXr14s6bmVdAbyBEE5kIdzjOXECHVs+MO3x8u99F/Pb21AQ3vgy/+o/BePRctFtdaMuTjs5sWMrxNwSI05ksIgrUmvI48Hwd7/L/553ww3Tjq/7Cxt2MP/yl/KLA2B2+jDmDvAb6emMbTSV+ToAkO2ONpFW7/ETAIDq//nvmMdU/uTHAADbE09KJywG69evR5fVBW8ghMYy6Sf+qnw9AGm+aKW8DiKZ9RM/19k+EU3hCyDT4R7X+++j+yMfnfJYwSc/iQVnTqPgYx8DUShQ/p3v8M8N/+hHGdEVClH02tyoL4od/xQ7tkKsrC1Ap9kFbyAzG3qRWoceeJD//7mvvyZ0OHJWrgAATLz6T3mFheEmiaXV7Oo8nbGNJj9Hg4Zig2xWAvG0ek5N7pmYNm+OeVzutm0AAOsf/iCdsBgcOXIEp8KLjmU1+ZKff1H4y/uABOMt5XUQyayf+CcmxMU1qwvYlW1vBid+Ggig9867+N/9jY1oPnoE5Q/cP+3YpnD2w/gzz2YkdthpccHPhDC3JPaKSOzYClFbxK6K+iXaBEsEpzXk8WBixw4AQO6NN0BTVxfzNQW33w4A8Jw8Jbs+rnK8Nrzxnc7YCtFUZpTt2o6ndfDb3wYA5N18c9xzEI0GxvCeCyNzY5eJiQmcH3FCqSCSbuxyzC0xwqhVSbKIlPo64Jj1E79YdGolynK1GZ34u269lf//2j89hrFvfRMKvV7wWKXJhJx1awEA7kOHZNfGFVg1S7yxy1ET/qLtG8vsHdaFD17H/3/lj38c99iCj34EAGB7Uv7wQ6fZCZ1aIctEBLDj3T/myeiGI6UU/q4uABBczETDhTTH/vyUrLoA4OyIA/VFOdCqUut3EA9CCKry9VlPD4/HrJ/4W1oEew0LUluYk7GJPzg+Dt/5DgBspoNh3bqEWivDYR7zr/5Tdn294dBDvBh/MmMbDZfS2Z+h8W5paQFjsYAZGgIAVDz8cMxNaw5NeCNy4u/TM1GkptfmxpxiI68pnbEVoqYwB55AEBan9HtEsbR6Dh/m/19hSPyFZrj8cgCYktEmBy0tLeg0O+PezabLnBIDzo2kn64s9XXAMesn/pGREdHH1hTmZGwi6v3svwAA1HW1fKZDIq3qigpo5syB58gR0EBAVn09NhdydSrk52hiHpPM2EZTYtRCo1KgL0OhnpGREfR+7nP87/m33JzwNYQQ5N7Ibvz6+wfkkgYA6BvzoKZw8m4vnbEVgju3HHdYsbT23M6u4Eu++U1R5yGEoPDOOwEA/p4eSbQJ0Tc4xH7Ryjjxzys1YsjuSdt+XOrrgGPWT/x9SaTj1RbmYGjCCx8j74YjDQTgPcXGjeeG482AOK2Fd9wBAPC2tSU4Mj16rG7UxdnYBZIb22gUCoLqAn3GNtP7Ojvhaz8NgM3ZF0vBxz8OAHC8Lv41yUIpRZ/Nzcf3gfTGVghuD0uO8RbSSkOTE17h7Z8Ufa68m9lCL8v/yJe63Hq2D4EgjWlFIgVV+XqEKDCUpv+X1NcBx6yf+JOhpiAHlEKyqrtYjL/EVoTm3XQjX7ouFtPVWwEA5t/8VnJdkfTa4qdySkFNQU7GYvzG7ZPhmsic/UToly+HsqQYoz/7mRyyAABmhw8+JsSHv+SguiCzm+nO3Xv4/1fkiP93aZubAQD2l1+WWhLPqJv9UmpIsLBJB27RdLGatc36ib+xsVH0sbVFmcnsGX6QzSEvi6oMFaNVVVgIVUUFXPv3y6INAJw+Br02d8IYaDJjK0RNoR59NvknIkopDG++CQCY889Xk3otIQS512wDKAVjlqdlJBcLjtzYTXdso8nRqFBs1Miy4hfSOhROQa559H+TOhchhM+m8nV2pS9OCANrfFYr4xftnBL2vRwcT2/FL/V1wDFjG7EEAgH09/fD640/sMFgUHRKlD5E8ccbK2DwjOD0aXkqCGkwCOa3vwHRaHBuYAAYmIwdJ9Kq0+lQXV2Nwk99CqM/+Qm87e1TfE+kYnDcA0qBuQmqGrXa9Bp71BTkwO4JwO4JIE8vrU1BJK733uP/X9vQkPTr866/DmNPPQX79u0oEvCTT5eucPZHY+lkBlW6YytETWEOOi3SZ5oIaQ2OjwMAjFdckfT5Cj72UYw99RRsTzyBioe+l6a66Qw7g8jVqSTz4BeiyMDujaXrRyXHdQDM4Im/v78fJpMJ9fX1cbMzHA6H6C42lFJgcAJFRg0q8oTTKtOFsVgQAKCpb4DSOPVWM55WSimsViv6+/tRdfVWjP7kJ7A98SQqf/yI5Bq5UFdVuOIzFqdOncKmTZtS/jtcaKPP5kZeVV7K50nE4L+xueS1f3ospddzFg7WP/6vLBP/4LgHaiVBqWnyQ57u2AqxsCIXLx4ZQChE0+7nG0m0VtcBtuZEWZJa83LtvHmAUonxZ59F+XcflLw719l+C2plDPMAgEqpQHmuDm2D6VWny3EdADM41OP1elFUVJQwJS8ZCCHQKBXwBeTz62FGRwEACkNyt5mEEBQVFcHr9UJTXQ11VRXsr7wiS142t0pJtLmbLlwuf7+McX7KMAiGC4IM69alfB7j5s0Ijo8j5JE+NHVh1InKfL2kk7EQjaVGeAJBjLnltf0Yfoj1m6p8OPVFSclXvwoAmPhHcqE5MYy4Q7KGeTjmV5jg8Gau50QyzNiJH4CoST9ZkyOdWgmPTDYClGFAQyEocgyC2hNpjXxN7gevBQAEZEh76xtzw6RVoThBj9bS0tK0/g63p3JBoqYVQkyEs3HoRz6S1nnyw8VcE69Jn93TY3VjXtR+SrpjK0SJib2DMzt9kp43Wqu/sxMAYAgXHKZC4Z2ssZvUOf3eQBAjbjolrCYXFXl6WNIcazmuA2CGT/xi0Onihyui0aoVCARDCIlYSXs8HmzcuBHBcAOJJ554Ao2NjWhsbMQTTzwx7XiuFF0VvgW22WzYunUrGhsbsXXrVnjCq8kdO3bgwQcfnPb6SPJuvBEAMP7KK+L/cSIZtntRmZ841NXU1JTW38nTq1FTqJe1SYjrXTa+3/id+9I6j3HDBqhKS+EIbxJLyaDdw2fdcKQ7tkKU5rJf5McltsOO1Mq5mSrz80GUqVfFKnQ65N1yC/xdXfBImLrMpVdmYsVflquFxemHw5t6zY0c1wHwf2DidzqT21xRK9khEVN48dhjj+HWW2+FUqmEzWbDQw89hAMHDuDgwYN46KGHMBblORIKb9wqjOzq7pFHHsGWLVtw/vx5bNmyBT/4wQ8AANdddx3+/ve/w+2OHQLRNjZCkZcHz6HWpP59YhgY96AsL/EX5r59+9L+W3WFBgzLZM/MjI3B/uKLMKxfj3ffn97rNRmIQgHjxo1w7twJxiJdo/hxtx8OL4OqqIlfirGNhuukJnX1bqRW25//DAColCD9tfjLXwIAjP74J2mfi4Pbv6pIsH8lBU1l7F1FOhu8clwHgMwTPyFkGyHkLCGkgxByr8DztYSQXYSQo4SQE4SQD8qpRwxqJRtO8QcTr/iffvpp3HQTW3Dy+uuvY+vWrSgsLERBQQG2bt2K1yK6O1GGQcjjgbKggA/ZvPLKK/h02Kv805/+NHaEi7kIIdi0aRP/eyzybrwR7sOHwdikc12klKLL4kK9zDn8HCUmbdq3w7Gwv8g2TTd9YLrldSpw4bWxvz4jyfmASU+keC6oUmHQqmDSqmB2yDPeADD2JDvxG9auSftcmupqFNx+O9wHD0rWA5nLq5fLEykSbg9LzvFOFdmyegghSgC/BbAVQD+AQ4SQ7ZTS9ojD7gfwHKX0fwghCwG8CqA+2b/10N/beHfDaILBIJRJ3HJSSuH2B7GkOg8P37o05nF+vx+dnZ2or2flDgwMoKamhn++uroaA5GpmnY2nKGMyNoZGRlBRUUFAKC8vBzmiDzxlpYWvPPOO/hInNh03o03YOzPf4Zr3z4+9JMuTh8Dtz84LfQghBSpZiUmLfrHPPAxQckNsxxv7wTAFsppjx1L+3w5a9dCXVUF6x/+gOIvfTGtUAbHsJ2dFKKLt+RK4ys0anC0V1r3S04rtwBRV1eDSNRApOQb34Djrbcw9MCDaPjbC0kXPEYzOO6BWgGU58q/4i8JZ2kNpNFbWq7rQM4V/2UAOiilnZRSP4BnANwUdQwFwNVN5wEYlFpEMpM+MLmBmijEb7FYkM91DhIBN/FzYR6hvxu5eVtaWorBwfjDoVu0CMriYow/97xoHYkYDa9OSk2JPxjr0siS4ZgbLnSRupAr5HbDc+QIDJevg0Kvl0QrIQTFX/wCaCAwpTYgHbgwV/REJIVeISrydLBJnNXDabW/9DIAcU6cYlEaDSh/8AH4zp2D9dHU0nEjGbJ7UVUQu6uclBQbNdCqFGmFeuS6DuTM468CEGk00Q8g+v7vewDeIIR8FYABgOA9+dDQEJrDpdxarRZ33XUXNm3aBIfDAaVSiQevXzgllm8ymeByuRAKhRAKhWA0GhEIBBAIG5tptVoQQvjiL5VKBZ1Ox5+jZyKEQoOGPwcAGAwG+P1+/hxKpRJerxcOB3vrWFJSgnfffZf/vaurC1u3boXT6QQNBqFyu6EwGuH1+cAwbIpXaWkpenp6UFhYiOHhYRQXFyMUCsHlcmFsbAzq8OrG6XTyaZuUUrS3t2M0nBbacN11cD/xBN555hkEy8tRU1ODsrIytLaysf/c3FysXLkS+/bt4//uhg0b0NbWBmu4zd2yZcvgcDjQ2dmJ42b2mFxVELt37wYAFBQUYNmyZdizZw8opSCEYOPGjXjrrbf4TKSVK1fCZrOhu7sbADBnzhyYTCYcD9+iFxUVYdGiRXzzaJVKhfXr18NtYe+K3tp3AOVXr8HIyAjvT9LY2AitVotTYV+j0tJSNDU18XFPrVaLdevWobW1lX/v1qxZg/7+ftj++lfkAqDXXovR0VG0trYiJycH5eXlaGhowP5w5bNer8eaNWtw4MABfnN93bp16OrqwvDwMABg4cKFCAaDOHv2LJCXhzKTCeY//i9aw5v6RqMRLS0t2L9/P3w+9otz/fr1OHfuHP8+LV68GD6fD+fPnwcA/n3ad/wctEqg88xJrFq1in+f3G43tm3bFvN9AoD6+noUFhbyzTpivU/Hjx/n95vmFeXheN84/96KfZ+OHDnCFxe2tLRMeZ8UCgUWLlyI4T/8AUoAvSUlaGIYUe8Td1fc3NwMpVKJ9nY2IDDlfVIoULhsGSz/8z/orK+DO5ywEfd9AlBVVYXq6mocOHCAf586zR7ogm7+3y/2fUr181SqB7pHxjAxMZHU+8R9ntrb25GTkyP6fbr//vvx/PP8QjB2IQWlVJYfALcB+N+I3z8F4DdRx3wTwLfC/78OQDsARfS5Vq1aRaNpb2+f9pgQExMToo6L5MyQnZ4ZSvy66upq6vF4KKWUWq1WWl9fT202G7XZbLS+vp5arVZKKaW3f+xjdM9f/kKZ8fEpr/+3f/s3+vDDD1NKKX344Yfp17/+df65n/3sZ/xzkUT/u/1DQ7S9eT4d+dnPk/o3xuKJ97po3T076Ijdk/DYXbt2pf33Tg/Zad09O+j2YwNpnyuSzls/RNub59NQMEgplUYrh/l3v6ftzfOpY9++tM/1mT8dpNt+tXfa41LqjeS3u87Tunt2UJcvINk5d+3aRYM+H21vnk87rr5GsvNG4j1/np5evIT2feMbaZ1n8Xdfo3f95jWJVCXm9v99n970m9Svk3SuAwCtNMb8LGeoZwBATcTv1eHHIrkbwHMAQCndD0CHeN9SGUKlUICNQsXn6quv5lc1hYWFeOCBB7B69WqsXr0aDz74IAoLCwEAJ06cQGVZGRRRVbn33nsv3nzzTTQ2NuKtt97Cv/7rv/LP7dq1C9dddx0SoS4vh2HDlbD/Y8cUR8RUGZ3wQUGAogQ5/FLBVUinW9oeScjlgretDYYrr5S86hMACu+6E+rqaow+8kjaPZBHHT6U5WZmrAHwtRlSm7W5wp+Dgk98XNLzcmjnzUPRv/wLHP98De4U2xG6/QwcXgaFevnDPBzFRra5E81gAxwxyDnxHwLQSAhpIIRoAHwMwPaoY3oBbAEAQsgCsBO/pE5YBhENIKLRa5QIiMjq+fKXvzwlX/8zn/kMOjo60NHRgbvuYlsq2sfHMbe6GrVNzdMmoaKiIrz99ts4f/483nrrLX5zeGRkBB6PB0uWLBGlN+/668EMDvE56+kw6vCiyKiFUkQV6Zo16Wdu5OnVKDFpMZjGBlg0E+Fc+/wPTXY4k0Irh0KjQem3vw3f+Q6Mpbm/MjzhnWLVwCGl3kgaw/5LnWbpvmjXrFmDsaeeBgDk33abZOeNpuizd0NVWoqRR36c0kQ6MsGG4VYtmCe1tJjMLTHA5vJjIsUKXrmuA9kmfkopA+ArAF4HcBps9k4bIeT7hBAuBeVbAP6FEHIcwF8B3Ekl/mr0p7AiUysJQpQiGIovZeXKldi8eTNfwCWEAcDTP/85lPmJvWg4rb29vfj5z38uWq9x82Yo8vJg/d/knBCF6La4USkihx9g/ZKkoNSkhdUl3YbjxKuvAoTAeNVV/GNSaeUwXb0VOS0tsPz+dynbODi8AZgdPt4rPxKp9XJUhQvzpMzl7+vshOu996BbvFhUp61UUeTkoPgrX4b3xImU2o92WdgvO3Ugc1bJ1WmmdMp1Hciax08pfZVS2kQpnUsp/WH4sQcppdvD/99OKb2CUrqMUrqcUvqG1BoCKXSqUiVRxPWZz3wmbuZQ0GIB0WhEfSA4ratXr8bysDGYGJQmE0q+9EW4DxyA8530Cj6GJjyiPXoi01XTocioxYhERVwhjwfug4dguPxyKDST3cOk0spBCEHJ17+GoNkCW4o9YrkMKqEqUqn1chSEXSOtEk78tnC9iVQpxfHIu+46EI0GjrfeSvq1XOqswi2P864QXGgt1VoVua6DWV+5mwrqcJhDTLgnHiGvFyGvly1flzl9LP9jH4OqsgLmX/0q5XgipRTmDMecAaAiV4duieyCne+8A+r1ouBTt0tyvnjkrF4Nw8YNsD76KIKO5FeR3CqwRCDUIxdqpQKFBg2/+pUCzblzAIA8Ee0s00VhMMCwfj0cb76V9HU+6mAXF7mazMX4uc9Sp4x+VKkw6yf+VAog+BV/mpuljNUKEAJVeJM3EekUayi0WhR/7nPwtrWl7Gjo8gfhDYQSmrNxcCm26VJfbIDLH4Tbn76Tof3lV6AsKYZx/fopj0ulNZqSr30NIbsdtieeTPq1w2HfGKGJXy69ABt3lnJz19DTC+PGjVOKE+XE9IEPgBkagvdUch4+IxNeFBo0WLRgvkzKpsNVCKd6RyvXdTDrJ/5UVtoqZforfhoIIDg+zq72RVYxpntXkP+Rj0BdVwvro4+mtOrnVt3lImP8yRbHxaLIKE34ITA8DOeePci74cZpYy6V1mj0ixbBsOFKjD/7bNJj3hUeb6FQj1x6AaA8Ty/Znorn5CmE+vth2HClJOcTg3HzJkCpxMRr/0zqdV0WF2oK9LKObTQqpQJFBk3KjqhyaZ31E3+iDl1CKAmBghD40rBnDoyMABRQFRWJfk0qWiMhCgWKP/c5+E6fhitc2JEMnHOhWB8TrtgmXUrCdxjpmrXZHn8CoBQFH/nwtOek0ipE7tVXgzGb4Q4XConF7PShyKCBTj39wy2n3iKDRjJ/JK43bu62bZKcTwyqggIY1q2Dffv2pL5sR8Mb6XKOrRAlJi1GU7y25dI66yf+VCCEQKtSIJAgqyeuLfOTT0JpMkERxxb6+eefx6JFi6BQKPjKQAA4efIk7rzzzpS05914I1SVFbD87vdJr0C5yUBsqEcqOF+gC2nk8tNQCBOvvQb98uXQhP2TMkXu9deDaLVwvJGcZbPF4cv4WAPsROTwMhhP07qBBoNwvPEGvMuXJ7XAkQLT1VsRNFvgOXpM9GvMDl9G91M4ynJ1svacSIVZP/En24iFf51SkTDGH8uW+d0dO/Cj//5vOLSauK9fvHgxXnzxRWzYsGGK1iVLlqC/vx+9vb1J6yZqNYo+czc8R4/C05qcZTMXc+ZCL4koLy9PWp8Q9XwcNPVVqOPtt8EMD6Pg4x8TfF4qrUIodDoYrlwPx86dSX3ZdlpcMSciOfVyd3Tpxvmde/aAMZuh2yqN+2kymLZsAQC4D4u7xj3+IBxeBiUmraxjK0RDsSHldE65tM76iT/VDVOVgiCYIMYvZMtckJeH3GAQWzZswBu7dsV9/YIFC6Zs3kRqveGGG/DMM6nZ/+Z/6FYoTCaM/+3FpF53bsQBg0Yp2iWzIYXG5UKolQrk6lSwuVL7cFCGwejDj0BdVYXca64RPEYqrbEwXbUFzPAwvCdPin7NiN0b0wVVTr1cwVi64R77y69AWViIho9+VApZSaEqKoK6uhrug+Ly+TvDWUzVBXrZr4VoSkxaOH0MPP7kQ8dyaZ2xzdan8M97gWHhD1woyEChTP6fWVi4AGOr7o/ZmDqWLTNjsYKGQqiZOzfpHFyXy8U3W29pacEjjzyCf//3f09au0Kvh+GKK+Dav583gRLDhDeAhhLxBTj79++XrBF0kVGb8gaY/ZXtCAwOovJnPwPRCN+tSKlVCOPmTQAhcOzaBf3S2HbeHN5AEA4fE3Pil1Mvd5eRjk88MzYGx86dKPzkJ/B+a6usYxsL/YoVcB88KOpY7t9aXaCX/VqIhvuiHZnw8ne3YpFL66xf8acKN9nHCvcI2TJTShG0WaEwGqcUD6WCGFvmeBjWrQMzMgJ/V5fo11idft47J9OU5WrRZUm+6TqlFLann4Kmrg6524RX+5lAVVCAnJYWOHfGv8vjsIWzarIR4+cst7vSqJ0Y+/NTAMMg75ZbpJKVNPrFi9hrXER1K1epnI3x5tqYdkpYO5Eus2PFf+0jMZ/yOp0wxvDAj0fAEwCsLjBBCo3AKOn1+ilZOFVVVdj52mugwSDUxcXo7+9P+ps6cmXu9Xqh16c+CRsuZ328XfvehXbOHFGvsbr8WF6TL/pvpKMvmrpCA3aeHU36dY433oSv/TTKv/e9uGmzUmqNhXHjBoz+7OdgLBaoiuN7DfZY2S+5WGZ4curVa5Qoz9WlvKcS8nox9txzyLnsMujmz4feLl/P5Hjoly0DAPjOnIGmujrusT1W9kuuyKjFcAauhUjqwt3sLI7kN9Plug5m/Yo/lUkfmMzlZ2Jk9hQUFCAYDPKT/zXXXIM3d+7EuMcDu9+PN954A9eE48133HEHDoq4JY3Ueu7cOSxevDgl7QCgqamBtrER43/7m6jjvYEgzA6foGFYLKQ0kCoyajDm8iOUIJMqEkopLL//HdSVlci7ObrHz1TkMruKRLeEDfF4T59OeCxnSlcZo/er3HpLTFpYU9xTGXvqKQQtFhR/+csAMjO2QmibmwGlEu7WwwmPHRz3Ik+vhlGryrjeIkM4tJZCKHPGmbRdLCTbbJ1DFXbS9Mfx64m0ZS7IzcW9n/scrvzIR3DZZZdNt2WurJz2+pdeegnV1dXYv38/rrvuOnwgojesWFvmeOTddCN8Z8+yNQUJ4Cai6BaA8TiQZN56PIqNWjAhinGPeG8l5+7d8LWfRtHn/iVu2iwgrdZY6MIVod72xBM/F+oRKt4C5Nebaq9jxmrF6C9/hZx1a5Fz2WoAmRlbIRR6PbTNTfCFLSPiYXX5+LHOtF69RgmdWoET/eNJv1YurbN+4k/Vt0atJCAgCDCxJ/5IW+ag04lP33ILzp48OcWWeWJiAo2NjagWuBW95ZZb0N/fD5/Ph5GREbz00ksAAJ/Ph9bWVlx77bUpaecwhNNEnXv2JDyWq+QsTaIXqSdFV0ohuGrhZOyCbY8/AVVJCfJvvTXhsVJqjYUyNxfq6mp4zySe+C0uHzRKBYxa4fCU3HrLcrXoMruSr/X4/e+BYBBl997HhyYzMbax0M1fAM/Jk6BMfLsPm8vPpylnQ69WpUypMl0urbN+4k8VQghUShIz1ANMtWUOOV0AUUxz4czNzY1shSaK3t5ePPLIIynXIHBoGxuhKisT5dPPXZRFhvQ2pVOFj4OKXIV6jh+H+8AB5H/8YzEzebKBbsEC+ESs+K1OPwoNmoz0fhWiroj1R3IlkWIYdDphf/ElmLZuha65SUZ14tEvXYKQwwEmwV1tt8XFh1yywbo5RZJaj6fLrJ/4U2nEwqFSxJ/4AdaWWaFQIOR0QmFIr4kzp7WxsVGSFC5CCHJWrYI33LM2Hlz8MZnKRikbQXMfSrEfjvEXXgAAFH7iE6KOl6tpdTS6hQvg7+lB0Bk/Y6bH6kJZHE8kufUW8fbM4sM91t//HiGnE0Wf+9yUxzM1tkJo57FNVTxxDNvcfgYTXgYmHbuQyobe8jxdSumzcmmd9RM/1/w6FVRKBQIiPPlpIADKBNJ2J0xHayy0TU0IDAwgmGCvY2jcA5WC8L45YuhKIlU0Edxt+IhdnKeJ++AhaBvnQRmVUhsLKbXGQzufjfP7zp6Je9zIhA81MXL4Afn1liRZxBV0ODD212dg3LwZ+iVTkw4yNbZC6JcuBRQKeE/FLpzj7mYXVuYCyI7e0ly2iCtZB1q5tM76iZ9JEPuLh0apgD9OjJ8j5GJXd4oc8RujQqSjNRba8C2579z5uMeZw74xQsVqsRgeHk5LWyTqcLz7QJct4bGB4WH4e3pgTOKuSEqt8dAtXAgg8QavzeWPm1Mut15u4j/eJy4V0/rYYwg5nSj+4hemPZepsRWCaDRQV1UhEKdYkvty4+5ysqG3MlwfM5CETQZjs2E4BdsWMcz6iT8duBaMiVIMg3Y7iEoFkiCzJBvowpYQvnNn4x5ndmbHwCqSUpMWYvYaXe++C4D1Zb/YUJWWQllYGDel08cE4fQxWdtPAYCmMvbuVEwWFfX7MfbEkzBcfrmoquRMo6mthe987IUNl0EVq2YiE9QUhif+JHpLm//rv1By732gcVq7psqsn/h1aUzGygS5/BzU64XCZEp7oy4drbFQVVRAYTLBezbBxO/woVikORvHwvDqVirmV5hE5Za73j8ARW4udIsWiT631FpjQQiBbsGCuBP/aLhwqjROpzO59ao5n3gRcWfH7t0Iud3I/5iwJ0+mxjYW2qYm+Lt7YmYocXbfXI1KNvRy1dKjIovm/P39sL/4EnRXXAEigyf/rJ/40+ndrg7n8seK83s8HmzcsAGMzwei0Uy1ZQ6necbj29/+NubPn4+lS5filltuwdjYGID0bJmjIYRA29SUMNQzMO7hS8vFEq/JfCoUGjQYcydegXqOH0fOZatFN7gBpNcaD93CBfB1dID6hTequYkonj1GJvSWmLTiJv432f62hsuvEHw+k2MrhLqigm18ZBMOE45M+EDI5MSfDb3c3TTX/jER1t//HjQUgvbOT8uiZ9ZP/Olt7rIreG+MhiyPPfYYbr7uOiiVSox7vbwt88GDB/HQQw/xE3kstm7dilOnTuHEiRNoamrCww8/DCA9W2YhdM1N8J09G/NL0M+EMO4O8KsSsZxNcBeRLIUGLWwuf8zxBtiVUKC3FzktLUmdW2qt8dAtWAAEAvBduCD4vJheu5nQW2LSipqIPMeOQbtgAZRG4Qy5TI6tEOraGgCAryP2eBcZNHxL1Wzo1amVKDJoRFlh+7u7Mf63F5F/663oSKGXsxhm/cSfDrqwPXEwRqjn6aefxg3hOPObu3dj69atKCwsREFBAbZu3YrXXnst7vmvvvpqPld/7dq1U9w807Fljkbb1IyQ0wkmhukbF17Jdoy/MEcNYNLHRgjH628AAIwbN2ZEUypoFywAEHuDN1sNb6KpLcyJO9YA4OvqQqCvD3nXX58hVcmja2wEwE6YQpiz1PAmmuoCvagYv+X3fwAIQdHn/kU2LbPCpO3HB3+MMzbh9LlQKASFIvnvt/mF83HPZfdAQYRz+Tlb5trSUoRcLgwMD6OmpoZ/vrq6OilbZq6pC0c6tszRcJk93rPnoK6qmvY8Zx6VbIy/SuBc6bCggk23Mzt8aC4XTo31dXRAWVIMbZI+5VJrjYemthYkJweekyeQ/6HpVcWjEz4oCBvaikUm9Jbn6mD3BOBjgjF7MHDtJA3r1sY8TybHVghVaSmgUIAZEc7WGZnwTqlIz5beEpMO/WPxv2ip3w/7Sy/BdO02aKqrUXWpcjc1Upn0I1EpCRiBhiycLTP1+kD0+rQ2dn/4wx9CpVLhjjvu4B9L15Y5Em0jl9Ip7GkyaGcvrrIk7BoACNpQpAPvE++MHX7wnjoFbV190ueWWms8iFIJTX0dAkNDgs8PjntQkaeHMk7qbCb0cpvL8eL87tbD7Bdt+C5GiEyOrRBErYa6vBy+TuGc9yG7B1URZnjZ0luWq8Vogj0VZzhjzXDZZQDk0zorVvz3XHZPzOccDgff3CQVVAoFAgKe/Jwtc8jnhcpoQFVVFXbv3s0/L9aW+fHHH8eOHTvw9ttvw+1281rTtWWORGk0QF1dHTOlc4TbbIzhFBmLAwcOSNokojhBgxDKMPB1d6Pwjk8lfW6ptSZCU1UF34VOwefMTh//b41FJvRyezojE2wT8mio3w/Xu+8iZ+2auAubTI+tENrGRvg7p493MERhc/mnFCZmS29lvh42lx8uHwNDDI8mrqOYKdy8Xi6ts37Fny4alULQqK2goABBhoHX54MiJwfXXHMN3njjDYyNjWFsbEyULfNrr72Gn/zkJ9i+fTtyooq/0rVljkbb3AzvWeEVv8XBZj0U5mTX88akVcGkVaHPJnx76+/pAQKBpMM82UDTMAf+ri6EBG7VLU4/SpIMq8kB58TaaxO2l/CePYfg2BhMWZ7UxaCqKAczOr2fg83lR4gi4RdtJqgKZ80NxalOt7/yCvSrVkFVUCCrllk/8acb6lGH/XqEMmI+sGkT3jtyBESjQWFhIR544AGsXr0aq1evFmXL/JWvfAUOhwNbt27F8uXL8Y1vfIN/Tgpb5kh0zU3wd3cLT0QuPwpzJrMexJJqr4NYEEJQka/j70Ci4TZLdSnkYUutNRGahgaAUkHzMIsz8WZjJvSWhUM9sXLLuTvEROOd6bEVQlNdjeD4OIJRTWG4u8fI8c6W3tIEKZ2BoSEEbTbkrJ7MWJNL66wI9cQjHZM2gI3xhyhFiALKqLvdL37qU/jVb36DD372swBYw7bPfOYzU46JZ8vc0dEh+Dc5W+Zf/epXaWmPRL9yFRAMwt3aCuOVV055LtWsh5YkUyrFUGrSxWxY4e/qBAiBJmzMlQxyaI2HOvxF7x8YgCbclxlgU4MtTh9vQx2LTOg1alXQq5Ux487etnYQtRqaurq458n02AqhmTsXAOA7f35Kqi+XRVMVUaOSLb2J9lTch9gwT+41ky1E5dI661f8qTZi4eAasjACRVzLmpqw8fLLEYrRlxdIzpaZ0yqVLXMkXJMQoR68/WMeVMUxDIvF/v3709YVTYlJG3MF6m1rh7qqKqV+xnJojYd2XngiiqrgtTh9oJTNqIlHJvQSQlCaq415h+Xr6oS2uTmh7XWmx1YIdUUFANbfJhIudTaySjpbess5v54YKZ0Tb7wBRV4e21ksjFxaZ/3En07lLsD69QDTO3FRShHyeHDXpz4FpUQl1ZxWqWyZI1EWFoLk5Ag2prY6fUm5cnLI4SZaGQ71CFVL+zo7oV+6JKXzyqE1HqqiIiiMRgSGp4Z6+L4HCcY7U3prCnLQZ5ueYkgphbetnQ1ZJSDTYyuEqqwMABDo65vyuCW8uo5Mnc2WXqNWhTy9GkPjwl+0ntbDMG3aCBIRnpZLq6iJnxCiJYR8ghDyHULIg9yPiNdtI4ScJYR0EELujXHMRwgh7YSQNkLIX5L9B8iNWsnZNkR9gQSDQCiUsOXfxQIhBJqammlFLqEQhdXlR7Ep+5uNAFCVnwMmRKd1K6KBAAKDg1DX1mZJWfKoq6oQiPqi5Yrlkq2ZkIuyXJ1gqIcxmxGamIB+sXg/pGyiKiiAqrQUnqjeExanD7k6Vcw6hUxTGqNaOjAyiuD4OLTN8zOiQ2ws4RUAdgCHAYj6CiKEKAH8FsBWAP0ADhFCtlNK2yOOaQRwH4ArKKVjhJDSZMSLId3NEW7Dk4kK59AA6ylD1Oq0zh+J3JtO2rlzpjWssHsCCIZoSt2J1q9fL5U0npKIlM7IOLi/pwcIBqGdMyel88qhNRGahgZ4jh2b8hgXxkq0p5IpvaW5bO/dUIhOseTm3C41IsY7G2MrhKahAczI1MyeY33j09qJZlNvrC9abxv7hRXd60AurWJDPdWU0o9SSn9CKf0595PgNZcB6KCUdlJK/QCeAXBT1DH/AuC3lNIxAKCUTs/HShOvV5wpUiyUCsJW70at+EPhWzCilS5NLF2tiVBXVSMwODjF5pUr3kq02SjEORFNrpMllpkVV3ymDZfnJ4scWhOhqasDYzaDRiwaBsY9UBAkNMTLlN5SkxaBIMWYe+odlu8MWwkvxgE1G2MrhKq4GIzFMuUxlz84ra9xNvWW5eoEQz2+sH9QZHwfkE+r2In/PUJIssHVKgCRAbf+8GORNAFoIoS8Swh5nxCyLcm/kRApmpuoBTpxcc6LUvZ7laMRSyTq2hqAYaY0reCLt1KY+EcF8qbThdMxGLUB5tq/HwqDgc/eSBY5tCZCVVwMBINTJiNLuNduvKpdIHN6uWyXaPMwX1cXlIWFUIVTkuORjbEVQmjitzp9WFyVO+WxbOqtytdhxOGdliziaWtjeznkZkar2FDPegB3EkK6wIZ6CABKKU23K4MKQCOATQCqAewlhCyhlI5HHjQ0NITm8DehVqvFXXfdhU2bNsHhcECpVEKv10/J3jGZTHC5XAiFQggGgwgGgwgEAgiEwzNarRaEEH6FrVKpoNPp+HMQQmA0GvlzKBCCn2FX5Nw51D4fPIEAtm7YgB07dkCr1eLmm2/GgQMHsHbtWrzwwgswGo1wOp38pq3BYIDP5+MneEII7rrrLhw+fBiFhYV47LHHsHjxYhw8eBC//vWv8Yc//AEGg2HKOSilaG9v5y+IxYsXw+fz4Xz41rympgZlZWVobW0FwGYVrVy5Evv27QOZmEAhAG9nF87a7bBarXinn/33BBxW7N59HABQX1+PwsJCHDlyBABbrLZs2TLs2bMHlFIQQrBx40Z4PB6+WnnlypWw2WzoDu8hzJkzByaTCcePs+csKirCokWLsHfvXn7M169fjyNHjmBiYgIAm7o2MToMJQHeP3EOV9WqodVqcerUKeSfPAVNZSVCCgX2hv+mVqvFunXr0Nrayr93a9asQX9/P++T1NzcDKVSCafTid27d6O8vBwNDQ18toRer8eaNWtw4MABeMI1DuvWrUNXVxffqWnhwoUIBoO8q2NVVRWqq6txIOxjYzQa0dLSgv379/ObcevXr8ewTgsCoPWvf0XjJz8Jn8+Hs90D0CGECxcuxHyfGIaB0+lEKBRCW1sbrFYrAGDZsmVwOBzoDFeoin2fjh8/zjvFRr9PMJYDAN5+rxVjZSr+fbIcOACan499+/YJvk8jIyPoC2+k+v1+WCwWnArH10tLS9HU1IR9+/Yl/T61t7OR4FTepwa9DtTtxp7XXgPV6VBeUYkxdwAO8xB277by75PL5eKv2/Xr1+PcuXMpfZ64z/GGDRtEv0+2oQAoBWxuP04fOcC/T9WdXfDX1U37PHHXrdjP0/333x+ZRViMWFBKE/4AqBP6SfCadQBej/j9PgD3RR3zOwB3Rfz+NoDV0edatWoVjaa9vX3aY0L4/X5Rx8Wj1+qipwftUx7zXrhAf/Xd79Jf/epX/GNvvfUW3b59O73uuutEnfe3v/0t/fznP08ppfSvf/0rve222/jntmzZQnt6eqa9Ruy/W4jA6Chtb55PrU89xT/267fP0bp7dlCPn0n6fGazOWUt8Vj7o7foN589NuWxjg9eR/u+8pWUzymX1njw4/300/xjt/73u/QTf9yf8LWZ0js07qF19+ygf97fzT8WCgbp6WXL6dAPfyjqHNkYWyHGXnqJtjfPp75u9t9ic/po3T076GP7Oqccl029/zgxSOvu2UGP9o7xjwWdTtrePJ+O/Oxn045PRyuAVhpjfhYV6qGU9gDIB3BD+Cc//Fg8DgFoJIQ0EEI0AD4GYHvUMS+DXe2DEFIMNvQjbHCSIjTNdE6ALeIKRFXvUr8fz+zYgZtumty22LJlS1K+QK+88go+/Wm20cJtt92GXbt28X9DSltmDmVxMZvS2T351g3ZvcjTq6FTJ5/1IFeqWalJO6WIizIM/L29UIVztVMhGyl8yoIC1jXSbOYfGxjziDLDy5TeYqMGhGDKhiMzNATq9U4pPIvHxZDOCQCq4hIA4MM9tvC+RUGUFUk29XLV0p3myQiFL3xnoFs03aJFLq2iQj2EkK+D3Yh9MfzQU4SQP1BKfx3rNZRShhDyFQCvA1ACeIxS2kYI+T7Yb6Lt4eeuJoS0AwgC+Dal1JrsP2L4Rz+C77SwLTMTDEKVQp69dsF8lH/nOwDYIi5KKYIhCpWSgFIKn8eDrt5e1Iv8cAgxMDDAWzmrVCqYTCZYrVYUFxdLasvMQQiBtqFhShHX4LiH7weaLOfPn5fF4rY0V4ce66R/DDMywnr0pLixC8inNR5EpYKqpITvfhYKUZidPr7xdjwypVelVKDMpJvSBNwTDrfoojYaY5GNsRVCVcJGNgL9/cCqVXyFbGmUT0829TaXszH8kYgiRX5jd+70DCq5tIqN8d8NYA2l1AUAhJAfA9gPIObEDwCU0lcBvBr12IMR/08BfDP8c9GiUU22YFQpFaA+HyxjY8jPz5ftb0ppyxyJuqZmSjWpWYRvTKapytdj/4XJ7/9A2O9GXV6eLUkpoyou5s3Dxtx+BEP0osnh52DtgiczTQL9bNxdm+JGerbgrCW4TlxiOp1lGqNWBZNOhWH75Bett/00a42RxiIyWcRO/ATsipwjGH7sooBbmQvh9XrTbmKuDmdgBIIUerBhHr1WC2+at2FVVVXo6+tDdXU1GIaBw+FAUVERr1sqW+ZINDU1cLz1FqjfD6LRwOLwY0F5buIXChDZeEZKSnO1cPoYuP0McjQq+HvYFpSq0tTLPOTSmgjdwgVw7t4DAHz4qkREi8tM6i02ajEY4RjJDA+B6HRQ5OWJen22xjYahU4HVWUFH1objTHxZ1tvRZ5uynj7u7uhbWwUrAmSS6vYdM4/AThACPkeIeR7AN4H8KgsiiRGLUGBFdd7l+vERQMBFOTlIRgKicq9v++++/DSSy9Ne/zGG2/km7K/8MIL2Lx5M+97LrUtM4emvp5N6RwdBRMMYXjCm7JlbVm4TF5qOJ94bsXm7+kGCEm5eAuQT2siVCWlYKxWUIbh7XgjfWNikUm9JSYtTg9N8L/7LnRCU1MturlQtsZWCFVhEZhwds3QuAdalQJ5+qlzQLb11hbmoDfc8pJSCm9bW0xrDLm0it3c/QWAuwDYwj93UUp/JYsiiXG747c6EwNn1Mbl8oe8PoAQbN26lU9ZA4Arr7wSH/7wh/H222+juroar7/+OgDg5MmTKBcIU9x9992wWq2YN28efvGLX+CBBx7gn5Palpn/t4QvJGZkBN3hOHr0B0MsXIqb1HAxWS4OygwNQ1VenlaVtFxaE6EqKwNCITAWC1+4U5WgeAvIrF7Ox2bMxW6GBoaGoKkX3/MgW2MrhLKokLfCHrJ7UZU/vTtetvWW57G5/AAQstsRtNuhWyjc4UwurXFDPYSQXErpBCGkEEB3+Id7rpBSaov12tmEQkHYTlzhiZ8G/FDodPjKV76CX/7yl/hAuOH6O++8I/j6QCCAdevWTXtcp9NNce50OBwA5LFl5lCXseGSwPAwzPn1AIAlVeJu6TMF5xQ6MO4GUMh69KQR5skmnD1zYGAAFicbUrvY9lSWVrPv/6DdgwKDBszICAwC1+tMQJVfAPehVlBKRXU6ywalJh3G3WyvYxpuz6muzmz4KdGKnzNNOwygNeKH+/2iJ91GLBzqiN671O8HUauxcuVKbN68GcFgMO5ruZV/Ijitctgyc0yu+EcjDMNS+3Dk5qa2N5AITg/XBN534QI09fE94RMhl9ZEcPsSjNkMi9OHPL2aTxaIRyb1cnbBQ+NeMFYrQk4nVGXiv2izNbZCaJsaQd1uhFxuWBzCrrPZ1std390WN78Rra4QTlyQS2vcmYVSen34vxd/r7sYpNuIhUMVtm2goRA78Yfz9aMbr6QDp7WxsRGNaaQuxkNhMoHo9WBGRmAL39oXGFILoaxcuVJKaTy5OhU0SgXMTh9CXi+CNpsoe+B4yKU1EVyKIWO24MSESXRGTyb18jYZdg/8PrbCN5nU2WyNrRDKcHIEYzGj0+LChqaSacdkW+/cEvZz3j/mRlG4cjnWeMulVawt89tiHrsY4cIn6aLiWjByrpwy2DFLpTUehBCoS0sRGB1Bj9UNlYJMK3ARS+T+hpQQQlBk1OB43zgC4VthVWl6m1xyaU2EMj8fUCoRGBiA3RPgbb4TkUm9pSYttCoF+mxuPj6uTqJYLltjK4QqPPGPdLMTaq7A/lW29VaHex2POnwIjAxDmZcHRYwMPrm0xr0KCSG6cHy/mBBSQAgpDP/UY7rh2qxGrWJX/CEZ7JgzjaqsDL720xiZ8KKmMEf0ZBSNnKZyVfl6THgZ+MNVjeo0i1jkNsCLBVEooKmtRWCgHxanD2vnFIl6XSb1cp24Rh0+vn9AMqmz2RpbIbg9FXsHW6QotH+Vbb1c+OnCqBOBvv64Yy2X1kSf+M+DjefPD/+X+3kFwG9kUXSRwuXyB/3hiV+G+HumUJWXgbFaYXX6UWS4uIqJOJrLTWwnLu5WuEme0FcmUJWXwT9qhsPLXLTjXWrSoWPUybpy5uezdyozEHW4t7VniDVuK7rIiuUAtiDUpFNheMILf3d32mHMVIg78VNK/zMc3/83SukcSmlD+GcZpXRGTPxSNTfhGrLwPvwyrPjlbsTCoZ3XiJDTCee4Y0pLumTZsGGDhKqmUpGng83lh2dgEESrTXsiklNrIlTFJQiYWf+YQpETUab15uvVGJnwghkahrq2VnQOP5DdsY1GodVCYTTCb2Zz+YW+aC8GvQsrcjFqZ0NrmrrYXeXk0io2j//XhJDF4TaJd3A/siiSGM7CNV1UESt+olKBKJXweDzYuHEjn9Wzbds25Ofn4/rrrxd1zr1792LlypVQqVR44YUXeK1msxnbtknemoBHVcxuODqHR9JaEbW1tSU+KEW4RiWOM+ehKi9LaiISQk6tiVAVFyM4PARFKCg6gyrTehdX5cHi9MM/PAxV6fQN0Xhkc2yFUBUVwR+2ySgVqJK+GPSW5ergNttAAwGoSmKHeuTSKnZz97tgfXl+DWAzgJ8AuFEWRRKTKNVSLHwKHsPwYZ7HHnsMt956K99s/dvf/jb+/Oc/iz5nbW0tHn/8cXziE5+YorWkpAQVFRV49913JdEeDZdpkj9uRn1R6llPnP+4HFQXsBtggcGBtMzZOOTUmghNfT1IKIRijx0NxeLGO9N6y3J1UISCCPT08nFysWRzbIVQVVRAMzKIUpMWes10g8aLQW+pSQtVXzcAQF0Ve7zl0ip2V+82AFsADFNK7wKwDMDFVfUjM2qlAkpCACYAhCf+p59+Oi1b5vr6eixdulSw1uDmm2/G008/nb5wATgzqHKXVZR9QDbg/FWIxQx1eep2zBcD6nI2I6nQ57joirc4ynK1KPJOAEFGki/abKKpqYFuYuyiHWuArd4tdrH1r9p58zL+98XuUHoopSFCCEMIyQUwCuDicGYC8M5z52Dpcwo+R8MdbpKluMaIKz/SNOUxlVIBBROAwmSE3+9HZ2dnWrbM0USasrW0tOD++++X7NyRcC6XBT4HClNoss6xbNkyqSRNo9SkhTrIQOlxQ1WUuP1fIuTUmghlOLRW6HOItsfItN6awhwUe+wAAHWS/jDZHFshlMVF0LsnUGQQnt4uBr1NZSac97D+SKo44y2XVrEr/lZCSD6AP4LN6jkC1pb5ooci/UYsHFoFBaGUdbW0WCS3ZY4MS8llywywG9OMKQ/FHntaFsFy1h0YtCrM9bG3uaqy9O2YM1EjEQvObmJOYDxhr12OTOutLcxBtZONi8ebiITI5tgKoSosgoJSVBK/4PMXg96KPB2qnaNgDEYo4tQEyaVV1IqfUvql8P/+jhDyGoBcSukJWRSlQPTKPBKHw5FU+CUeWu5LRKWCXqkU5cyZDH6/H1otuwKXy5aZw51fjEqXBXNLUs8k6uzsRG1t7IyEdFmmY1NnpfApl1trPJTFxfCrtWgITiQ+OEym9erUStQF2BV/sj782RxbQfILAADzVMIT/8Wgt7ogB+VuG+yl1XGPk0trogKuldE/AAoBqML//38KDQ0XUyhVKCgoQDAYTMuWOR5y2TJzWAvKUO61p9RyMVNUhVj30GSzTC42CCEYy8lHccCV+OAsUhFwwGHIm9E1KgDgzmNDg2UB8V+0mUavUaLcNwGLUVxBn9Qkeod/Huc5CuAqCbXIgkYjXQGHKsSGYkLhHP6rr74a+/bt4905r7zySpw5cwZOpxPV1dV49NFHcc011+DkyZO48cbpSVCHDh3CLbfcgrGxMfz9739HWVkZ2sNt7+SyZeaw6vJQ6Z1IeQ8EgKT7G0KUhCdKEl7BpYPcWhMxpjGiwCN+IsqG3rKQB+Pa5O+Osz220dh1RigA5HuF9/0uBr00FEKR04aTqvh33HJpTWTStlmWv5pBpHS4VAbZFb+XKqAB8OUvfzktW+bVq1ejP1wiD0yN8W/fvh2vvPKKZNqj6SN6tDB+hBwOKFN0ACwsTH/TNR4VTjMcaj3MDEFyCYbTkVtrPHxMEKNqA6pd4lPzsqG3xGHBBbUh6cVANsdWiFGFHuUAjH7hXhwXg15/dzcIKM4QE0IhCkWMvR+5tIrN479D6EcWRRIjRSMWDhUNgSFKvhOX1LbMnFaz2YxvfvObKChIf6UrBKUU5xRsNi7nhZMKR44ckUqSIHmucQwYi2F2CMdqk0FurfHosrhg1echx24F22Y6MdnQm2O3otdQwrcsFEs2x1aIHg9BEAQFAeHP/sWglxll20N264thccUeb7m0is3qWR3xcyWA72GGFHBJCfH7EVQowYQbsgCsLTNXwCUVJSUluPnmmyU9ZyROH4M+bT4AIBCucLwY0dptsGlzMWSXpvo6W4xM+GDT5ULh84JKuBCRkpDXC5XHDZvOhPMjwiGSmYLNw2BCa4TaMpJtKTFhLKyFx5jOhB5r5q8JsVk9X438PZza+YwcgqRGykmZMgEElGr4IyZ+KZH6CyQW7ETExnK5xtSpINcdCYfCaoa9YAF8lvQ3ReXWGg+zw4cJDVuxy4yNQyOiR0Sm9QbDFaLjGiP6x5KbiLI5tkJYXH6YTUWoirGouRj0cvbXdo0R50YcWF0vHNKRS2uq7alcAGZEc5acnBxJzkMpBWUYhJQq+Bl5Jn6ptCai0+yEXWsEVSjSmvjlLIRhxsZAJyZgzy/he9WmQzaLdnqsLtjDE39wTFy30kzr9fexe012nQkdo8mt+C+GgqhIRuxeeI15CI6NCT5/Mej19/ZCYTTCpTNgcDz2HW1WC7gIIX8nhGwP//wDwFkAyeUnZgnJCiCCQYBSKNQqBILSFYVFkqnCklGHDyGigKKoCMxI6qGePXv2SKhqKlwM1FdSgSF7+hO/nFoT0T/m4RuEBAbEFeVlWi/X8IaprMYFc3ITfzbHVoguiwvIy4858V8MehmrBeqKchQZtdh33hLzOLm0ik15+VnE/zMAeiil/bEOno2EuHx9tYZvuj5TMYc37zTl5WDSiPGL3ahMBe5ORF1Wik5L+jFnObUmYtThBarYQh1mZFjUazKtl7Gw410+pwbnxpLbU8nm2AoxMuGFurAQzAmLYIbSxaA3aLVBWViEOSUGjE7E3tyVS6tYW+Y9YFf5eWALuC6eljsZgoY74RCtFiFKwQRDadsy/+IXv8DChQuxdOlSbNmyBb29vQDkt2XuG3OjyKCBuqgIjE1c6EGIdK2S48F1giquKcfAmCftD4CcWhMxMuGDobgAUCrB2IRXodFkWm/QYgXJyUF5eSE6La6kFjfZHNtoXD4GLn+Q7WpFKR9Lj+Ri0MuYzVAVFWJJVR4G7bGvb7m0ig31fBbAQQC3gnXqfJ8QIl2XcRmRyq4B4Ylfo2WLt3xMKG1b5hUrVqC1tRUnTpzAbbfdhu9///sA5Ldl7jS7UFeUA2VRIYKW2LeZidi4caOEqqYSGOgHCEFOfT18TAgTnvTWGnJqjUcwRNFjdaE8PwfKggIERX7RZlqvv68PqqIiNJeZEAxR9NnEb/Bma2yF6A/frWiq2VadjGV67US29VK/H4GBAairqlCep4c3EMJIjFW/XFrFbu5+G8AKSumdlNJPA1gF4B5ZFEmMVHn8lGEAQqBWs9ExJhhK25Z58+bN/Ibu2rVr+RU/IK8ts8XpQ21hDlQlJWDMZoT8qeXJHz9+XGJlkzAWK1RlZWiqZOsNjvSJWynHQk6t8bC5/AgEKeaWGKEqKBAdWsu03sDQEDQN9aguYP2hhifE76tka2yF6LayGWDlVazNR9A+Pu2YbOtlrFaAUqhrajC3hN30bxu0Cx4rl1axMX4rgMidR0f4sYuCXY//AaM9woVIQSYIpSr5NMnSujnYfOfn+N9puAEL14LR6fFJasv86KOP8hXAgHy2zJRSWJw+FBu10NSw5k/M8DA0KRhBjcXYPJMC9la4CMuq2Yn/wqgTm5vFNwCPRk6t8bA42ZVciUkLdWUlAiIdVzOtl7GYoV+8iO98dqhrDJfPLRb12myNrRBc8VlpZQnsAEL26RNqtvVyOfyq4hIsrGSr5ntj3GHJpVXsir8DwAFCyPfC3bjeB3COEPJNQsg3ZVF2kcFN/EoFgVJBMDQ8Kpkt81NPPYXW1lZ8/etf5x+Ty5Z5eMILbyCE8jwd34mLuQg6EkXj6+iAqqIceXo1jFpVzA/Gxc5AOPRQbNRCVVF+UY41DYX4zcb6YgN0agVGHNI6z2YK84QXhACFlewiwXMR3Y1wcIkLqpISlBi10KoU2HU29bTqVBC74r8Q/uHgTGQkCqCnR+TKPJpgMChNYVQgAKLVghACjVIBRquVxJb5rbfewg9/+EPs2bNnSrGGXLbMXeFiqKYyE5R+NsVQbNw5mpUr5TFopcEgmNFRaOfeBEII6otzcGY4vVRXubQmgkuNnFdqRLCwCMGxMdBgECTBNZlJvYGBASAU4l1Q64sMOD8ifryzNbZCXLC4UGzUQldaAoXBgJBn+mc023q5VGVVSTEIIZhfkctn2kUjl1axWT0PUUofAuvW+XPu94jHBSGEbCOEnCWEdBBC7o1z3IcIIZQQ0pL8PyE+DCNNAlLI5+NbLqqVCmiNuWnbMh89ehSf//znsX37dpSWlk7RKpctM3eBVebroCoO55YPiUsxjMaWRkZQPII2GzsRlbGrtsZSE79yThW5tCbC7PBBr1ai0KCBsrAQoBTB8fGEr8uk3sAgm8OvbWBrMqsL9DjULT7EkK2xFWLY7uXj5qrycsGxzrZePtQTru1YVVuA00MTcPmmz1VyaRWb1bOYEHIUQBuANkLIYULIogSvUQL4LYBrASwE8HFCyEKB40wAvg7gQLLixeBPceMyklCAbQhCwr1xczRK+JkQPrB1K/bt28cfd+WVV+LDH/4w3n77bVRXV/PmbCdPnkR5+fQuUt/+9rfhdDrx4Q9/GMuXL8ctt9zCPyeXLTPnC1Kaq4OqrAxErWZXfCnQ3d0tobJJIm+FAbZb0cC4B6FQ6imdcmlNhMXpQ7GJtQbn/j1ixjuTeoO2cKezsL4lVfkAIDgRCZGtsRXC4vSh1MR2tFLm5yMoEOPPtl7GbIayoAAkbO9+WQN7p3+8f3zasXJpFRvq+QOAb1JKdwEAIWQT2DaMl8d5zWUAOiilneHXPAPgJgDtUcf9AMCPwWYOXZyEV+KKcAaONty85LOf/wJ+95tfp2zL/NZbb035PbJyVy5b5nMjDpSYtMjVsRedqrQUjDX1lE45mNz8YvcgqsKZJqcG7VhanZ8tWSnRYXaiLDwRqcMphoGREcjXWy15AsNsrrsyvAJtCK+Y24cmYnrIXIxQSjE07sWW+WwXO2VeHpw7d2ZZ1XS87e38lywAfoxPDdhFb6ini9iJ38BN+gBAKd1NCEnkNFUFoC/i934AayIPCHfxqqGU/oMQEnPiHxoaQnNzMwBAq9XirrvuwqZNm+BwOKBUKqHX6+F0TlZ3mkwmuFwuhEIhhEIhBINBBAIBBMIrd204Vs+FaVQqFXQ6HX8OQgiMRiN/DuLxQAkgEAzB7XDwlg3NC5dg3bp1GB8fh1arhVarhcvlmnIOp9OJF154AQ6HAwaDAT6fjw/p6HQ6UErh87HhF4VCgVAohJ6eHnzxi1/km8g4nU6+wINSivb2doyG0wIXL14Mn8+H8+fPAwBqampQVlaG1tZWAEBubi5WrlyJffv2gWEYtPV4sKC8ECdPnoTVakWBRg0yPIze3l50hi2a6+vrUVhYyFvCFhQUYNmyZdizZw9fCblx40ao1Wrs3r0bABuLtNls/Aplzpw5MJlMfDpaUVERFi1ahL179/Jjvn79ehw5cgQTE2yDkpaWFoyMjMD8zj7kAbAGg3BbLAiNsttL7588j4XlK/i7LK1Wi3Xr1qG1tZV/79asWYP+/n4MhFfVzc3NUCqV8Pv92L17N8rLy9HQ0ID9+9mW0Xq9HmvWrMGBAwfg8bDhpHXr1qGrqwvDw2wIbOHChQgGgzh79iwAoKqqCtXV1ThwgL1JNRqNaGlpwf79+/n3cv369Th37hw6RybQUq6CxWKBJ/zc6QMHUDxnTtz3ye/3IxQKoa2tDdbwhvCyZcvgcDiSfp+OHz/OZ4cIvU+h0+2gGg32HT+OouJiNJWyGV6v7DkMX78+5vvU19fH/12LxYJTp04BYBMTmpqaUnqfuEZEqbxPeZVz4A+G4LUOYPfuUZTrdQAh2L1zJ6BQ8O9TKBTir1vufUr18wQAGzZsSOp9Kh0chK60dMr7VJWvx95TPWgK9U15n7jrVuzn6f7778fzzz+PMLG/RSilCX/A+vI8AKA+/HM/gJcSvOY2AP8b8funAPwm4ncFgN0A6sO/7wbQInSuVatW0Wja29unPSZEIBAQdVzcc4yNUffJkzTo9VJKKQ2GQvR43xgdGvekfe4pf0eEVrH/7lgsf+h1+p0XT/C/937xS7Tjg9eldC6bzZaWlliY/+d3tL15Pg162PEdc/lo3T076AMvn0z5nHJpjYfHz9C6e3bQX799jlJKadDlou3N86n5D39I+NpM6u353Odo560f4n8PhUJ0wQP/pHc+dkDU67MxtkIc7LLSunt20N1nRymllFqf/DNtb55PA1H6sqk3FArR00uW0uEf/2TK459/spVu/MnOacenoxVAK40xP4tN5/wMgBIALwL4W/ibJFHl7gCAmojfq8OPcZgALAawmxDSDWAtgO1Sb/Byq4N0oD52n4CLySkIgVqpkNyzRwqt8ZjwBjDmDqC2cNIFVFNTjcDAQEqWCHIVlzCjo1AYjVDo2BBJnl6N/Bw1rM7U92uyUbTDuS6W5rL/DqLXA0ol3IcOJXxtJvUGzRY+rAawd6uNpUZ0irTDznZBFIclnLhQbGTvlJXhLLlos7Zs6g253KB+P1RFU0NoS6rz0G11Y8IbmPK4XFoTNVvXEUK+ATYO3wZgDaV0FaX0G5TSRNv+hwA0EkIaCCEaAB8DsJ17klJqp5QWU0rrKaX1YGsDbqSUtqbx75EFygRAVCp+cxdgM3smPIE4r7r44MrwIyd+VUkJqNcLKvOXTjK4Dx+GMuKDQQjB0ur8GZfL3z7EhkbmlrB9VQkh0M5pAC4ykz/GYoGyeGrT7y0LytBjdcPhnTnXOFdtXBb+olUW5AOYPvFnE86kj9tP4WgsZa+Rg52ZyThKtOJ/AkALgJNgs3N+KvbElFIGwFcAvA7gNIDnKKVthJDvE0Iy1r1Lkhz+cPFWJHq1AiFI654ndyOWY33jAICaiImfWxWJNQ+LpCjq4pWKkNcDVcHUFVFNgR4nB+zwBuK3uYyFXFrjwX1RzS+fLHdRV1aBEeHJnym9NBQCY7VCVVwy5fGl4YrpUwOJG8RnY2yF6LW5kaNRosgQzqIKX9uB4anpytnU67vA7ldp6uqmPL6qjtV6IiqzRy6tiTZ3F1JKlwAAIeRRsEZtoqGUvgrg1ajHHoxx7KZkzi0WKYqgaCDA5/BzaNVKUOpHMEShUkrjoCdHwVYk3eFb98iJSBmeYP1dnbyxlVgWLYqb0ZsywbFxGNdfOeWxxVXsRHRuxJFSZo9cWuPRZ3Oj2KiBQTt57SgLC+ENbxLHI1N6g+PjQDA4JdQDAEvC431yYBzr5saffLIxtkL02dyoLczhHS3VtZOWJJFkU28wvMBSV079rBUZtVhUmTutfkIurYlW/Px9XngFP+OIzPZJFer3g4QzbDjUSgW8Hg82bdqEYDCIY8eOYd26dVi0aBGWLl2KZ599NuF5fT4fPvrRj2LevHlYs2YN2traALB5/3feeWfauqMZtHvRUGzg/YYAQNNQDwAp+fJzGQVSQv1+hCYmoCyc2nJuTQP7BXW8X9jMKhFyaE1Er8095e4KAJSFBQhaEzddz5RePnW2ZOrEX2TUorpAj+N9icc7G2MrRI/VPSWMqTAYQNTqaUVc2dQbHGcndi4MFcnaOUXY32mFxz95VyuX1kQT/zJCyET4xwFgKff/hJDE94CzABoMgoZC/MYuR45GiZeffQrXXn8TlEolcnJy8OSTT6KtrQ2vvfYavvGNb2A8QYXmo48+ioKCAnR0dOBf//Vf8d3vfhcAsGTJEvT3909x65SC433jqMqfelehrqwEADDmiyOX39fVDQBQ5uZNebyh2IASkxaHuy+eKtFE9NqmTkQAoC4tBQ0E+B632SYYVUUaycKKXOw9n1kPmVQJhei08SaEQJGXh+B4aosFOWDMFigMBiiiFpIAcMU89j14oz21SvpkiDvxU0qVlNLc8I+JUqqK+P9c2dVdBNBwk5XoGL9KQfDqyy9g49ZrAQBNTU1obGwEAFRWVqK0tBTmBP1sX3nlFXz6058GANx2223YvXs3vxK84YYb8Mwz0vWzn/AG0D/mmbYCVWi1UBgMYGzJT0QqldgyEPEEhlhjOt385imPE0KwvCYfJ1Jc8cuhNR4efxB9Ns+0iV9VUQEgcZP7TOn1nDjB/r2wrkjml5vg8DIYTWDRnOmxFcLs9MHHhFBXFHWHlZsL37lzUx7Lpl5/VyfUldPHGgA2NJbAoFHi3Y7JRZhcWrP/jknA+N8vwD8YO/UslXwVTaUB+TfMZeP7AIhq6oo/EAhgoLcbpVU101578OBB+P1+zJ07N+7fGBgYQE0N+3qVSoX8/HxYrVYUFxejpaUFjzzyCP793/89BfXTuRBuoH3V/OnWxsqiIgQFGlYkYv369WnrioaLgaoELC6WVefhzfYR2D0B5OnV056Phxxa49E+xH5Bcf72HMqwo6uQlUAkmdIbnGCrxdVV0/d3Lp9XjP/a2YGD3TZcv7Qy5jkyPbZCcPtX0QsbVVHRNCvsbOplrDaoa4Qt0FVKBTY0leC51n786JYlUCkVsmkVm8c/YwmFUssC4aDhakuimTrRWCwW5OXnwxcITfGQGRoawqc+9Sn86U9/gkKR3PBGxn2ltmXuGJ10iYxGXVqakl8PV4koJZxvjDIqqwcAv6l7aiD5Vb8cWuMxMM6uklfUTt2rUOblA0DC8EOm9AZtNqgqKgRb/K2qK4BBo8T+C/EXBZkeWyG41NkFFVMDEZq5cxCMsEIBsqs3OD4uGN/nuHpRGQDg3fCYy6V1Vqz482+IvbJ2OBxptV/ke+1Gxfj1ej38Ph8oKNx+BkadGhMTE7juuuvwwx/+EGvXrk147qqqKvT19aG6uhoMw8But/PpW1LbMneYndAoFagpmH5OdVUVXIeSStgCAL6EX0r8PT1QmExQGqc7giwLT/wn+u24Yl5yniZyaI0H11GpMl94xe89dRK5266J+fpM6WWsVj7tMRq1UoFV9YV4+kAvvn/TYigVwtlrmR5bIbotLpi0KpSatFMeVxUWIuRwTLHCzpZeSimCY2P8NSDEtkUVuFd1ErvPjmJjU4lsWmf9ij9tGAZEqZxSvAWw/iQ0FITP64U7EITf78ctt9yCO+64A7fddtuUY2PZMt9444144oknAAAvvPACNm7cyK+8pLZlvjDqQn1xzpSMHg5lMRvqkbImIVUCwyPQ1EwPnwFAXo4auToVnj/cJ/j8xUSnmQ09GLVRe0OlJSBqNUIStQRNF19HB5T5eTGf/+BiNuSWyl1WJumyulFXnDPtzkWZn89aYV8EX05BqxXU74e6NHYnOb1GiXVzi/DikQHYZSwQnfUTP9fTNlUow0zL4ee4+uqrcerIAXj8QTz33HPYu3cvHn/8cSxfvhzLly/HsWPHAMS2Zb777rthtVoxb948/OIXv8CPf/xj/jmpbZkvmJ2CYR4AUBUVs2mULnEl+hwtLZK3T2BbLsb5YFzWUAjzhC9pi2Y5tMajz+bGpuaSaY8TQqCuqgKToJo0E3oppWCGh6EqF95sBICtC9nQQ7wv20yPrRDdFhfqi6bfJXIFiv4Ie+Ns6eVcUIX2UyL52pZG2D0BPPpOp2xaZ/3Ezzlypgr1+6eFeTi+/OUv4+8vPAO3P4jbb78dgUAAx44d43+WL1/OaxCyZdbpdHj++efR0dGBgwcP8hu9Pp8Pra2tuPbaa9PSzuENBNFjdfHWAdHwLRiHhpI678jISNraomGGhuJO/NcuroDDx+D0cHIrODm0xsIbCOLMsAMVeTrB55X5+QmbsWRCb8jhACiFNpyNJkSRUYsVtfn458nhmHeEmRxbIfxMCP1jbjQUT5/4NXPmAACYkck6lWzpZSxT+0zEYmVtAT6woAx/ercbHb3St18FLk38CaEME3PiX7lyJTZu2gSvPxDXsI1ryJIITmtvby8eeeQRyVK5jvSMIUQnY+TRcCuQ6NL2RHC2vFLBjI0haLdDXVMd85grm9gvqZ2nkys4k1prPLhmN1y1cTTK/Hy4D8Y3asuEXq7/r6pQOMbPcf3SSlhdfpwfFS6GzOTYCnF6aAIhCtQJrPi5SZYrnAKyp5er3Yiukhbia1vmweFj8L/7umXRMusn/nSglPJN1mNx92c+A6VSCadXusLmxsZGbNq0SbLzcdWunB9INKpCNoMm22ZWXDGRpjr2xF9q0mFZTT7+eUr+IpdUORfuVxudYcLB3WFle08lEC4QjBfqAYAPLmHDlH873C+7plTgxntR5fTxVnHpsxeBUVtgYAAgBMoEK36AzWC7dnE5dvUFUvanisesn/i1Wm3ig2LAZ/TEmfj1GjZTwCPBm5OO1nic6B9HbWEOCgzTqwUB1j8GSP7D0RgnRJAKfMvFBCuiqxeWoX1oImFhUSRSa40HtxHaVCacTaaZOxcIBhGKs+GYCb1czFlTK7yZzlGRp8fWhWV4/L1ujAiMeSbHVoiucA7/nJLpK36i0QAKBVzvvsc/li29gcEhqMrKBKt2hfjW1c34n9uaoVNLb9446yd+ofxksfA+/HHeKKVCAaNWBafI/qTxSEdrPI73jWNZTX7M5xUmE6BSTSt0SYTUX1Rc0/dEMdDNzewewJP7e0SfW64vVSHOjzrRXGaaltHDwaVPxovzZ0Kv2C9aALjv2vlgQhS/23Nh2nOZHFshDnbZUGzUQKsSniA1tbVTEjSypTdR4kI080qNWBjufyw1s37i59orpgJlwlW7MWL8HEadCt5AEH4mPZ/1dLTGwuzwYdDuxbLq2Cl7hBBoqqvhT7KIi2u1JxX+cOhBHSfUAwALKkyYU2zAvg7x/kJSa40FpRTH+8axqCq2owlvhW2N7TuUCb2BoUEoi4oSXt8AMKfEiBuWVuDP+3v4vg4cmRrbWAxPeHk3USE08+ZO8UbKll7GYhH1JRuJXFpn/cSfFiJCPQD4xuVy5t2myqGwqVkiK2NVaSlvl5AtuBVRovEmhODmFVU41jc+bRLKNn02D6wuP1bWxt4w5VZ9/h7xdyxy4O/p4RvAi+Hb2+aDEOD3e6ev+rOFjwliyO7FQoH4PoeqoBDMeHavbUopAn19UJWJX/HLyayf+NPJjKEMAxACxGiQ4vF42KbjCqDrbBuu3nxlUrbMe/fuxcqVK6FSqfDCCy/wWs1mM7Zt25ay7kheOjqAYqOWb6wRC1VxERhrcg6dpUnctoqBsZgThnk4blhWCbWS4OdvJPa2B6TXGoujfewEs6I2P+YxXIFaMI4xXib0MqNmaKrjx/cjqcrX44NLKvDMwT4M2ScdsDI1tkK0D04gGKJYWBH7+lYWFiJotoCG2DvybOgNTUwg5HZDE8OnJxZyaZ31E79OJ5xLLQYaCICo1TFj74899hhuvfVWKJVKFOfn4ge//B8cO35StC1zbW0tHn/8cXziE5+YorWkpAQVFRV49913U9YOsPnN73VYcPWisoQbRMqiYjDDI/yHQwxNTU1p6Ysm0D8gOgbaUGzAp9fV45Xjg7wPUTyk1hqLo73j0KuVaI6xsQsAJCcHRKeLG+rJhN5UQg/f+EATmBDFL9+cdLzM1NgK0TbIbpDHW9ioq1iDOX9XF4Ds6OX3U5Jc8culddZP/Ok0YqGBwDRXzkiefvpp3HTTTQCAVUsXorZhLuzegGhb5vr6eixdupQ3c4vUevPNN+Ppp59OWTsAHO4Zg8sfxKamxKtoTU0NqM+X0C44kn379qUjbwrcrbCmVvyK6Aub5kKjVOA//tGe8FgptcbjaO8YllbnCVpjcBBCoCosRDDOHZbceoN2O6jbndRmI8B+4X5oZTX+dmQAZ4fZNMpMja0QR3rHUGzUTHNBjYS7prieE9nQyzU6im5xmQi5tM4Kk7Z//vOfGI5RfBQMBlPqZVteXo7Nc+dCEcMoze/3o7OzE/X19QAAnVoJrUoJuzuAzvbjomyZ49HS0oL7778/5dcDwJ5zZqiVBJeLMDRTlbOl+UGbDeqysrT+biqE7HbQQACqiunWFrEoNmrxhY1z8Z9vn8eJ/vGUWjJKid0dwPF+O76wMfH7riothS/CRiDTcPsL6gSpnELcc20zdpwYxP++04mffniZ1NKS4mjvOFbUFsTNiOOcXoMieh3LBfdeJ9veVC5m/Yo/HbhQjxAWiwX5US57+TlqdPf145O3356SLXPkxSuFLfPus6NoqSuMmVYYCbcS4VrxiUHKtDj+VlhkjJ/j7isboFcr8Z9vnY9bEJWJFL43T7N58Yl61AJss21mNPbdldx6ufFWV8T22Y9FqUmHG5ZV4uVjA5jwBrKWHmlz+dFlccXdSAcmK5O5VXc29DLDI4BSKdjwJh5yaZ0VK36pPG0iCQUC8J09GzOHX6/XT0u/1IZ8+OqdH8XX/v0BrFmzJum/aTROeumka8t8ZngCZ4YduPfa+aKO56pJA4Pi/XqE/IdShUslTXYiytWpcce6Ovx+byfe77TFnHSl1BqLXWdGUWrSYkNj4jssZXER33tXaLUqt95Uv2g5rl1cjhcO92PPWTNuyMDYCnG0l91IXxlnIx1gN3eJTsevujNxLUTD7adEu/wmQi6ts37F70rScZKH77wl/N1YUFCAYDDIT/5+vx8f+tCtuP1Tn8LGbTdgzD2Z2hnLljme1nRtmf96gM2J//Cq+DnxHOrKSkClgr9XfIpha2trStqE4AziuI24ZPjqlkaYdCo8/M/TMV07pdQqhJ8JYe85M66aXyqqEI93RI2xByW73t4+QKWCqmh6wxsxbGgqQXmuDi8c7pddayyO9I5BpSAJQ3xEqYSmtpa/w8qGXmZ0NOmNdEA+rbN+4g8lkaUSSawGLJFcffXV/OYLZ8v83F+ewke3bcAVl7Xg6NGjAGLbMh86dAjV1dV4/vnn8fnPf36KBWs6tsw+JojX2oaxpqEQRUZxt4pEqYSquBjBOJkm0aSzcR5NYHiEnYhS+HAYtSr8+7b5ONFvj9kcXEqtQrR22+DwMYKtLYXgVtr+nl7B5+XWG+jvh6aqKmHNRCzUSgWuW1qB/RessIw7Er9ABv55chgLKnJ525R4KIsK+SIuucdWCH9PT0I7ZiHk0jrrJ/5Uof6wXUOcif/LX/4y30gl0pb5/UOH8ezre1HbuBBAbFvm1atXo7+/Hy6XC1arFQcPTnbB2r59O26//faUtD93qA8jEz589arkPElURUW8Y2Om8Z09yzYpSWEjHgA+2lKD/Bw1nnivW1phInnr9Cg0KoXozmCa+joAADOcnBW2VDCjo1DFaPotli0LSuEPhtBmld5ELBF9Njc6LS5c1iDujkVVWJS0+6xUUErBjIzEdZ3NNLN+4jcYphs3iYEGAiAKRdwV0cqVK7F582YEg1Mv/FydClqVEiMTPgRDIdG2zJxWs9mMb37zmyiI0RIvHm4/g1+9dR6X1RfiinmJNxkjUZWUJOXXk8o+RiwCQ0NQFSanNxKNSoGr5pdif6cVdvf0CmoptUbjDQTxtyP9WD+vGAYRG+nAZPUuE6PJvZx6ASAwOpJyfJ9jdX0hTDoVBmhq4aJ0eCu8kX772jpRx6trqsEMDyPk88k+ttGEJiZA/f6kUzkB+a6DWT/x+8Mr92ShgQAQJ4ef4zNhW+ZICCGozNeBCYVgdvhE/01Oa0lJCW6++eak9HL819sdsLr8+ObVTUmbvmnqauHv7RVtF9zfL51Nb2BoCPpl6aUG3r62Dt5ACDtOTv/yklJrNLvPjsLuCeAjLeJTI1WFhQAhMesm5NRL/X4wQ8Nx7a/FoFYqsKm5FDvPjCbdES1d3jo9gnmlRsHmK0JwYZagxSLr2ArBuaCqSpOf+OXSOusn/lQbsbCpnKknPZl0auTp1bA4/QiK3GdIt2nMkN2DP73bhWsXl2PtnORXz6qyciAQiGsXHMlAkqZusQh5vQhNTCRdTBTNipp81BTqBZu0SKVViD+/34NcnQpbFojXT9RqKIuK+GrSaOTUGxgdBShNKeYczZb5pRj3BnG8fzx9YSKZ8AZwoNOGDywQX2/C9bllzGZZx1YI7j1OpjiRQy6ts37iTwVKKUIeb8obXxwlRi1ClGLMlRnztp++dhaBYAjfujq1Mm/u1j+ZXH4p4Fw50w09EEKwZX4Z9nVY4PFnJu783gUL3u2w4usfaII6TrWuEJr6OgRGM98GkM+gSjKnXIgrw6mrO05kbq/izbYRMCGKDyTxRasKFyX6urplUhUbrn4gketsJpn1E39KBRDBIAAKkmbxRI5WBbVSgXFPQFT4JJ1ijRP943jx6AA+fXk95pXG9omJB+cjwk3EiWhubk7p70QTCLfC0zbOS/tcWxaUwseE8N6FqV9eUmmNxM+E8P2/t6MiT4dPrkl+NacqKUHQLPwlK4deDs9J1upXXZl86mw0RUYtTFolTmRwxf/E/m7UFOqxIkHhViTacO/dwOCArGMrBGM2A2o1lFEFn2KQS+usn/hTaW7CpXIqJKiaKzZq4fYz8AYSh3tSbcRCKcVPXz+LPL0a39iSuqmTtqEBAGuWJoZUrDCE4BqwSLECvayhEAaNEm+fmRrukUprJL/d1cEXyaXSJUldWobAyIjgokAOvRxMuNm4uk7cxmgiNjcW4FD3GJg4faelotPsxIl+O25aVgWlQvznhWg0UObngxk1yzq2QgQGBqAuL0/p8y2XVlknfkLINkLIWUJIByHkXoHnv0kIaSeEnCCEvE0IkeZKjCCV5iaUi7UnCPVwtszBYBDHjh3DunXrptkyF+SoQUAw7pm+yfyLX/wCCxcuxNKlS7FlyxacO8c6HiZry3ykdxzvnLfgcxvmIC8n8YZ0LJSFhYBSKdqeub09sTmaGJjRUUCh4BuUpINWpcSVjSXYeXp0yoQqlVYOjz+I51r7MKfEgBuXpbZyVldVgXq9fOglEqn1RhIYHIRm7lzJOr6VEXZP6HCP/J73v9nZAY1KgU+uTeEOq7wcgaFBWcdWiMDAADQppnLKpVW2iZ8QogTwWwDXAlgI4OOEkIVRhx0F0EIpXQrgBQA/kUtPMlAfm4kTr+UiMNWWOScnB08++STa2tqm2DKrlAqYdCqMu6eHe1asWIHW1lacOHECt912Gx588EEAydsy/3l/N3I0Sty+Jr3vTaJUQlVSAmZk+uaonPg6L0BdXZ1yDn80m+eXYHjCi0Pd8k1Ev3zrHIbsXvzgpsUpT6CcQRoXA84UgeHhlDJMYrGshF0gHe6Vd+JvH5zAS8cGcNcV9ajIS97ORFNTA39H5pvIBIaGEja0zzRyrvgvA9BBKe2klPoBPAPgpsgDKKW7KKVcC6X3AUi++5FKIxYaYBuwJNrcjbRlbmpq4ps4R9sy5+eoEQiG4I7acNy8eTNycnIAAGvXrp1iyibWltnHBPHW6VHcsLQyrdU+h7qyEr5OcR8OoWrkVGAGh6BpqJfkXACwvpGd1A52TebIS6UVAHqtbjz+XjduWVElumBLCG4zOyCQ0iml3kgopfBfuABNrXQ31/NqKzC3xIDDMn7RMsEQPvP4IZi0KnxpY2p7QeraGjBmM8oy6D4b8njAjI6mHMaU6zqQ06StCkBfxO/9AOJVI9wN4J+p/KFz534Ah/O08JOUsl20koD6vMhR1mMh+UXMY6JtmSM5ePDgFFtmzh3T5WNiFvg8+uij+OAHP8j/LtaW+bVTw3D6GFy7RJoLRFNXB9f+/aKObQjvCaRLYGQEukWLJDkXwHaKqi7Q45lDffhKuHpZKq0A8P9ePgkFAf7tmvQ23rjJICCwmS6l3kiC4+NsJygJv2gbGhrQUufHqyeHwARDcXsRpMrLxwYxPOHFf9y8OOUFjrqsHDQQQF1evrTi4uDr6GD/doob6XJdBxeFOych5HYALQA2Cj0/NDTE725rtVrcdddd2LRpExwOB5RKJSiAYJDhj1cqVeFqWgpK2Q0SSikoZTefFEQBkEkfH0IIFAoFX4FLgiEQlQIul4s/xmAwwO/387n2VqsVeXl5cDhYnxKVSgWtVosLFy7gk5/8JH7/+99DoVDA6XSCUgq1gsDlY+DxeMCEN491Oh0opXjiiSdw4MAB/OMf/0AoFILL5YJer+fvALhzAOyKrb29HaPh8MDz59QoNaoRGmzD7qF21NTUoKysjDd3ys3NxcqVK7Fv3z7+727YsAFtbW2whu0Zli1bBofDgc7OThjdbhjMZtjHxnD0+HEArCHdsmXLsGfPHt5NcuPGjdi5cyfvILpy5UrYbDZ0hx0Q58yZA5PJhOPhcxQVFWHRokXYu3cvP17r16/Hkb3vQG+1ot/rgcnpxMjICPrCWT6NjY3QarV8w+nS0lI0NTXx/kharRbr1q1Da2sr72myZs0a9Pf3Y44hgPcGGPT0DUCvVePgwYMwGo0oLy9HQ0MD9oe/3PR6PdasWYMDBw7A42HbCa5btw5dXV18j4eFCxciGAzi7NmzsHpCeOe8B1/aUI/zxw7gPFhX1ZaWFuzfvx++cJhw/fr1OHfuHP8+LV68GD6fD+fPnwcA1NTUoLS0FCGDAd3730fPihVT3ien04kPfvCDMd8ngG3kU1hYiCNHjsR9n44fP46xMXY1vsTEZnyds1jh271b/Pt05AgmwvUdLS0tU94nv9+PuQXVcPgYvPzGbiysKxf9PnF56s3NzVAqlXxMO/J9cgUoHn7PizklBszDEHbv7kr4PgFAVVUVqqurceDAAQBAntcDHYD9zz8HZbhYUMz7lM7nSXv4MPIBBOvrsHv3btHvE/d5OnXqFIxGo+j36f7778fzzz+PMLFvR9kJUfofAOsAvB7x+30A7hM47gMATgMojXWuVatW0Wja29unPSbExMSEqOMi8bS3U9/AQNxjbDYbraurm/KY3W6nK1asoM8///y04/tsLnq8b4wywdCUx9988006f/58OjIyMkXrxMQEraqqmnaeyH/30LiH1t2zg/7wH+LGQgy2v/yFtjfPp76enoTH7tq1K+2/5z55irY3z6f2N95I+1yRvH5qiNbds4Me7LJSSqXRSimlP33tDK27ZwftsbgkOd+FG2+ivV/44rTHpdIbzfiOHbS9eT51Hzsm2Tl37dpF3+uw0Lp7dtCn30983STLj/7RTuvu2UH3X7CkdR5fdzdtb55P9//oRxIpS4zlsT/R9ub5lBkbS+n16VwHAFppjDlVzhj/IQCNhJAGQogGwMcAbI88gBCyAsDvAdxIKZVlhyvZjTcaDIIGg3HN2QBhW+ZbbrkFd9xxB2677bYpx953333Y9fo/ALDhHo6jR4/i85//PLZv347S0ql2vmJsmTm/kltWSNfVhysy8YVXlfFIp18ABzPCpXKmn1MeSUs96x9zsIt1G5VCK6UU248P4rKGQtQW5aR9PgBQl5fDe+bMtMel0CtEoI+1ANBK2MtVr9djdT2bkXV2WFzVt1hODdjx6L4u3LKiKqVq9Ei4ynCtI3PunL4LHVAYDFDkxe4JHA+5rgPZJn5KKQPgKwBeB7uif45S2kYI+T4h5MbwYT8FYATwPCHkGCFke4zTpUxkcxMxcKmciSZ+QNiW+fHHH8fy5cuxfPlyHDt2DABry1xfzU5sE97JKt5vf/vbcDqd+PCHP4zly5fzTdcBcbbM73daUZarxfzy1Aq2hNA2sSE1oRTDaKQwkOLK2dXl0m64FRo0aCw1Yv8F9vZbCq2He8bQa3PjNpE9DsSgLC4CMzIymUIcRi5zrsDQEJQFBTFbiqbCmjVroFIqsKI2H2dHpLVo/s3ODujVSnzngwvSPpdCr4eypBilPvH+WekS6B+AtrEx5cyvGWnSRil9lVLaRCmdSyn9YfixByml28P//wFKaRmldHn458b4Z0yeZP2sk5n4Y9kycz/Lly8HwHrwXLn+CuRoVFOsBN566y2MjIzwx//lL3/hn0tkyxwKUbx3wYor5hZLlo8NhDtxqdWiOnFxsdN08Pf0QJmfn5IPfyLmV+RiXwdbkyCF1r8c6EWORonrlkiXmqdftgwIhaaZtUmhVwhfR4ckhXKRcFqby0w4O+wQbfKXCKvTh7dOj+BDq6pRYpKmBaGusQljbW2SnEsMzNBQUn2ko5HrOpj1lbvJXoTJTPyxbJmj4WyZTToVvIFgTNM2TqsYW+Yzww7YXH5RjdSTgSgUUFdUwN/fl/BYbjM0HQJDw7J5mCyoYO+EOkYdaWt1+xlsPz6IbYvLRVsvi0EdTtfjHBw5pBhbIQK9vdDOF9eOUyyc1qYyE8bcAfSPSaP9hcP9YEI0KdfTRKirq0Ey5EUV8vng7++HOo0cfrmug1k/8SdLMhM/IGzLHAuDhs1Acvrif1GIsWX++wk24ydZz30xaGprRds2pIu/qwsqicM8HFw3rLbB9OPOh7rHwIRoylW6seDS/PwiayfSIeT3gzGbU2pvKYYFFbkApKngpZTipaMDWFqdh4WVuWmfj0NTVweF08k6lMpMYGAACAahm59ZbyAxzPqJP9lGLCGvF0SrlTR8wpGjYVeKsZwjk9HKxfdTqWBMhKq8DIyIbkXpNoIOeTwIDAxAJ+FGYyRzS4xQKwlODznS1rr3nBkalQJrGqT9otU0NACE8M3mOeRosu3nc8qlSwYAJrWuqiuAUkFwWoIN3iO9Yzgz7MBHV0u32gcAbRNb18EZA8pJIPyepnNHe6nZugBiwji+JDdyqMcj6cZXJAoFgUalwJhbuDlMIq3cv3fY7sXR3nF8/LLk/UrEoC6vAGM2I+iM36i+K4aXvFg4F1BNuNBNatRKBeaWGNE+NJG21r3nzFjTUCiqv2syEKUSqopyfpLgSFevEH4+oye5lpyJ4LRqVArUF+XgeN942ud8/L0eaFUKye+wOHtmzhhQTnxh7y11depfXnJcB8AMnvh1Oh2sVmvCyZ8rshADDQZBGSZtO+Z4GDQqMEGKkIDueFoppbBardDpdDgW/mBtbJLObyUS7ZywS+dA/O4/w2n2MOUyerQyVScCbNx57zkzBkVkKcVicNyD86NObGiUabwb5sB3empKZ7pjKwS/ApXAjjmSSK2r6gpwJs0N3mCI4t0OC7YtLodJl74NSSTa+npQlQqecMadnPi7u6EsKIC6LPUGQ3JcB8BFUrmbCtXV1ejv7+f9cGLh9Xqh0+lEnZMGAmDMZij9fihk2gBy+xnYXAHQce20xh2JtOp0OlRXV+Ovb3ZArSR8TFVq+H6wo6OAjN7lfGciAdsLqVhanYftxwdhdqc+EXEWzxtk+qLVzJ2TkYnIe+oUFHl5KfnCi2VBRS6ea+1Hl8WFOSXJpVJzHO8fh83l5/dopIRoNGDKyqbdYcmBv7cPGomsr6Vmxk78arValI/F6OgoSkW29Jt49VUMfPNbaHjlFeia5Yk7nxtx4EO/3ItffXQ5bl48NdYqVuvrbcNoLjel5AEvBi704m1rg/HKK2Met3BhtNlqcvi6uqAqL4ciR5piKCFWhwu5rOrUJ5EdxwdRla9HU1lqE1ki1GVlCLlcCI6P85NyumMrhK+rC/olSyTfv4rUuqqOK+RypDzx7z4zCgWR7442J9xbWm78vb0wXLY6rXPIcR0AMzjUI5ZEqZaR+Ht6AACaWmk3lCKZU2yARqXAm6ent9wTo9XlY9BjdWNJVb4M6lhUBQVQlZbC3xP/w5HM2Arh7+qW1CxMiCVVeVApCLpt7sQHC+BnQjjWN45ti1NrpCEGzqDOHbHqT3dso6GhEPxdXdDKsJ8SqZWb7N/vtMY6PCG7zpqxsrYA+TnxbdFTRbloEfwXLoCx2WQ5P8CmcjLDw1Cn0Gc3EqmvA45ZP/Fzhk1i8Hd3Q1VRIdvmLgColAo0lhrRbZm+cSpGKxff39AofcFTJKrSUgSG48fFkxnbaCil7EQkY3wfYDfUl1Tn8RW8yXKsbxw+JsRbEsgBF+piInL50xlbIQKDg6BeLzRz50h6XmCqVqNWhWKjBgPjyTdAAoCBcQ9ODtixWYYwD8eQjv18c86ZcuDv6QEoTanBeiRSXwccs37iTwZfdzc09fLH5NbPK0bb4MQU+waxHAnnSF8p020wh27RIniOnwCVacURtFgQcjqhqZd34geAVbUFGHSGEEihNeAbbezm2qq6Qqll8aiKi0F0OlknIu7c2nnp9zVOxKq6ApwdSS2l85VjbOz92sXy+NADABOupPVfkK92wn3wEABAH67ev9iY9RN/VZX4nGV/d09GNmO4uPOpAfuUx8VoPdo3jqp8Pe/xLxf6pUtB3W4E+mNn9iQzttH4uI1dmVf8ANBcbkKQplbIdbx/HHOKDZJZBghBVCroVyyH+8hh/rF0xlYI/wXWdI9rOi4l0VobS03os3kwHiNtOR4HOm1oLDWmvD8ghvLFi6HIyYFPxm5cvrNnoczPh6YmvbCx1NcBx6yf+KtFFk8wY2MI2e2yZphwLK/NBwC8HxV+EKP1cM8YLp8rfbVuNJpwSqfvQmyXTrFjK4S/q5v9OxmY+Lnsp/NJGoi5/QyO99txuQzV0dHomprhv9DJ32GlM7ZC+DovQFlUJEtGT7TWZTXs37hgTs4ny8+E8M55M9bMke/uCmA99jXz5vF59nLg6+yEZl76+ylSXwccs37iF2ty5A83EMnExF9s1KKh2ID2oakr0ERaO0YdsHsCWFKdmsVrMnCbgPGsBNIxkPJ3dYFotVBXyt+LdH65CSqCaeOdiPbBCfiZkGz5+5FoG+eB+nx8mqHU5lz+C52ybOwC07VyHklHesaTOs+us6MIUUheHR3NgQMHoF+yBJ7jx6e5okqF/8IFaOekP96XTNpkxt8dzujJUN7tggoT9p63TCl0UbuA/nvfQf+978B5YPrG6v5ONgthvcTGbEIoc3OhLCmGr1OeykF/Vxc0dXUgCvkvQZVSgUqjAif67YkPjuBgNzvemfii5VJo5Qg/UErhu3BBlo1dIaoLcpCfo0bHaHIrfq7id+tC+Xvi6lesAPX74ZMhzs/YbAiOj0ObofFOhVk/8Yv14/d3dwNKJTQy3VpFM6/UBD8TgtkxadNQ985kXv74Sx3wD0794LzXYUGxUYu6ouT8h1JF2zAn7gZYsr0OIvF1d2UkzMPRXKLFmaGJyRaWIYqJnb1wH4tt1nWwy4b6ohxZ/JCi4TZdveHWg+mMbTSM2YyQwyHJClQIIa0LK3JxuDc5s7Z9HRYsq8mXrT6Fw2g0Qr+YTaH1htt6Sgm3ka6RYLylvA4imfUTf0tLi6jj/F1d0FRXi3blTJe1DWwck0vPdB6cvsIf/a+jU35vG5xAS9gIKxNo5s6Br7MzZvm92LGNhhkbQ6C3T7bQgxAbls6Fyx/EuRH2y3TgO/sw8UYPbM+cRf+970z7NwZDFIe6bLisQd54M4fSZIK2uRmecP/cVMdWCK4qWNsorUcPh5DWZTX56DQ74Q2Iywpz+xn++pablpYWqGtroTAa4Tkp38QvxYpfyusgklk/8XNNteNBKYX74EHolizJgCKWFbXsBX5ywA5KKcZfDK8S6nNR+tUV/HGMlfXjtjp96LW5ZbNpEELbMAchhyOmk6GYsRXCe6oNoBQ5a+XpLiSEepwtRmsfssP5/uC05+07pm5iH+0dg8sfTLvdXzLoly2D59QpUEpTHlshPMePg2g0yFm1UrJzRiKkdUlVHkKUvb7FcKDLhmCIYr3M9SkAq5coFNCvXAH3wYOSn9+9/30oS4qhKk8/JVXK6yCSWT/xi3HnDAwMIjg+jpyWVRlQxKLXKDGv1IgjvWPwXRjnHy/5l6XQVBmhMLDpmmMvsV8IXHy6RcZComkaly8DALgPtQo+n6zzKQdfIS1TqpoQxRoGGpUCrRdsGH95evjK+e4gaESe/4Fwr145/GJioVuyGKGJCQR6elIeWyH8FzqhrqiQ7W5WSCtn3XCy3w5f7wS/dzW+XTh0uO+8BUoFwcpa+a9vTq9+2TL4u7sTutAmi/fcWeSsapFk/0rK6yCSWT/xi4FL6+L6zWaKFTX5ONFnh+V/2dtNS3MIRMmGccq+zn4J+TrGQYMhHAnHSxdXyr/RyKFbvBgkJweekyckPa/35EkoCwuhktglMh4qBcHymnw0nZlcgVb94ApU/XA9/7urdbJy9kjPGCrydLLZBgihX7oUAOA+fETS83pOnuS/xDNFqUmLghw1LOdsMP/3cf5x53uDMP9h+vW055wZq+oKkKfPTKgVAHQLFwKUwnd2erP7VGHGxhDo6c1oGDMVZv3Ev379+oTH+M6xZdFS+5QnYlVdARy+SSvmRZ+4nP9/Ze7khOM9bUNr9xiay0zIy8ncB4MoFMhZtQruVuEVv5ixFcJ79ix08+fL5n0jxPr167GiJh9bwvvlJV9cBqJWgCgJCj7Evu/jL01Wzh7pHcO6DIZ5AEDb1ARlfj7cRw6nPLbRMGYzglYrtM3StluMREgrIQRLKnPxiXPTPZJ8nXYERicfH7J70DHqxKZm+dNmgUm9uoXsBq9r//uSndt7iu3nm7Namti8VNdBNLN+4j8nokjD9e570DQ0QCnTDnosVjcUogVsBoOqRI/zF85Peb747sUAAOtTp3G0bwwrwoVfmUS/Yjn8FzoRFGhaL2Zso2FsNvjOns34CvTcuXNYUzz5/mrrJvdKclom0wcDZjcumJ0Yc2emXiISQgh0S5fAe+JkSmMrBGf8pl8q3/5VLK13eiary0u/ugKV353sJjXyi8kq5YPhsFqLjLYYkXB61WWl0C1dCufevZKd23OUTcjQSmRnLtV1EM2sn/hHE/TWpKEQPCdOwCDTN2s85hQb8HkFmyqYf/O8aVq18/L5//cGQrJXNAqhX7IUoBSe48enPZdobIXwtrEbu/pVmdtPAVitzUfZCeZUs2nKc4QQ6Jezq82R/zyKdzvYXgyZqJeIRr94CXwXLsAc3gdJF++JEwAh0C1eLMn5hIh1HTQNsIkJwx+sZfet9CpUPjR5V+s9z4YvD3bZoFUpsDJDC5tIvYYrLof31CkwCfp6iMVz7Bi0jY1QFUizV5HKZ0wMs37iT4TnyBFQn4+Pr2YSQggWhNi3QDc3X/B5dRW7Sl0OJa7IxkS0dAlACFzvvSfJ+dwHDwJKJfTLMrviBwVoF1u5+w8yvdNZ4YfD/ReYEPadM/PV1ZnGsG4tEApBe+Ro4oNF4DpwELpFi6AQ2YxIKhx7Jz2eDoYmq2MVWiV0zeykaHmUzWB674IVy2vyoVJmfjrK3bYNCIXg2LUr7XPRYBDuY8dk/ZKVilk/8S9O8Ca4w7dmhgymFnL4utiNxi4E0WdzC2rNu7YeAPA5pR6lpsx+eAFAmZcH3eLFgpk9icZWCNeBg9DNn5/xsNoCQz0AwKwl2Nc73YedKBX8vgo9b8fVi8qyMhHpW1qgLC5GiQSNQoJ2O7wnTsh+bUdfBzREYX+Vrfh+ICeA1u6phVxFn17E///I0RF0WVyydTcTIlKvtqkJqrIyOHemP/F720+Dut3IWXNZ2ufiSOUzJoZZP/EnSody73+fje8XZ341bf8n++H4ATx4s31EUKuino0zLw1m760yrLkM3hMnEBwfn/J4sqlmQaeTnYiuuEJCdeII7GA9cM6uK8WYO4CO0emGbUWfYrsd3ctoZOv+lAhCCHK3bYP/vfcQdCRnKheNK5wDbrhygxTSYhJ9HXiOT4ZNDPPysfPMKHzMZCEXURDk38JWKjPPsftamSqUA6bqJYTAuHkTnHv3pj3ezj17AACGdesSHCmeS+mcKXL+/PmYz4U8HrgPHULOmssymmECsKsify97oXUrWYtmIa3vXbDgBNjQhLcjuRJ4qTBedRUAwP7qq1Mejze2QnDhopzLpFsRiYEGQ4CfzdFf28LWDrzeNr0DmrqavQvRgmBddX7G9EWTe+02IBCAc+fOtM7j3LcPRK+Hfpm8Yczo68D2LJslV/ZvLbzvTrRPkuGyyeKmRo0aqzKQv88RrTfvxpuAUAgTr/4zrfM6d+6EtrkZ6jLpvIaS/YyJZdZP/PFw7tkLGgjAtHlzxv+2L7yxZVhdjrVzi/Di0QEEQ9OtEfaes+ARJfutP/6KfP7h8dCvWAFtUxPsr7yS1nmce/aAaLUwJLgVDoy4YH36NOyvdyPknR6PTxb3UXaDLPeaetQXG7CwIhd7z03fzCOEYE+4/W/onenVvZlCv3w5grm5GH/xpZTPQUMhOHfugmHdupjx/aDdxxdWDTy0H0Fn8v750TDjkytUdbGedzblMnc4CCEwhcOYf/LroZDBhoQGQ3AeHMLE7j7QoLDtCMBmrqmrqmB/+eWU/1ZgeBje9naYtmyJeUzQ6Qdjl2cFnyyzfuKvidMIYfxvf4OyuBg5a9cmPA9j8cD23FlYHm+bZp6WCq6DbGen3A/U4vqlrDWxUzs93LT3vBn1c9nbYMbsQcgvT0eseBBCkHv99fAePzHFzTDe2EZDg0E4394J44Yr41aQjv73MYz88gg8Jy1w7OrD4Pf2C/oYJYP9DTZDxrSeLRi7sqkYh3vG4PRN/VIxO3z4Dze7AezcNxDTo0huiFIJ9bZr4D5wgLcLTxbviRMI2mwwXSW8qPGctWHo4Um7AuphMPQfB+DrTs7BFJh6Hdj+yhZDFd3FxvELDBrUF+Xgv96evnJtq5r8QnKflCarhsP61zMY+H/vYvzFDky81o2B/7cP4+F9h+jrlhCCvA/dCs/Ro3x4LFkcb7wBADB9YPrE7x90ov/edzD0Hwcw/PBB9N/7Dvz94sJKyXzGkmHWT/xlMW67AgMDcL3zDvKuuw4KbezuSjQQQv+972D4Z61wHxmF94wNo/91FP33vsP76CQLDQThabOC6JRQ5mlxzUL2tndXz9TVQK/VjY5RJzY0FsO0he3d6RKwa06WkD8I74Vx+DrHERhxiZrg8m6+CQBge+JJ/rFYYyuE4623ERwfh+mabYLPU0ox9JNDfPgrkvEXO2B5ok3034rE1zuB0IQfiiItSNj1cVNTKZgQxa4zU1Pl3j49Ag8ApoJd9ruPSJdKR0MUrtZh9N/HrrDNj55E0BXbC77s058GAFgffTSlv+d4+20Ak2G6SPyDTlj/FB5PFUHRHQv558y/OwH/QHILG+46YKwe+HvYL05982TM/prF5fAxIQzbp/bhfeHwAL6qZAu5bE+fARW4400WSikGf3Rgyj4Dh3NvP8x/PCF43RbdeSdUFRUY/dnPQZnk7zInXnsd2sZ5bDVwBIER1zSzRQAY/c2xuM6wHMl8xpJh1k/8rTGqTq2PPgYAKPjkJ2K+NjDswsAD78Z8fvinrfCcmZ4hkoiJnazpWe5mdjLPy1HjsoZCvHxiBKGIi//J/d0AgC0LymDayNpF2//RlfJK1NNuRf+972Dwwfdg+eNJmP9wEiO/PIKB+/ah/953EDBPr7LkUJeWIv/Dt8H+0ksIDLFfPrHGVojxZ5+BsrgYpqu3Cj4/9uxZBG3sxFB+72pUP3Ilqh+5EsWfYbMavKdtGP9H7G5gseDM1zoXTf7bVtTmw6RT4cUjU9tK/u1IP0pMWlR9hi12Gnv+XNqr/pAviKGHD2DgO/sw9sJ5IHw63/lxDP3gffTf+45gOOtYXx/ybrkF4y/8DZ4TyVlmhDwe2Lf/HYbLL4eqcOqmacgd4CeivGsbUP0f66FfWITqR66EaRO7uhz99VEEkwhJcNeB9c+spXTpV5ZPef6WFey+ypunJ/dVbC4/Xjw6gOLmIihy2EIvISuHZKAhioH79iE0wYasSr6wlL+OSr/GGh/6LtjR9+jhaa9V5OSg5Gtfg7etDWPPPpvU3/WdPw/PkSPTFjXBCT9Gfsnabxg3VqP6kStR9fB6mDaxn2XbM2f5WoZYJPMZS4ZZP/EL4btwAWPPPov8j30UmtpawWO8F8Yx8qtJz5SqH63nL6LqR66EMTwRWx9vg2PfgOi/TQNBOHaxE79xw6RJ2Y3L2DDES0fZc7l8DJ4+0IvV9QVoKDZAoVHCsJq9M3C+l1z8OTDiwtBPDsH6ZHvc40Z+fhj9974T80Nf9PnPg4ZCGH7o+0lNiO7Dh+F6bz8KPvFxKDTTvW/sr3XBfYxdoVU+tA6q/MkQgK6pABX3sXsCzncG4HhH/FgHRlzw9zqgqcsFkzP5uE6txMcvq8Wus2YM2dm7tlMDdhzqHsMnLquF2qSBuoYt8hp7IbXNtZCXwdDDBzD43fcQtE/GzjW1JuR+oJY34QOAwe/tF5wAyr5zH1TFxRj4t28j5BJvJDb27LNgRkZQePdnpjxOg5TfeM3dVs8vJjjyttXDtJmd/M1/PAkaEN+c3j/oRGDYDWWuBprqqQVyzWUmVOXr8cDLp/jr5tlD7GfgrsvrUX7PavYc3RMYeyW1hvMhL4OB7+zjf694YC209ZOV15pKIyofZEO6piEFnPunf4bybr4JOWvXYvSnP4PnlPg7TPOvfwOi16PgYx+domf0t+wXbMFtTci/lu09QQhB3rYG3ibE8ugpeCNMGjOFrBM/IWQbIeQsIaSDEHKvwPNaQsiz4ecPEELqpdaQmzvVxpgyDIa++10o9HqUfO1rgq9x7BuA5Y8nAbCTc/UjV4JEbT7lX9uA0q8shzJfC/uOTtj/2QXKJP6gON5lL7jCjzZPySS6bRX7IfzW88cRDFE8/l43PIEgvrRpHn9M3g2sv7f9752iNj1DPgYTb/di5JdH+NV08V2LUPXw1C+xqh9cgZyVky6UQw8fhP3Nnmn/Hk11NUq/9S04d++G5de/nja2QtBAAMMPfR+qigoUfupT0573nLHBsZtdeVd8Zw0UAk3klXlalN97GRQmDez/6ITr0HDivxukGA+v9os+MX+a1puWs1+0X/kL++H88WtnUJCjxt1Xsh/Qks+ydxruwyPwtE/tjRwP/6ATtmfPYvB7+/kJn+hUqPzuOnbl+aXlyP1AHSofWIeqH63nFxCWR0+xm5DhO77c3FwoTSZU/uxnCPT1of8b/ypq8mfMZlh/93vkrFkDY0TaLA1RjL/SAe/ZMeR9sAG5m4Rjx3nX1CNnVRkYiwejfziBkDtxa8I8jQm2v7Cx/ZIvTC/MI4Tg05ezne3+e/cFOLwBPLm/G0atCpfPK4ZCq0L5v7HeNq79QzA/diqpsI+v247B703G5qv+4wooDdP3kRQ5alR+/3L4ixUY334Bzv2DUxYwhBBU/uiHUOblofeOO+B4662Ef9v13ntwvPEGiv7ls1CFU8KDrgAsj51CcMKPwo83w9AyPVxjWF2OojvZfRDLH08iMCz83or5jKUCkWsDixCiBHAOwFYA/QAOAfg4pbQ94pgvAVhKKf0CIeRjAG6hlH40+lwtLS1UilueoMOBoe/8PzjefBPl338IBR/5yJTnA6NuTLzVA88JtmS/+O7F0DXGTzML+YPsLVu7FaoSPfKvnwNtY8G0LwqA3VCzPtEG7bwClHxmemHGH/5/e2ceJEd13/HPt6dn70PSroRllIBEqJWRsQQUDioLDMSxjcHkKMUYUgmhfBJThasSO1FQuYgTctlxbKccF44jK04op0oKBoooKBijyGWnzCGLoCMywggjoVt7aLXanenpX/7oN9rR7mg1Ws1op3ffp6p3u1/3dH/7zZtfv37H77f5Vf5iw6inwJsXz2PN7117+jl2HOXot3cQzmtm3u8vI2gabyijIyc5uf0Ix3+wj3gwT9AaMvs3Lqf57RPPVTAzTvzoTfo3vo7lCmQ6Gmi7fgEty+aSaXeTm+KY/av+hP7HH2f2XXfSfe+9hHPLj3mPT55k/wOrGdiwgbf+7RfpvPXW0WvlCxzfvI+BZ35O0Boy7xNLCbsnjnQVD0dJ5/qeAVqunkfnLQtP6TrtPqKY3u/uZujFg3Tetoj2FeXdP//61354KhAOwOpb38ZHrx8NnpF7czBpFlEyIqj12reMMyjxUJ6RN46T2zPA8Cu95PeOto83v6ObOXcsPuVx9UxEfSP0rv8pI7v7yM5vpeM9v0hTzxwUJvWyY488wsE/f4jsxRcz748+S/u7343KvDkVBgb4+cc+xvCOnSxcv56mnmQ2cv7wEL2P7ib3Wj9t73orsz54ds+Rg8/tp++xVwm7m+i6621k31J+FnPUN8zRb+8gf2CI7nuWnPH3MhIV6Fn91Glp6z65nGsvHW2Kio6e5MAXkt950Jal/YYFNPXMJpzXclolycwoDOTI7ennxPMHGdndB0DT4jl03X3FWYdmx7kCR761ndxr/TQt6aLzVy8hvGj0Gvk33+SN++5jZMdOWpZfR+dtH6TtphvHNZvlDx1iz4fuAInLNvwHkGXopUMc37SXwsAIc+5YTMvSieeDjPysn8NrXkYSs37tMlquuahqQ8slvWhmZb3F1dLwLwceNLP3ue1VAGb2lyXHbHTH/I+kEDgAzLUxoiZr+B/90ieICxFBEBBEMcrFydT91gbipixCyESDZWmIGwktxDBOZAbpzR7jXHKmudDM7GgOoYXEKpBXRKSISHliGY2FRlriFnLKc7jhAAWNfzvI5/OciCByfuHntDYQlCkEHVEHs6LZFFRgKBjCFBNYQMZCQgvJWmKchoNhBsJ+hoPhceeo5H46ok4aLen4zilHPshTUERMjIZyaCSpDVo2A5kACwQSmKHYUC5GsWEtDVhjluKdyAKa42ZCCxkKhujNHi2bH+UIEB3RLNqj9lP3mA9yRIowILQMbYV2MpahP+ynP+w7lbfZMqOJjg3liGMjDFTWBXNoId25uTRYsq+gAkYM7m5CSx68hpFXjuHMMIOZQaIybiHORmuhjc6oMylDxOSCHDEGGMQFGIkgjpM8zgQQKNEhgcUQFSCOiZsyxNmAwAJCC2mMmzAZfWEvg5nKO26b4ia683MJLGBEI4wEI0RBRGBCBISWoaWQPBCOZA9zMjPxYIcojulzbxBN2QxtZd7uBLRHHbQXOshY0hkfKyYiIlZMYBlCMgSWPBQNYygzxPFwgJwqG45aLAsdUQed0SyEKKhAXnmSTpjELqjgyjGAhBAoSPIbwCw5PCNMkLEMQuSUo7fhGCOqrJ8ktJCufDeNcSM55RnOnCRSHsOIIuOO+79e0XnGMpHhH5/z1eNioDR0015g7NzxU8eYWSSpH+gCjpQetH//fnqct7vGxkbuuecerroq6azp6upiyZIlbHYe9sIwZMWKFWzZsoW2KzeRyVT+AywOlGx2y2QoniNkfOYWgAxw/nF5Rq/TMsG+LElmVuM6GbdUkwLQyOTyo/iYaHBLuXO3uWUiKg0FUzqIVmdIzwCtbjkfSr+/alDMq063nAvm9JQrz6XnrnTe7SXncO2xeVssfzZmX5NbJkNpdeN88lsl58oAk/EDULQPpeUnn2tm06ZNLFq0iPb2dl5yzhLPZPdWr17NunXrih8/o4xa1vhXAu83s4+67d8BftnM7is5Zps7Zq/bftUdc5rhn2yN/3vfeIjewX5mdc+BhjD5dooPa/fXArBM7cZrK4agEFAI49MtRhkOHz7C3LkX3nXEOWGgWCgWR44eobur2yUb5HIQGWQEDdmkRirDivleq8nRMWQKAcRggRFnx3+fqcjbEirWGwP5PITJW1dNcfkcB4YFdur7nLZ5eyaKxatW5dkgEwUQi97efj507+cndZqpqvHvA0p7kBa4tHLH7HVNPZ1A5T1pZ+E9H3+AOI4JqhAC7UKQJq2QLr1p0grp0psmrZAuvXFc+ciqc6GWd/88cLmkhZIagA8DT4w55gngbre+Evj+2Pb982X79slN/JkK0qQV0qU3TVohXXrTpBXSpbdWWmtW43dt9vcBG0martaY2XZJnwdeMLMngH8C/kXSbuAYycOhqhw9WrUXiJqTJq2QLr1p0grp0psmrZAuvbXSWsumHsxsA7BhTNrnStaHgd+qpQaPx+PxnE46GrrOg6UXOtLTeZAmrZAuvWnSCunSmyatkC69tdI67Q3/ww8/PNUSKiZNWiFdetOkFdKlN01aIV16a6W1ZsM5q8n5zNzt6elh165dVVZUG9KkFdKlN01aIV1606QV0qX3fLRONJxz2tf4PR6Px3M6qajxSzoMvD7Jj3czZiZwHZMmrZAuvWnSCunSmyatkC6956P1EjMr6ywoFYbf4/F4PNXDN/V4PB7PDMMbfo/H45lhTFvDf7YgMFONpDWSDjlHdcW0OZKelvSK+z9xMIALhKRfkPSspB2Stku636XXq94mSc9Jesnp/VOXvtAF/NntAgCVc+w5JUjKSPqJpCfddj1r3SPpZUlbJb3g0uq1LMyStF7S/0naKWl5HWvtcXlaXAYkfboWeqel4XdBYL4G3AJcAdwp6YqJP3XBWQuMjTz+x8AzZnY58Izbrgci4A/M7ArgOuBTLj/rVe8IcLOZLQWWAe+XdB3w18DfmdkvAb3AR6ZO4jjuB3aWbNezVoCbzGxZyXDBei0LXwGeMrPFwFKSPK5LrWa2y+XpMuAaYAj4LrXQa2bTbgGWAxtLtlcBq6ZaVxmdlwLbSrZ3AfPd+nxg11RrPIPux0kiq9W9XpKQBVtIYkEcAcJyZWSKNS5wP+ibgSdJHP7WpVanZw/QPSat7soCibff13CDWOpZaxnt7wV+WCu907LGT/kgMJXG3JhKLjKz/W79ADA+WOcU4+IiXwX8mDrW65pOtgKHgKeBV4E+MytG5qmnMvFl4LOMxvLoon61QuKR/r8kvSjp4y6tHsvCQuAw8C3XjPZNSa3Up9axfBj4jluvut7pavhTjyWP97oaayupDfh34NNmNlC6r970mlnBklfmBcA7gcVTq6g8km4DDpnZi1Ot5RxYYWZXkzSlfkrSDaU766gshMDVwNfN7CrgBGOaSepI6ylcf87twLqx+6qld7oa/kqCwNQjByXNB3D/D02xnlNIypIY/UfM7FGXXLd6i5hZH/AsSXPJLBfwB+qnTLwLuF3SHuDfSJp7vkJ9agXAzPa5/4dI2qDfSX2Whb3AXjP7sdteT/IgqEetpdwCbDGzg2676nqnq+GvJAhMPVIamOZukrb0KUeSSGIn7DSzL5Xsqle9cyXNcuvNJP0RO0keACvdYXWh18xWmdkCM7uUpJx+38x+mzrUCiCpVVJ7cZ2kLXobdVgWzOwA8IakHpf0K8AO6lDrGO5ktJkHaqF3qjsxatg58gHgpyRtuw9MtZ4y+r4D7AfyJDWTj5C07T4DvAJ8D5gz1Tqd1hUkr5f/C2x1ywfqWO87gJ84vduAz7n0RcBzwG6S1+jGqdY6RveNwJP1rNXpeskt24u/rTouC8uAF1xZeAyYXa9and5WkvCznSVpVdfrXTZ4PB7PDGO6NvV4PB6P5wx4w+/xeDwzDG/4PR6PZ4bhDb/H4/HMMLzh93g8nhmGN/wej8czw/CG3zOtkdRV4ub2gKR9bn1Q0j/U4HprJb0m6ZOT/PyzTlvZINkeTzUIz36Ix5NezOwoySQeJD0IDJrZF2t82c+Y2frJfNDMbpK0qcp6PJ7T8DV+z4xE0o0lQU8elPTPkn4g6XVJvynpb1ywkaecnyIkXSPpv51Xyo1F/ylnuc5aSV+V9CNJP5O00qXPl7TZvX1sk3R9be/Y4xnFG36PJ+EyEgdptwP/CjxrZlcCJ4FbnfH/e2ClmV0DrAEeqvDc80ncXtwG/JVLu4vEx/4ykgAhW6tzGx7P2fFNPR5Pwn+aWV7Sy0AGeMqlv0wSMKcHeDvwdOKzjgyJr6VKeMzMYmCHpKIv9eeBNe6B8piZba3KXXg8FeBr/B5PwgiAM9B5G3ViFZNUkARsNxcaz8yuNLP3nsu5HXLX2QzcQOJuea2k363GTXg8leANv8dTGbuAuZKWQxKfQNKSyZ5M0iXAQTP7R+CbJH7iPZ4Lgm/q8XgqwMxyrmP2q5I6SX47XyZxTTwZbgQ+IykPDAK+xu+5YHi3zB5PFZG0lsSn/qSGc7pzbAL+0MxeqJYuj6cU39Tj8VSXfuDPzmcCF0mwk3xVVXk8Jfgav8fj8cwwfI3f4/F4Zhje8Hs8Hs8Mwxt+j8fjmWF4w+/xeDwzDG/4PR6PZ4bx/zfRzG0wC3ulAAAAAElFTkSuQmCC",
      "text/plain": [
       "<Figure size 432x288 with 1 Axes>"
      ]
     },
     "metadata": {
      "needs_background": "light"
     },
     "output_type": "display_data"
    }
   ],
   "source": [
    "plot_dynamics(exp, init_state, barely_a_seq * 10)"
   ]
  },
  {
   "cell_type": "markdown",
   "metadata": {},
   "source": [
    "Note that at this point, we only multiply already computed matrices. We don't need to solve the equations of motion again for new sequences."
   ]
  },
  {
   "cell_type": "markdown",
   "metadata": {},
   "source": [
    "#### Visualisation with qiskit circuit"
   ]
  },
  {
   "cell_type": "code",
   "execution_count": 37,
   "metadata": {},
   "outputs": [
    {
     "data": {
      "text/html": [
       "<pre style=\"word-wrap: normal;white-space: pre;background: #fff0;line-height: 1.1;font-family: &quot;Courier New&quot;,Courier,monospace\">     ┌────────────┐\n",
       "q_0: ┤ Rx90p(π/2) ├\n",
       "     └────────────┘\n",
       "q_1: ──────────────\n",
       "                   </pre>"
      ],
      "text/plain": [
       "     ┌────────────┐\n",
       "q_0: ┤ Rx90p(π/2) ├\n",
       "     └────────────┘\n",
       "q_1: ──────────────\n",
       "                   "
      ]
     },
     "execution_count": 37,
     "metadata": {},
     "output_type": "execute_result"
    }
   ],
   "source": [
    "qc = QuantumCircuit(2)\n",
    "qc.append(RX90pGate(), [0])\n",
    "qc.draw()"
   ]
  },
  {
   "cell_type": "code",
   "execution_count": 38,
   "metadata": {},
   "outputs": [],
   "source": [
    "c3_provider = C3Provider()\n",
    "c3_backend = c3_provider.get_backend(\"c3_qasm_physics_simulator\")\n",
    "c3_backend.set_c3_experiment(exp)"
   ]
  },
  {
   "cell_type": "code",
   "execution_count": 39,
   "metadata": {},
   "outputs": [
    {
     "name": "stdout",
     "output_type": "stream",
     "text": [
      "Result from unoptimized gates:\n",
      "{'(0, 0)': 0.25564163151484814,\n",
      " '(0, 1)': 2.1125507045498758e-10,\n",
      " '(0, 2)': 2.6330827840237837e-13,\n",
      " '(1, 0)': 0.7425758422840213,\n",
      " '(1, 1)': 2.086397385597727e-08,\n",
      " '(1, 2)': 5.606995948794805e-13,\n",
      " '(2, 0)': 0.0017824269700961683,\n",
      " '(2, 1)': 7.814996380566825e-08,\n",
      " '(2, 2)': 4.975027457078007e-12}\n"
     ]
    }
   ],
   "source": [
    "c3_job_unopt = c3_backend.run(qc)\n",
    "result_unopt = c3_job_unopt.result()\n",
    "res_pops_unopt = result_unopt.data()[\"state_pops\"]\n",
    "print(\"Result from unoptimized gates:\") \n",
    "pprint(res_pops_unopt)"
   ]
  },
  {
   "cell_type": "code",
   "execution_count": 40,
   "metadata": {},
   "outputs": [
    {
     "data": {
      "image/png": "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",
      "text/plain": [
       "<Figure size 504x360 with 1 Axes>"
      ]
     },
     "execution_count": 40,
     "metadata": {},
     "output_type": "execute_result"
    }
   ],
   "source": [
    "plot_histogram(res_pops_unopt, title='Simulation of Qiskit circuit with Unoptimized Gates')"
   ]
  },
  {
   "cell_type": "markdown",
   "metadata": {},
   "source": [
    "#### Open-loop optimal control\n",
    "\n",
    "In order to improve the gate, we create the optimizer object for open-loop optimal control. We notice some leakage into the $|2,0>$ state and enable a DRAG option. "
   ]
  },
  {
   "cell_type": "markdown",
   "metadata": {},
   "source": [
    "At the moment there are two implementations of DRAG, variant 2 is independent of the AWG resolution."
   ]
  },
  {
   "cell_type": "markdown",
   "metadata": {},
   "source": [
    "To define which parameters we optimize, we write the gateset_opt_map, a nested list of tuples that identifies each parameter."
   ]
  },
  {
   "cell_type": "code",
   "execution_count": 41,
   "metadata": {},
   "outputs": [],
   "source": [
    "opt_gates = [\"rx90p[0]\"]\n",
    "gateset_opt_map=[\n",
    "    [\n",
    "      (\"rx90p[0]\", \"d1\", \"gauss\", \"amp\"),\n",
    "    ],\n",
    "    [\n",
    "      (\"rx90p[0]\", \"d1\", \"gauss\", \"freq_offset\"),\n",
    "    ],\n",
    "    [\n",
    "      (\"rx90p[0]\", \"d1\", \"gauss\", \"xy_angle\"),\n",
    "    ],\n",
    "    [\n",
    "      (\"rx90p[0]\", \"d1\", \"gauss\", \"delta\"),\n",
    "    ],   \n",
    "    [\n",
    "      (\"rx90p[0]\", \"d1\", \"carrier\", \"framechange\"),\n",
    "    ]\n",
    "]\n",
    "parameter_map.set_opt_map(gateset_opt_map)"
   ]
  },
  {
   "cell_type": "markdown",
   "metadata": {},
   "source": [
    "We can look at the parameters this opt_map specified with"
   ]
  },
  {
   "cell_type": "code",
   "execution_count": 42,
   "metadata": {},
   "outputs": [
    {
     "name": "stdout",
     "output_type": "stream",
     "text": [
      "rx90p[0]-d1-gauss-amp                 : 500.000 mV \n",
      "rx90p[0]-d1-gauss-freq_offset         : -53.000 MHz 2pi \n",
      "rx90p[0]-d1-gauss-xy_angle            : -444.089 arad \n",
      "rx90p[0]-d1-gauss-delta               : -1.000  \n",
      "rx90p[0]-d1-carrier-framechange       : 0.000 rad \n",
      "\n"
     ]
    }
   ],
   "source": [
    "parameter_map.print_parameters()"
   ]
  },
  {
   "cell_type": "code",
   "execution_count": 43,
   "metadata": {},
   "outputs": [],
   "source": [
    "from c3.optimizers.optimalcontrol import OptimalControl"
   ]
  },
  {
   "cell_type": "markdown",
   "metadata": {},
   "source": [
    "The OptimalControl object will handle the optimization for us. As a fidelity function we choose average fidelity as well as LBFG-S (a wrapper of the scipy implementation) from our library. See those libraries for how these functions are defined and how to supply your own, if necessary."
   ]
  },
  {
   "cell_type": "code",
   "execution_count": 44,
   "metadata": {},
   "outputs": [],
   "source": [
    "import os\n",
    "import tempfile\n",
    "\n",
    "# Create a temporary directory to store logfiles, modify as needed\n",
    "log_dir = os.path.join(tempfile.TemporaryDirectory().name, \"c3logs\")\n",
    "\n",
    "opt = OptimalControl(\n",
    "    dir_path=log_dir,\n",
    "    fid_func=fidelities.unitary_infid_set,\n",
    "    fid_subspace=[\"Q1\", \"Q2\"],\n",
    "    pmap=parameter_map,\n",
    "    algorithm=algorithms.lbfgs,\n",
    "    options={\"maxfun\" : 150},\n",
    "    run_name=\"better_X90\"\n",
    ")"
   ]
  },
  {
   "cell_type": "markdown",
   "metadata": {},
   "source": [
    "Finally we supply our defined experiment."
   ]
  },
  {
   "cell_type": "code",
   "execution_count": 45,
   "metadata": {},
   "outputs": [],
   "source": [
    "exp.set_opt_gates(opt_gates)\n",
    "opt.set_exp(exp)"
   ]
  },
  {
   "cell_type": "markdown",
   "metadata": {},
   "source": [
    "Everything is in place to start the optimization."
   ]
  },
  {
   "cell_type": "code",
   "execution_count": 46,
   "metadata": {},
   "outputs": [
    {
     "name": "stdout",
     "output_type": "stream",
     "text": [
      "C3:STATUS:Saving as: /tmp/tmpewsf99ul/c3logs/better_X90/2022_05_18_T_11_36_16/open_loop.c3log\n"
     ]
    }
   ],
   "source": [
    "opt.optimize_controls()"
   ]
  },
  {
   "cell_type": "markdown",
   "metadata": {},
   "source": [
    "After a few steps we have improved the gate significantly, as we can check with"
   ]
  },
  {
   "cell_type": "code",
   "execution_count": 47,
   "metadata": {},
   "outputs": [
    {
     "data": {
      "text/plain": [
       "0.000826"
      ]
     },
     "execution_count": 47,
     "metadata": {},
     "output_type": "execute_result"
    }
   ],
   "source": [
    "opt.current_best_goal"
   ]
  },
  {
   "cell_type": "markdown",
   "metadata": {},
   "source": [
    "And by looking at the same sequences as before."
   ]
  },
  {
   "cell_type": "code",
   "execution_count": 48,
   "metadata": {},
   "outputs": [
    {
     "data": {
      "image/png": "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",
      "text/plain": [
       "<Figure size 432x288 with 1 Axes>"
      ]
     },
     "metadata": {
      "needs_background": "light"
     },
     "output_type": "display_data"
    }
   ],
   "source": [
    "plot_dynamics(exp, init_state, barely_a_seq)"
   ]
  },
  {
   "cell_type": "code",
   "execution_count": 49,
   "metadata": {},
   "outputs": [
    {
     "data": {
      "image/png": "iVBORw0KGgoAAAANSUhEUgAAAX4AAAEDCAYAAAAyZm/jAAAAOXRFWHRTb2Z0d2FyZQBNYXRwbG90bGliIHZlcnNpb24zLjUuMSwgaHR0cHM6Ly9tYXRwbG90bGliLm9yZy/YYfK9AAAACXBIWXMAAAsTAAALEwEAmpwYAAB3k0lEQVR4nO2dd3xb1dmAn6NhyXuPxE5iJzgJ2XGcBZlAAgmbsmcDZbTQQmkp0AKlUD4otJS2zJZNoUCYIUAIgUzIcnbi7O0M7z00z/eHZOM4ki1L90pXRg8/EUu69+jRuUdHV+ee875CSkmECBEiRPjxoAu1QIQIESJECC6Rjj9ChAgRfmREOv4IESJE+JER6fgjRIgQ4UdGpOOPECFChB8ZkY4/QoQIEX5kGEIt4AtpaWkyNzfXr32PHTtGr169lBVSiXByhfDyDSdXCC/fcHKF8PINxHXdunUVUsp0T8+FRcefm5tLUVGRX/uOHj3a732DTTi5Qnj5hpMrhJdvOLlCePkG4iqEOOjtuR4/1ONwOEKt4DPh5Arh5RtOrhBevuHkCuHlq5Zrj+/4LRZLqBV8JpxcIbx8w8kVwss3nFwhvHzVcu3xHf95550XagWfCSdXCC/fcHKF8PINJ1cIL1+1XEU4xOopLCyU/o5zHThwAH8vDAebcHKF8PINJ1cIL99wcoXw8g3EVQixTkpZ6Ok51c74hRCvCiHKhBBbvTwvhBD/FELsEUJsFkIUqOGRkpKiRrGqEE6uEF6+4eQK4eUbTq4QXr5quao51PM6cE4nz88C8t23W4AX1JBYv369GsWqQji5Qnj5hpMrhJdvOLlCePmq5apaxy+lXAZUdbLJhcCb0sUqIEkIoejkWrvDSTgMZUWIECFCMAnlPP5s4HC7+yXux44p9QLDH15Ii82B8ZsvMeoERoMOo15HYrSRXolmeidG0zspmlMy4pg4IJWU2CilXtovkpOTQ/r63SUYvtYDB2hcswbLrt3Yjh7F2dwEDic4nUinExwOpNOJ0OnQJyejT0nBmN2b6FGjiB45En1cXNBclSScfAN1PVbbzOaSWg5XNVFWb6GywYrTxxM2nRCkxkWREW+iX2osg7PiyUmORgihmm8wUcs1LBZwHTt2jEGDBgFgMpmYM2cOo0ePBiA1NZWhQ4eybNkyAAwGA5MmTWL9+vWcm6vD6tSRnplFTV0DNXX12J0OZJSZirpmNh2spM7qamBCQG6CjjGZes7Mi2XW9NMpKiqioaEBgPHjx1NSUsKRI0cAGDRoEHq9nuLiYgCysrLIy8tj5cqVAERHRzN+/HhWr15Nc3MzABMnTmT//v0cP34cgCFDhuBwONi5cycA2dnZNDc3s3r1agDi4uIoLCxk5cqVbdO6Jk2axK5duygrKwNg2LBhWCwWdu/eDUCfPn3IzMxsW/SRkJBAQUEBK1aswG63AzBlyhS2bdtGZWUlACNHjqS+vp59+/YBrgVzKSkpbT8zk5OTGTlyJEuXLkVKiRCCqVOnArBkyRIACgoKqKqq4sCBAwD079+f+Ph4Nm3a1OVxqqurA6CwsJDS0lIOHzyIadMmUpevwOGuX6fJhMjKJDo5hbqGBtDpEHo9ScnJ1DY04LBY0O3dg7nYiqOiwvXFIAT6vDyMw4bRlJHBkooKsrKzFTlOOTk5qh8np9OpyHHatGkT1dXVyh+nw67ztvz8fCoqKti61XU5LyMjg4EDB7JixQrA9ZmdOHFi2+dJSomh12A+XLOPlQdqKW36oZM36CAhSmAy6jEYjLS0tACg0wlMJjMWSwtOp2t7s9lMi9VGdbMdu7OtCFLMguFpes4emsn54/JZt3btCcepqamprd1q6fPk6ThVV1ezZMkSn4/TAw88wNy5c1urIg0vqDqrRwiRC8yXUg7z8NxLwBIp5f/c93cC06SUJ53xBzKrZ+nSpW2dlCdabA6Kj9WxfFcF3+4oZVNJLbFRem6a3J+fTx1AdJTer9dVw1VrqOFr2b2b44/+maY1azD06kXyFVeQMHsWxpwchM63kUlHQwMtmzfTtGEDzRs20rxpE876egy9e5F++x0kXnQhQh+84+oP4dQWuuO66XANj84vpuhgNVEGHRP7pzI5P40x/ZLJS4slMdrY6dm6J6SU1Dbb2FfRyNYjtXy/p5IVeyposNjJTDBxxxn5XD2uL3qd6LZvqAnEtbNZPaE8458H3CGEeBcYD9R66vQDpasvNrNRT0HfZAr6JnPnWfnsOF7HX77cwT+/2c0nG47w9OUjKcwNziyAcLseobRv/beLKfnVr9BFR5P5hz+QdPll6Eymbpejj4sj9rTTiD3tNJen08mqp58mc/kKjv3hD1S99RZZf/g9MWPHKuqvJOHUFnxxbbY6+MuCHby58gBJMVE8fP4QLhmTQ4LZGPDrCyFIiomioG8UBX2TuX5iLi02B0t2lvPs4t08+MlWPl5fwl9+MoL8zPgeV7f+oOZ0zv8BK4FBQogSIcRNQojbhBC3uTf5AtgH7AH+A/xCJY9ubT84K4HX5ozjzRvHYXc4ufyllby4dG9QGkt3XUONkr4Ny5Zx5M47MfXvT/9PPyHlumv96vQ9IXQ6rGPHkvfxR/T6v//DXlnBweuup/yf/9RsJxBObaEr161HajnvX8t5/fsDXDG2D4t/O42fnp6nSKfvDbNRzznDsvjsjkn89bKRbD9WzwXPfsd7aw+p9ppqoFY76PELuAKhrsXGb9/fxMLiUu45exC3Tz8l6A4/Bpo3buTgnBuJysmm31tvoU9KUvX1HPX1HPntb2lcuoz0u+8m9eafhVVHG05sPFzDDa+uwemU/P2KUZw1JDMkHsdqm7nz3Y2s2V/FL6YN4J6zB/X4Yx6SBVxaofViiD8kmI28eO0YzhvRi6e+2slnm44qaHYygbiGAiV8mzdv5tAtt6JPTqLPyy+r1um3d9XHx9PnhReILiig/OmnqXz5ZVVeMxDCqS14cz1S08wtbxZh1Ov46BenhazTB+iVGM3bPxvP5YU5PL9kL2+u9Bq4UlOo1Q56fMffepXcX3Q6weOXDCc/I477P9rC+kOBldcZgboGm0B9HTU1HL75FpCSPs8/jzFTvY6ho6vQ6ej3xuvEFBZS/renKX/uOdVe2x/CqS14cq1utHLja2upabLx8g2F5GfGh8DsRIx6HY9fMoL+iToe/mwbRQc6W2akDdRqBz2+41eCeLORl64bQ0yUntvfXk9FQ/hE99MyZX97GkdtLTn//AfmwYOD/vrCaKTPf/5NTGEhFf96lspXXgm6Q09ESskDn2xlZ2k9/7hyFKP6JIVaqQ29TnDXGDMpMVH89LW1HK5qCrVSSOjxHX9BgTIhgPqnx/H3K0ZxrLaFP88vbptLrCRKuQaLQHwbli6lZu5cEi+8kNiJExW08ow3V110NH1eehF9ehplT/2Vlh07VHfxhXBqCx1d3/j+AJ9vOcbNk/OYNVx7ma6mTRjDOzdPoMXm4FfvbtDsBX5Qrx30+I6/qkq5n3Onn5LGnNNz+WTjUeZvUXzmqaKuwcBfX2m1UvrEX9AlJJD10IMKW3mmM1ddbCw5//gnACW/uhPpXpgTSsKpLbR3PVzVxCPzixmRk8h9s04NoZV3qqqqGJQVz32zBrPhUA1PfbUz1EpeUasd9PiOv3WFolI8cO4Q+qbE8Mhn22ixKZsdR2lXtfHXt27BAqz795N2y83oYmOVlfJCV64xBaNJ/dlN2A4dovrd94Li1Bnh1Bbauz48bxs6IXj+moK2BVNao9V3zul5zB6exb+X7WNPWX1opbygVjvo8R2/0uh1gvtnDaaiwcoH60pCrRN2OBsbOfbwnzCkp5Ny002h1jmB9F/9CkOvXpT++c9YD4XXfG8tsKWklm92lHHTpDxykmNCrdMlep3gwfOGuL6oFu8NtU5Q6fEdf//+/RUvc+bQLIZnJ/Lnz4upa7EpVq4armrij2/la68jm5pIu+OOoM6j9sVVREXR65FHACj/57/UVuqUcGoLra5PfrWD5Bgjt00dEGKjzmlft70So7m0MIdPNh5h1b7KEFp5Rq120OM7/vh45aeR6XWCP180jBabk6cWKDc+qIarmnTX19nUROXLL6OLiyPp0p+oZOUZX13jJk8ifsYM6ubPp/7bb1W28k44tYX4+HiW7y5n+e4Kbp06gOQQR7ntio51+7uzB5ESG8XjX2zX3IVetdpBj+/41VoAMSInkdNPSeXD9SWKjfWH06Id6L5v2d+eRra00PsvTwQ9SFp3XHv/5QkwGCj5xe1Im3K/6LpDOLWFDRs38reFu+iVaOanp+WGWqdLOtZtUkwUV4/ry6aSWhZtLwuRlWciC7g0hhCCW6cMoMnq4O+LdoVaR/NIm43aefPQJSQQN3lyqHU6RRcTQ+rNPwOg+r33Q2yjfb45ZGfj4RpumdIfs1HbUU+98asz80mNjeLpr3epMlVba/T4jj81NVW1sqcMTGdcXgqfbDiCxR74Wb+armrQHd+aDz/CWV9P1h8fQkQFfyigu3WbeuONAFS89GJIfv6HS1uQUvL9ccngrPiwONsHz3Vr0Ou4dkI/th+rY42GVvSq1Q56fMc/dOhQVcufc1oupXUWXv/uQMBlqe2qNN3xrZk7F3S6tlDJwaa7dauPjyfj3ntxlFdQv/Brlay8Ey5tYc3+KvZX27h0TE7YBD3zVrc3T+lPlF7HPxbtDrKRd9RqBz2+42/NUKMWs4b3YlBmPF9uPR7wmaHarkrjq2/Lzl20bNtG2m23YQhR2jt/6jZh9iyAkARxC4e2IKXklRX7Mevh6vF9Q63jM97qNs5k4PqJ/Vi5r5KSam2EclCrHfT4jj8YzBqexcbDNSzZWR5qFU1S9frrAMRNnRJakW5izMwk7fbbadmyhcZVq0OtozmKDlazsLiUKTkGYqLCIotrl1w5zvUF9u9l+0Jsoi49vuM3GNRvkLdNHUCUXseSnYHNCAiGq5L44utsbqb244+JnzmT6JEjg2DlGX/rtvWsv/rt/yqp0yXh0Ba+2HIMvU5w6WDtL9ZqT2d1OyA9ljMGZ/DR+iPYHU6v2wULtdpBj+/4J02apPprmI16pgxM439rDnOsttnvcoLhqiS++Na4Ez+HOs2hv3VrGjCAxEt/Qv3Xi2jZGbzZW1pvC7VNNt5edYhxuSnMnK7tWVod6axuhRBcOiaHBoudz1WIx9Vd1GoHPb7jb81srzY/nzYAq8PJ8t0VfpcRLFel8MW35pNP0CUkkHztNUEw8k4gdZt0iWuxWe0nnyhk0zVabwvf763A6nDyyzNP0bxrR7rynT4og16JZl5TYMJGoKhVtz2+46+rqwvK64zuk0xaXBRvrz6Ew895wMFyVYqufJvWrsVSvJ3Y004L+YyPQOo2pmA0MWPHUvXaa9iOqpuFrRWtt4VnF+8hNkpPQd9kzbt2pCvf6Cg9F4/OZsuR2oB+wSuBWnXb4zv+YKHTCW6Z0p9Nh2tYdzB8siepSYN7RkLGb+4OsUngJF99FQD1Xwd/aqfWqGywsO1oHVeO6xu2C7a64vyRvXFKyTNfa2dqp5L0+I6/sNBjrmFVuHp8P6IMOr9z8wbTVQk687WXl1P5n5cx9utLVJ8+QbTyTKB1mzBrFsbsbCpfeRXpUDYctye03Bb+s3w/ABeO6g1o29UTvvie2iuBC0f25sutx7CF8CKvWnXb4zv+0tLSoL1WnMnAGYMy+GTjEb8aSzBdlaAz36Z16wBIueGGYOl0ihJ1G1M4BntZGc1BiKOj5bawYOsxTsmIY3h2IqBtV0/46nvuiN7UtdhZsPW4ykbeUatue3zHf/jw4aC+3nkje1HfYmfb0e6PzQXbNVC8+UopKf/XswAkX3ppMJW8okTdpt/9GwCq//t2wGV1hVbbwpaSWg5UNnH1uL5t12206uoNX33PHJxBUoyRxQFO0w4Eteq2x3f8wWZsbgpCwEtLf1yJHdpjLy3Funcvxj59QhKXRy2MmRnok5Ko++ILHPXazNikNm+uPADAzKGZoRUJAjqdYHxeCvM3H6O2OTRRWtWix3f8+fn5QX29zAQzs4f3Ytmu8m7P7gm2a6B4863/5hsAsp96Mpg6naJU3WY9/DAAzRs2KFKeN7TaFlbtr+SsUzNPyLClVVdvdMf3qnF9sdqdfBWi4R616lb7ywO9YLPZKCkpoaWlpdPtHA5H0Keb3TjUyEW5GWzdVkyUwffv1q5czWYzOTk5GI1GJTQDxmQyeXy84oUXXc+fqp1k295cu0vcZNeCmpK7fs3g9esUKdMTSvkqyeKdZRyuauZnk07MCqVF187oju/UgekkxxhZe6CKy8cGf5KCWnUbth1/SUkJ8fHx5ObmdjpHvL6+PujZjGx2JztK60kwG+iX6nsy8c5cpZRUVlZSUlJCXl6eUqoBsXXrVqZNm3bCY/bychwVFSRccD46DXUInlz9QRcbS3ThGJqL1mGvqsKQkhK4nAeU8lWShdtcZ70/GZNzwuNadO2M7vgKIRiXl8Knm45yz9mDyEgwqyvXAbXqNmyHelpaWkhNTQ35wiBPGA06kqONNFjsisVyF0KQmpra5S+cUFP2zDMAJF95ZWhFVCTjrrsAKP/730MrEkRs7lXpZw7OIM4UtueLfvHzaadgtTtZuqvnBGEM244f8KnTD1WwqzizAYdTUt9i93mfrly19iWXkZFx0mP1i1zj+9HDhwdbp1M8ufqL2f3eGr/7XrEyO6KkrxJ8suEIJdXNXDQ6+6TntObaFd31HZmTSGpsFF+EIHaPWnUb1h2/L5jN6v00a25uZurUqTjcC3reeOMN8vPzyc/P5+P33kEnRKezAaqqqpgxYwb5+fnMmDGD5mbX8vD58+fz0EMPqeatFAMHDjzhfuPqNThra8n43e8QGrkO0UpH10DQmUyk33UXtqNHsexTJ3yvkr5KsP5QDQlmA+eN6HXSc1pz7Yru+gohmDEkkyW7yqlqtKpk5Rm16rbHd/wNDQ2qlf3qq69yySWXoNfrqaqq4k9/+hOrV69mzZo1PProIzia62myej/jf+KJJzjzzDPZvXs3Z555Jo8++igA5557Lp999hlNTdpIBuGNFStWnHC/6rXXAIg9/fRQ6HRKR9dAiRnrWlFZ8fwLipbbitK+gdBic7BkZxkj+yR5/NWpJVdf8Mf3koIcpIQNh4IbjkWtulW14xdCnCOE2CmE2COEuM/D832FEIuFEBuEEJuFELPV9FGat99+mwsvvBCAr776ihkzZpCSkkJycjIzZsxg5bJvsNidNFg8d/6ffvopN7hXtt5www3Mnz8fcJ1hTJs2re1+OCDtdhqWLCF+xlmYB4XXGaA/xIwZQ8z48apP69QC3+4o41htCxeNOnmY58fC8OxEDDrB26sPhVpFEVQbABdC6IHngBlACbBWCDFPSlncbrMHgPellC8IIYYAXwC53X2tP322jWIvK2UdDgd6ffcDSQ3pncAfz/ee79JqtbJv3z5yc3MBOHLkCH3axaTJycmhrtK14q+u2ebxglhpaSm9erl+OmdlZVFe/sPFo8LCQpYvX87ll1/ebfdg0X6qWeXLrwAQM258qHQ6RY1pcXFTplD21FPUL1lCvMIzL7Q0RXLLkVqMesF5I08e5gFtufqCP77RUXouHJXNvE1HaLE5ghacTq26VfOMfxywR0q5T0ppBd4FLuywjQQS3H8nAorHvPWn0/eFiooKkpKSOt1GJwQxUQavZ/ztEUKc8DM6IyODo0EKAewvEydObPu7ZdtWAJKu0OYXVXtXpUg471wA6hctUrxsNXz9odnqYG5RCUN6J2IyeP4sacXVV/z1nTk0E5tDsvFwjbJCnaBW3ao55SUbaB9oogToeDr4MLBQCPFLIBY4y1NBx44dY9CgQYDrG3DOnDlMmzaN+vp69Ho9D5035ISx/Pj4eBobG3E6nTidTuLi4rDZbNhstrYyhBBtUyMNBgNms7mtDCEEcXFxbWUAxMbGYrVa28rQ6/W0tLRQ7166n56eznfffdd2f//+/cyYMQOTzkl1i5OKmjpSEuKwWCzY7a4vgoyMDA4ePEhKSgrHjx8nLS0Np9NJY2Mj1dXVbQu1Ghoa2qaFSikpLi6mrMz1a2LYsGFYLBZ273aFj+3Tpw+ZmZkUFRUBkJCQQEFBAStWrGh73SlTprBt2zYqKysBGDlyJPX19exzX6jMzc0lJSWlLQlEcnIyI0eOZOnSpUgpEUIwdepUFi1ahMFgQFdZSfrXi9BPncqy710zXfr37098fDyb3AHNUlNTGTp0aFvyaIPBwKRJk1i/fn3borXCwkJKS0vb4pPk5+djMpnYunVrW30NHDiwbdzTZDIxceJEioqK2o7d+PHjKSkp4ciRIwAMGjQIvV5PUVERMTExZGVlkZeXx8qVKwGIjo5m/PjxrF69uu3i+sSJE9m/fz/Hj7vmrQ8ZMgSHw8HOnTsByM7OJicnh9Xbt5M0eDA1C76i18MPs2rtWiwWC+DKnLRr1y6/j1NTUxPnnHOOIsdp06ZNVFe7xqYLCgqoqqriwIEDPh2n3bVQ0WDh6iFmlixZ4vE46XQ6hgwZoshxKi52DQgoepxWu/Ilx8XFUVhYyIIFC9omfXTnOLVYJDrhClthP7pd8c+Tp+NUXFxMTEyMz5+nBx54gLnurHdAGt6QUqpyAy4FXm53/zrg2Q7b3A38xv33RKAY0HUsa8yYMbIjxcXFJz3mibq6Op+284ecnBzZ3NwspZSysrJS5ubmyqqqKllVVSVzc3NlZWWltNod8ryfXCG//HbZSfv/9re/lY8//riUUsrHH39c3nnnnW3P/fWvf217rj2+vu9gsHjxYimllBUvvyKLBw2WtQu+Cq1QJ7S6Ks3xJ590vffPP1e0XLV8u8tzi3fLfvfOl6V1zV630YqrrwTi+4u318lRf/pKOp1O5YQ6IRBXoEh66Z/VHOo5ArRf45zjfqw9NwHvA0gpVwJmOvuW0hgzZ85sO6tJSUnhwQcfZOzYsYwdO5aHHnqIlJQUjHode3YUE5dy8nzc++67j6+//pr8/HwWLVrEr3/967bnFi9ezLnnnhu09xIItZ9+iqFXLxLOnhlqlaDTupiraePGkHqogZSSt1cdIi8tloz44K5Y1SqnD0ijusnGjuPhHaRPzY5/LZAvhMgTQkQBVwLzOmxzCDgTQAhxKq6OX9HlcbGxvodM6C633347b7zxRtv9G2+8kT179rBnzx7mzJkDuFKnDRhwCgmpmVjsJybwSE1N5ZtvvmH37t0sWrSo7eJwaWkpzc3NDNfYIqiOjB8/nqYNG7Ds2oVpoLYDdY0fr85FZ2E0Ej1yJNVvvoVDwZhQavl2h5LqZo7UNHP1uL6dbqcF1+4QiO9pA1IBeCdIs3vUqlvVOn4ppR24A/gK2I5r9s42IcQjQogL3Jv9BrhZCLEJ+B/wU/dPFMWwWtVbcFFQUMD06dPbFnB5IiEhgblz3wdcF8o6o9X10KFD/O1vf1NOVCVKSkpo2bwZgKz77w+xTeeUlJSoVnb8TNcvncZVqxQrU01fX/l+bwUAE92dnTe04NodAvHNTYvltAGpQUuvqlbdqjqPX0r5hZRyoJRygJTyMfdjD0kp57n/LpZSni6lHCmlHCWlXKi0Q+vFWLW48cYbu5w5ZDLqEQgaugjf0Oo6duxYRo0apZSiahzZv5/Sx5/AkJ5OlHtaq1ZpvYioBsnXXgN6PXVffKlYmWr6+spLy/aREW9icFbnQQ614NodAvUdnp3IjuN11DSpv4pXrbrt8St3tYBOCBKiDVQ3WXE4Q5e/U2mMh1yzOuJneJyM9aNBZzIRlZND/YIFOGprQ62jCDVNVvaVN3LDabkY9JFuoj1nD8vCKeHVFftDreI3Pf6IamVxSUpsFBJo6mS4RyuuvpK+YAEAqbfeGmKTrmmdDqwW6XffDUDz5i2KlKe2b1csLHbleh2Zk9TltqF27S6B+hb0TWZYdgJFQRjuUatue3zHr5WIljFRruGg6ibvQ09acfUFZ1MTjq1b0SUkYMzUfho+tRbytRI7wXURruzJvyhSntq+XfH26kNkJ0VTmJvc5bahdu0uSviO7pPM93srqWywKGDkHbXqtsd3/FqJX6/X6UgwG6lrtnmN0a8VV19ocC8c6f3E4yE28Y3WhUFqoU9MxDxkCJbde3AqEFxPbd/OsDuc7DhWx6xhWT6FJgilqz8o4XtxgStu0Web1F1dr1bd9viOX006C8vcfppnKwnRRpxSYrW7xvnnzp3L0KFD0el0bSs4AbZs2cJPf/rToLwHfzn+2GMARI8cGWIT7ZB2x+0ANK1TLyVjMFiw7TgWu5PhOYmhVtEsBX2TSYszsdVLjDCt0+M7fjUTsXQWlvlPf/pT2/LrVqLdwz2V7pjew4YN46OPPmLKlCknuA4fPpySkhIOHdJmJEBnYyOO8gqYPh1DaudT/bRCVlaW6q9hHjoMgPK/PxNwWcHw9caCrceJidJzzjDfHELp6g9K+Q7LTuCrbcep7WT4NlDUqtse3/GrecG0q7DMC9wXP1uJNuqJNRmob3E1lFNPPfWEizftXc8//3zeffdd1dwDofSppwDIuuzSEJv4TjDyFBszM4g780xadu1CBjiNOJR5lTcermHaoHSvQdk6opUc0L6ilO/1E/tR32LnO/d6BzVQq257RvLML++D455nUzgddnR6P95m1nCY9YTXp30Jy+xpDm6cyUBpXQsOpxO97sTv3cbGxrZk64WFhTzxxBP87ne/6767yjStWYshPZ1NUjIt1DI+snLlyqAkBE+YPYuGb76h5sOPSL7yCr/LCZZvR77bU0FJdTM3nu57hxMqV39Ryve0AWnodYJtR2uZPdxzyOpAUatue/wZv1r4EpbZE7Hu4Z6Khs4Xf2g1LHPT2rVY9+0j6aorIcxmcwSD2AkTAKjr8GsvXPhmuytK5VVdhGmIAGajnsFZ8fxvzeGTwrFonZ5xxt/JmXlLQwNxcXGKv2R0dPQJs3Cys7PbwtaCa6m1p2/qWJMBs1FPg8VOx0mQ7adztrS0EB0drbB14NR8+ikAibNnE11aGmIb3wlWXRpSU0m68gpq3n0P6XAg/PxyDNWxX3ewijH9ktuuR/mCFttpZyjpe9OkPO5+fxPbjtZR0Lfrqa/dRa267fFn/Gp0+uCKqe1wONo6/7PPPpuFCxdSXV1NdXU1Cxcu5Oyzzwbg+uuvZ82aNYCrc4+J0tNsdZw0rbO9665duxg2bJgq7v7ibGyk9oMPiZs+najc3LAKzhVM1+iRowCo/M/LfpcRirrdeqSWTSW1jM1N6dZ+4dQOQFnfcXmuutpwqEaxMtsTdkHatIKaydZ9CcsMsHnzZnr37t22X5zJgFNK3vrfXHJycli5ciXnnnsuZ531Q+gDLYZlrn7fleAh7ozpAG0JLsKBYLomnjsbERVFcwChmkNRt61B2W44rV+39gundgDK+mYnRZMWZ+KN7w94XZ8TCGrVbY/v+NU4GK34GpY5Pz+fnJyctu0So40YdDqmnn0uJSUlWCwWSktL+fjjjwGwWCwUFRUxa9Ys1dz9oe6LLzD07kXSpa7ZPK2ZkMKBYLqKqCgSzj2XhiVLsFdV+VVGKOp2+e4KspOi6ZXYveGFcGoHoKyvEII5p+dyqKqJkmrl60Gtuu3xHb+a+B6Wee4JjwkhiDXpaWixe/xiOnToEE888YSqaxC6S9P6DbRs2UJMwZiwCi0RKuKmTwOg7rPPQurhK/vKG1i+u4LJ+WGTB0kzTB2YDsCKPepN61SaHt/xq5mIBXwLy+yJeLMRh5TUNv8w37vVNT8/X3PT4xpXLAcg894fppeGU5LtYLsmzJyJIT2d5q3b/No/2L6r97t+mfxscv9u7xtO7QCU9x2cFU9yjJG3Vx9UtFxQr257fMffmvxaayTHGNEJcUK0Tq26OhoaqHj+BUwDB2JIT297fP/+8AlLGwrX6MIx1H32GdaD3e8QgukrpeTdtYdJi4tiQHr3T5TCqR2A8r4GvY7rJvRj29E6Giyd59zoLmrVbY/v+O12ZQ+EUgghiI7SU9MuRr9WXZvcM5KSr77qhMePHz8eCh2/CIVr2m0/B6D+66+7vW8wfUuqm9l0uIaLR2f7NYwXTu0A1PEd3TcZKeHTjcomTlGrbnt8x69l0uKisDslDRZtL/6o/Pd/EFFRJF5ySahVwgrzoIFEDRhA+XPPqzrJIFBaZ/NcNDo7xCbhy+mnpNE3JYYP14VHGsoe3/GbzeZQK3gl3mREIGh0/zzUoqv1wAGaN24k6bLL0EVFnfDckCFDQmTVfULlGjfpdGRzMy1bt3Zrv2D6vrriACmxUQzOSvBr/3BqB6COb5RBx8whmWwqqW2LvqsEatVtj+/41TzT6m5Y5o7ce+/vuGj6WKZNLOSiiy5ui+appbDMla++BkDyNdec9Fxns5m0RqhcU266CYCGpcu6tV+wfCsaLOwsrefaCf3Q6/ybrRVO7QDU8x3fPxWHU/Lad8qNy6vl2uM7fjUvmHY3LHNHZsyYwdoNm/jg6+/IGzCAxx93JTXRSlhmabNRO38+0QUFROXlnvT8zp07gy/lJ6FyNWZkYMo/harXX0dafU/OHSzfL7ccAwhoGmc4tQNQz/esUzPonx6r6LROtVx7fMevJt0Ny9yRmTNnkhDtCsU8ZGThCdE8tRCWuXruXGRTEynXXx+Zux8AKTfehLOhgZbt20OtchLvrDlMeryJUX2SQq0S9gghGJebwvd7K9tCr2sV7awQCoC/rPkLO6p2eHzO6XSi03X/+21wymDuHXev1+f9DcvcEYPelZLxv2+9zg1X/RDGVwthmWveex8RHU3clMken8/ODp+LgaF0jZs8CYBjf3yY/p987NM+wfBttNjZebyOO87Ix6j3/xwwnNoBqOt73ojevLv2MO+tPezXmoiOqOXa48/4/en0fcHfsMyeeOXZv6HXG7jsqh/G0UMdlrl540YsO3eSdsvN6GJiPG7TPgyF1gmlqyEtjbgzz8SyaxcOH2NHBcP3ndWHcEoY60NC9c4Ip3YA6vpOyk8jOylasaBtarn2iDP+zs7M6+vr25KbKIm/YZk78vrrr/P1gi/551sfUlbXTHy0a+ZMqMMyV735JgAJ55/vdZvVq1drboWxN0LtmnLtNTR88w2VL79Mxl13dbl9MHyX7ionM8HE6QMCC9MQ6rrtLmr7juqTxMp9ldQ220iMNgZUllquPf6MXy38DcvcngULFvDkk0/y2WfzyExJpNku22YhhTIss6O2lrovviRh9myiwuxsTqtEjxmDiI6m4ZtvQq0CQG2zje/2VjB7eC90fs7mieCZ6yb2o6rRymebtJdIqZUe3/GrNdQD/odlbuWOO+6gvr6eGTNmcN700/jTfb9uC+EQyrDMNR9+BED8OWd3up1auQ7UINSuuqgo0n7+cyy799BSXNzl9mr7vvn9AaSEi0YFPoYc6rrtLmr7js9LIS0uijX7/YvM2h7VXKWUmr+NGTNGdqS4uPikx4LNunXr5LXXXtvpNrW1tfLSSy/tsiyb3SG3HqmRe8rqZUtLixw/fry02Wwnbaf2+3ba7XLPuefKveedr+rr/Bhp3rlTFg8aLI/8/vch9XA6nXLWM8vkhc+uCKlHT+Y372+UuffNlzuP14XMASiSXvrUHn/Gr2YiFn/DMnvCoNcRH+Vaxbtn34GQhWWumz8f6569PoVnWLlyZRCMlEELruaBA4k74wwaly1HOjtf3amm7/pD1RQfq+OCkSf/CvUHLdRtdwiG7+/OHoSU8PGGwGL3qOXa4zt+qXKMFH/DMnsixt3PJ/XqG5KLZdLhoOLFl9CnpZFyw/Vdbq/VaKKe0Ipr/JlnYC8vb7t47g01fT/ecASzUcflY/t0vbEPaKVufSUYvhkJZkbkJPLad/tpsvoffFEtV586fiGESQhxtRDi90KIh1pvPux3jhBipxBijxDiPi/bXC6EKBZCbBNCvNPdN9CTMOkFCWYjNU3WkAT1aipah3X/fpIvvxyh4rWRHzOJl1xCVF4eVa+8igxBNNaaJitzi0o4Z2gWcaYeMalPs/x86gBabE5W7NZeghZfP92fAhcCdqCx3c0rQgg98BwwCxgCXCWEGNJhm3zgfuB0KeVQ4K7uyPtCOF14iouLIyHagMMpqW4K7so/KSWljz2GMJtJ/dlNPu0zadIkla2UQyuuQggSzj8Pe3k59QsXet1OLd/PtxzDYncqsrioFa3Ura8Ey/eMUzOIMxn4+6LdfpehlquvHX+OlPIKKeWTUsq/td662GccsEdKuU9KaQXexfXl0Z6bgeeklNUAUsqybtn7QPu59lqnpaWF5JgoDDod1U2+x3VRAuuePVh27SL5isu9LtjqyK5du1S2Ug4tuabddhu62FhXSAwvv+zU8K1vsfG3hbs4JSOOob39i8TpCS3VrS8Ey9dk0HPF2D5sP1ZHSXWTX2Wo5eprx/+9EGJ4N8vOBg63u1/ifqw9A4GBQojvhBCrhBDndPM1ukSryU08YbfbEUKQFGOk0WKnOYCxwe5S+te/ghBt0SR9oaxM8e9p1dCSq9DpSDjvPJpWrqJ5/XqP26jhu3x3BVWNVu6fNVjR2EtaqltfCKbvVeP6AvD0Qv86cLVcfR3kmwT8VAixH7AAApBSyhEKvH4+MA3IAZYJIYZLKWvab3Ts2DEGDRoEgMlkYs6cOUybNo36+nr0ej3R0dEnzN6Jj4+nsbERp9OJw+HA4XBgs9mw2WxtZQgh2n4NGAwGzGZzWxlCCOLi4trKAFc+XKvVekIZLS0tzJ49m/nz52MymbjoootYvXo1EyZM4IMPPiAuLo6Ghoa2s7rY2FgsFkvbl5EQgjlz5rBu3TpSUlJ49dVXGTZsGPuKN/LU3//Fcy+8RE5a/AllSCkpLi5uaxDDhg3DYrGwe7fr52SfPn3IzMykqKgIcM0qKigoYMWKFW2vO2XKFLZt20ZlZaWrjD59aPzue5rHjeW74mJym5pISUlhvbtTSk5OZuTIkSxduhQpJUIIpk6dSnNzc9tq5YKCAqqqqjhw4AAA/fv3Jz4+nk2bNgGQmprK0KFDWbZsWVudT5o0ifXr11NXVwe44hOVlpZy+LDrfCE/Px+TycRWdyz7jIwMBg4c2LZ2wmQyMXHiRIqKitqO3fjx4ykpKWmLkzRo0CD0ej0NDQ0sWbKErKws8vLy2mZLREdHM378eFavXk1zczPgynO6f//+tuxHQ4YMweFwtEVKzM7OJicnh9WrVwOuIbrCwkJWrlzZdjFu0qRJ7Nq1y+txyvnJJTB3Ljv/9jS1t9x80nFqaGjA6XSecJxGjhxJfX09+/btAyA3N9en47Rp0yaqq6v528pmzEYd/aKa2o6bEsfJarVSUVGhyHEqdq9xUPM4NTY2tr3/ro6TP5+n9sdJSsmQzGgW7yhl8eLFCCG6PE7ww+eptd36epweeOCB9rMIvS/J9jbPs/0N6Ofp1sU+E4Gv2t2/H7i/wzYvAnPa3f8GGNuxrEDm8VutVp+284dnn31WPvPMM233Fy1aJOfNmyfPPfdcn/Z/7rnn5K233iqllPJ///vfCfP9J06eJr9es0XaHc4T9lFjHn/Jr38tiwcNls3dLLu8vFxxF7XQouvhX90piwcNlpbDh096TmnfgxWNst+98+UTX25XtFwptVm3nRFs3/fWHpL97p0vP998tNv7BuJKoPP4pZQHgSTgfPctyf1YZ6wF8oUQeUKIKOBKYF6HbT7BdbaPECIN19DPPl+cfEWqODumfVhmgDPPPLNbcYE+/fRTbrjhBgAuvfRSFi9e3OZ7wfnn8fknH7Zl51ILR20t9V8vIvEnl2A+9dRu7RtO0/i06Jp+568AqHzppZOeU9r33bWu3A6XjlE+BIcW67Yzgu17zrAseiWaefbbPd3eVy1Xn4Z6hBB34roQ+5H7of8KIf4tpfyXt32klHYhxB3AV4AeeFVKuU0I8Qiub6J57udmCiGKAQdwj5Sysrtv4vj//R+W7Z7DMtsdDgx+zLM3nTqYrN//3uvzHcMy+0P7UM4Gg4H4+HgqKytJS0vj9AnjefCRP3O8toU4swGdSvHwK199DWmzkXz55d3ed/fu3WETkleLrlF5eUSPGkXtJ5+Sce+96NvNQFPS93htC298f4Czh2YyIF35WW5arNvOCLZvgtnIbVMH8Md52/h+bwWndSMonlquvl7cvQkYL6V8SEr5EDAB1xdBp0gpv5BSDpRSDpBSPuZ+7CF3p4/7F8ndUsohUsrhUsrQZh7pBkqGZfZEVlYmNRVltNgdVDaoM8PHeuAAVa+/TsLs2USPHKnKa0TwjhCCjHt+i7TZKP/7M6q9zj0fbKLZ5uCuswaq9hoROueSgmziTQZeXXEg1CqA7xd3Ba4z8lYc7sc0QWdn5i0tLaokMe8YltkfsrOzOXz4MDk5Odjtdurr60lNTQVc3nGxMUTpdZTVt5AaF6XoWb90Ojn+2P+BXk/Gb3/jVxntE89oHa26RhcUED/rHKrffpvkK6/AlJ8PKOe79kAVy3dXcPv0AZzaS7kpnO3Rat16IxS+8WYjlxX24dXv9rN0VzlTB6b7tJ9arr6e8b8GrBZCPCyEeBhYBbyiipHCGI2BxcP2RsewzJ1x//338/HHJ2deuuCCC9qSsn/wwQdMnz69bZpda1jm3knROJyS8nplx/pq3p9L4/LlpN54I0YPkUN9ITMzU1EnNdGqqxCCjN/8BvR6St05l0E53798uYMEs4HrJ+YqUp4ntFq33giV72/PHkicycA/v9mNw+nbtUe1XH29uPs0MAeoct/mSCmfUcVIYZqa/Fs44QvtwzIDTJ48mcsuu4xvvvmGnJwcvvrqKwC2bNlCVlbWSfvfdNNNVFZWcsopp/D000/z4IMPtj3XGpY53mwgJkpPRYPF58bSFfbqasr//neiThlA2u2/8Luc1ilu4YCWXaNycki79VYav19JnTtPsxK+n28+RtHBam6e3J/MBOV/9bai5br1RKh8Y6IM3Dy5P+sOVrNw23Gf9lHLtdOOXwiR4P43BTgA/Nd9O+h+7EfN7bff3nbGDrB8+XLKy8tpbm6mpKSkLRGLzWZj4sSJJ+1vNpuZO3cue/bsYc2aNeTl5QGuK/lFRUXMmjULIQSZCWYcTsnxOmVWIVe9+hqO2loy770vkkRdI6TcOIeoAQM4/thjOBU4WbE5nPx14U56J5q5eYpy4RkiBMbt0weQFmfiz59vp9nqPaqv2nR1xt8aNG0dUNTu1npf86iZiMWXsMxA25l/V7S6Hjp06ISwzPFmIwlmI1WNVuyOzsP5doXt6FEqX32V6DFj2pKA+0tCgjpjxmqgdVd9XBwZv/0NjvIKKl9/PWDfd9ccYn9FIz+ffgpmozLRY72h9brtSCh9DXodvzt7EEdqmn0K2ayWq1BznrtSFBYWyo4/ebZv386p3Zx3Hs402xzsKWug+sh+Jo8d6deZunQ4OHj1NTRv3kz/zz/H1D9PBdMIgXDw2utoKioi94MPiB421K8y9pQ1MPufy8lLjWXBXZMjv+o0hsMpOevppRyvbWHFvdNJjTOp8jpCiHVSykJPz/kalvmkRKGeHtMi9fX1oVbwmc5co416MuNNWOxO3lrV1do5z5Q/8wzNmzaRfvevFen021/f0Drh4tr7yb+gT0xkz5134rR2fxpvs9XBnNfXoBPwr6tHB6XTD5e6bSXUvnqd4IVrC2ixO7j3w82dbquWa1dj/Gb3WH6aECJZCJHivuVycsC1CCqTHm8iSi94eN421h3sXj7P2vmfU/nyK8RNn05qNwKxdUa4BcALB4y9e5P5wB8wHDlC6aN/7tbKcyklv/zfBg5XNfN/Fw9nYKbvq8gDIVzqthUt+A7OSuDG0/NYtL2Ml5d7D1aglmtXZ/y34hrPH+z+t/X2KfCsKkYRvCKEIDXORJzJwE9fXcvByk5TIrRh2befo/fdh/nUU+n9xOORJCsaJ+G882g6/XRq5s6l4oUXfN7vxaX7WLS9lNunD+CSAuVDM0RQlnvOHsSoPkn83xfbWbwzuBFOfRrjF0L8srPwDGoTyBi/dEe/Cwd8cd2+fTv2+N5c/fIqMuJNzLtjErGdZFKyV1dz6PobsB46RN5HH2IaMEAxX6fTqerFcyUJJ1cAh9XK4Z/OoXn9enr/7a8knntup9sv3Hacn7+9njF9k3n75vEY9cF7r+FWt1ryPVbbzFX/XkVlg5UPf3HaSb/SAnENeIxfSvkvIcQwd5rE61tvftkEmdYQrmqVPXXq1LZZPeeccw5JSUmcd955Pu2/bNkyCgoKMBgMfPDBB22u5eXlnHOO99QEw3MSefbqAvZXNPKr/23A6WV+v9Ni4ehv78Gyeze9n3xS0U4fYNu2bYqWpybh5ApQvHMnOc89iyk/n2P33U/j6jVet/1meyl3vruRfikxPHdNQVA7fQi/utWSb6/EaN68cTxGg47b3lpHdeOJ13XUcvX14u4fgX+5b9OBJ4ELVDFSmK6mWgbCq6++yiWXXNKWbP2ee+7hrbfe8nn/vn378vrrr3P11VcDP7imp6fTq1cvvvvuO6/7Th2Yzv2zTuWbHWVc/+qakxqM7cgRDlx5FY3ffUf6XXeRcPbM7r69LmmNPx4OhJMruHwNycn0ffMNDL17cfi222hwx15vxe5w8tziPdz0RhG9Es28dN0Y0uPVmSHSlWs4oTXfvqkxPHvVaA5VNXHDa2uoaPhhlb5arr6eGlwKnAkcl1LOAUYCiaoYhRGBhmXOzc1lxIgRHn/KXXTRRbz99tud7v+zyXn8fvZgVu6r5ILnVrD1SC0ATevWsf/yK7Du20fvJ/9C2m23+uwUQVsYkpPp8+KLGHv35vAtt1L2zDNIu51Gi50b3yjiqa92cvopqXz489PID9LF3AjKc9opaTzxkxHsOFbP7H8s7/bkje7ia5C2ZimlUwhhd6/mLQM0E5lp+fu7qDjc4PE5f8f40/rEMfly79EMlQjL3JHo6Oi2vwsLC3nggQc63V4IwS1TBjC6bzJ3vLOeS57/nmdj99HnzWfRJyXR99VXiBkzRjG/jowMo4ie4eQKJ/qa8vLIe/89jv3pT1S++BI1a9dx/5DLWVev4zczBnLHGaeE9DpWONetlrh0TA4DM+P4+X/Xc8VLq/iHeQ9D6g/jnDABncKBJn094y8SQiQB/8E1q2c9sFJRE5WQqLNATY2wzO2HpTIyMjh69KhP+43NTeGzX07itqp19HnzWWr7DyZ3/nxVO33oOWsktEhHX11sLNlPPknLnffSvHETd899lDemJPLLM/NDPnkh3OtWS4zISWL+Hadx3/Fl9H/nBfZt2oVQIdCkT2f8UsrWSF4vCiEWAAlSys5XHgSRzs7M6+vruzX84itKhGXuiNVqxWRyjdG2tLSc8AugM6TdjnzhX8xa/Db7+w3h7iHXMG7eXv5xRTzJsVGKOrZn37599O3bV7XylSScXOFkXyklb606yKMlGRSe+xseXPkqut//kjr9X1S5ftMdwr1utYSjro6Ge37H6d8v5eCo03l6yPlMsEtiFY660dUCroKONyAFMLj//tGiRFjmzmgNy9wVzsZGSn75K6pefZWkyy7jnHnv8PNzhrNidzkXPLeC7cfquvW6EbRHo8XO3e9v4qFPtzFxQBovPHwV+R+8jzEriyN33knp448jVZzEECE4NG3YwP7LLqNhxQoyf38/Z/73JX43KaHT6dr+0lWJf+vkOQmcoaCLKkRFqXfG2xqW+ayzzgJcYZl37NhBQ0MDOTk5vPLKK5x99tls2bKFCy44eRLU2rVrufjii6muruazzz4jMzOT4uJi4IewzJ1hKy3j0A2uOfqZ999H8vXXI4TgzrPyGZ6TwC/f2cCFz33HP68cxTnDein+/pW8vqE24eQKP/g6nZLfzt3El1uP84tpA7h7xkAMeh3EZJL7wVyOP/RHqt54E8v+/WT/7W/oVfh166truKBFX+uhQxy66WcA9H3tVWLHjQPgFLXiaXnLwq6l25gxY07KIF9cXOw1u3x77Ha7T9v5w7p16+S1117b5XYzZ870qbz2rpMnT5ZVVVUnbdP6vh0Wi9x38SWyePCpsu7rrz2Wd6S6SZ7x18Vy8ANfyg2Hqn1y6A61tbWKl6kW4eQq5Q++z367W/a7d7589tvdHrdzOp2y7NlnZfGgwfLgLbdIh8USTE0pZfjWrVZwtLTIfZf8RBYPGy6bd+484blAXHHlNvfYp/o6j/96Tzd1voqURc1ELEqHZW51LS8v5+677yY5OdnrthXPPkdLcTGZD/yBePcvjo70Torm39cXEmsycPObRZTVK3tNYv369YqWpybh5Aou3yU7y3jqq53MGpbFL6Z5XnwnhCD99ttJu/12Gpcuo/LFF4NsGp51qxWklJT95Ulatm0j+y9PYB544vVKtVx9ndUztt1tMvAwYbKAS21uvPHGtgVcSpGens5FF13k9fnmTZuofPllYqdMJtm9+MsbA9LjeO7q0ZTXW7jvwy1Y7YHF848QHI42OPnlOxs4JSOOpy8f1eXMnbQ7bidu6lQqnn+Bui++CJJlhECpmz+f6nfeIfnaa0mYPTtor+tryIZftrvdDBQAceqqKYPSnbKa+OIqnU6O/PYeDGlpZD/5pE9T+cb3T+Weswfx7Y4yHv9yuxKqAJ3+ItEa4eRa02TlL2stOKXklRsKiY7qul0IIcj+1z+J6tePow88iL28PAimLsKpbkE7vpbduzn2wIOYR44g8757PW6jlqu/QT0agbDI4hETExNqBZ/xxdVRVYXt8GF6P/kk+m6sI7h9+imcO7wXr313wOd8n12h1YUwnggn199/vIVai5P/3FBIv9RYn/fTRUWR/Y9nkBYLh276GdJmU9HyB8KpbkEbvk6LhUO33oowm8n55z8RBs/zbNRy9XWM/zMhxDz37XNgJ9C9+YkhQsuLNTrSlau9uhpptZJ+113EThjf7fKfumwEvRLN3PnuxpNi+/jD0qVLAy4jWISL6+IdZXyx5Tgz+hk5bUBat/c3Dx5M7ycex7JrF8cf/bMKhicTLnXbihZ8a957D/vRY/T686MYMzO9bqeWq69n/H/FNbXzb8D/AVOklPepYhTBI9Jux15aBgYDqT/zL5FKTJSB564poNnm4J/f7g7cKQzSdrYSDq5SSv702TZ6JZq5cID/qzUTzjuP+HPOofbjj4My5BMOddueUPs6m5upeP4FYgoLvU7MaEUtV1/H+JfiOstPxLWAK/QpbDRAoGGZn376aYYMGcKIESM488wzOXToEOA5LLO9shJpt6FPTPT6s9AXRvdJ4vyRvXntuwMcqPAtkYs3Qh0qoDuEg+sb3x/gQGUTvzozn3iT/6GVhRCk3XIz0unk+J8fU9DQ++uFE6H2rXztNRw1NaTfdWeXLmq5+jrU8zNgDXAJrkidq4QQN6pipDBqhGtoJdCwzKNHj6aoqIjNmzdz6aWX8sgjjwAnh2WWDgeOqip0sbHoTIGF3RVCcM/MQQA8/Flgsb6nTp0a0P7BROuuLTYHzy3Zy5BeCVxe2CdgX/OQISRfczX1X31Fy3blLuh7Qut125FQ+tqrq6l67XXipk4l2odYWmq5+npacQ8wWkr5UynlDcAYwPNlaI2h5jz+QMMyT58+ve2C7oQJE9rO+OHEsMyO6mqkw4EhPV0R776pMVwzvi9LdpZTfNT/kA6bNm1SxCcYaN31P8v2UV5v4fbpp6DXCUV8U66/HnQ6Kl58SQFD72i9bjsSSt/jf3oEZ309ab/4uU9n82q5+jpmUAm0v/JY735MEyx+/d+UHfScsNhhd6A3dH9KZ0a//kz/6S1en1c6LPMrr7zSFvoBfgjLLJ1O7BUV6KKj0ccpN4P2tqkDeL/oMM8s2sW/r/eYna1LqqurFfNRGy27ltdb+PfyfYzLS+HcEa7QGkr4RuXkkHzllVS/8w7NW7YQPXx4wGV6Qst164lQ+VoPHqR+wQKSr76KaB9n66jl6usZ/x5gtRDiYXc2rlXALiHE3UKIu1Ux0zhKhmX+73//S1FREXfeeWfbY61hmR1VVUi7HUMnV/79oU9KDNdNyGVhcSnf761QtOwI3ePt1Qepb7Hz67O8R5n1l9TbbgWDQfWz/ghdU/H88yAEyddcE2oVn8/497pvrXzq/lcTKX86OzN3OByqLOJSKizzokWLeOyxx1i6dOkJizVawzLbSkvRRUeji/V9Prev3HlWPu+uPcQLS/YysX9qty8kFRSET4BWrbq22By88f0BxuWlMHFAatvjSvkaMzJIvPACaj/8iOat24geNlSRctuj1br1Rih8rQcOUPvpPBIvuaRbua/VcvV1Vs+fpJR/wj2ls/V+u8c9IoQ4RwixUwixRwjhdfqnEOInQggphPBvzKET7HZ1JiApEZZ5w4YN3HrrrcybN4+MjIwTXHft2sXQgQNBSoy9eqtydT8x2sgNp+WyfHcFX20r7fb+VVXqpodTEq26frXtONVNNn4+9cTOQEnfjN/+1lXm668rVmZ7tFq33giFb80nnwB0eyq2Wq6+zuoZJoTYAGwDtgkh1gkhOj11EELogeeAWcAQ4CohxBAP28UDdwKruyvvC1Zr4AuVvNEalrmVyZMnc9lll/HNN9+Qk5PTFpxty5YtZGVlnbT/PffcQ0NDA5dddhmjRo3i4osvbnvu22+/5eyJE9GZzYhoZdOutec3MwYSbzIwf7Nv2b7ac+DAAeWFVEKLrha7g0c+KyYnOZopA0+8cK+kryE5mcQLL6Bu/nysKtSDFuu2M4Lt66itpeaDD4kZNw5T//7d2lctV1/H+P8N3C2l7Cel7Af8Blcaxs4YB+yRUu6TUlqBd4ELPWz3KPAXQNnQkUHg9ttv54033mi7v3z5csrLy2lubqakpISzzz4bAJvNxsSJE0/af9GiRZSWlrJx40Y2btzIe++91/bcvE8+4crZszFkZKg679ig13HGqRnM33yM/QHO64/QPYoOVFPZaOW+WYPR69SdW556220A1H/zraqvE+Fk6r78EkdFBak33xxqlTZ8HeOPlVIubr0jpVwihOhq0DkbONzufglwQpwBdxavPlLKz4UQ93gr6NixYwwa5Jp7bjKZmDNnDtOmTaO+vh69Xk90dDQNDT8kW4+Pj6exsRGn04nT6cThcGCz2bC5Y5eYTCaEEG3DNAaDAbPZ3FaGEIK4uLi2MgBiY2OxWq0nlDF8+HAmTpxITU0NJpMJk8lEY2PjCWU0NDTwwQcfUF9fT2xsLBaLpW1Ix2w2I6XEYrEAoNPpcDqdHDx4kDuuu47klBR07jJaV/BJKSkuLqasrAyAYcOGYbFY2L3btRK3T58+ZGZmUlRUBEBCQgIFBQWsWLGi7XWnTJnCtm3bqKx0Tcy6fkw+n248yiuff89Z/Yzk5uaSkpLSFhI2OTmZkSNHsnTp0rbk9VOnTsVoNLJkyRLANRZZVVXVdobSv39/4uPj26ajpaamMnToUJYtW9ZW55MmTWL9+vXU1bmmlBYWFlJaWsrhw65mk5+fj8lkYuvWrYDrgvfAgQPbfmWZTCYmTpxIUVFR27EbP348JSUlHDlyBIBBgwah1+uxWq0sWbKErKws8vLyWLnSlTI6Ojqa8ePHs3r1apqbmwGYOHEi+/fv5/hxV0yjIUOG4HA42LlzJwDZ2dnk5OSwerXrR2pcXByFhYWsXLmy7VhOmjSJXbt2dXqc/vXNcfQC9GU7Wb/++AnHyWq14nQ6TzhOI0eOpL6+nn37XDPYfD1OmzZtorqqitSMDCpeeZm66dM46J46rMRxSk5OpqKiQpHj1JqISM3j5HQ629qtL8epu5+njsep17zP0GWkU2S3wZIlnR8n9yye1s9Ta7v19Tg98MADzJ07FzfeY354C9Tf/oYrLs+DQK779gDwcRf7XAq83O7+dcCz7e7rgCVArvv+EqDQU1mBJGKx2Ww+bacFWl2dNpts2rpVWo8ePWkbX993d3A6nXLaU4vlmEcXyhab74lrPCWK0Spac61ptMrc++bLBz/Z4vF5NXyrP/hAFg8aLFt27VK0XK3VbVcE07d5+3ZZPGiwPPbIo37tH4grgSZiAW4E0oGPgA/d3yRdrdw9AvRpdz/H/Vgr8cAwYIkQ4gAwAZin9AXe1rODcKDV1V5dDVJ2K/pmIAgh+MW0AVQ0WNlSUuvzfuG0cEdrrm+uPICUcO5wzykx1fCNnTABhKDihRcULVdrddsVwfRtdP/qSb3F+8zDzgjJAi4hhBm4DTgF2AL8Rkrpa6zXtUC+ECIPV4d/JdCWNURKWUu7nyJCiCXAb6WURd15Az0RZ20tuugYdNHRQXvNGUMy0esELy7dy8u5KUF73R8r8zYdpU9KNGODWNfG7GwSZs2iYdkypMOBCKNcFeGItFqpfPU1ogYMwJiZEWqdE+jqjP8NoBBXpz8LeMrXgqWUduAO4CtgO/C+lHKbEOIRIUTQsneFWyIWe00NzpYW9ImJQX3tpJgorhjbh292lFHX4tt3e2pqatcbaQQtua49UMXusgZumJiLzstFXbV84844A2dDA/ULFypWppbq1heC5du8aROOqirSfvFzv8tQy7Wrjn+IlPJaKeVLuMbsp3SncCnlF1LKgVLKAVLKx9yPPSSlnOdh22lqnO1HB/GsOVCio6Nx1NQgjEb0KcHPEnTByN5ICe+sPtT1xsDQocovBlILLbn+d9VBAC4Y1dvrNmr5xp8xHX16GtXvva9YmVqqW18Ilm/1/94FIPa00/wuQy3Xrjr+tlM/9xl82NF+to/StA/LvHHjRiZOnMjQoUMZMWLECVMzvWGxWLjiiis45ZRTGD9+PNs2bcbZ0EDx4RLm3Bj84Kdjc1Mo6JvES0v3YnN0nZu3dUZBOKAV19omG4t3lHFJQTYZ8d7XZ6jlq4uJIeGcWTSvW4ej1vfrOZ2hlbr1lWD4OhoaqVu4kMSLL8YQQPpE1dpBF8+PFELUuW/1wIjWv4UQ/od17CG0D8scExPDm2++ybZt21iwYAF33XUXNTU1ne7/yiuvkJyczJ49e/j1r3/NHx98AIBRk06npKTkhGidwUCvE/xi2ilUuzunCMrz6nf7qWuxc834fiFzSJh1DtJmo/K110Lm0NNpWr0K7HYSzjs31Coe6bTjl1LqpZQJ7lu8lNLQ7u+EYElqlfZhmQcOHEh+fj4AvXv3JiMjg/Iush99+umn3HDDDQD85Cc/YemKFQiTCZ3ZzPnnn8+7776r7hvwwJSB6aTFmfhgXUmX2xoCSAgTbLTiuu5gNUN7JzCmX+dngWr6xhQUYB45gqZVyiyW10rd+kowfGs/m48uMZGYAGPtqOUaXkfMCzWf7cV61PuqU38mdEb1jiXpfO/BlDoLy7xmzRqsVisDugjGdOTIEfr0cc141VmtJMTFUe1w0AvXIpknnniC3/3ud37Y+0+UQcfk/DRW7KloW1zijUmTJgXRLDC04HqwspEVeyq4YWLXZ/tq+8adPomK55+ncdVqv/I3t0cLddsd1PaVdjuN339P/FlnBTwzTy1X//O7hQlOp0OVcr2FZT527BjXXXcdr732Gjqd79XrdF+LMLjLbA3LHArG56VQXm9h/uZjnW7XumI0HNCC67fu4bOLRmd3ua3avik3zkEYjdQvWhRwWVqo2+6gtm/NRx/hrKsjbkq35sJ4RC3XHnHG39mZeX19vSrpFz2FZa6rq+Pcc8/lscceY8KECV2WkZ2dzeHDh8nu1QtLWRl1DQ2kuePut4ZlDgUXF2Tzj2928+H6Es4f6X3mSesS/nBAC67f7igjOyma0X27vtintq8+Lg7z8OE0rVvX5S+7rtBC3XYHtX3r5n9OVL9+xJ91ZuBlqeTa48/41aJjWGar1crFF1/M9ddfz6WXXnrCtt7CMl9wwQW88cYbOJua+GjBAqZMntz2Ady1axfDhg1T/414wGTQc/bQLL7fU0mTNSwnc2mOw1VNLN9dwbg87SyOi504Ecv27TSH2Rm7lpFOJ81btxJ7+ukIDV/76PEdf2tOWzVoH5b5/fffZ9myZbz++uuMGjWKUaNGsXHjRsB7WOabbrqJyspKBo0YwT/ffJO/PPXD+rjFixdz7rmhmxEwY0gmVoeTr7Yd97pNYaHi6RNUI9Suq/a5AnjdcFquT9sHwzf56qsAaN60OaByQl233UVN37rPPkM2NRE9coQi5anl2uM7/tZommrQPizztddei81mawuxvHHjRkaNGtXm4Ckss9ls5v333mPL55/z3aef0qef66KfxWKhqKiIWbNmqebeFRP7p5IYbWTNfu+JIEpLu5+8JVSE0lVKyWebj5EUY2REtm8rsoPha0hNxdi7Nw3LA5srHk7tANT1bVi6DH1aGgkKnbSp5Rrp+AOgoKCA6dOn43B0fgG5NSGLJ5zNzeB0YkhLa3M9dOgQTzzxREinyel0gpF9kpi/+RjNVs/vrzUsbzgQStcDlU0s21XeaYiGjgTLN37mTJpWrsLiDiHsD+HUDkA9XyklTRs2EFNQoNgwj1quPb7jV5sbb7wxoHhAzlrXxRvR7kJufn4+06ZNC1QtYH5SkE19i52luyKLuQJh0+EaAM4eevJwX6hJvPgiAFq2bQutSA+g4ZtvsB87Rsy4caFW6ZIe3/GbTKZQK3hFSomjtgZdXBw6o1FzrrOG9SLKoGO1l+Ge1gVr4UAoXd9ZfYg4k4GBmXE+7xMsX9OAAehiYqib/7nfZYRTOwD1fBtXrUaYzSRfcbliZarl2uM7fjXTFgaKtFiQDgf6BNciaK25Rhl0jO6TxP/WHPI4u0drX1SdESrX8noLaw5Ucc34vhj0vn/cguUrDAYSL76YhqVLXXkg/CCc2gGo4ysdDhq/+w7z0KEIo1GxctWq2x7f8Xeca68l7O5UbbpYVxZLLbr+9LRcWmxOjxd5W1PthQOhcv1+bwUAZ56a2a39gukbf+YZALRs9W+4J5zaAajj27R6Ndb9+4mfcZai5apVtz2+49cyzsZGdLGx6DR8xjQpPw2dgIXF4TVzQyu8s/oQ8SYDI3KCm1+hO5hHjEQYjVT/97+hVglbmjZsACFI6rCGR6v0+I5fzZkxgYRldjQ2sfz775lw4YUYDAY++OCDNtfy8nLOOecc1by7Q7zZyIT+qXy0voQW24mzezIytJVVqDNC4Wq1O9lwuIbLx/bBbOzeBIBg+urjYkn8ySU0fv890o9ZcOHUDkB5X2m3u1br5uWhj/P9Oo4vqFW3Pb7jN5u9xzwPlEDCMjuqq+ibk8Prb7zB1VdffYJreno6vXr14rvvvlPNvTtcP7EfLTYnO47Xn/D4wIEDQ2TUfULhunhnGVa7kwIfQjR0JNi+sePHI202mt2LDrtDOLUDUN7XsmcP1v37Sbr8MkXLBfXqtsd3/GomYgkkLLOzuZm8/HxGjh7dFsytvetFF13E22+/rZp7dxiekwTAl1tODNrWumo5HAiF67yNriB7k05J62LLkwm2b8yECQizmcpXXu32vuHUDkB535btOwAUCcrWEbXqVrvBJLrBl19+yfHjnkMLOBwOv+bZZ2VldbpyNpCwzM7mZqTFgkhM8lp+YWEhDzzwQHe1VaF3opnh2Yl8uvEo988+NdQ6YcPGwzWcO6IXiTHKzfJQC0NysisR+9KlAQdt+7FR88EH6OLiiOoXuuQ63aXHn/GrRSBhmR11riETffKJ+7f/sIUyLHNHhBBcPDqb43UtlNb9MPMonKbxBdt1+7E6jtQ0M8r9a6m7hKJuzcOG4qiqwrp/f7f2C6d2AMr6Oi0WmjdvJv6ssxABLOT0hlp12yPO+EMR0yaQsMzO5iZ0ZjO6DvN949pdGAplWGZPtM5K+WzTUX42uT+Ax/hDWiXYrm+uPEiUXsc5w/xbrRuKuo2bNIlSIah66y16/fGPPu8XTu0AlPW1bN8ONhtx7imxSqNW3fb4M/7GRu+ZuQLB37DMTosFZ0MDOg9RQ9u7hjIssydG9kkiJzmaz9uN8xcVFYXQqHsE27X4aC1j85Lpk+JfdNhQ1G1Uv37EjB1Ly7bibu0XTu0AlPWt/p8rPWr0yJGKldketeq2x3f8TqdTtbL9CcvcmmlLn5LC2rVrycnJYe7cudx6660nhGANdVjmjhj1OmYP78W2I3VY7a46VfPCudIE0/VYbTObj9QytLf/c/dDVbfmIUNo2b4dRzcSgIRTOwBlfRvXriF6zBiMKk27VKtue3zHryb+hGV2NjYiDAaEycTYsWMpKSmhsbGRyspK1qxZ01b2vHnzuPbaa4P+njpjRE4iVoeTL7Z0npLxx877a0uQEi4p6DrFotaInzkTbDaq3nwr1Cqax1ZWhv3oMeLPUna1bjDo8R1/rDscghp0Nyyz02LBUVeHPjHR46yJVtfy8nLuvvtukpO7P/9bTWYOySIx2siCra4ZVOPHB5akO5gE07X4WC3902IZnJXgdxmhqtuYgtGYR4ygsRtrSMKpHYByvtXvvANAzJgCRcrzhFp12+M7fqvVqmr53QnL7GxqAkDvpUNvdU1PT+eiiy5SxE9Jogw6pg9KZ/0hVzCvkpKSEBv5TrBcy+pbWLqrnGE+JlzxRijrNva0iTRv3Ohz0LZwagegnG/TmrUY+/TBPHy4IuV5Qq267fEdv5qJWLqLs6EBodMhvEzR0pKrN8b0S6as3sKSnWUcOXIk1Do+EyzXb7aX0WJzct3EwOZ0h7Ju4884A6Sk4dtvfdo+nNoBKOMrrVbXNM4zz1R1zYNaddvjO36t4LTZcNTWoktICOvFMZcV9sGgE3yzPZKcxRPbjtYSbzIwxo8wDVrBPHw4usREmjduCrWKZql+912w28Mi6YonenzHr5XFJbK5GfA+zAPace0Ms1FPQd9k1h+qZtCgQaHW8ZlguNY0WflgXQmj+ib5nGLRG6GsWyEE0cOGUffll23Dk50RTu0AlPFtKlqHLiGBuOnTAi6rM9Sq2x7f8Wvl7NpRXQ1CoOskaJxWXLtiQv8Uth2tY+NRddZIqEEg6TF9pehANS02Z9sCt0AIhm9nJF12Kc6GBhpXrepy21C7dpdAfaXVSsOKFcRNnar6Z1atulW14xdCnCOE2CmE2COEuM/D83cLIYqFEJuFEN8IIRQPdqFmchNfwzJLhwNHfT365OQTlnU//fTTDBkyhBEjRnDmmWeya9cuQFthmT1xy9QBCAEL1vufoDvYFBd3b1GSP2w9Wgu4roMESjB8OyNu2jQwGGha2/UColC7dpdAfesWLEA2NRE3ZbJCRt5Rq25V6/iFEHrgOWAWMAS4SggxpMNmG4BCKeUI4APgSbV81MDXsMxO95dPx1jdo0ePpqioiM2bN3PppZfy0EMPAdoLy9yROJOBQZnxbKnofBrrjwmL3cEb3x9gaO8E4kzhHwlFZzYTPXw4Ne+/j9NiCbWOpmjasAERFUWChhZYdhc1z/jHAXuklPuklFbgXeDC9htIKRdLKVsHEVcBOUpLqJmIxdewzI6KCtcwT4cwDdOnTyfG/diECRNOCMqmpbDMnjhtQBr7ap3s7BCjX6u0rpxWi92lDVQ32fjpabmKlKe2ry8kX3MNzsZGWrZs6XQ7Lbh2h0B8pcNBw+IlRI8pQHgJwqgkatWtmqcm2cDhdvdLgM5WI9wEfOnPC+3a9Sj1Dds9Pykl+DEOFx93KgMHPuj1eV/DMkspcTY2ok9MQnTyJfTKK68we/bstvtaCsvsiesn9uPV7/az8XA1g7LiQ63TJXl5eaqWX3TAlZN4tEKzedT29YXYCa6Pa+P33xPTLpxIR7Tg2h0C8W1YvBj78eOk/fznChp5R6261cRvUiHEtUAhMNXT88eOHWu7um0ymZgzZw7Tpk2jvr4evV6PBBwOe9v2er3BvZpWIqXrAomUEildMWZ0Qgfihzg+Qgh0Ol27FbiuL4rGxsa2bWJjY7FarW1z7SsrK0lMTKS+3nXGazAYMJlM7N27l2uuuYaXXnoJnU5HY2UlOqcTq16HwenEYrFgt7tczWYzUkreeOMNVq9ezeeff47T6aSxsZHo6Oi2XwANDQ1IKQGQUlJcXExZmWs65bBhw7BYLOzevRuAPn36kJmZ2RbcKSEhgYKCAlasWNH2ulOmTGHbtm1UupO9jxw5kvr6evbtc43Z5+bmkpKSwvr16wFXQLqRI0eytF2s9smTp2DSw/srisls3EdBQQFVVVUcOHAAgP79+xMfH8+mTa4pgampqQwdOpRly5a11dekSZNYv349de64MIWFhZSWlnL4sOt8IT8/H5PJ1JZwOiMjg4EDB7bFRzKZTEycOJGioqK2mCbjx4+npKSkbf7zoEGD0Ov1rFmzhri4OLKyssjLy2PlypWAK8rq+PHjWb16Nc3umVcTJ05k//79bTkehgwZgsPhYOfOnQBkZ2eTk5PD6tWrAVdU1f+taSLJJDi0bS0lxYJJkyaxa9cuv49TQ0MDs2fPDvg4TZ06lU2bNlHtXozV3eOU2rsX1e/P5fBpp1HnruOOx8lqtVJQUKDIcWod01brOBUWFrJo0aK2VfLdPU4pC7/GaDCwLSMd+5IlgDKfJ2/HaevWrcTFxfn8eXrggQeYO3cubrxnAHJ1iMrfgInAV+3u3w/c72G7s4DtQIa3ssaMGSM7UlxcfNJjnqirq/Npu+5SVVUl+/Xrd8JjtbW1cvTo0XLu3Lltj1kOHpJNW7dKh9XqsZyvv/5aDh48WJaWlp7gWldXJ7Ozs0/a3tf3HQyu+9cC2e/e+bK0rjnUKl2yePFi1cqubrTIfvfOl/9YtEuxMtX07Q7Vc+fK4kGDZcvevV630Yqrr/jr67Tb5d7zzpd7L75YWaFOCKRugSLppU9Vc5BqLZAvhMgTQkQBVwLz2m8ghBgNvARcIKVUZUWQWtOtfA3L7Gxu4o/PP8+n8+efVMaGDRu49dZbmTdvHhkZGSe4ai0ssyfOzHOdNW0pqQ2xSdeomdtgkXsxW2Gucou2tJKLIdodaLDuC++jsFpx9RV/fZs3bMCyezeJ552vsJF31Kpb1Tp+KaUduAP4CtcZ/ftSym1CiEeEEBe4N3sKiAPmCiE2CiHmeSnOb+IUznrfnq7CMq9buRJps7Ft926PF2nuueceGhoauOyyyxg1alRb0nXQXlhmT/zkrAnoBLxfdLjrjUOMmoHE3lt7iJTYKL+SqntDK4HPovr3xzRoELWffup1G624+oq/vi3btgGQeP55Sup0imp16+2ngJZugQz11NfX+7SdP6xbt05ee+21Xp+3HDkim7ZskTNnzPCpvPaukydPllVVVSdto6WhnlWrVsnfzd0kB9z/uWyy2EOt0ymrVq1SpVyLzSEH/uEL+ehn2xQtVy1ff6h47TVZPGiwtB4v9fi8llx9wR9fp80md8+YKXefeZYKRt4JpG4J0VCPJpDui6Jq0FVYZmdDA7q4OL5auNCn8lpdtRqWuSPNzc1MH5yB3SnZVFITap1Oab0gqDTzNx/FYncqsmirPWr5+kNM4VgAqty5JzqiJVdf8MfXsncftkOHSLn+ehWMvKNW3fb4jl9tvIVldtTXI63WkxZt+YJWwzJ7oqBfEka94D/LwmcVr5J8vvkYSTFGzjhVnQxMWiB62FCiR46kcfnyUKuEjEb3kG7spEkhNlGGHt/xq5mIpTNcKRYF+pQUn/cJlau/TJw4kYx4M5eO6cOqfZU4nOr9ugoUNZJWO52SVfsqmTkkE5NB2ZgqWktgHnv66Vh278ZacnKYYK25doU/vtXvvosxJ4eovFzlhTohkmzdA74M41hCsNxcOhw4amrRxcZ0a3VfV65qDlv5w/79+wFXbJpGq4Nlu8pDbOSdVlcleb/oMI1WB1MGpitethq+gZAwexYAVa+/ftJzWnPtiu762o4exXb4MCnXXx/0QIpq1W3Ydvxms5nKysouO8PWRUvBxNnYiHTYOw3B7InOXKWUVFZWYu4kumewaV04c9apGSTFGHl79cEQG3mn1VVJVuypIDnGyLnDeylethq+gWA65RRiJk6gyb0Yqj1ac+2K7vq2XtuICcHsJbXqVhMrd/0hJyeHkpKStng43mhpaQl6Z+moqcHZ1IxBp0Mc8z0xeVeuZrOZnBzFwxkFTFJMFGedmsmi7aVtKxF7Oo0WO9/uKOPMUzN/FO8XIHb8BMqfeYaGZcuImzIl1DpBo/7rRUQXjsE8aGCoVRQjbDt+o9HoUxyLsrIyMjKCd+HNXl3N7suvIOG0ifR96aVu7Rts10AZMuSHYKvj8lL4YF0JH6wr4bLCPiG08kx7VyX4ZOMRmqwOLhmdrWi5rSjtqwQpP72Bipdeov7bb0/o+LXo2hnd8W3eug3b0aOkzJmjopF31KrbsB3q8RVvUy3Vomn1GrDZSL3ppm7vG2zXQGnve8nobDITTCwsLg2hkXeUrtvv91aSHm9i2iDlx/dBm21BZzYTU1BA/ZcLcNT+sFpbi66d0R3fqjfeACGInzlDRSPvqFW3Pb7jbw3YFCyq//c/dPHxxIwe3e19g+0aKO19DXodpw9IY83+KmqbtZc0Xsm6Latv4autx5l8SppqwzxabQspN1yPo7aW+q+/bntMq67e8NVXOhw0LFlCwuzZGDMzVbbyjFp12+M7/mBir6ykac0aki69FGE0hlon6Fw5ri+1zTb+u0q7F3mVYMnOcuxOyXUTFU8Yp3liJ09Gn5JC/aJvNDfLTGmq33sPZ3098TPOCrWK4vT4jj87W50xWE/Uff4FSOl3LI9guipBR99xeSkM6ZXAJxuOaK5TULJuP9t0lMwEE6P6JClWZke02haEECT95BIalixpS9CiVVdv+Orb8O1iDL17kRDCNKhq1W2P7/iDOQumZu5czMOGYTr1VL/21+KMnc7w5Dt1UDq7yxpYvb8qBEbeUapuj9U2s3x3BVeO7avqbB4tt4XUm24CnY7aT1yB27Ts6glffC379tG4YgUJM2YGwcg7atVtj+/4V3uYd6wGDctXuEK2XnKx3x1CsFyVwpPvHdNPQa8TfLHF92mswUCpuv1ovWvl6kUqzeZpRcttQZ+UROxpp1Ezdy7OxkZNu3rCF9/azz4DXDOZQoladdvjO/5gUf7svzCkp5N4XvBCtmqRWJOBif1TeWf1IWqarKHWURSnU/LfVQeZ0D+FvLTwCq+hNKk33Yi02ah3Z6HqSTitVmo/+JCY8eMx9lJ+cZ4W6PEdv5rx+FuxHjxIy6bNJF1xBfqEBL/LCYarknjzvXVqf+xOydcamtqpRN0u2l7KsdoWrhrXVwGjztF6W4gZMwZjnz6U/eVJ4mJiQq3TLbqq24ZvvsFeXk7KnJ8GR6gT1GoHPb7jL+wkSbRSVLzwIuj1JMwK7CJQMFyVxJvv6QPSyIg38c9vd2vmIm+gdSul5PEvd5CVYGbGEPWn9mm9LYioKDLu/jX2sjLyu1g9rzU6q1tnczOl//c4hl69iJs8OYhWnlGrHfT4jr81WbNaOGprqVu4kIRZszANGBBQWWq7Ko03X51OcMNpuRyuambH8fogW3km0LrdU9bA/opGbj/jFGKi1F/wHg5tIW7qVHQJCRz6179CrdItOqvbhsWLsZeXk3n/fQgP4daDjVrtoMd3/GpH56x8+RVkUxNJ7fLs+ksoIokGQme+PynIQQj417e7g2jknUDr9o2VBzDqBWcMDk5IjXBoC7qYGNJuuRnDgYM0bdgQah2f8Va30m6n9K9/RZ+cTPz06UG28oxa7aDHd/xqYq+spPq994g97TRiJ4RX3lG1yUo087NJeXyx5Th7yrRx1u8ve8sbeL+ohAtHZZOdFF6JxdUm8cILcSQkUPbkU6FWCZi6zz/HfvQYmb+/v8cvwOzxHf8kFTPmVP/vXZx1daTedqsi5anpqgZd+d5wWi5CwP99sSNIRt4JpG6fWrATnYDbpgY2lNcdwqUtGNLTybjhBpo3bKBuwYJQ6/iEp7qVTidlz/wDQ+9exJ+lnZW6arWDHt/x79q1S5VybcePU/nSS0QXjiF23DhFylTLVS268s1JjuGa8X35dkcZe8sbgmTlGX/rduuRWhZsO87lhX04JSN4M23CqS1UTDodQ3o6Fc89jzMM8u96qtua9+diP3aMjF/fjS5aO7/q1GoHPb7jLysrU6XcyldeRdpsZP3hD4qVqZarWvjie+Ppeeh1gqcXhrYj87dun1m0m9goPb+YdorCRp0TTm2hrLqa9LvvxrJ7N5UvvxJqnS7pWLf2qirKn3sWU34+CeecHSIrz6jVDnp8x68G1kOHqH7rLWKnTMbsZ3iGHwv90+O4dnxfPt9yjNX7KkOt0y2W7y5n0fZSLh2TQ1aidjKfaZGkiy8ifuZMKl9+Gevhw6HW6RZlT/0VR3UNWQ892OPH9lvp8R3/sGHDFC/z+GOPgRD0euQRRctVw1VNWn2dTTYsB2qpX3qY6k/2UL/iCLaK5rY5/HeeNZA4k4G/LdyF3eEMqauvWO1OnvhyB8kxRn53zmCVrLwTTm2h1TXz3t+B08nxP/9ZM+s3PNG+blt27aL2449J+slPiBk7NoRWnlGrHYRtBi5fUXo6VN1XC2lcuoyUm27EmJWlaNnhMIWvPS2H6zjyz51I68mdee38fQAkX5JPckEGd5xxCk98uYNXVuzn1iBeJG2lu3X7zuqDbDtax0PnDSHWFPyPSTi1hVZXY3Y2KT/9KZX/+Q/1X30V0qiWndHq66ip4eg9v0MXH0/6HbeH2MozkemcfrJ7t3LzyG1Hj3L0vvsw5Z9C2m23KVZuK0q6qomzyUbZ8xvhvSMndPq6OCOm/olg+CFIXfVHuznywHdclxDPtEHp/O3rXRyqbAq6c3fqdm95A//3xQ4GZ8Uz5/Rc9aQ6IVzaApzomnb7LzD27s3R++7HsmdPCK28s3u3a0X5sQcfxLJrF73+/GcM6epkUgsUtdpBjz/jVwpnYyNH7v4N0mql95NPoo+PD7VS0JFSUr/kMHVf/ZBoJX56HxLO6IswnngOIZ2SxrXHqfnY9eGvfm8nj2bFcLYTfvbmWubedhqJ0dobT7XYHdz+9nqEgH9fV4gQAlt5E5Y9NVj21dK8tQJaRzEERPVLwDQgiehhaRgzYxC6H0fidW/ozGb6vv4a+y++hMO/uJ28Dz/Q5Gel4vnnqf96ESk33EDC2aENvRwKenzH36dP4Im/pdPJkd/eQ/PGjfR67DHVLugq4aoW0uGk/KXNWA+5FmNFD0+jZrSBnCG5HrcXOkHc+F7Eje+FZX8t5S9tRhxvYiFx3FXWxB3vrOe1n47FoA/Oj05f6lZKyS1vrmPH8XqeO38osQsPUbKpkzg0EqwH6rAeqKP+m0MARPWNJ+HsXEx5iQF9CWi5LXSko2tU3770fuopSn7xCw797Gf0e+stdFFRIbI7md5791Hxr2eJnTqFjHt/F2qdTlGrHQgtX4RppbCwUBYVFfm1b0NDQ8AR7sqfe46Kfz1L6s9vI+POOwMqqzOUcFUDe2Uz5f/ejKPWijAbyLhjFMa06G75SpuTyne207LdlaBlLhaOF6TxxGUjVU1o0kpXrlJKHp9XjG7lMa7SmdB3uGxhHpziOrvPTcCQHg1OsFe3YC9rwnKgjqZ1J0cijR2XReLsPHTm7p9fabUteMKba80HH3DsgQeJP+ccsp/8C0IDnX/T+vUcmnMjUXl55L73LjqTKdRKnRJIOxBCrJNSeozy1uM7/iVLljBt2jS/9pVOJxXPv0DFs88SP3Mm2f94RtVOKhBXNZBS0rS+jOqPd4NdEjsui6SLT2mrA398W/bWUPHKVnBKDuJgyahk7rt8BHqVh0g6c7VWt7Do9U2MKP0hf4Aw6Yk7rTfxk7PRxfg2JOW0Omj47ij1Sw8jWxxtj0ePTCdxZj8Mqb4vDNJaW+iMzlzLnnmGyhdfInbSJLL/+hT6pKSgurUipaT2o485/uij2BISOPXDDzQ7rt+eQNpBZx1/jx/q8RfroUMc+8MDNK1dS8LsWfR+4omgnJlqBXtVC9Uf7caypwZDWjSJs3KJHpoWcLnmAUlkP3Ia1R/vpt+6Mm7YWMcbB77j7J+NJjuIyU2klDRvqaBqWQmUNDDC/Xj02EySZ+X53Nm3RxelJ2F6HxKm98HRaKN+aQkNy0po3lRO86ZyovrGE3d6b6KHpSP02m1L0iGRdgdIEAYd6IXfbT/jrrvQxcRS/swz7LvgQno99ueghzu2l5dz/JFHqP96EdEFBZRddllYdPpqomrHL4Q4B/gHoAdellI+0eF5E/AmMAaoBK6QUh5Q0iGhm4lRHLW1VP7nP1S99V8QgqyHHybpissD7vSlU+KobsFe2YKjzoKz2e76gLXYkTYnwqgnsyaaxrXH0cUa0SeZMKRFo4sKbmhYR72VhpVHqV9WAhLiz+xLwrQ+J128he7XbSvCoCPlskFEF2Zx8N0dzKyxUv/XdXw1KJGpVw3BbFb+om9CQgLSKbEeqqNlRzWNm8pwVrumyi0XdsxjM7nwvEGK1bc+1kjS7DySZudhOVBL4+rjNG0qp+p/OxHmvcSMTCN6aBqm/omuztWDr9o4W+xYD9VjPVyPrawJR1UL9qpmnI32Ezc0CPSxRgyp0Rhz4ojKjseYHYch1YwQokvXtFtuJqawkKP338fhm28hYfYs0u++myiVc/U6m5upeuNNKl58ERwO0n55B2m33EKVO0l81/vbsZU1YS9vxl7RjKPWgqPRhrQ5QUqETiBMevTxUehTzBiSzRhSza6L/EZl2pFa7UC1oR4hhB7YBcwASoC1wFVSyuJ22/wCGCGlvE0IcSVwsZTyio5lBTLU4wuOmhoaV62mYckS6r/+GmdjI/EzZpB5/30Ye/f2uRzplDjqrDiqmrFVNGMva8Ze3oStohlHtQWc3axrHegTTOiTTBgzYjBkxmDMiEGfEIU+2axYJ+W0OmjZWUXz5gqaiyvBITENTCbp/P4Y09XPrrR3+WGqFx4gywb1SI70jiZlRDqnju1NdKz/48JOix1baRO2Y41Y99fSvKOqbQhmt87JQqeV4wPiefCiYfRPV3883Wlx0Fh0nJbtVVj214JDIkx6zIOSMeUlYuwdhzErFp1J2S97KSXOBhu2siZsJQ1Yj9RjPdKAo6qlbYaSLs6IIcWMPtGEPiEK4b4uIa0OZIsDZ5MNe1ULttKmtnYsog2Y+sYT1TcBY69YDBkxGJJNCC8X7J0tLVS89BJVL7+CBOKmTCH+rLOIc8f6Cfh92mxYS0po2VZMw7KlNCxegrO+nthJk8j43T2YBw48eR+nxFFvdX/ptWCvaHbV09EG12e2HbpYI7oYQ9sXtXS6TtwcddYfZnoBCDCkx7jqJC0aY0YMxswYDOnRXutGDUIyxi+EmAg8LKU8233/fgAp5ePttvnKvc1KIYQBOA6kyw5S/nb8Hz19C06HA52uXWVLEBKE0+n64EkJDgkIECCjDEizAWlwffhEx/9LgQ4dOum+oUMn9ejdjwlEu5eS2IQdu7DjEHZsOhsO7Dh0Dpw4cCJxCtdVRB0Ch82B0RCFQRrQSz1GaUQvDRikAaM0opMnNhqHcODAjlNInEikcCJx4hQS139OnMKJRLZ5CQRCCgQ6V7lOI0ZpRCBwCidNukYaDA1YRdf5cm02G0YFl7hH2aKJs8cRSzRCCKSUtGDFIqw43e/FiRPc78d1JAQ699+t/9ehwyCNRLX7QeuQDupkE7WykToa0evBbNRhDOIHsT06qcPsNBPtjMHsNKOXP3T2dmHHhg2pc2LHecJxPbGHAdodVwAh3XUgdeilAb00YJSGE9qlQ9ixCBs2nRWbsGLRWXAIB76gQ9fWZqKcJkxOE0b5QxuQSBzCjl04cAqH+3id6IpTorM5wOH84WRIpwOdcG2jA4T7b28/tGXr5xGEU4KUJ1eNQQd6HdL9+W8tyiklOqHDIPXoO9RNq79VZ8UqbNiFDbvOjl3YcJ70Aj+gl3r06NvVTRRGGXXCcYXWz6wTp7C3tefWz6h0ly/FD3/b7ZLL73ze6+t2RqjG+LOB9kE7SoCOQevbtpFS2oUQtUAqUNF+o2PHjjFo0CAATCYTc+bMYfTo0QCkpqYydOhQli1bBoDBYGDSpEmsX7+euOFL0es7/GxVEU/BCPTuW6BIwNNHU4ny23tHu2+hpL1PlPvmDx3rK8F90yLtXQU/vGcl5px4apcmhcqGk+tZANpboeEZT3UjUK5+Av3M2qzRLFmyhP79+xMfH8+mTZsA7/3eAw88wNy5c1t393pRTs0z/kuBc6SUP3Pfvw4YL6W8o902W93blLjv73Vvc0LH7+8Z/6L/PEZ1XQ1JyUmuMwidznU2oTe4zypaRU7eV3q6J0DqJFKlk8Ty8grS0wO/gAq4z4QEOqdwtW73CZTEfUahkwGv21bU1xecINt9kqROth0nT63YoPvhjDHorgFygq/7WAqnOKmpdmynUq9e+/SG4nUrAYsN7PYTH8N9Vq8ToNe7zugNBu+/CoLlqwTuY+wakfjhOFdV1nLFzx/1q8hQnfEfAdqvPshxP+ZpmxL3UE8irou8inDWzX/A6XSeONSjYcLJFcLLN5xcIbx8w8kVwsvX6VQnqKGa734tkC+EyBNCRAFXAvM6bDMPuMH996XAtx3H9wNl27ZtShanKuHkCuHlG06uEF6+4eQK4eWrlqtqZ/zuMfs7gK9wDWm9KqXcJoR4BCiSUs4DXgHeEkLsAapwfTkoSmVl+MSADydXCC/fcHKF8PINJ1cIL1+1XFWdxy+l/AL4osNjD7X7uwW4TE2HCBEiRIhwIuEx0BUAI0eODLWCz4STK4SXbzi5Qnj5hpMrhJevWq49vuN/6aWXQq3gM+HkCuHlG06uEF6+4eQK4eWrlmuPD9I2aNAgdu7cqbCROoSTK4SXbzi5Qnj5hpMrhJdvIK6dTefs8Wf8ESJEiBDhRMLijF8IUQ4c7HJDz6TRYSWwhgknVwgv33ByhfDyDSdXCC/fQFz7SSk9BkEKi44/QoQIESIoR2SoJ0KECBF+ZEQ6/ggRIkT4kdFjO34hxDlCiJ1CiD1CiPtC7dMVQogDQogtQoiNQgj1kg/4iRDiVSFEmTuwXutjKUKIr4UQu93/JofSsRUvrg8LIY6463ejEGJ2KB1bEUL0EUIsFkIUCyG2CSHudD+u1br15qu5+hVCmIUQa4QQm9yuf3I/nieEWO3uG95zh5TRquvrQoj97ep1lCKv1xPH+H1JAqM1hBAHgMKOkUm1ghBiCtAAvCmlHOZ+7EmgSkr5hPvLNVlKeW8oPd1enlwfBhqklH8NpVtHhBC9gF5SyvVCiHhgHXAR8FO0WbfefC9HY/UrXGnzYqWUDUIII7ACuBO4G/hISvmuEOJFYJOU8gWNut4GzJdSfqDk6/XUM/5xwB4p5T4ppRV4F7gwxE5hjZRyGa54Su25EHjD/fcbuDqAkOPFVZNIKY9JKde7/64HtuPKU6HVuvXmqzmkiwb3XaP7JoEzgNaOVBN124mrKvTUjt9TEhhNNs52SGChEGKdEOKWUMv4SKaU8pj77+NAZihlfOAOIcRm91CQJoZO2iOEyAVGA6sJg7rt4AsarF8hhF4IsREoA74G9gI1UsrWYP+a6Rs6ukopW+v1MXe9/l248pQHTE/t+MORSVLKAmAWcLt7uCJscIfT1vK44QvAAGAUcAz4W0htOiCEiAM+BO6SUta1f06LdevBV5P1K6V0SClH4coHMg4YHFoj73R0FUIMA+7H5TwWSAEUGe7rqR2/L0lgNIWU8oj73zLgY1yNVOuUusd8W8d+y0Ls4xUpZan7g+UE/oOG6tc9pvsh8LaU8iP3w5qtW0++Wq5fACllDbAYmAgkuRM/gQb7hnau57iH1qSU0gK8hkL12lM7fl+SwGgGIUSs+0IZQohYYCawtfO9NEH7RDo3AJ+G0KVTWjtRNxejkfp1X9R7BdgupXy63VOarFtvvlqsXyFEuhAiyf13NK7JHttxdaqXujfTRN16cd3R7stf4LoWoUi99shZPQDu6WTP8EMSmMdCa+QdIUR/XGf54MqR8I7WfIUQ/wOm4VpCXgr8EfgEeB/oiyukxuVSypBfVPXiOg3XMIQEDgC3thtDDxlCiEnAcmALP+T+/j2ucXMt1q0336vQWP0KIUbgunirx3WS+76U8hH35+1dXEMnG4Br3WfUIaMT12+BdFyZhTcCt7W7COz/6/XUjj9ChAgRInimpw71RIgQIUIEL0Q6/ggRIkT4kRHp+CNEiBDhR0ak448QIUKEHxmRjj9ChAgRfmREOv4IESJE+JER6fgj9GiEEKntQtoebxc6uEEI8bwKr9caRvc2P/df7HbzmCQ7QgQlMHS9SYQI4YuUshLXwqJghma+x98wulLK6UKIJQr7RIhwApEz/gg/SoQQ04QQ891/PyyEeEMIsVwIcVAIcYkQ4knhSoyzwB2bBiHEGCHEUncE1a86hCnw9jqvCyH+KYT4XgixTwhxqfvxXkKIZe5fH1uFEJPVfccRIvxApOOPEMHFAFxx2i8A/gssllIOB5qBc92d/7+AS6WUY4BXAV/DavQCJgHnAU+4H7sa+ModjXEkruX4ESIEhchQT4QILr6UUtqEEFtwxUtZ4H58C5ALDAKGAV+74mWhxxV+2Bc+cUetLBZCtMbVXwu86v5C+URKuVGRdxEhgg9EzvgjRHBhAXB30Db5QxArJ64TJAFsk1KOct+GSylndqdsN8L9OsuAKbhCAr8uhLheiTcRIYIvRDr+CBF8YyeQLoSYCK6Y9EKIof4WJoToB5RKKf8DvAwUKKMZIULXRIZ6IkTwASml1X1h9p9CiERcn51ngG1+FjkNuEcIYcOVGD5yxh8haETCMkeIoCBCiNeB+f5O53SXsQT4rZSySCmvCBHaExnqiRBBWWqBRwNZwAX0B2yKWkWI0I7IGX+ECBEi/MiInPFHiBAhwo+MSMcfIUKECD8yIh1/hAgRIvzIiHT8ESJEiPAjI9LxR4gQIcKPjP8HD68M1mCEkpcAAAAASUVORK5CYII=",
      "text/plain": [
       "<Figure size 432x288 with 1 Axes>"
      ]
     },
     "metadata": {
      "needs_background": "light"
     },
     "output_type": "display_data"
    }
   ],
   "source": [
    "plot_dynamics(exp, init_state, barely_a_seq * 5)"
   ]
  },
  {
   "cell_type": "markdown",
   "metadata": {},
   "source": [
    "We can also display the optimal parameters:"
   ]
  },
  {
   "cell_type": "code",
   "execution_count": 50,
   "metadata": {},
   "outputs": [
    {
     "name": "stdout",
     "output_type": "stream",
     "text": [
      "rx90p[0]-d1-gauss-amp                 : 376.098 mV \n",
      "rx90p[0]-d1-gauss-freq_offset         : -52.983 MHz 2pi \n",
      "rx90p[0]-d1-gauss-xy_angle            : 27.935 mrad \n",
      "rx90p[0]-d1-gauss-delta               : -1.005  \n",
      "rx90p[0]-d1-carrier-framechange       : 56.502 mrad \n",
      "\n"
     ]
    }
   ],
   "source": [
    "parameter_map.print_parameters()"
   ]
  },
  {
   "cell_type": "code",
   "execution_count": 51,
   "metadata": {},
   "outputs": [
    {
     "name": "stdout",
     "output_type": "stream",
     "text": [
      "Result from optimized gates:\n",
      "{'(0, 0)': 0.49889694269522167,\n",
      " '(0, 1)': 8.662999583880231e-11,\n",
      " '(0, 2)': 5.792049642788149e-14,\n",
      " '(1, 0)': 0.5002218624623487,\n",
      " '(1, 1)': 8.895108536159594e-09,\n",
      " '(1, 2)': 1.1077361548727307e-13,\n",
      " '(2, 0)': 0.0008811730656555572,\n",
      " '(2, 1)': 1.2794339994148732e-08,\n",
      " '(2, 2)': 5.332971334168871e-13}\n"
     ]
    }
   ],
   "source": [
    "c3_job_opt = c3_backend.run(qc)\n",
    "result_opt = c3_job_opt.result()\n",
    "res_pops_opt = result_opt.data()[\"state_pops\"]\n",
    "print(\"Result from optimized gates:\")\n",
    "pprint(res_pops_opt)"
   ]
  },
  {
   "cell_type": "code",
   "execution_count": 52,
   "metadata": {},
   "outputs": [
    {
     "data": {
      "image/png": "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",
      "text/plain": [
       "<Figure size 504x360 with 1 Axes>"
      ]
     },
     "execution_count": 52,
     "metadata": {},
     "output_type": "execute_result"
    }
   ],
   "source": [
    "plot_histogram(res_pops_opt, title='Simulation of Qiskit circuit with Optimized Gate')"
   ]
  }
 ],
 "metadata": {
  "interpreter": {
   "hash": "8fc56ae400e717d872a76f4d6b257151d16696a9d0a72e6998d355f9b43887c7"
  },
  "kernelspec": {
   "display_name": "Python 3 (ipykernel)",
   "language": "python",
   "name": "python3"
  },
  "language_info": {
   "codemirror_mode": {
    "name": "ipython",
    "version": 3
   },
   "file_extension": ".py",
   "mimetype": "text/x-python",
   "name": "python",
   "nbconvert_exporter": "python",
   "pygments_lexer": "ipython3",
   "version": "3.8.10"
  }
 },
 "nbformat": 4,
 "nbformat_minor": 4
}
