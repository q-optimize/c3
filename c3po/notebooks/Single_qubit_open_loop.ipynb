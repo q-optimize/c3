{
 "cells": [
  {
   "cell_type": "markdown",
   "metadata": {},
   "source": [
    "# Example of openloop gate optimization"
   ]
  },
  {
   "cell_type": "markdown",
   "metadata": {},
   "source": [
    "### Import and definitions"
   ]
  },
  {
   "cell_type": "code",
   "execution_count": 14,
   "metadata": {},
   "outputs": [],
   "source": [
    "import numpy as np\n",
    "import tensorflow as tf\n",
    "from scipy.linalg import expm"
   ]
  },
  {
   "cell_type": "code",
   "execution_count": 15,
   "metadata": {},
   "outputs": [],
   "source": [
    "import c3po.control as control\n",
    "import c3po.component as component\n",
    "import c3po.generator as generator\n",
    "import c3po.envelopes as envelopes\n",
    "import c3po.hamiltonians as hamiltonians"
   ]
  },
  {
   "cell_type": "code",
   "execution_count": 16,
   "metadata": {},
   "outputs": [],
   "source": [
    "from c3po.model import Model as Mdl\n",
    "from c3po.simulator import Simulator as Sim\n",
    "from c3po.optimizer import Optimizer as Opt\n",
    "from c3po.experiment import Experiment as Exp"
   ]
  },
  {
   "cell_type": "code",
   "execution_count": 17,
   "metadata": {},
   "outputs": [],
   "source": [
    "from c3po.utils import log_setup\n",
    "from c3po.tf_utils import tf_abs, tf_ave\n",
    "from c3po.tf_utils import tf_limit_gpu_memory as tf_limit_gpu_memory\n",
    "from c3po.qt_utils import basis, xy_basis, perfect_gate"
   ]
  },
  {
   "cell_type": "markdown",
   "metadata": {},
   "source": [
    "### Specify parameters of the system"
   ]
  },
  {
   "cell_type": "code",
   "execution_count": 18,
   "metadata": {},
   "outputs": [],
   "source": [
    "# System\n",
    "qubit_freq = 5e9 * 2 * np.pi\n",
    "qubit_anhar = -250e6 * 2 * np.pi\n",
    "qubit_lvls = 4\n",
    "drive_ham = hamiltonians.x_drive\n",
    "v_hz_conversion = 1\n",
    "t_final = 25e-9"
   ]
  },
  {
   "cell_type": "code",
   "execution_count": 19,
   "metadata": {},
   "outputs": [],
   "source": [
    "# Resolutions\n",
    "sim_res = 250e9\n",
    "bawg_res = 1e9"
   ]
  },
  {
   "cell_type": "code",
   "execution_count": 20,
   "metadata": {},
   "outputs": [],
   "source": [
    "# Directory to log into\n",
    "logdir = log_setup(\"/tmp/c3logs/\")"
   ]
  },
  {
   "cell_type": "markdown",
   "metadata": {},
   "source": [
    "### Create model object that contains information on the Hamiltonians"
   ]
  },
  {
   "cell_type": "code",
   "execution_count": 21,
   "metadata": {},
   "outputs": [],
   "source": [
    "q1 = component.Qubit(\n",
    "    name=\"Q1\",\n",
    "    desc=\"Qubit 1\",\n",
    "    comment=\"The one and only qubit in this chip\",\n",
    "    freq=qubit_freq,\n",
    "    anhar=qubit_anhar,\n",
    "    hilbert_dim=qubit_lvls\n",
    ")\n",
    "drive = component.Drive(\n",
    "    name=\"D1\",\n",
    "    desc=\"Drive 1\",\n",
    "    comment=\"Drive line 1 on qubit 1\",\n",
    "    connected=[\"Q1\"],\n",
    "    hamiltonian=drive_ham\n",
    ")\n",
    "chip_elements = [q1, drive]\n",
    "model = Mdl(chip_elements)"
   ]
  },
  {
   "cell_type": "markdown",
   "metadata": {},
   "source": [
    "### Create generator object that contains information of the dontrol lines"
   ]
  },
  {
   "cell_type": "code",
   "execution_count": 22,
   "metadata": {},
   "outputs": [],
   "source": [
    "# Takes parameters and get AWG bin values\n",
    "awg = generator.AWG(resolution=awg_res, logdir=logdir)\n",
    "# Reshapes the signal from the AWG samples to the simulation resolution\n",
    "dig_to_an = generator.Digital_to_Analog(resolution=sim_res)\n",
    "# Adds a risetime to the AWG signal\n",
    "resp = generator.Response(rise_time=0.1e-9, resolution=sim_res)\n",
    "# Creates the LO signal\n",
    "lo = generator.LO(resolution=sim_res)\n",
    "# Mixes LO and AWG signals\n",
    "mixer = generator.Mixer()\n",
    "# Transforms signal from a given voltage on the device to Hz (that go in front of the Hamiltonian)\n",
    "v_to_hz = generator.Volts_to_Hertz(V_to_Hz=v_hz_conversion)"
   ]
  },
  {
   "cell_type": "code",
   "execution_count": 23,
   "metadata": {},
   "outputs": [],
   "source": [
    "# Pass all of these devices to the generator object that uses them to make signal from parameters\n",
    "devices = [lo, awg, mixer, v_to_hz, dig_to_an, resp]\n",
    "gen = generator.Generator(devices)"
   ]
  },
  {
   "cell_type": "code",
   "execution_count": 24,
   "metadata": {},
   "outputs": [],
   "source": [
    "# If desired implement automatic DRAG correction of the pulse.\n",
    "# gen.devices['awg'].options = 'drag'"
   ]
  },
  {
   "cell_type": "markdown",
   "metadata": {},
   "source": [
    "### Create gates/operations to implement"
   ]
  },
  {
   "cell_type": "code",
   "execution_count": 25,
   "metadata": {},
   "outputs": [],
   "source": [
    "# Define parameters and bounds of given envelope function\n",
    "gauss_params = {\n",
    "    'amp': 0.5 * np.pi / v_hz_conversion,\n",
    "    't_final': t_final,\n",
    "    'xy_angle': 0.0,\n",
    "    'freq_offset': 0 * 2 * np.pi,\n",
    "    'delta': 1 / qubit_anhar\n",
    "}\n",
    "gauss_bounds = {\n",
    "    'amp': [0.01 * np.pi / v_hz_conversion, 1.5 * np.pi / v_hz_conversion],\n",
    "    't_final': [1e-9, 30e-9],\n",
    "    'xy_angle': [-1 * np.pi/2, 1 * np.pi/2],\n",
    "    'freq_offset': [-100 * 1e6 * 2 * np.pi, 100 * 1e6 * 2 * np.pi],\n",
    "    'delta': [10/qubit_anhar, 0.1/qubit_anhar]\n",
    "}\n",
    "# Create envelope object, the function is taken from our library in envelopes.py\n",
    "gauss_env = control.Envelope(\n",
    "    name=\"gauss\",\n",
    "    desc=\"Gaussian envelope\",\n",
    "    params=gauss_params,\n",
    "    bounds=gauss_bounds,\n",
    "    shape=envelopes.gaussian\n",
    ")"
   ]
  },
  {
   "cell_type": "code",
   "execution_count": 26,
   "metadata": {},
   "outputs": [],
   "source": [
    "# Define parameters and bounds of the carrier (this will be used by the LO)\n",
    "carrier_parameters = {\n",
    "    'freq': qubit_freq\n",
    "}\n",
    "carrier_bounds = {\n",
    "    'freq': [4e9 * 2 * np.pi, 7e9 * 2 * np.pi]\n",
    "}\n",
    "# Create carrier object\n",
    "carr = control.Carrier(\n",
    "    name=\"carrier\",\n",
    "    desc=\"Frequency of the local oscillator\",\n",
    "    params=carrier_parameters,\n",
    "    bounds=carrier_bounds\n",
    ")"
   ]
  },
  {
   "cell_type": "code",
   "execution_count": 27,
   "metadata": {},
   "outputs": [],
   "source": [
    "# Create Gate/operation and pass envelope and carrier\n",
    "X90p = control.Instruction(\n",
    "    name=\"X90p\",\n",
    "    t_start=0.0,\n",
    "    t_end=t_final,\n",
    "    channels=[\"d1\"]\n",
    ")\n",
    "X90p.add_component(gauss_env, \"d1\")\n",
    "X90p.add_component(carr, \"d1\")"
   ]
  },
  {
   "cell_type": "code",
   "execution_count": 28,
   "metadata": {},
   "outputs": [],
   "source": [
    "# Create gateset object and pass the gate created\n",
    "gates = control.GateSet()\n",
    "gates.add_instruction(X90p)"
   ]
  },
  {
   "cell_type": "markdown",
   "metadata": {},
   "source": [
    "### Create experiment class and simulator (this is where the computation of the unitary is done)"
   ]
  },
  {
   "cell_type": "code",
   "execution_count": 29,
   "metadata": {},
   "outputs": [],
   "source": [
    "# Simulation class and fidelity function\n",
    "exp = Exp(model, gen)\n",
    "sim = Sim(exp, gates)"
   ]
  },
  {
   "cell_type": "code",
   "execution_count": 30,
   "metadata": {},
   "outputs": [],
   "source": [
    "# Introduce a Z rotation of the unitary after the gate to rotate back into the qubit frame\n",
    "a_q = model.ann_opers[0]\n",
    "sim.VZ = expm(1.0j * np.matmul(a_q.T.conj(), a_q) * qubit_freq * t_final)"
   ]
  },
  {
   "cell_type": "markdown",
   "metadata": {},
   "source": [
    "### Create optimizer object"
   ]
  },
  {
   "cell_type": "code",
   "execution_count": 31,
   "metadata": {},
   "outputs": [],
   "source": [
    "# Optimizer object\n",
    "opt = Opt(data_path=logdir)"
   ]
  },
  {
   "cell_type": "code",
   "execution_count": 32,
   "metadata": {},
   "outputs": [],
   "source": [
    "# Define the map of which parameters will be optimized. The rest will be fixed\n",
    "opt_map = [\n",
    "    [('X90p', 'd1', 'gauss', 'amp')],\n",
    "    [('X90p', 'd1', 'gauss', 'freq_offset')],\n",
    "    [('X90p', 'd1', 'gauss', 'xy_angle')],\n",
    "    # [('X90p', 'd1', 'gauss', 'delta')] # This is a DRAG parameter.\n",
    "]"
   ]
  },
  {
   "cell_type": "code",
   "execution_count": 33,
   "metadata": {},
   "outputs": [],
   "source": [
    "# Define states & unitaries\n",
    "ket_0 = tf.constant(basis(qubit_lvls, 0), dtype=tf.complex128)\n",
    "bra_yp = tf.constant(xy_basis(qubit_lvls, 'yp').T, dtype=tf.complex128)\n",
    "X90p = tf.constant(perfect_gate(qubit_lvls, 'X90p'), dtype=tf.complex128)"
   ]
  },
  {
   "cell_type": "code",
   "execution_count": 34,
   "metadata": {},
   "outputs": [],
   "source": [
    "# Choose which type of optimization to do, state transfer or unitary.\n",
    "def state_transfer_infid(U_dict: dict):\n",
    "    U = U_dict['X90p']\n",
    "    ket_actual = tf.matmul(U, ket_0)\n",
    "    overlap = tf_abs(tf.matmul(bra_yp, ket_actual))\n",
    "    infid = 1 - overlap\n",
    "    return infid\n",
    "\n",
    "def unitary_infid(U_dict: dict):\n",
    "    U = U_dict['X90p']\n",
    "    unit_fid = tf_abs(\n",
    "                tf.linalg.trace(\n",
    "                    tf.matmul(U, tf.linalg.adjoint(X90p))\n",
    "                    ) / 2\n",
    "                )**2\n",
    "    infid = 1 - unit_fid\n",
    "    return infid"
   ]
  },
  {
   "cell_type": "code",
   "execution_count": 35,
   "metadata": {
    "scrolled": true
   },
   "outputs": [
    {
     "name": "stdout",
     "output_type": "stream",
     "text": [
      "Saving as:\n",
      "/tmp/c3logs/2019_11_14_T_13_58_14/openloop.log\n"
     ]
    }
   ],
   "source": [
    "opt.optimize_controls(\n",
    "    sim=sim,\n",
    "    opt_map=opt_map,\n",
    "    opt='lbfgs',\n",
    "    opt_name='openloop',\n",
    "    fid_func=unitary_infid\n",
    ")"
   ]
  },
  {
   "cell_type": "markdown",
   "metadata": {},
   "source": [
    "# Plotting"
   ]
  },
  {
   "cell_type": "markdown",
   "metadata": {},
   "source": [
    "You can run the code below in a different kernel to get a live plot. Or look a the log e.g.\n",
    "\n",
    "$ less /tmp/c3logs/recent/openloop.log\n",
    "(press F to get a continuous feed)"
   ]
  },
  {
   "cell_type": "code",
   "execution_count": 36,
   "metadata": {},
   "outputs": [
    {
     "data": {
      "image/png": "[encoded data removed]",
      "text/plain": [
       "<Figure size 864x720 with 4 Axes>"
      ]
     },
     "metadata": {
      "needs_background": "light"
     },
     "output_type": "display_data"
    }
   ],
   "source": [
    "from c3po.display import plot_OC_logs\n",
    "plot_OC_logs(\"/tmp/c3logs/recent/openloop.log\")"
   ]
  },
  {
   "cell_type": "code",
   "execution_count": null,
   "metadata": {},
   "outputs": [],
   "source": []
  }
 ],
 "metadata": {
  "kernelspec": {
   "display_name": "Python 3",
   "language": "python",
   "name": "python3"
  },
  "language_info": {
   "codemirror_mode": {
    "name": "ipython",
    "version": 3
   },
   "file_extension": ".py",
   "mimetype": "text/x-python",
   "name": "python",
   "nbconvert_exporter": "python",
   "pygments_lexer": "ipython3",
   "version": "3.7.4"
  },
  "varInspector": {
   "cols": {
    "lenName": 16,
    "lenType": 16,
    "lenVar": 40
   },
   "kernels_config": {
    "python": {
     "delete_cmd_postfix": "",
     "delete_cmd_prefix": "del ",
     "library": "var_list.py",
     "varRefreshCmd": "print(var_dic_list())"
    },
    "r": {
     "delete_cmd_postfix": ") ",
     "delete_cmd_prefix": "rm(",
     "library": "var_list.r",
     "varRefreshCmd": "cat(var_dic_list()) "
    }
   },
   "types_to_exclude": [
    "module",
    "function",
    "builtin_function_or_method",
    "instance",
    "_Feature"
   ],
   "window_display": true
  }
 },
 "nbformat": 4,
 "nbformat_minor": 2
}
