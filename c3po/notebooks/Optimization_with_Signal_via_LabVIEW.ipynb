{
 "cells": [
  {
   "cell_type": "markdown",
   "metadata": {},
   "source": [
    "# Import and definitions"
   ]
  },
  {
   "cell_type": "code",
   "execution_count": 1,
   "metadata": {},
   "outputs": [],
   "source": [
    "# Jupyter Notebook \n",
    "from IPython.display import clear_output\n",
    "\n",
    "# Additional utils\n",
    "import numpy as np\n",
    "import pprint\n",
    "import uuid\n",
    "import zmq\n",
    "import matplotlib.pyplot as plt\n",
    "\n",
    "# c3 Imports\n",
    "import numpy as np\n",
    "import tensorflow as tf\n",
    "import c3po.hamiltonians as hamiltonians\n",
    "from c3po.utils import log_setup\n",
    "from c3po.simulator import Simulator as Sim\n",
    "from c3po.optimizer import Optimizer as Opt\n",
    "from c3po.experiment import Experiment as Exp"
   ]
  },
  {
   "cell_type": "markdown",
   "metadata": {},
   "source": [
    "# Specify Initial Signal/Pulse and Bounds\n",
    "\n",
    "### Initialize and set parameters + bounds of Components of the Signal/Pulse"
   ]
  },
  {
   "cell_type": "code",
   "execution_count": null,
   "metadata": {},
   "outputs": [],
   "source": [
    "t_final = 50e-9\n",
    "\n",
    "flattop_params = {\n",
    "    'amp' : 15e6 * 2 * np.pi,\n",
    "    'T_up' : 5e-9,\n",
    "    'T_down' : 45e-9,\n",
    "    'xy_angle' : 0,\n",
    "    'freq_offset' : 0e6 * 2 * np.pi\n",
    "}\n",
    "\n",
    "flattop_bounds = {\n",
    "    'amp': [1e3*2*np.pi, 1e9*2*np.pi],\n",
    "    'T_up': [2e-9, 145e-9],\n",
    "    'T_down': [2e-9, 145e-9],\n",
    "    'xy_angle': [-np.pi, np.pi],\n",
    "    'freq_offset': [-1e9*2*np.pi, 1e9*2*np.pi]\n",
    "}\n",
    "\n",
    "flattop2_params = {\n",
    "    'amp' : 15e6 * 2 * np.pi,\n",
    "    'T_up' : 50e-9,\n",
    "    'T_down' : 75e-9,\n",
    "    'xy_angle' : np.pi/2,\n",
    "    'freq_offset' : 0e6 * 2 * np.pi\n",
    "}\n",
    "\n",
    "carrier_parameters = {\n",
    "    'freq' : 6e9 * 2 * np.pi\n",
    "}\n",
    "\n",
    "\n",
    "def my_flattop(t, params):\n",
    "    t_up = params['T_up']\n",
    "    t_down = params['T_down']\n",
    "    return flattop(t, t_up, t_down)\n",
    "\n",
    "\n",
    "# Component 1 of the signal\n",
    "flat = Comp(\n",
    "    desc = \"pulse1\",\n",
    "    shape = my_flattop,\n",
    "    params = flattop_params,\n",
    "    bounds = flattop_bounds\n",
    ")\n",
    "\n",
    "# Component 2 of the signal. Another flattop componen which uses the same bounds as the first one\n",
    "flat2 = Comp(\n",
    "    desc = \"pulse2\",\n",
    "    shape = my_flattop,\n",
    "    params = flattop2_params,\n",
    "    bounds = flattop_bounds\n",
    ")\n",
    "\n",
    "# Component 3 of the signal; the carrier doesn't have a shape only parameters\n",
    "carr = Comp(\n",
    "    desc = \"carrier\",\n",
    "    params = carrier_parameters\n",
    ")"
   ]
  },
  {
   "cell_type": "markdown",
   "metadata": {},
   "source": [
    "### Build Signal with Components "
   ]
  },
  {
   "cell_type": "code",
   "execution_count": null,
   "metadata": {},
   "outputs": [],
   "source": [
    "qubit_X = control.Instruction(\n",
    "    name=\"Q1X\",\n",
    "    t_start=0.0,\n",
    "    t_end=t_final,\n",
    "    channels=[\"d1\"]\n",
    ")\n",
    "qubit_X.add_component(gauss_env, \"d1\")\n",
    "qubit_X.add_component(carr, \"d1\")\n",
    "\n",
    "gates = control.GateSet()\n",
    "gates.add_instruction(qubit_X)"
   ]
  },
  {
   "cell_type": "markdown",
   "metadata": {},
   "source": [
    "Display the list of registered components and their uuids."
   ]
  },
  {
   "cell_type": "code",
   "execution_count": null,
   "metadata": {},
   "outputs": [],
   "source": [
    "sig = IQ()\n",
    "sig.t_start = 0\n",
    "sig.t_end = 150e-9 # Should be compatible with bounds\n",
    "sig.res = [1e9, 1e12]\n",
    "\n",
    "sig.calc_slice_num()\n",
    "sig.create_ts()\n",
    "\n",
    "sig.comps = comps\n",
    "\n",
    "sig.save_params_to_history(\"initial\")"
   ]
  },
  {
   "cell_type": "markdown",
   "metadata": {},
   "source": [
    "# Calibration"
   ]
  },
  {
   "cell_type": "code",
   "execution_count": null,
   "metadata": {},
   "outputs": [],
   "source": [
    "optim = Optimizer()"
   ]
  },
  {
   "cell_type": "code",
   "execution_count": null,
   "metadata": {},
   "outputs": [],
   "source": [
    "opt_map = {\n",
    "    'amp' : [(sig.get_uuid(), flat.get_uuid())],\n",
    "    'T_up' : [(sig.get_uuid(), flat.get_uuid())],\n",
    "    'T_down' :[(sig.get_uuid(), flat.get_uuid())],\n",
    "    'xy_angle': [(sig.get_uuid(), flat.get_uuid())],\n",
    "    'freq_offset': [(sig.get_uuid(), flat.get_uuid())]\n",
    "}"
   ]
  },
  {
   "cell_type": "code",
   "execution_count": null,
   "metadata": {},
   "outputs": [],
   "source": [
    "opt_map_full = {}\n",
    "pprint.pprint(sig.generate_opt_map(opt_map_full))"
   ]
  },
  {
   "cell_type": "code",
   "execution_count": null,
   "metadata": {},
   "outputs": [],
   "source": [
    "opt_params = optim.get_corresponding_signal_parameters([sig], opt_map)"
   ]
  },
  {
   "cell_type": "code",
   "execution_count": null,
   "metadata": {},
   "outputs": [],
   "source": [
    "pprint.pprint(opt_params)"
   ]
  },
  {
   "cell_type": "code",
   "execution_count": null,
   "metadata": {},
   "outputs": [],
   "source": [
    "initial_spread = [ 5e6*2*np.pi, 5e6*2*np.pi, 5e-9, 5e-9, 5e-9, 5e-9, 0.1, 0.1, 20e6*2*np.pi]\n",
    "\n",
    "opt_settings = {\n",
    "    'CMA_stds': initial_spread,\n",
    "    'ftarget' : 1e-4,\n",
    "    'popsize' : 5\n",
    "}"
   ]
  },
  {
   "cell_type": "code",
   "execution_count": null,
   "metadata": {},
   "outputs": [],
   "source": [
    "def evaluate_signals_dbg(samples_rescaled):\n",
    "    \"\"\"\n",
    "    Evaluate function to debug an optimizer call. Returns random results for all input samples.\n",
    "    \"\"\"\n",
    "    return np.random.rand(len(samples_rescaled))"
   ]
  },
  {
   "cell_type": "markdown",
   "metadata": {},
   "source": [
    "### User functions"
   ]
  },
  {
   "cell_type": "code",
   "execution_count": null,
   "metadata": {},
   "outputs": [],
   "source": [
    "######################\n",
    "# Display functions  #\n",
    "######################\n",
    "def plot_IQ(ts, Is, Qs):\n",
    "    plt.cla()\n",
    "    plt.plot(ts / 1e-9, Is)\n",
    "    plt.plot(ts / 1e-9, Qs)\n",
    "    plt.legend((\"I\", \"Q\"))\n",
    "    plt.ylabel('I/Q')\n",
    "    plt.xlabel('Time[ns]')\n",
    "    plt.tick_params('both',direction='in')\n",
    "    plt.tick_params('both', direction='in')\n",
    "    fig.canvas.draw()\n",
    "    fig.canvas.flush_events()\n",
    "\n",
    "##########################\n",
    "# Labview communication  #\n",
    "##########################\n",
    "def LV_send_pulse(search_id, pulse_id, pulse):\n",
    "    request = {\n",
    "            'search_id': search_id,\n",
    "            'pulse_id': pulse_id,\n",
    "            'pulse': pulse,\n",
    "            'fidelity': 0,\n",
    "            'do_stop': False\n",
    "            }\n",
    "    socketreq.send_json(request)\n",
    "    \n",
    "\n",
    "def LV_recieve_fidelity(search_id):\n",
    "    receive_message = socketreq.recv_string()        \n",
    "    reply = socketrep.recv_json()\n",
    "    socketrep.send_string(search_id)    \n",
    "    return reply['fidelity']\n",
    "\n",
    "#####################\n",
    "# Evaluate function #\n",
    "#####################\n",
    "\n",
    "def evaluate_signals(samples_rescaled):\n",
    "    \"\"\"\n",
    "    Evaluate function\n",
    "    \"\"\"\n",
    "    global search_id\n",
    "    global fig\n",
    "    \n",
    "    infidelities = []\n",
    "    for sigs in samples_rescaled:\n",
    "        pulse_id = str(uuid.uuid4())\n",
    "        sig = sigs[0]\n",
    "        IQ = sig.get_IQ()\n",
    "        ts = sig.ts[0]\n",
    "        \n",
    "        Is = IQ['I']\n",
    "        Qs = IQ['Q']\n",
    "        \n",
    "        sig.plot_IQ(ts, Is, Qs)\n",
    "        fig.canvas.draw()\n",
    "        fig.canvas.flush_events()\n",
    "        \n",
    "        non0_mask = np.nonzero(Is * Qs)\n",
    "        pulse = {}\n",
    "        pulse['I'] = list(Is[non0_mask])  \n",
    "        pulse['Q'] = list(Qs[non0_mask])\n",
    "        pulse['omegas'] = [IQ['omega']]\n",
    "        pulse['carrier_amp'] = IQ['amp']\n",
    "        LV_send_pulse(search_id, pulse_id, pulse)\n",
    "        fidelity = LV_recieve_fidelity(search_id)\n",
    "        infidelities.append(1-fidelity)\n",
    "    return infidelities"
   ]
  },
  {
   "cell_type": "code",
   "execution_count": null,
   "metadata": {},
   "outputs": [],
   "source": [
    "optim = Optimizer()"
   ]
  },
  {
   "cell_type": "code",
   "execution_count": null,
   "metadata": {},
   "outputs": [],
   "source": [
    "##########################\n",
    "# Labview communication  #\n",
    "##########################\n",
    "\n",
    "calibration_daemon_experiment_URI = \"tcp://127.0.0.1:5559\"\n",
    "calibration_daemon_searcher_URI = \"tcp://127.0.0.1:5560\"\n",
    "\n",
    "   \n",
    "rcvtimeout = 30000\n",
    "search_id = str(uuid.uuid4())\n",
    "print(f\"I am the calibration searcher.\\nMy ID for this run is {search_id}\\n\")\n",
    "\n",
    "# Start communication\n",
    "print(f\"Connecting to client {calibration_daemon_experiment_URI} ... \", flush=True, end='')\n",
    "context = zmq.Context()\n",
    "socketrep = context.socket(zmq.REP)\n",
    "\n",
    "socketrep.bind(calibration_daemon_searcher_URI)\n",
    "\n",
    "socketreq = context.socket(zmq.REQ)\n",
    "socketreq.setsockopt(zmq.LINGER, 0)  #NEW Added by Edwar to flush the queue\n",
    "socketreq.connect(calibration_daemon_experiment_URI)\n",
    "\n",
    "socketrep.RCVTIMEO = rcvtimeout  # added timeout to kill rcv if nothing comes\n",
    "socketreq.RCVTIMEO = rcvtimeout\n",
    "print(f\"done\\n\\n\", flush=True)"
   ]
  },
  {
   "cell_type": "code",
   "execution_count": null,
   "metadata": {},
   "outputs": [],
   "source": [
    "%matplotlib\n",
    "plt.rcParams['figure.dpi'] = 100\n",
    "plt.ion()\n",
    "plt.show()\n",
    "global fig\n",
    "fig = plt.figure(figsize=(5, 4))\n",
    "\n",
    "\n",
    "optim.optimize_signal(\n",
    "    signals = [sig],\n",
    "    opt_map = opt_map,\n",
    "    opt = 'cmaes',\n",
    "    settings = opt_settings,\n",
    "    calib_name = 'test',\n",
    "    eval_func = evaluate_signals\n",
    "    )"
   ]
  },
  {
   "cell_type": "code",
   "execution_count": null,
   "metadata": {},
   "outputs": [],
   "source": [
    "socketrep.unbind(calibration_daemon_searcher_URI)\n",
    "socketreq.disconnect(calibration_daemon_experiment_URI)"
   ]
  }
 ],
 "metadata": {
  "kernelspec": {
   "display_name": "Python 3",
   "language": "python",
   "name": "python3"
  },
  "language_info": {
   "codemirror_mode": {
    "name": "ipython",
    "version": 3
   },
   "file_extension": ".py",
   "mimetype": "text/x-python",
   "name": "python",
   "nbconvert_exporter": "python",
   "pygments_lexer": "ipython3",
   "version": "3.7.4"
  },
  "varInspector": {
   "cols": {
    "lenName": 16,
    "lenType": 16,
    "lenVar": 40
   },
   "kernels_config": {
    "python": {
     "delete_cmd_postfix": "",
     "delete_cmd_prefix": "del ",
     "library": "var_list.py",
     "varRefreshCmd": "print(var_dic_list())"
    },
    "r": {
     "delete_cmd_postfix": ") ",
     "delete_cmd_prefix": "rm(",
     "library": "var_list.r",
     "varRefreshCmd": "cat(var_dic_list()) "
    }
   },
   "types_to_exclude": [
    "module",
    "function",
    "builtin_function_or_method",
    "instance",
    "_Feature"
   ],
   "window_display": true
  }
 },
 "nbformat": 4,
 "nbformat_minor": 2
}
